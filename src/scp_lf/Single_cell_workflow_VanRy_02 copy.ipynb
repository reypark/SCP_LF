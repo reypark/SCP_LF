{
 "cells": [
  {
   "cell_type": "markdown",
   "id": "84ba2542",
   "metadata": {},
   "source": [
    "labeled csv data\n",
    "statistical robustness\n",
    "functions\n",
    "simple user experience"
   ]
  },
  {
   "cell_type": "code",
   "execution_count": 1,
   "id": "c9b4cd45",
   "metadata": {},
   "outputs": [],
   "source": [
    "\n",
    "import os\n",
    "from sklearn.decomposition import PCA\n",
    "from sklearn.impute import KNNImputer\n",
    "from sklearn.preprocessing import StandardScaler\n",
    "from statsmodels.stats.multitest import multipletests\n",
    "from scipy.stats import ttest_ind_from_stats\n",
    "from scipy.stats import f_oneway as anova\n",
    "import scipy\n",
    "import plotly.graph_objs as go\n",
    "from plotly.offline import plot\n",
    "import json\n",
    "import plotly.io as pio\n",
    "from plotly.offline import iplot\n",
    "import plotly as py\n",
    "from matplotlib_venn import venn2, venn3\n",
    "import matplotlib.pyplot as plt\n",
    "import matplotlib\n",
    "import plotly.colors\n",
    "import plotly.express as px\n",
    "from plotly.subplots import make_subplots\n",
    "from scipy.stats import t\n",
    "import seaborn as sns\n",
    "from datetime import datetime, timedelta\n",
    "import plotly.express as px\n",
    "from pathlib import Path\n",
    "# import statsmodels.api as sm \n",
    "# from statsmodels.formula.api import ols \n",
    "  \n",
    "import math\n",
    "from select import select\n",
    "import numpy as np\n",
    "import pandas as pd\n",
    "import requests\n",
    "from requests.auth import HTTPBasicAuth\n",
    "\n",
    "#only used for the app\n",
    "\n",
    "# import django\n",
    "# from django.conf import settings\n",
    "# from django.contrib.auth.decorators import login_required, permission_required\n",
    "# from file_manager.models import DataAnalysisQueue, SampleRecord, \\\n",
    "#     SavedVisualization, VisualizationApp, UserSettings, ProcessingApp\n",
    "# from django.shortcuts import render\n",
    "# from django.conf import settings\n"
   ]
  },
  {
   "cell_type": "code",
   "execution_count": 2,
   "id": "de77b762",
   "metadata": {},
   "outputs": [],
   "source": [
    "#constants \n",
    "saved_settings ={}\n",
    "plot_options = {}\n",
    "JUPYTER_MODE = \"JPY_PARENT_PID\" in os.environ #check if it's in jupiter notebook mode\n",
    "APPFOLDER = \"./\"\n",
    "url_base = None\n",
    "\n",
    "#settings\n",
    "WRITE_OUTPUT = True\n",
    "USE_MaxLFQ = False\n"
   ]
  },
  {
   "cell_type": "code",
   "execution_count": 3,
   "id": "bf64e4c1",
   "metadata": {},
   "outputs": [
    {
     "data": {
      "text/plain": [
       "' This is only for the webapp, not for jupyter notebook\\ndef get_run_name(queue_id):\\n    \"\"\"_Get the run name/sample list from the result files, only\\n    used for webapp for populate dropdown list_\\n    Args:\\n        queue_id (_int_): _task id from the process queue_\\n    Returns:\\n        _type_: _pandas data serial contains experiment list_\\n        0              sample1\\n        1              sample2\\n        2              sample3\\n    \"\"\"\\n    if not queue_id:\\n        return None\\n    # get processing name\\n    process_app = DataAnalysisQueue.objects.filter(\\n        pk=queue_id).first().processing_app.name\\n    # fragpipe results\\n    if \"FragPipe\" in process_app:\\n        peptide_file = DataAnalysisQueue.objects.filter(\\n            pk=queue_id).first().output_file_2\\n        peptide = pd.read_table(peptide_file)\\n        #\\n        # get experiment names from columns names containning \" MaxLFQ Intensity\"\\n        run_metadata = [\\n            col for col in peptide.columns if \" MaxLFQ Intensity\" in col]\\n        # remove \" MaxLFQ Intensity\" from the experiment names\\n        run_metadata = [name.replace(\" MaxLFQ Intensity\", \"\")\\n                            for name in run_metadata]\\n        # create a pandas series to store the experiment names\\n        run_metadata = pd.Series(run_metadata)\\n    elif \"PD\" in process_app:\\n        inpufile_6 = DataAnalysisQueue.objects.filter(\\n            pk=queue_id).first().output_file_6\\n        meta_table = pd.read_table(inpufile_6)\\n        # Replace single backslashes with forward slashes in the \\'file_paths\\' column\\n        meta_table[\\'File Name\\'] = meta_table[\\'File Name\\'].str.replace(\\'\\\\\\', \\'/\\', regex=False)\\n        # Apply a lambda function to extract file names without extensions\\n        meta_table[\\'file_names\\'] = meta_table[\\'File Name\\'].apply(lambda x: os.path.splitext(os.path.basename(x))[0])\\n        run_metadata =meta_table[\\'file_names\\']\\n\\n    else:\\n        run_metadata = pd.Series()\\n\\n    return run_metadata\\n'"
      ]
     },
     "execution_count": 3,
     "metadata": {},
     "output_type": "execute_result"
    }
   ],
   "source": [
    "''' This is only for the webapp, not for jupyter notebook\n",
    "def get_run_name(queue_id):\n",
    "    \"\"\"_Get the run name/sample list from the result files, only\n",
    "    used for webapp for populate dropdown list_\n",
    "    Args:\n",
    "        queue_id (_int_): _task id from the process queue_\n",
    "    Returns:\n",
    "        _type_: _pandas data serial contains experiment list_\n",
    "        0              sample1\n",
    "        1              sample2\n",
    "        2              sample3\n",
    "    \"\"\"\n",
    "    if not queue_id:\n",
    "        return None\n",
    "    # get processing name\n",
    "    process_app = DataAnalysisQueue.objects.filter(\n",
    "        pk=queue_id).first().processing_app.name\n",
    "    # fragpipe results\n",
    "    if \"FragPipe\" in process_app:\n",
    "        peptide_file = DataAnalysisQueue.objects.filter(\n",
    "            pk=queue_id).first().output_file_2\n",
    "        peptide = pd.read_table(peptide_file)\n",
    "        #\n",
    "        # get experiment names from columns names containning \" MaxLFQ Intensity\"\n",
    "        run_metadata = [\n",
    "            col for col in peptide.columns if \" MaxLFQ Intensity\" in col]\n",
    "        # remove \" MaxLFQ Intensity\" from the experiment names\n",
    "        run_metadata = [name.replace(\" MaxLFQ Intensity\", \"\")\n",
    "                            for name in run_metadata]\n",
    "        # create a pandas series to store the experiment names\n",
    "        run_metadata = pd.Series(run_metadata)\n",
    "    elif \"PD\" in process_app:\n",
    "        inpufile_6 = DataAnalysisQueue.objects.filter(\n",
    "            pk=queue_id).first().output_file_6\n",
    "        meta_table = pd.read_table(inpufile_6)\n",
    "        # Replace single backslashes with forward slashes in the 'file_paths' column\n",
    "        meta_table['File Name'] = meta_table['File Name'].str.replace('\\\\', '/', regex=False)\n",
    "        # Apply a lambda function to extract file names without extensions\n",
    "        meta_table['file_names'] = meta_table['File Name'].apply(lambda x: os.path.splitext(os.path.basename(x))[0])\n",
    "        run_metadata =meta_table['file_names']\n",
    "\n",
    "    else:\n",
    "        run_metadata = pd.Series()\n",
    "\n",
    "    return run_metadata\n",
    "'''"
   ]
  },
  {
   "cell_type": "code",
   "execution_count": 4,
   "id": "8bf24402",
   "metadata": {},
   "outputs": [],
   "source": [
    "#This is only for the webapp, not for jupyter notebook\n",
    "\n",
    "# def queue_info_api(queue_id, server_address, user_name, password):\n",
    "#     \"\"\"_Get the queue and app info from the server through API, this\n",
    "#     is only for the jupyter notebook, not for the webapp_\n",
    "#     \"\"\"\n",
    "\n",
    "#     authinfo = HTTPBasicAuth(user_name, password)\n",
    "\n",
    "#     #get queue info and test if the user name and password are correct   \n",
    "\n",
    "#     queue_response = requests.get(\n",
    "#         f'http://{server_address}/files/api/DataAnalysisQueue/{queue_id}/',\n",
    "#         auth=authinfo\n",
    "#     )\n",
    "#     if queue_response.status_code != 200:\n",
    "#         raise Exception(\"Invalid username or password\")\n",
    "#     else:\n",
    "#         queue_json_data = queue_response.json()\n",
    "\n",
    "#     # Get app information\n",
    "#     app_response = requests.get(\n",
    "#         f\"http://{server_address}/files/api/ProcessingApp/{queue_json_data['processing_app']}/\",\n",
    "#         auth=authinfo\n",
    "#     )\n",
    "#     app_json_data = app_response.json()\n",
    "#     return queue_json_data, app_json_data\n"
   ]
  },
  {
   "cell_type": "code",
   "execution_count": 5,
   "id": "e1abd47c",
   "metadata": {},
   "outputs": [],
   "source": [
    "def sumIDs(IDMatrix):\n",
    "    \"\"\"_summarize the ID matrix infor into ID summary_\n",
    "    \n",
    "\n",
    "    Args:\n",
    "        IDMatrix (_type_): _protein or pepetides matrix_\n",
    "        0 Accession/Annotated Sequence \trun1 \trun2 \trun3 \n",
    "        1 P023D12\tMS2 \tMBR \tNaN \n",
    "        2 P1222\tNaN \tID \tNaN \n",
    "    ID: means we don't know the ID mode\n",
    "\n",
    "    Returns:\n",
    "        _type_: _description_\n",
    "                                      names  MS2_IDs  MBR_IDs  Total_IDs\n",
    "0            10ng_QC_1_channel2 Intensity      NaN      NaN       3650\n",
    "1            10ng_QC_2_channel1 Intensity      NaN      NaN       3604\n",
    "....\n",
    "    \"\"\"\n",
    "    # removes the columns that don't have ID data\n",
    "    columns = [col for col in IDMatrix.columns if not any(\n",
    "        substring in col for substring in [\n",
    "            'Accession', 'Annotated Sequence'])]\n",
    "    #put each ID_Modes into a list\n",
    "    returnNames = []\n",
    "    MS2_ID = []\n",
    "    MBR_ID = []\n",
    "    total_ID = []\n",
    "    for eachColumn in columns:\n",
    "        MS2_ID.append(len(IDMatrix[eachColumn][IDMatrix[eachColumn] == \"MS2\"])) #PD differentiates\n",
    "        MBR_ID.append(len(IDMatrix[eachColumn][IDMatrix[eachColumn] == \"MBR\"])) #PD differentiates\n",
    "        total_ID_each = len(IDMatrix[eachColumn][IDMatrix[eachColumn] == \"ID\"]) #some don't so we count total directly\n",
    "        if total_ID_each == 0: #otherwise we sum\n",
    "            total_ID_each = len(IDMatrix[eachColumn][\n",
    "                IDMatrix[eachColumn] == \"MS2\"]) + len(IDMatrix[\n",
    "                eachColumn][IDMatrix[eachColumn] == \"MBR\"])\n",
    "        total_ID.append(total_ID_each)\n",
    "\n",
    "    return pd.DataFrame({'names': columns,\n",
    "                         'MS2_IDs': MS2_ID,\n",
    "                         'MBR_IDs': MBR_ID,\n",
    "                         'Total_IDs': total_ID})\n",
    "\n"
   ]
  },
  {
   "cell_type": "code",
   "execution_count": 6,
   "id": "893c7820",
   "metadata": {},
   "outputs": [],
   "source": [
    "def generate_column_from_name_mapping(columns, partial_column_name_mapping):\n",
    "    #input is column names, and a dictionary with what you want each column (key) to be renamed to (value)\n",
    "    column_name_mapping = {}\n",
    "    for col in columns:\n",
    "        for key, value in partial_column_name_mapping.items():\n",
    "            if key in col: #in the case of PD, we are looking for a pattern within the column name\n",
    "                column_name_mapping[col] = value\n",
    "                break\n",
    "    return column_name_mapping"
   ]
  },
  {
   "cell_type": "code",
   "execution_count": 7,
   "id": "fc85345c",
   "metadata": {},
   "outputs": [],
   "source": [
    "def generate_column_to_name_mapping(columns, partial_column_name_mapping):\n",
    "    #input is column names, and a dictionary with what you want each column (key) to be renamed to (value)\n",
    "    column_name_mapping = {}\n",
    "    for col in columns:\n",
    "        for key, value in partial_column_name_mapping.items():\n",
    "            if key == col:  #after we get away from PD's weirdness, then we want exact matches,\n",
    "                            #so we don't get for example 1-11 when we look for 1-1 for file Identifiers or filenames\n",
    "                column_name_mapping[col] = value\n",
    "                break\n",
    "    return column_name_mapping"
   ]
  },
  {
   "cell_type": "code",
   "execution_count": 8,
   "id": "b4b07534",
   "metadata": {},
   "outputs": [],
   "source": [
    "def combine_IDs(all_matrix, MS2_matrix):\n",
    "    # make IDs into MBR\n",
    "    if \"Annotated Sequence\" in all_matrix.columns:\n",
    "        name = \"Annotated Sequence\"\n",
    "    elif \"Accession\" in all_matrix.columns:  \n",
    "        name = \"Accession\"\n",
    "    id_cols = all_matrix.columns.tolist()\n",
    "    id_cols.remove(name)\n",
    "    \n",
    "    \n",
    "    # for eachColumn in id_cols:\n",
    "    #     if len(all_matrix[(all_matrix[name].isin(MS2_matrix[name]) & (MS2_matrix[eachColumn] == \"MS2\"))]) > 0:\n",
    "    #         all_matrix.loc[(all_matrix[name].isin(MS2_matrix[name]) & (MS2_matrix[eachColumn] == \"MS2\")), [eachColumn]] = MS2_matrix[[eachColumn]]\n",
    "\n",
    "    all_keys = pd.merge(all_matrix[name], MS2_matrix[name],how=\"outer\")\n",
    "    # print(all_keys)\n",
    "\n",
    "    all_matrix = pd.merge(all_matrix, all_keys, how=\"right\").replace(\"ID\",\"MBR\")\n",
    "    MS2_matrix = pd.merge(MS2_matrix, all_keys, how=\"right\")\n",
    "\n",
    "    # print(all_matrix)\n",
    "    for eachColumn in id_cols:\n",
    "        # print(len(all_matrix[eachColumn]))\n",
    "        # print(len(MS2_matrix[eachColumn]))\n",
    "        if len(all_matrix[(all_matrix[name].isin(MS2_matrix[name]) & (MS2_matrix[eachColumn] == \"MS2\"))]) > 0:\n",
    "            all_matrix.loc[(all_matrix[name].isin(MS2_matrix[name]) & (MS2_matrix[eachColumn] == \"MS2\")), [eachColumn]] = \"MS2\"\n",
    "\n",
    "    # print(all_matrix)\n",
    "\n",
    "    return all_matrix #noticed this changed"
   ]
  },
  {
   "cell_type": "code",
   "execution_count": 9,
   "id": "3552a53b",
   "metadata": {},
   "outputs": [],
   "source": [
    "def read_file(queue_id=None, queue_info= None, processor_info = None,\n",
    "               input1=None, input2=None,input3=None, input4=None, input5=None,\n",
    "            process_app = None, file_id = 1):\n",
    "    \"\"\"_Read data from data manager API or through local files or read directly\n",
    "    in the webapp_\n",
    "    Args:\n",
    "        queue_id (_int_): _processing queue id_\n",
    "        queue_info (_dict_): _queue info from the API_\n",
    "        processor_info (_dict_): _processor info from the API_        \n",
    "        input1 (_str_): _input file 1_ \n",
    "        input2 (_str_): _input file 2_\n",
    "        input3 (_str_): _input file 3_\n",
    "        input4 (_str_): _input file 4_\n",
    "        input5 (_str_): _input file 5_\n",
    "        process_app (_str_): _process app name_\n",
    "    Returns:\n",
    "        _dict_: _dictionary containing data all data        \n",
    "    \"\"\"\n",
    "\n",
    "    \"\"\" Input files are as followws\n",
    "    App       Input file\n",
    "              1                         2                       3         4         5\n",
    "    PD        _Proteins                 _PeptideGroups                              _InputFiles\n",
    "    Fragpipe  combined_protein          combined_peptide\n",
    "    DIANN     diann-output.pg_matrix    diann-output.pr_matrix  protein   peptide   filelist_diann.txt\n",
    "    \"\"\"\n",
    "\n",
    "    min_unique_peptides = 1\n",
    "\n",
    "    #getting files from data system\n",
    "        # getting files from data system (webapp)\n",
    "    if queue_id is not None and processor_info is None:\n",
    "        # Method 1 pull data directly (used by the webapp)\n",
    "        process_app = DataAnalysisQueue.objects.filter(\n",
    "            pk=queue_id).first().processing_app.name\n",
    "        input1= DataAnalysisQueue.objects.filter(\n",
    "            pk=queue_id).first().output_file_1\n",
    "        input2= DataAnalysisQueue.objects.filter(\n",
    "            pk=queue_id).first().output_file_2  \n",
    "        input3= DataAnalysisQueue.objects.filter(\n",
    "            pk=queue_id).first().output_file_3\n",
    "        input4= DataAnalysisQueue.objects.filter(\n",
    "            pk=queue_id).first().output_file_4  \n",
    "        input5= DataAnalysisQueue.objects.filter(\n",
    "            pk=queue_id).first().output_file_5\n",
    "    elif queue_info is not None and processor_info is not None:\n",
    "    # Method 2 pull data from the data system (used by jupyter notebook)\n",
    "        process_app = processor_info[\"name\"]\n",
    "        input1= queue_info[\"output_file_1\"]\n",
    "        input2= queue_info[\"output_file_2\"]  \n",
    "        input3= queue_info[\"output_file_3\"]\n",
    "        input4= queue_info[\"output_file_4\"]  \n",
    "        input5= queue_info[\"output_file_5\"]\n",
    "    # method 3 feed data directly (through local file paths)\n",
    "    else:\n",
    "        analysis_file = input1\n",
    "\n",
    "    if \"FragPipe\" in process_app:     # fragpipe results\n",
    "        # read data\n",
    "        peptide_table = pd.read_table(input2,low_memory=False)\n",
    "        protein_table = pd.read_table(input1,low_memory=False)\n",
    "\n",
    "        # filter Contaminant\n",
    "        peptide_table= peptide_table[~peptide_table[\n",
    "            'Mapped Proteins'].str.contains(\n",
    "            \"contam_sp\", na=False)]\n",
    "        protein_table= protein_table[~protein_table['Protein'].str.contains(\n",
    "            \"contam_sp\", na=False)].query(\n",
    "            \"`Combined Total Peptides` >= @min_unique_peptides\")\n",
    "        # get experiment names from columns names containning \"Intensity\"\n",
    "        # or \" MaxLFQ Intensity\" if MaxLFQ is used\n",
    "\n",
    "        if USE_MaxLFQ:\n",
    "            column_tail = \" MaxLFQ Intensity\"\n",
    "            intensity_cols = protein_table.columns[\n",
    "                protein_table.columns.str.contains(column_tail)].tolist() #These should be the same for MS2\n",
    "        else:\n",
    "            column_tail = \" Intensity\" #this includes MaxLFQ Intensity\n",
    "            cols = protein_table.columns\n",
    "            intensity_cols =  protein_table.columns[( \\\n",
    "                cols.str.contains(\" Intensity\")) & \\\n",
    "                (~cols.str.contains(\" MaxLFQ Intensity\"))]\n",
    "        prot_ID_cols = protein_table.columns[(cols.str.contains(\" Unique Spectral Count\")) & ~(cols == \"Combined Unique Spectral Count\")] #so we remove MaxLFQ Intensity here\n",
    "        cols = peptide_table.columns\n",
    "        pep_ID_cols = peptide_table.columns[(cols.str.contains(\" Spectral Count\"))] #so we remove MaxLFQ Intensity here\n",
    "        #get the column names of protein_table that contain \"Intensity\" but not \" MaxLFQ\"\n",
    "        \n",
    "        # ALL\n",
    "        ## Proteins abundance table\n",
    "        protein_table.rename(columns={'Protein ID': 'Accession'},inplace=True)\n",
    "        all_abundance_cols = intensity_cols.append(pd.Index(['Accession']))\n",
    "        prot_abundance = protein_table.loc[:, all_abundance_cols]\n",
    "        ## Peptide abundance table\n",
    "        peptide_table.rename(columns={'Peptide Sequence': 'Annotated Sequence'}, inplace=True)\n",
    "        all_abundance_cols = intensity_cols.append(pd.Index(['Annotated Sequence']))\n",
    "        pep_abundance = peptide_table.loc[:, all_abundance_cols]\n",
    "\n",
    "        # Proteins ID table\n",
    "        all_ID_cols = prot_ID_cols.append(pd.Index(['Accession']))\n",
    "        prot_ID_MS2 = protein_table.loc[:, all_ID_cols]\n",
    "        \n",
    "        # Proteins ID table\n",
    "        all_ID_cols = pep_ID_cols.append(pd.Index(['Annotated Sequence']))\n",
    "        pep_ID_MS2 = peptide_table.loc[:, all_ID_cols]\n",
    "\n",
    "\n",
    "        # remove \"Spectral Count\", \" MaxLFQ Intensity\" or \" Intensity\" from names\n",
    "        run_name_list = [name.replace(column_tail, \"\")\n",
    "                            for name in intensity_cols]\n",
    "        \n",
    "        run_name_list = pd.DataFrame({\"Run Names\": run_name_list})\n",
    "        run_name_list['Run Identifier'] = run_name_list.index.to_series().apply(lambda x: str(file_id) + \"-\" + str(x))\n",
    "\n",
    "        prot_abundance = prot_abundance.rename(columns={\n",
    "            col: col.replace(column_tail, \"\") for col in\n",
    "              prot_abundance.columns if column_tail in col})\n",
    "\n",
    "        pep_abundance = pep_abundance.rename(columns={\n",
    "            col: col.replace(column_tail, \"\") for col in\n",
    "              pep_abundance.columns if column_tail in col})\n",
    "        \n",
    "        prot_ID_MS2 = prot_ID_MS2.rename(columns={\n",
    "            col: col.replace(\" Unique Spectral Count\", \"\") for col in\n",
    "              prot_ID_MS2.columns if \" Unique Spectral Count\" in col})\n",
    "\n",
    "        pep_ID_MS2 = pep_ID_MS2.rename(columns={\n",
    "            col: col.replace(\" Spectral Count\", \"\") for col in\n",
    "              pep_ID_MS2.columns if \" Spectral Count\" in col})\n",
    "\n",
    "        # print(pep_ID_MS2.columns)\n",
    "\n",
    "        for item in [prot_abundance,pep_abundance,pep_ID_MS2,prot_ID_MS2]:\n",
    "            # Generate a new column name mapping using the function\n",
    "            fileid_mapping = generate_column_to_name_mapping(item.columns, dict(zip(run_name_list[\"Run Names\"],run_name_list[\"Run Identifier\"])))\n",
    "            item.rename(columns = fileid_mapping,inplace=True)\n",
    "        \n",
    "\n",
    "        # get ID matrix tables\n",
    "        prot_ID = prot_abundance.copy()\n",
    "        cols = [col for col in prot_ID.columns if col != 'Accession']\n",
    "        for col in cols:\n",
    "            if prot_ID[col].dtype != 'object': # Check if not a string column\n",
    "                prot_ID[col].replace(0, np.nan, inplace=True)\n",
    "                # Replace all numerical values to ID\n",
    "                prot_ID[col] = prot_ID[col].astype(str).str.replace(r\"\\d+\\.\\d+\", \"ID\", regex=True)\n",
    "        pep_ID = pep_abundance.copy()\n",
    "        cols = [col for col in pep_ID.columns if col != 'Annotated Sequence\t']\n",
    "        for col in cols:\n",
    "            if pep_ID[col].dtype != 'object': # Check if not a string column\n",
    "                pep_ID[col].replace(0, np.nan, inplace=True)\n",
    "                # Replace all numerical values to ID\n",
    "                pep_ID[col] = pep_ID[col].astype(str).str.replace(r\"\\d+\\.\\d+\", \"ID\", regex=True)\n",
    "        #Rename protein numbers\n",
    "        \n",
    "        cols = [col for col in prot_ID_MS2.columns if col != 'Accession']\n",
    "        for col in cols:\n",
    "            if prot_ID_MS2[col].dtype != 'object': # Check if not a string column\n",
    "                prot_ID_MS2[col].replace(0, np.nan, inplace=True)\n",
    "                # Replace all numerical values to ID\n",
    "                prot_ID_MS2[col] = prot_ID_MS2[col].astype(str).str.replace(r\"\\d+\\.\\d+\", \"MS2\", regex=True)\n",
    "        cols = [col for col in pep_ID_MS2.columns if col != 'Annotated Sequence\t']\n",
    "        for col in cols:\n",
    "            if pep_ID_MS2[col].dtype != 'object': # Check if not a string column\n",
    "                pep_ID_MS2[col].replace(0, np.nan, inplace=True)\n",
    "                # Replace all numerical values to ID\n",
    "                pep_ID_MS2[col] = pep_ID_MS2[col].astype(str).str.replace(r\"\\d+\\.\\d+\", \"MS2\", regex=True)\n",
    "\n",
    "        # print(run_name_list)\n",
    "        pep_ID = combine_IDs(pep_ID, pep_ID_MS2)\n",
    "        prot_ID = combine_IDs(prot_ID, prot_ID_MS2)\n",
    "\n",
    "        prot_other_info = protein_table.loc[\n",
    "            :, ~protein_table.columns.str.contains('Intensity')]\n",
    "        prot_other_info[\"Source_File\"] = input1\n",
    "        pep_other_info = peptide_table.loc[\n",
    "            :, ~peptide_table.columns.str.contains('Intensity')]\n",
    "        pep_other_info[\"Source_File\"] = input2\n",
    "\n",
    "\n",
    "    elif \"DIANN\" in process_app:\n",
    "        # read in DIANN output files\n",
    "        peptide_table = pd.read_table(input2,low_memory=False)\n",
    "        protein_table = pd.read_table(input1,low_memory=False)\n",
    "        protein_table_MS2 = pd.read_table(input3,low_memory=False)\n",
    "        peptide_table_MS2 = pd.read_table(input4,low_memory=False)\n",
    "        prot_other_info = pd.DataFrame({\"Protein\": protein_table[\"Protein.Ids\"], \"Protein.Group\": protein_table[\"Protein.Group\"]})\n",
    "        pep_other_info = pd.DataFrame({\"Mapped Proteins\": peptide_table[\"Protein.Group\"], \"Modified.Sequence\": peptide_table[\"Modified.Sequence\"]})\n",
    "\n",
    "        prot_other_info[\"Source_File\"] = \"None\"\n",
    "        pep_other_info[\"Source_File\"] = \"None\"\n",
    "\n",
    "        # meta_table = pd.read_csv(input5, sep=' ', header=None, names=[\"File Name\"])\n",
    "        # filter Contaminant\n",
    "        protein_table= protein_table[~protein_table['Protein.Group'].str.contains(\n",
    "            \"contam\", na=False)]\n",
    "        peptide_table= peptide_table[~peptide_table['Protein.Group'].str.contains(\n",
    "            \"contam\", na=False)]\n",
    "        protein_table_MS2= protein_table_MS2[~protein_table_MS2['Protein.Group'].str.contains(\n",
    "            \"contam\", na=False)]\n",
    "        peptide_table_MS2= peptide_table_MS2[~peptide_table_MS2['Protein.Group'].str.contains(\n",
    "            \"contam\", na=False)]\n",
    "        prot_other_info= prot_other_info[~prot_other_info['Protein'].str.contains(\n",
    "            \"contam\", na=False)]\n",
    "        pep_other_info= pep_other_info[~pep_other_info['Mapped Proteins'].str.contains(\n",
    "            \"contam\", na=False)]\n",
    "        \n",
    "        prot_other_info.rename(columns={'Protein': 'Accession'}, inplace=True)\n",
    "        pep_other_info.rename(columns={'Modified.Sequence': 'Annotated Sequence'}, inplace=True)\n",
    "        # Replace backslashes with forward slashes if data comes from Windows\n",
    "        # meta_table['File Name'] = meta_table['File Name'].str.replace('\\\\', '/', regex=False)\n",
    "        # # Apply a lambda function to extract file names without extensions\n",
    "        # meta_table['File Name'] = meta_table['File Name'].apply(lambda x: os.path.splitext(os.path.basename(x))[0])\n",
    "        # run_name_list = meta_table['File Name'].tolist()\n",
    "        # run_name_list = pd.DataFrame({\"Run Names\": run_name_list})\n",
    "        # run_name_list['Run Identifier'] = run_name_list.index.to_series().apply(lambda x: str(file_id) + \"-\" + str(x))\n",
    "\n",
    "\n",
    "        # Get the file names from the meta table\n",
    "        protein_path_cols = protein_table_MS2.filter(regex='\\\\\\\\|Protein.Ids').columns\n",
    "\n",
    "        ## Proteins\n",
    "        prot_abundance = protein_table.loc[:, protein_path_cols]\n",
    "        prot_abundance_MS2 = protein_table_MS2.loc[:, protein_path_cols]\n",
    "        # Rename Columns to remove file path\n",
    "        file_path_cols = protein_table.filter(regex='\\\\\\\\').columns\n",
    "        prot_abundance.columns = [os.path.splitext(os.path.basename(x))[0] if x in file_path_cols else x for x in prot_abundance.columns]\n",
    "        prot_abundance = prot_abundance.rename(columns={'Protein.Ids': 'Accession'})\n",
    "        prot_abundance[\"Accession\"] =  prot_abundance[\"Accession\"].str.replace(r\";.*\",\"\",regex = True)\n",
    "        prot_abundance_MS2.columns = [os.path.splitext(os.path.basename(x))[0] if x in file_path_cols else x for x in prot_abundance_MS2.columns]\n",
    "        prot_abundance_MS2 = prot_abundance_MS2.rename(columns={'Protein.Ids': 'Accession'})   \n",
    "        prot_abundance_MS2[\"Accession\"] =  prot_abundance_MS2[\"Accession\"].str.replace(r\";.*\",\"\",regex = True)\n",
    "\n",
    "        ## Peptides\n",
    "        peptide_path_cols = peptide_table_MS2.filter(regex='\\\\\\\\|Modified.Sequence').columns\n",
    "        pep_abundance = peptide_table.loc[:, peptide_path_cols]\n",
    "        pep_abundance_MS2 = peptide_table_MS2.loc[:, peptide_path_cols]\n",
    "        # Rename Columns to remove file path\n",
    "        file_path_cols = peptide_table.filter(regex='\\\\\\\\').columns\n",
    "        pep_abundance.columns = [os.path.splitext(os.path.basename(x))[0] if x in file_path_cols else x for x in pep_abundance.columns]\n",
    "        pep_abundance = pep_abundance.rename(columns={'Modified.Sequence': 'Annotated Sequence'})\n",
    "        pep_abundance_MS2.columns = [os.path.splitext(os.path.basename(x))[0] if x in file_path_cols else x for x in pep_abundance_MS2.columns]\n",
    "        pep_abundance_MS2 = pep_abundance_MS2.rename(columns={'Modified.Sequence': 'Annotated Sequence'})\n",
    "\n",
    "        run_name_list = pd.DataFrame(data={\"Run Names\": [os.path.splitext(os.path.basename(x))[0] for x in file_path_cols]})\n",
    "        run_name_list['Run Identifier'] = run_name_list.index.to_series().apply(lambda x: str(file_id) + \"-\" + str(x))\n",
    "\n",
    "        for item in [prot_abundance,pep_abundance,prot_abundance_MS2,pep_abundance_MS2]:\n",
    "            # Generate a new column name mapping using the function\n",
    "            fileid_mapping = generate_column_to_name_mapping(item.columns, dict(zip(run_name_list[\"Run Names\"],run_name_list[\"Run Identifier\"])))\n",
    "            item.rename(columns = fileid_mapping,inplace=True)\n",
    "\n",
    "\n",
    "        #convert to str for IDs matrix\n",
    "        pep_ID = pep_abundance.copy()\n",
    "        cols = [col for col in pep_ID.columns if col != 'Accession']\n",
    "        for col in cols:\n",
    "            if pep_ID[col].dtype != 'object': # Check if not a string column\n",
    "                pep_ID[col].replace(0, np.nan, inplace=True)\n",
    "                # Replace all numerical values to ID\n",
    "                pep_ID[col] = pep_ID[col].astype(str).str.replace(r\"\\d+\\.\\d+\", \"ID\", regex=True)\n",
    "        pep_ID_MS2 = pep_abundance_MS2.copy()\n",
    "        cols = [col for col in pep_ID_MS2.columns if col != 'Accession']\n",
    "        for col in cols:\n",
    "            if pep_ID_MS2[col].dtype != 'object': # Check if not a string column\n",
    "                pep_ID_MS2[col].replace(0, np.nan, inplace=True)\n",
    "                # Replace all numerical values to ID\n",
    "                pep_ID_MS2[col] = pep_ID_MS2[col].astype(str).str.replace(r\"\\d+\\.\\d+\", \"MS2\", regex=True)\n",
    "        prot_ID = prot_abundance.copy()\n",
    "        cols = [col for col in prot_ID.columns if col != 'Accession']\n",
    "        for col in cols:\n",
    "            if prot_ID[col].dtype != 'object': # Check if not a string column\n",
    "                prot_ID[col].replace(0, np.nan, inplace=True)\n",
    "                # Replace all numerical values to ID\n",
    "                prot_ID[col] = prot_ID[col].astype(str).str.replace(r\"\\d+\\.\\d+\", \"ID\", regex=True)\n",
    "        prot_ID_MS2 = prot_abundance_MS2.copy()\n",
    "        cols = [col for col in prot_ID_MS2.columns if col != 'Accession']\n",
    "        for col in cols:\n",
    "            if prot_ID_MS2[col].dtype != 'object': # Check if not a string column\n",
    "                prot_ID_MS2[col].replace(0, np.nan, inplace=True)\n",
    "                # Replace all numerical values to ID\n",
    "                prot_ID_MS2[col] = prot_ID_MS2[col].astype(str).str.replace(r\"\\d+\\.\\d+\", \"MS2\", regex=True)\n",
    "\n",
    "        pep_ID = combine_IDs(pep_ID, pep_ID_MS2)\n",
    "        prot_ID = combine_IDs(prot_ID, prot_ID_MS2)       \n",
    "        \n",
    "    elif \"PD\" in process_app:\n",
    "        peptide_table = pd.read_table(input2,low_memory=False)\n",
    "        protein_table = pd.read_table(input1,low_memory=False)\n",
    "        \n",
    "        # filter Contaminant\n",
    "        protein_table= protein_table[(protein_table[\n",
    "            \"Protein FDR Confidence: Combined\"] == \"High\") &\n",
    "                        ((protein_table[\"Master\"] == \"IsMasterProtein\") | \n",
    "                         (protein_table[\"Master\"] == \"Master\")) & \n",
    "                        (protein_table[\"Contaminant\"] == False)]\n",
    "\n",
    "        protein_table.rename(\n",
    "            columns={'# Peptides': 'number of peptides'}, inplace=True)\n",
    "        protein_table=protein_table.query(\n",
    "            \"`number of peptides` >= @min_unique_peptides\")\n",
    "        peptide_table= peptide_table[(peptide_table[\n",
    "            'Contaminant'] == False) & (peptide_table[\"Confidence\"]== \"High\")]\n",
    "\n",
    "        meta_table = pd.read_table(input5,low_memory=False)\n",
    "        #filter rows in meta table on File ID column if it is NaN\n",
    "        meta_table = meta_table[meta_table['File ID'].notna()]\n",
    "\n",
    "        # Replace single backslashes with forward slashes in the 'file_paths' column\n",
    "        meta_table['File Name'] = meta_table['File Name'].str.replace('\\\\', '/', regex=False)\n",
    "        # Apply a lambda function to extract file names without extensions\n",
    "        meta_table['file_names'] = meta_table['File Name'].apply(lambda x: os.path.splitext(os.path.basename(x))[0])\n",
    "        file_path_name_dict = dict(zip(meta_table['File ID'], meta_table['file_names']))\n",
    "        run_name_list = pd.DataFrame({\"Run Names\": file_path_name_dict.values()})\n",
    "        run_name_list['Run Identifier'] = run_name_list.index.to_series().apply(lambda x: str(file_id) + \"-\" + str(x))\n",
    "        \n",
    "        #format the read in table into three different tables: abundance, id and other_info\n",
    "        prot_abundance = protein_table.filter(regex='Abundance:|Accession')\n",
    "        prot_ID = protein_table.filter(regex='Found in Sample:|Accession')\n",
    "        prot_other_info = protein_table.loc[:, ~protein_table.columns.str.contains('Found in Sample:|Abundance:')]\n",
    "        \n",
    "\n",
    "        pep_abundance = peptide_table.filter(regex='Abundance:|Annotated Sequence')\n",
    "        pep_ID = peptide_table.filter(regex='Found in Sample:|Annotated Sequence')\n",
    "        pep_other_info = peptide_table.loc[:, ~peptide_table.columns.str.contains('Found in Sample:|Abundance:')]\n",
    "\n",
    "        prot_other_info[\"Source_File\"] = input1\n",
    "        pep_other_info[\"Source_File\"] = input2\n",
    "\n",
    "        #change column names to file/run names to our fileID\n",
    "\n",
    "        new_dict = {\"Abundance: \" + key + \":\": value for key, value in file_path_name_dict.items()}\n",
    "        for item in [prot_abundance,pep_abundance]:\n",
    "            # Generate a new column name mapping using the function\n",
    "            column_name_mapping = generate_column_from_name_mapping(item.columns, new_dict)\n",
    "            #TODO solving  A value is trying to be set on a copy of a slice from a DataFrame\n",
    "            \n",
    "            item.rename(columns = column_name_mapping, inplace = True)\n",
    "            #use generate_column_to_name_mapping function because we don't want partial matches as in QC_HeLa.raw and QC_HeLa_20230727235101.raw\n",
    "            fileid_mapping = generate_column_to_name_mapping(item.columns, dict(zip(run_name_list[\"Run Names\"],run_name_list[\"Run Identifier\"])))\n",
    "            item.rename(columns = fileid_mapping,inplace=True)\n",
    "        \n",
    "\n",
    "        new_dict = {\"Found in Sample: \" + key + \":\": value for key, value in file_path_name_dict.items()}\n",
    "        for item in [pep_ID,prot_ID]:\n",
    "            # Generate a new column name mapping using the function\n",
    "            column_name_mapping = generate_column_from_name_mapping(item.columns, new_dict)\n",
    "\n",
    "            item.rename(columns = column_name_mapping, inplace = True)\n",
    "            #use generate_column_to_name_mapping function because we don't want partial matches\n",
    "            fileid_mapping = generate_column_to_name_mapping(item.columns, dict(zip(run_name_list[\"Run Names\"],run_name_list[\"Run Identifier\"])))\n",
    "\n",
    "            item.rename(columns = fileid_mapping,inplace=True)\n",
    "\n",
    "        # replace \"High\" to MS2 \"Peak Found\" to MBR, the rest become np.NaN\n",
    "        replacements = {'High': 'MS2', 'Peak Found': 'MBR', \"Medium\": np.NaN, \"Low\": np.NaN, \"Not Found\": np.NaN}\n",
    "        for column in run_name_list[\"Run Identifier\"]:\n",
    "            if column in pep_ID.columns:\n",
    "                pep_ID[column] = pep_ID[column].replace(to_replace=replacements)\n",
    "    \n",
    "            if column in prot_ID.columns:\n",
    "                prot_ID[column] = prot_ID[column].replace(to_replace=replacements)\n",
    "    \n",
    "    # get ID summary by parsing ID Matrix\n",
    "    protein_ID_summary = sumIDs(prot_ID)\n",
    "    peptide_ID_summary = sumIDs(pep_ID)\n",
    "    \n",
    "\n",
    "    #sets the processing app in run_name_list\n",
    "    run_name_list[\"Processing App\"] = process_app\n",
    "    run_name_list[\"Analysis Name\"] = analysis_file\n",
    "\n",
    "\n",
    "    return {'run_metadata': run_name_list,\n",
    "            'protein_other_info': prot_other_info,\n",
    "            'peptide_other_info': pep_other_info,\n",
    "            'protein_abundance': prot_abundance,\n",
    "            'protein_ID_matrix': prot_ID,\n",
    "            'protein_ID_Summary': protein_ID_summary,\n",
    "            'peptide_abundance': pep_abundance,\n",
    "            'peptide_ID_matrix': pep_ID,\n",
    "            'peptide_ID_Summary': peptide_ID_summary,\n",
    "\n",
    "            }  \n",
    "\n"
   ]
  },
  {
   "cell_type": "code",
   "execution_count": 10,
   "id": "be92144e",
   "metadata": {},
   "outputs": [],
   "source": [
    "def read_files(queue_ids = None, queue_info = None, processor_info = None, grouped_input_files = []):\n",
    "    '''\n",
    "    Creates a list of data objects\n",
    "    \n",
    "    Input\n",
    "    grouped_input_files\n",
    "    [\n",
    "        #File 0\n",
    "    {input1:\n",
    "    input2:\n",
    "    input3:   \n",
    "    input4:\n",
    "    input5:\n",
    "    process_app:\n",
    "    },\n",
    "        #File 1\n",
    "    {input1:\n",
    "    input2:\n",
    "    input3:   \n",
    "    input4:\n",
    "    input5:\n",
    "    process_app:\n",
    "    },\n",
    "    ...\n",
    "    ]\n",
    "    '''\n",
    "\n",
    "\n",
    "    data_objects = []\n",
    "\n",
    "    i = 0\n",
    "    for eachGroup in grouped_input_files:\n",
    "        if queue_ids is not None:\n",
    "            pass\n",
    "        else:\n",
    "            process_app = eachGroup[\"process_app\"]\n",
    "            input1= eachGroup[\"input1\"]\n",
    "            input2= eachGroup[\"input2\"]  \n",
    "            input3= eachGroup[\"input3\"]\n",
    "            input4= eachGroup[\"input4\"]  \n",
    "            input5= eachGroup[\"input5\"]\n",
    "\n",
    "        current_data_object = read_file(input1=input1,input2=input2,\n",
    "                                        input3=input3,input4 = input4,\n",
    "                                        input5=input5, process_app=process_app,file_id = i)\n",
    "        data_objects.append(current_data_object)\n",
    "        \n",
    "        i = i + 1\n",
    "\n",
    "    \n",
    "    return data_objects\n",
    "\n",
    "\n"
   ]
  },
  {
   "cell_type": "code",
   "execution_count": 11,
   "id": "c8b6b462",
   "metadata": {},
   "outputs": [],
   "source": [
    "def outer_join_data_objects(data_objects):\n",
    "    '''\n",
    "    Takes in a list of data objects as given by read_files and converts them to a single data object as given by read_files,\n",
    "    protein info continues to show what was found on each original file, and so forth.\n",
    "    '''\n",
    "\n",
    "    first_file = True\n",
    "    for eachDataObject in data_objects:\n",
    "        print(\"***\")\n",
    "        if first_file:\n",
    "            first_file = False\n",
    "            final_data_object = eachDataObject\n",
    "        else:\n",
    "            final_data_object['run_metadata'] = pd.concat([final_data_object['run_metadata'],eachDataObject['run_metadata']]).reset_index(drop=True)\n",
    "            final_data_object['protein_other_info'] = pd.concat([final_data_object['protein_other_info'],eachDataObject['protein_other_info']]).reset_index(drop=True)\n",
    "            final_data_object['peptide_other_info'] = pd.concat([final_data_object['peptide_other_info'],eachDataObject['peptide_other_info']]).reset_index(drop=True)\n",
    "            final_data_object['protein_ID_Summary'] = pd.concat([final_data_object['protein_ID_Summary'],eachDataObject['protein_ID_Summary']]).reset_index(drop=True)\n",
    "            final_data_object['peptide_ID_Summary'] = pd.concat([final_data_object['peptide_ID_Summary'],eachDataObject['peptide_ID_Summary']]).reset_index(drop=True)\n",
    "            duplicates_found = False\n",
    "            \n",
    "            #loop through to see if there are any duplicate files\n",
    "            for eachCol in final_data_object['protein_abundance'].loc[:, final_data_object['protein_abundance'].columns!='Accession'].columns:\n",
    "                if eachCol in eachDataObject['protein_abundance'].columns:\n",
    "                    duplicates_found = True\n",
    "                else:\n",
    "                    pass\n",
    "            for eachCol in final_data_object['protein_ID_matrix'].loc[:, final_data_object['protein_ID_matrix'].columns!='Accession'].columns:\n",
    "                if eachCol in eachDataObject['protein_ID_matrix'].columns:\n",
    "                    duplicates_found = True\n",
    "                else:\n",
    "                    pass\n",
    "            for eachCol in final_data_object['peptide_abundance'].loc[:, final_data_object['peptide_abundance'].columns!='Annotated Sequence'].columns:\n",
    "                if eachCol in eachDataObject['peptide_abundance'].columns:\n",
    "                    duplicates_found = True\n",
    "                else:\n",
    "                    pass\n",
    "            for eachCol in final_data_object['peptide_ID_matrix'].loc[:, final_data_object['peptide_ID_matrix'].columns!='Annotated Sequence'].columns:\n",
    "                if eachCol in eachDataObject['peptide_ID_matrix'].columns:\n",
    "                    duplicates_found = True\n",
    "                else:\n",
    "                    pass     \n",
    "            if duplicates_found:\n",
    "                print(\"Error: files analyzed twice present!!!\")\n",
    "                quit()\n",
    "                print(\"@#afio2q3\")\n",
    "            else:\n",
    "                #merge keeping all proteins\n",
    "                # print(\"!!!!\")\n",
    "                final_data_object['protein_abundance'] = pd.merge(final_data_object['protein_abundance'],eachDataObject['protein_abundance'],how=\"outer\")\n",
    "                final_data_object['protein_ID_matrix'] = pd.merge(final_data_object['protein_ID_matrix'],eachDataObject['protein_ID_matrix'],how=\"outer\")\n",
    "                final_data_object['peptide_abundance'] = pd.merge(final_data_object['peptide_abundance'],eachDataObject['peptide_abundance'],how=\"outer\")\n",
    "                final_data_object['peptide_ID_matrix'] = pd.merge(final_data_object['peptide_ID_matrix'],eachDataObject['peptide_ID_matrix'],how=\"outer\")\n",
    "                \n",
    "    return final_data_object"
   ]
  },
  {
   "cell_type": "code",
   "execution_count": 12,
   "id": "48ca613f",
   "metadata": {},
   "outputs": [],
   "source": [
    "def filter_by_missing_values(data_object,\n",
    "                             missing_value_thresh=33,\n",
    "                             is_protein=True,\n",
    "                             ignore_nan=False):\n",
    "    \"\"\"_Filter out proteins/peptides with missing values rate above the\n",
    "    threshold_\n",
    "\n",
    "    Args:\n",
    "        data_object (_panada_): _dataframe contain data for one experimental\n",
    "        condition_\n",
    "        missing_value_thresh (int, optional): _description_. Defaults to 33.\n",
    "        analysis_program (str, optional): _description_.\n",
    "        ignore_nan: if filter intensity again with Nan threadshold, this \n",
    "        helps with the calcualting stdev step.\n",
    "\n",
    "    Returns:\n",
    "        _data_object_: _dictionary containing data for one experimental\n",
    "         'abundances':        Accession  3_TrypsinLysConly_3A4_channel2 3_TrypsinLysConly_3BC_channel1\n",
    "0     A0A096LP49                            0.00                                        10\n",
    "1     A0A0B4J2D5                        89850.26                                      3311\n",
    "2         A0AVT1                        83055.87                                    312312\n",
    "    \"\"\"\n",
    "    if is_protein:\n",
    "        name = \"Accession\"\n",
    "        matrix_name = \"protein_ID_matrix\"\n",
    "        other_info_name = \"protein_other_info\"\n",
    "        abundance_name = \"protein_abundance\"\n",
    "        \n",
    "    else:\n",
    "        name = \"Annotated Sequence\"\n",
    "        matrix_name = \"peptide_ID_matrix\"\n",
    "        other_info_name = \"peptide_other_info\"\n",
    "        abundance_name = \"peptide_abundance\"\n",
    "\n",
    "    #initializes number of missing values to zero\n",
    "    protein_columns = data_object[matrix_name].assign(missingValues=0)\n",
    "\n",
    "    i = 0\n",
    "    # found all the proteins/peptides with missing values rate below\n",
    "    # the threshold, pep_columns contains the remaining protein/peptide\n",
    "    # in a pandas dataframe with $names as its column name\n",
    "    for each_column in data_object[matrix_name].loc[\n",
    "            :, ~data_object[matrix_name].columns.str.contains(\n",
    "                name)].columns:\n",
    "        # replace \"nan\" to np.nan\n",
    "        protein_columns = protein_columns.replace({\"nan\": np.nan}) \n",
    "        #find missing values and increment those rows (a row is a protein/peptide) total number of missing values\n",
    "\n",
    "        protein_columns.loc[(protein_columns[each_column] != \"MS2\")\n",
    "                            &(protein_columns[each_column] != \"MBR\")\n",
    "                            &(protein_columns[each_column] != \"ID\"), #this is more robust than using nan's in case something fails to convert\n",
    "                             \"missingValues\"] += 1\n",
    "\n",
    "        i += 1\n",
    "\n",
    "    protein_columns = protein_columns.assign(missingValuesRate=(\n",
    "        protein_columns[\"missingValues\"] / i) * 100)\n",
    "    \n",
    "    protein_columns = protein_columns.query(\n",
    "        \"missingValuesRate < @missing_value_thresh\")\n",
    "    \n",
    "    protein_columns = protein_columns.loc[:,\n",
    "                                  protein_columns.columns.str.contains(name)]\n",
    "\n",
    "    # filter the data_object with the remaining proteins/peptides names\n",
    "    data_object[abundance_name] = protein_columns.merge(\n",
    "        data_object[abundance_name])\n",
    "    data_object[matrix_name] = protein_columns.merge(\n",
    "        data_object[matrix_name])\n",
    "    data_object[other_info_name] = protein_columns.merge(\n",
    "        data_object[other_info_name])\n",
    "    # In case there is mismatch between ID table and abundance table,\n",
    "    # mannually remove the row with all NaN values\n",
    "    # keep rows in data_object[abundance_name] where at least two values are \n",
    "    # not NaN(do this to all rows except the first row), otherwise can't\n",
    "    # calculate the stdev\n",
    "    if ignore_nan:\n",
    "        data_object[abundance_name] = data_object[abundance_name].dropna(\n",
    "            thresh=2, subset=data_object[abundance_name].columns[1:])\n",
    "        # This will cause the veen diagram to be different from R program\n",
    "    \n",
    "    return data_object"
   ]
  },
  {
   "cell_type": "code",
   "execution_count": 13,
   "id": "4686e5fe",
   "metadata": {},
   "outputs": [],
   "source": [
    "def filter_by_missing_values_MS2(data_object,\n",
    "                             missing_value_thresh=33,\n",
    "                             is_protein=True,\n",
    "                             ignore_nan=False):\n",
    "    \"\"\"_Filter out proteins/peptides with missing values rate above the\n",
    "    threshold_\n",
    "\n",
    "    Args:\n",
    "        data_object (_panada_): _dataframe contain data for one experimental\n",
    "        condition_\n",
    "        missing_value_thresh (int, optional): _description_. Defaults to 33.\n",
    "        analysis_program (str, optional): _description_.\n",
    "        ignore_nan: if filter intensity again with Nan threadshold, this \n",
    "        helps with the calcualting stdev step.\n",
    "\n",
    "    Returns:\n",
    "        _data_object_: _dictionary containing data for one experimental\n",
    "         'abundances':        Accession  3_TrypsinLysConly_3A4_channel2\n",
    "0     A0A096LP49                            0.00\n",
    "1     A0A0B4J2D5                        89850.26\n",
    "2         A0AVT1                        83055.87\n",
    "    \"\"\"\n",
    "    if is_protein:\n",
    "        name = \"Accession\"\n",
    "        matrix_name = \"protein_ID_matrix\"\n",
    "        other_info_name = \"protein_other_info\"\n",
    "        abundance_name = \"protein_abundance\"\n",
    "        \n",
    "    else:\n",
    "        name = \"Annotated Sequence\"\n",
    "        matrix_name = \"peptide_ID_matrix\"\n",
    "        other_info_name = \"peptide_other_info\"\n",
    "        abundance_name = \"peptide_abundance\"\n",
    "\n",
    "    protein_columns = data_object[matrix_name].assign(missingValues=0)\n",
    "\n",
    "    i = 0\n",
    "    # found all the proteins/peptides with missing values rate below\n",
    "    # the threshold, pep_columns contains the remaining protein/peptide\n",
    "    # in a pandas dataframe with $names as its column name\n",
    "    for each_column in data_object[matrix_name].loc[:, ~data_object[matrix_name].columns.str.contains(name)].columns:\n",
    "        # replace \"nan\" to np.nan\n",
    "        protein_columns = protein_columns.replace({\"nan\": np.nan}) \n",
    "        protein_columns.loc[protein_columns[each_column] != \"MS2\", #ID/MBR are still missing values if you are only considering MS2\n",
    "                             \"missingValues\"] += 1\n",
    "\n",
    "        i += 1\n",
    "\n",
    "    protein_columns = protein_columns.assign(missingValuesRate=(\n",
    "        protein_columns[\"missingValues\"] / i) * 100)\n",
    "    \n",
    "    protein_columns = protein_columns.query(\n",
    "        \"missingValuesRate < @missing_value_thresh\")\n",
    "    \n",
    "    protein_columns = protein_columns.loc[:,\n",
    "                                  protein_columns.columns.str.contains(name)]\n",
    "\n",
    "    # filter the data_object with the remaining proteins/peptides names\n",
    "    data_object[abundance_name] = protein_columns.merge(\n",
    "        data_object[abundance_name])\n",
    "    data_object[matrix_name] = protein_columns.merge(\n",
    "        data_object[matrix_name])\n",
    "    data_object[other_info_name] = protein_columns.merge(\n",
    "        data_object[other_info_name])\n",
    "    # In case there is mismatch between ID table and abundance table,\n",
    "    # mannually remove the row with all NaN values\n",
    "    # keep rows in data_object[abundance_name] where at least two values are \n",
    "    # not NaN(do this to all rows except the first row), otherwise can't\n",
    "    # calculate the stdev\n",
    "    if ignore_nan:\n",
    "        data_object[abundance_name] = data_object[abundance_name].dropna(\n",
    "            thresh=2, subset=data_object[abundance_name].columns[1:])\n",
    "        # This will cause the veen diagram to be different from R program\n",
    "    \n",
    "    return data_object\n",
    "\n",
    "\n"
   ]
  },
  {
   "cell_type": "code",
   "execution_count": 14,
   "id": "a447500f",
   "metadata": {},
   "outputs": [],
   "source": [
    "def NormalizeToMedian(abundance_data, apply_log2=False):\n",
    "    \"\"\"_Normalizes each column by multiplying each value in that column with\n",
    "    the median of all values in abundances (all experiments) and then dividing\n",
    "    by the median of that column (experiment)._\n",
    "    we find applying log2 transform first gives more robust results for PCA etc.\n",
    "    See https://pubs.acs.org/doi/10.1021/acsomega.0c02564\n",
    "    Args:\n",
    "        abundance_data (_pd_): _description_\n",
    "        apply_log2 (_bool_,): _apply log2 to all result_.\n",
    "    Returns:\n",
    "        _type_: _description_\n",
    "        format:\n",
    "         'abundances':        Accession  3_TrypsinLysConly_3A4_channel2\n",
    "         A0A096LP49                    0.000000e+00\n",
    "    \"\"\"\n",
    "    # all the columns/sample list\n",
    "    columns = [col for col in abundance_data.select_dtypes(include=[\n",
    "            np.number])]\n",
    "    data_matrix = abundance_data[columns].values\n",
    "    # replace 0 with nan\n",
    "    data_matrix[data_matrix == 0] = np.nan\n",
    "    medianOfAll = np.nanmedian(data_matrix)\n",
    "    \n",
    "    #normalize all median, all median/current run all protein median\n",
    "    # apply log2 to all the values if apply_log2 is True\n",
    "    if apply_log2:    \n",
    "        for each_column in columns:\n",
    "            abundance_data[each_column] = (\n",
    "                np.log2(medianOfAll) * np.log2(abundance_data[each_column]) /\n",
    "                np.log2(np.nanmedian(abundance_data[\n",
    "                    each_column].replace(0, np.nan))))\n",
    "    else:\n",
    "        for each_column in columns:\n",
    "            abundance_data[each_column] = (\n",
    "                medianOfAll * abundance_data[each_column] /\n",
    "                np.nanmedian(abundance_data[\n",
    "                    each_column].replace(0, np.nan)))\n",
    "    #TODO divide by zero error encountered in log2, temporarily set to 0\n",
    "    abundance_data = abundance_data.replace([np.inf, -np.inf], 0)\n",
    "\n",
    "    return abundance_data"
   ]
  },
  {
   "cell_type": "code",
   "execution_count": 15,
   "id": "9a7d4a9c",
   "metadata": {},
   "outputs": [],
   "source": [
    "def calculate_cvs(abundance_data):\n",
    "    \"\"\"_Calculate mean, stdev, cv for withn each protein/peptide abundance_\n",
    "\n",
    "    Args:\n",
    "        data_object (_type_): _full data frame_\n",
    "\n",
    "    Returns:\n",
    "        _type_: _df with Accession mean, stdev, cv for each protein/peptide_\n",
    "    \"\"\"\n",
    "    if 'Accession' in abundance_data.columns:\n",
    "        name = \"Accession\"\n",
    "    if 'Annotated Sequence' in abundance_data.columns:\n",
    "        name = \"Annotated Sequence\"\n",
    "    abundance_data = abundance_data.assign(\n",
    "        intensity=abundance_data.loc[:, ~abundance_data.columns.str.contains(\n",
    "            name)].mean(axis=1, skipna=True),\n",
    "        stdev=abundance_data.loc[:, ~abundance_data.columns.str.contains(\n",
    "            name)].std(axis=1, skipna=True),\n",
    "        CV=abundance_data.loc[:, ~abundance_data.columns.str.contains(name)].std(\n",
    "            axis=1, skipna=True) / abundance_data.loc[\n",
    "            :, ~abundance_data.columns.str.contains(name)].mean(\n",
    "            axis=1, skipna=True) * 100)\n",
    "\n",
    "    abundance_data = abundance_data.loc[:, [\n",
    "            name, \"intensity\", \"stdev\", \"CV\"]]\n",
    "    \n",
    "    return abundance_data"
   ]
  },
  {
   "cell_type": "code",
   "execution_count": 16,
   "id": "3cbd1f8d",
   "metadata": {},
   "outputs": [],
   "source": [
    "def t_test_from_summary_stats(m1, m2, n1, n2, s1, s2, equal_var=False):\n",
    "    \"\"\"_Calculate T-test from summary using ttest_ind_from_stats from\n",
    "    scipy.stats package_\n",
    "\n",
    "    Args:\n",
    "        m1 (_type_): _mean list of sample 1_\n",
    "        m2 (_type_): mean list of sample 2_\n",
    "        n1 (_type_): sample size list of sample 1_\n",
    "        n2 (_type_): sample size list of sample 2_\n",
    "        s1 (_type_): standard deviation list of sample 1_\n",
    "        s2 (_type_): standard deviation list of sample 2_\n",
    "        equal_var (_type_, optional): False would perform Welch's\n",
    "        t-test, while set it to True would perform Student's t-test. Defaults\n",
    "        to False.\n",
    "\n",
    "    Returns:\n",
    "        _type_: _list of P values_\n",
    "    \"\"\"\n",
    "\n",
    "    p_values = []\n",
    "    for i in range(len(m1)):\n",
    "        _, benjamini = ttest_ind_from_stats(\n",
    "            m1[i], s1[i], n1[i], m2[i], s2[i], n2[i], equal_var=equal_var)\n",
    "        p_values.append(benjamini)\n",
    "\n",
    "    return p_values"
   ]
  },
  {
   "cell_type": "code",
   "execution_count": 17,
   "id": "b1f7bfef",
   "metadata": {},
   "outputs": [],
   "source": [
    "def impute_knn(abundance_data, k=5):\n",
    "    \"\"\"_inpute missing value from neighbor values_\n",
    "\n",
    "    Args:\n",
    "        abundance_data (_type_): _description_\n",
    "        k (int, optional): _number of neighbors used_. Defaults to 5.\n",
    "    Returns:\n",
    "        _type_: _description_\n",
    "        TODO: this knn imputer produces slightly different results (about 4%)\n",
    "        from the one in R. Need to figure out why\n",
    "    \"\"\"\n",
    "    name = abundance_data.columns[0]\n",
    "\n",
    "    names = abundance_data[name]\n",
    "    # x = abundance_data.select_dtypes(include=['float64', 'int64'])\n",
    "    # imputer = KNNImputer(n_neighbors=k)\n",
    "    # x_imputed = pd.DataFrame(imputer.fit_transform(x), columns=x.columns)\n",
    "\n",
    "\n",
    "    x = abundance_data.select_dtypes(include=['float', 'int'])\n",
    "    imputer = KNNImputer(n_neighbors=k)\n",
    "    x_imputed = imputer.fit_transform(x)\n",
    "    x_imputed = pd.DataFrame(x_imputed, columns=x.columns)\n",
    "\n",
    "\n",
    "\n",
    "    abundance_data.loc[:, x.columns] = x_imputed.values\n",
    "    abundance_data[name] = names\n",
    "    return abundance_data\n",
    "\n",
    "\n"
   ]
  },
  {
   "cell_type": "code",
   "execution_count": 18,
   "id": "8a331ea1",
   "metadata": {},
   "outputs": [],
   "source": [
    "def CalculatePCA(abundance_object, infotib,log2T = False):\n",
    "    \"\"\"_inpute PCA transformed and variance explained by each principal\n",
    "    component_\n",
    "    \"\"\"\n",
    "    name = abundance_object.columns[0]\n",
    "    x = abundance_object\n",
    "    \n",
    "    sampleNames = x.columns[~x.columns.str.contains(\n",
    "        name)].to_frame(index=False)\n",
    "\n",
    "    if log2T: #apply log2 transformation\n",
    "        x = np.log2(x.loc[:, ~x.columns.str.contains(name)].T.values)\n",
    "    else:\n",
    "        x = x.loc[:, ~x.columns.str.contains(name)].T.values\n",
    "    # filter out columns with all zeros\n",
    "    is_finite_col = np.isfinite(np.sum(x, axis=0))\n",
    "    x_filtered = x[:, is_finite_col]\n",
    "\n",
    "    \n",
    "    # Instantiate PCA    \n",
    "    pca = PCA()\n",
    "    #\n",
    "    # Determine transformed features\n",
    "    #\n",
    "    x_pca = pca.fit_transform(x_filtered)\n",
    "    #\n",
    "    # Determine explained variance using explained_variance_ration_ attribute\n",
    "    #\n",
    "    exp_var_pca = pca.explained_variance_ratio_\n",
    "    #\n",
    "    # Cumulative sum of eigenvalues; This will be used to create step plot\n",
    "    # for visualizing the variance explained by each principal component.\n",
    "    #\n",
    "    cum_sum_eigenvalues = np.cumsum(exp_var_pca)\n",
    "    #\n",
    "    # convert numpy array to pandas dataframe for plotting\n",
    "    \n",
    "    pca_panda = pd.DataFrame(x_pca, columns=[\n",
    "        'PC' + str(i+1) for i in range(x_pca.shape[1])])\n",
    "    # add sample names to the dataframe\n",
    "    pca_panda = pd.concat(\n",
    "        [infotib, pca_panda], axis=1, join='inner')\n",
    "    \n",
    "    return pca_panda, exp_var_pca\n",
    "\n",
    "\n"
   ]
  },
  {
   "cell_type": "code",
   "execution_count": 19,
   "id": "fecc71ea",
   "metadata": {},
   "outputs": [],
   "source": [
    "def filter_by_name(data_dict, runname_list):\n",
    "    \"\"\"_Filter the data_dict based on runname_list, only keep the columns\n",
    "    of the data_dict that are in the runname_list_\n",
    "    Args:\n",
    "\n",
    "    Returns:\n",
    "        _type_: _description_\n",
    "    \"\"\"\n",
    "\n",
    "    # make dict for each runname, no accession/sequence\n",
    "    nameDict = dict(zip(data_dict[\"run_metadata\"][\"Run Names\"],data_dict[\"run_metadata\"][\"Run Identifier\"]))\n",
    "    \n",
    "    identifier_list = []\n",
    "    \n",
    "    identifier_list_plus = []\n",
    "    if \"Annotated Sequence\" in runname_list:\n",
    "        runname_list.remove(\"Annotated Sequence\")\n",
    "    if \"Accession\" in runname_list:\n",
    "        runname_list.remove(\"Accession\")\n",
    "    for eachName in runname_list:\n",
    "        identifier_list.append(nameDict[eachName])\n",
    "\n",
    "    for eachName in runname_list:\n",
    "        identifier_list_plus.append(nameDict[eachName])\n",
    "\n",
    "\n",
    "    filtered_data = {}\n",
    "   # filtered_data[\"meta\"] = data_dict[\"meta\"]\n",
    "    runname_list.extend([\"Annotated Sequence\",\"Accession\"])\n",
    "    identifier_list_plus.extend([\"Annotated Sequence\",\"Accession\"])\n",
    "\n",
    "    #filtered_data[\"run_metadata\"] = [item for item in data_dict[\n",
    "    #   \"run_metadata\"] if item in runname_list]\n",
    "    \n",
    "    filtered_data[\"run_metadata\"] = data_dict[\"run_metadata\"][\n",
    "        data_dict[\"run_metadata\"][\"Run Names\"].isin(\n",
    "            runname_list)]  \n",
    "    filtered_data[\"protein_abundance\"] = data_dict[\"protein_abundance\"][[\n",
    "        col for col in data_dict[\"protein_abundance\"].columns if any(\n",
    "            word == col for word in identifier_list_plus)]]\n",
    "    filtered_data[\"peptide_abundance\"] = data_dict[\"peptide_abundance\"][[\n",
    "        col for col in data_dict[\"peptide_abundance\"].columns if any(\n",
    "            word == col for word in identifier_list_plus)]]\n",
    "    filtered_data[\"protein_other_info\"] = data_dict[\"protein_other_info\"][[\n",
    "        col for col in data_dict[\"protein_other_info\"].columns if any(\n",
    "            word == col for word in identifier_list_plus)]]\n",
    "    filtered_data[\"peptide_other_info\"] = data_dict[\"peptide_other_info\"][[\n",
    "        col for col in data_dict[\"peptide_other_info\"].columns if any(\n",
    "            word == col for word in identifier_list_plus)]]\n",
    "    filtered_data[\"protein_ID_matrix\"] = data_dict[\"protein_ID_matrix\"][[\n",
    "        col for col in data_dict[\"protein_ID_matrix\"].columns if any(\n",
    "            word == col for word in identifier_list_plus)]]\n",
    "    filtered_data[\"peptide_ID_matrix\"] = data_dict[\"peptide_ID_matrix\"][[\n",
    "        col for col in data_dict[\"peptide_ID_matrix\"].columns if any(\n",
    "            word == col for word in identifier_list_plus)]]\n",
    "    filtered_data[\"protein_ID_Summary\"] = data_dict[\"protein_ID_Summary\"][\n",
    "        data_dict[\"protein_ID_Summary\"][\"names\"].isin(\n",
    "            identifier_list)]\n",
    "    filtered_data[\"peptide_ID_Summary\"] = data_dict[\"peptide_ID_Summary\"][\n",
    "        data_dict[\"peptide_ID_Summary\"][\"names\"].isin(\n",
    "            identifier_list)]\n",
    "    return filtered_data"
   ]
  },
  {
   "cell_type": "code",
   "execution_count": 20,
   "id": "fbb7f381",
   "metadata": {},
   "outputs": [],
   "source": [
    "def ID_plots(data_object, plot_options, saved_settings, username=None):\n",
    "    \"\"\"_Prepare data for creating protein peptide identification bar\n",
    "    plot_\n",
    "\n",
    "    Args:\n",
    "        data_dict (_type_): _description_\n",
    "    \"\"\"\n",
    "    # Create an empty dictionary to store the group names and filters\n",
    "    group_names = [key for key in saved_settings.keys() if \"Order@\" not in str(key)]\n",
    "\n",
    "    # import the data and save order\n",
    "    group_dict = {}\n",
    "\n",
    "    if plot_options[\"ID mode\"] == \"MS2\" or plot_options[\"ID mode\"] == \"total\" or plot_options[\"ID mode\"] == \"stacked\":\n",
    "        x_axis_order = saved_settings[\"Order@Conditions\"]\n",
    "    elif plot_options[\"Group By X\"] == \"ID_Mode\":\n",
    "        print(\"ERROR: x axis separation of MS2/MBR not supported\")\n",
    "    else:\n",
    "        x_axis_order = saved_settings[\"Order@\"+plot_options[\"Group By X\"]]\n",
    "    if plot_options[\"ID mode\"] == \"grouped\" or plot_options[\"ID mode\"] == \"grouped_stacked\" and plot_options[\"Group By Color\"] != \"ID_Mode\":\n",
    "        color_order = saved_settings[\"Order@\"+plot_options[\"Group By Color\"]]\n",
    "        plot_options[\"color_order\"] = color_order\n",
    "\n",
    "    plot_options[\"x_axis_order\"] = x_axis_order\n",
    "\n",
    "    # filter runs into different groups\n",
    "    i = 1\n",
    "    runname_list = []  # contain list of run names list for each groups\n",
    "    for eachGroup in group_names:\n",
    "        runname_sublist = saved_settings[eachGroup][\"records\"]\n",
    "\n",
    "        group_dict[eachGroup] = filter_by_name(\n",
    "            data_object,\n",
    "            runname_sublist)  # prevent the list from being changed\n",
    "        runname_list.append(runname_sublist)\n",
    "        i += 1\n",
    "\n",
    "        #print(group_dict[eachGroup][\"run_metadata\"])\n",
    "    #display(data_object[\"protein_ID_Summary\"])\n",
    "    #display(group_dict[eachGroup][\"protein_ID_Summary\"])\n",
    "    # create ID plots\n",
    "    # allIDs table will be used to store all experiment name, ID types (\n",
    "    # protein, peptide, MS2 and MS1 based), conditions and IDs numbers\n",
    "    allIDs = pd.DataFrame(\n",
    "        columns=[\"Names\", \"ID_Type\", \"ID_Mode\", \"Conditions\", \"IDs\"])\n",
    "\n",
    "    # loop through each group and extract IDs, put them into allIDs table\n",
    "    for eachCondition in group_names:\n",
    "        # Protein ID summary\n",
    "        for index, row in group_dict[eachCondition][\n",
    "                \"protein_ID_Summary\"].iterrows():\n",
    "            for item in [\"MS2_IDs\",\n",
    "                         \"MBR_IDs\",\n",
    "                         \"Total_IDs\"]:\n",
    "                if not pd.isna(group_dict[eachCondition][\n",
    "                        \"protein_ID_Summary\"].at[index, item]):\n",
    "                    # if the row with the item column is not empty,\n",
    "                    # add it to allIDs table.\n",
    "                    allIDs = pd.concat(\n",
    "                        [allIDs,\n",
    "                         pd.DataFrame(\n",
    "                             [[group_dict[eachCondition][\n",
    "                                 \"protein_ID_Summary\"].at[index, \"names\"],\n",
    "                              \"protein\",\n",
    "                               item,\n",
    "                               eachCondition,\n",
    "                               group_dict[eachCondition][\n",
    "                                 \"protein_ID_Summary\"].at[index, item]]],\n",
    "                             columns=[\"Names\",\n",
    "                                      \"ID_Type\",\n",
    "                                      \"ID_Mode\",\n",
    "                                      \"Conditions\",\n",
    "                                      \"IDs\"])],\n",
    "                        ignore_index=True)\n",
    "        # Peptide ID summary\n",
    "        for index, row in group_dict[eachCondition][\n",
    "                \"peptide_ID_Summary\"].iterrows():\n",
    "            for item in [\"MS2_IDs\",\n",
    "                         \"MBR_IDs\",\n",
    "                         \"Total_IDs\"]:\n",
    "                if not pd.isna(group_dict[eachCondition][\n",
    "                        \"peptide_ID_Summary\"].at[index, item]):\n",
    "                    allIDs = pd.concat(\n",
    "                        [allIDs,\n",
    "                         pd.DataFrame(\n",
    "                             [[group_dict[eachCondition][\n",
    "                                 \"peptide_ID_Summary\"].at[index, \"names\"],\n",
    "                              \"peptide\",\n",
    "                               item,\n",
    "                               eachCondition,\n",
    "                               group_dict[eachCondition][\n",
    "                                 \"peptide_ID_Summary\"].at[index, item]]],\n",
    "                             columns=[\"Names\",\n",
    "                                      \"ID_Type\",\n",
    "                                      \"ID_Mode\",\n",
    "                                      \"Conditions\",\n",
    "                                      \"IDs\"])],\n",
    "                        ignore_index=True)\n",
    "    # ######################allIDs format###################\n",
    "    # name\tID_Type\tID_Mode\tConditions\tIDs\n",
    "    # file1\tpeptide\tMS2_IDs\texperimetn 1\txxxxx\n",
    "    # file2\tprotein\tMBR_IDs\texperiment 2\txxxx\n",
    "    # file3\tpeptide\tTotal_IDs\texperiment 3\txxx\n",
    "    #######################################################\n",
    "    # Calcuate mean, standard deviation and number of replicates for each\n",
    "    export_ids = allIDs.copy()\n",
    "    # choose protein or peptide\n",
    "    if plot_options[\"plot_type\"] == \"1\":  # Protein ID\n",
    "        allIDs = allIDs[allIDs[\"ID_Type\"] == \"protein\"]\n",
    "    elif plot_options[\"plot_type\"] == \"2\":  # Peptide ID\n",
    "        allIDs = allIDs[allIDs[\"ID_Type\"] == \"peptide\"]\n",
    "\n",
    "    # choose total, MS2 or stacked\n",
    "    if plot_options[\"ID mode\"] == \"MS2\":  # MS2 ID\n",
    "        allIDs = allIDs[allIDs[\"ID_Mode\"] == \"MS2_IDs\"]\n",
    "    elif plot_options[\"ID mode\"] == \"total\":\n",
    "        # total ID combined, if not already summed (key exist), sum them\n",
    "#         if allIDs[allIDs[\"ID_Mode\"] == \"Total_IDs\"].empty:\n",
    "#             grouped = allIDs.groupby('name').agg(\n",
    "#                 {'IDs': 'sum', 'ID_Type': 'first', 'Conditions': 'first'})\n",
    "#             grouped = grouped.reset_index()\n",
    "#             grouped[\"ID_Mode\"] = \"Total_IDs\"\n",
    "#             allIDs = grouped\n",
    "        allIDs = allIDs[allIDs[\"ID_Mode\"] == \"Total_IDs\"]\n",
    "    elif plot_options[\"Group By X\"] == \"ID_Mode\" or plot_options[\"Group By Color\"] == \"ID_Mode\" \\\n",
    "        or plot_options[\"Group By Stack\"] == \"ID_Mode\" and not (plot_options[\"ID mode\"] == \"total\" or plot_options[\"ID mode\"] == \"MS2\"):  # total separated\n",
    "        pass\n",
    "    elif plot_options[\"ID mode\"] == \"MS2\":\n",
    "        allIDs = allIDs[allIDs[\"ID_Mode\"] == \"MS2_IDs\"]\n",
    "    else:\n",
    "        allIDs = allIDs[allIDs[\"ID_Mode\"] == \"Total_IDs\"]\n",
    "\n",
    "    toPlotIDs = allIDs.groupby([\"ID_Mode\", \"Conditions\"]).agg({\n",
    "        'IDs': ['mean', 'std', 'count'], 'ID_Type': 'first', })\n",
    "\n",
    "    # rename the columns\n",
    "    toPlotIDs.columns = ['IDs', 'stdev', 'n', 'ID_Type']\n",
    "    # reset the index after grouping\n",
    "    toPlotIDs = toPlotIDs.reset_index()\n",
    "    # calculate the confidence interval based on 95%confidence interval`\n",
    "    toPlotIDs[\"confInt\"] = t.ppf(0.975, toPlotIDs['n']-1) * \\\n",
    "        toPlotIDs['stdev']/np.sqrt(toPlotIDs['n'])\n",
    "\n",
    "    #add columns for the categories specified in settings file (the one with all the filenames)\n",
    "    standard_groups = [\"filter_in\",\"filter_out\",\"records\"]\n",
    "    categories = [col for col in list(saved_settings[list(group_names)[0]].keys()) if col not in standard_groups]\n",
    "    for eachCategory in categories:\n",
    "        toPlotIDs[eachCategory] = \"\"\n",
    "        for eachGroup in group_names:\n",
    "            toPlotIDs.loc[toPlotIDs[\"Conditions\"]==eachGroup,eachCategory] = saved_settings[eachGroup][eachCategory]\n",
    "    \n",
    "    #display(toPlotIDs)\n",
    "    fig = plot_IDChart_plotly(toPlotIDs,\n",
    "                               username=username,\n",
    "                               plot_options=plot_options)\n",
    "\n",
    "    if WRITE_OUTPUT:    \n",
    "        # export the data to csv for user downloading\n",
    "        data_dir = os.path.join(APPFOLDER, \"csv/\")\n",
    "        # create the directory if it does not exist\n",
    "        if not os.path.exists(data_dir):\n",
    "            Path(data_dir).mkdir(parents=True)\n",
    "        categories = [col for col in list(saved_settings[list(group_names)[0]].keys()) if col not in standard_groups]\n",
    "        \n",
    "        for eachCategory in categories:\n",
    "            export_ids[eachCategory] = \"\"\n",
    "            for eachGroup in group_names:\n",
    "                export_ids.loc[export_ids[\"Conditions\"]==eachGroup,eachCategory] = saved_settings[eachGroup][eachCategory]\n",
    "        export_ids = export_ids.replace({\"Names\": dict(zip(data_object[\"run_metadata\"][\"Run Identifier\"],data_object[\"run_metadata\"][\"Run Names\"]))})\n",
    "        \n",
    "        # export the data to csv\n",
    "        export_ids.to_csv(os.path.join(\n",
    "            data_dir, f\"{username}_ID_data.csv\"), index=False)\n",
    "        \n",
    "        print(\"Downloading links...\")\n",
    "\n",
    "        # create the link for downloading the data\n",
    "        CSV_link = f\"/files/{url_base}/csv/\" \\\n",
    "            f\"{username}_ID_data.csv\"\n",
    "\n",
    "        # add SVG download link\n",
    "\n",
    "        SVG_link = f\"/files/{url_base}/images/\" \\\n",
    "            f\"{username}_ID_Bar_Plot.svg\"\n",
    "\n",
    "        img_dir = os.path.join(APPFOLDER, \"images/\")\n",
    "        if not os.path.exists(img_dir):\n",
    "            Path(img_dir).mkdir(parents=True)\n",
    "\n",
    "        fig.write_image(os.path.join(\n",
    "            img_dir, f\"{username}_ID_Bar_Plot.svg\"), format = \"svg\", validate = False, engine = \"kaleido\")\n",
    "\n",
    "\n",
    "    else:\n",
    "        CSV_link = None\n",
    "        SVG_link = None\n",
    "    return fig, CSV_link, SVG_link\n",
    "\n",
    "def plot_IDChart_plotly(ID_data,\n",
    "                        username=None,\n",
    "                        plot_options=None):\n",
    "    \"\"\"_Plot the ID bar plot for the given data_\n",
    "\n",
    "    Args:\n",
    "        ID_data (_type_): _description_\n",
    "        username (str, optional): _description_. Defaults to \"test\".\n",
    "        plot_options (_type_, optional): _description_. Defaults to None.\n",
    "\n",
    "    Returns:\n",
    "        _type_: _description_\n",
    "    \"\"\"\n",
    "\n",
    "    plot_div = None\n",
    "    \n",
    "\n",
    "    if plot_options[\"ID mode\"] == \"grouped\":  \n",
    "        # plot options\n",
    "        # error bar\n",
    "        if plot_options[\"error bar\"] == \"stdev\":\n",
    "            error_bars = \"stdev\"\n",
    "            error_visibile = True\n",
    "        elif plot_options[\"error bar\"] == \"ci95\":\n",
    "            error_bars = \"confInt\"\n",
    "            error_visibile = True\n",
    "        else:\n",
    "            error_bars = \"stdev\"\n",
    "            error_visibile = False\n",
    "\n",
    "        # mean label\n",
    "        if plot_options[\"mean label\"] == \"True\" or \\\n",
    "                plot_options[\"mean label\"] == True:\n",
    "            total_labels = [{\"x\": x, \"y\": total*1.15, \"text\": str(\n",
    "                int(total)), \"showarrow\": False} for x, total in zip(\n",
    "                    ID_data[\"Conditions\"], ID_data[\"IDs\"])]\n",
    "        else:\n",
    "            total_labels = []   # no mean labels\n",
    "\n",
    "        if plot_options[\"Group By X\"] == \"ID_Mode\" or plot_options[\"Group By Color\"] == \"ID_Mode\":  # total separated\n",
    "            ID_data = ID_data[ID_data[\"ID_Mode\"] != \"Total_IDs\"]\n",
    "        else:\n",
    "            ID_data = ID_data[ID_data[\"ID_Mode\"] == \"Total_IDs\"]\n",
    "        #find out present categories\n",
    "        categories = plot_options[\"color_order\"]\n",
    "        # create the plot\n",
    "        fig_data = []\n",
    "        i = 0\n",
    "        for eachCategory in categories:\n",
    "            fig_data.append(go.Bar(name = eachCategory,\n",
    "                        x=ID_data.loc[ID_data[plot_options[\"Group By Color\"]]==eachCategory,plot_options[\"Group By X\"]].tolist(),\n",
    "                        y=ID_data.loc[ID_data[plot_options[\"Group By Color\"]]==eachCategory,\"IDs\"].tolist(),\n",
    "                        marker_color = plot_options[\"color\"][i],\n",
    "                        text = [round(x) for x in ID_data.loc[ID_data[plot_options[\"Group By Color\"]]==eachCategory,\"IDs\"].tolist()],\n",
    "                        error_y=dict(\n",
    "                            type = \"data\",\n",
    "                            array = ID_data.loc[ID_data[plot_options[\"Group By Color\"]]==eachCategory,error_bars].tolist(),\n",
    "                            visible = error_visibile\n",
    "                        )))\n",
    "            i = i + 1                    \n",
    "\n",
    "        fig = go.Figure(data = fig_data,\n",
    "                        layout=go.Layout(yaxis_title=plot_options[\"Y Title\"],\n",
    "                        xaxis_title=plot_options[\"Group By X\"],\n",
    "                        barmode=\"group\",paper_bgcolor=\"rgba(255,255,255,255)\",\n",
    "                        plot_bgcolor=\"rgba(255, 255, 255, 255)\",\n",
    "                        yaxis=dict(showline=True, linewidth=1, linecolor='black'),\n",
    "                        xaxis=dict(showline=True, linewidth=1, linecolor='black')))\n",
    "        fig.update_xaxes(categoryorder='array', categoryarray = plot_options[\"x_axis_order\"])\n",
    "\n",
    "    elif plot_options[\"ID mode\"] == \"stacked\":\n",
    "        # plot options\n",
    "        # error bar\n",
    "        if plot_options[\"error bar\"] == \"stdev\":\n",
    "            error_bars = \"stdev\"\n",
    "            error_visibile = True\n",
    "        elif plot_options[\"error bar\"] == \"ci95\":\n",
    "            error_bars = \"confInt\"\n",
    "            error_visibile = True\n",
    "        else:\n",
    "            error_bars = \"stdev\"\n",
    "            error_visibile = False\n",
    "\n",
    "        # mean label\n",
    "        if plot_options[\"mean label\"] == \"True\" or \\\n",
    "                plot_options[\"mean label\"] == True:\n",
    "            total_labels = [{\"x\": x, \"y\": total*1.15, \"text\": str(\n",
    "                int(total)), \"showarrow\": False} for x, total in zip(\n",
    "                    ID_data[\"Conditions\"], ID_data[\"IDs\"])]\n",
    "        else:\n",
    "            total_labels = []   # no mean labels\n",
    "        if plot_options[\"Group By X\"] == \"ID_Mode\" or plot_options[\"Group By Stack\"] == \"ID_Mode\":  # total separated\n",
    "            ID_data = ID_data[ID_data[\"ID_Mode\"] != \"Total_IDs\"]\n",
    "        else:\n",
    "            ID_data = ID_data[ID_data[\"ID_Mode\"] == \"Total_IDs\"]\n",
    "\n",
    "        if plot_options[\"Group By Stack\"] == \"ID_Mode\":\n",
    "            layers = [\"MS2_IDs\", \"MBR_IDs\"]\n",
    "        else:\n",
    "            layers = ID_data.groupby(plot_options[\"Group By Stack\"]).first().reset_index()[plot_options[\"Group By Stack\"]].tolist()\n",
    "        fig_data = []\n",
    "        last_layer = None\n",
    "        i = 0\n",
    "        for eachLayer in layers: \n",
    "            if last_layer == None:\n",
    "                fig_data.append(go.Bar(\n",
    "                    name = eachLayer,\n",
    "                    x = ID_data.loc[(ID_data[plot_options[\"Group By Stack\"]]==eachLayer),plot_options[\"Group By X\"]].tolist(),\n",
    "                    y = ID_data.loc[(ID_data[plot_options[\"Group By Stack\"]]==eachLayer),\"IDs\"].tolist(),\n",
    "                    marker_color = plot_options[\"color\"][i],\n",
    "                    text = [round(x) for x in ID_data.loc[(ID_data[plot_options[\"Group By Stack\"]]==eachLayer),\"IDs\"].tolist()],\n",
    "                    error_y= dict(\n",
    "                        type = \"data\",\n",
    "                        array = ID_data.loc[ID_data[plot_options[\"Group By Stack\"]]==eachLayer,error_bars].tolist(),\n",
    "                        visible = error_visibile\n",
    "                    )\n",
    "                ))\n",
    "                bases = ID_data.loc[(ID_data[plot_options[\"Group By Stack\"]]==eachLayer),\"IDs\"]\n",
    "                i = i + 1\n",
    "                \n",
    "            else:\n",
    "                fig_data.append(go.Bar(\n",
    "                    name = eachLayer,\n",
    "                    x = ID_data.loc[(ID_data[plot_options[\"Group By Stack\"]]==eachLayer),plot_options[\"Group By X\"]].tolist(),\n",
    "                    y = ID_data.loc[(ID_data[plot_options[\"Group By Stack\"]]==eachLayer),\"IDs\"].tolist(),\n",
    "                    base=bases,\n",
    "                    marker_color = plot_options[\"color\"][i],\n",
    "                    opacity=0.5,\n",
    "                    text = [round(x) for x in bases + ID_data.loc[(ID_data[plot_options[\"Group By Stack\"]]==eachLayer),\"IDs\"].tolist()],\n",
    "                    error_y= dict(\n",
    "                        type = \"data\",\n",
    "                        array = ID_data.loc[ID_data[plot_options[\"Group By Stack\"]]==eachLayer,error_bars].tolist(),\n",
    "                        visible = error_visibile\n",
    "                    )\n",
    "                ))\n",
    "                print(bases)\n",
    "                bases = bases + ID_data.loc[(ID_data[plot_options[\"Group By Stack\"]]==eachLayer),\"IDs\"].tolist()\n",
    "            last_layer = eachLayer\n",
    "        fig = go.Figure(\n",
    "                data = fig_data,\n",
    "                layout=go.Layout(\n",
    "                yaxis_title=plot_options[\"Y Title\"],\n",
    "                xaxis_title=plot_options[\"Group By X\"],\n",
    "                barmode=\"stack\", \n",
    "                paper_bgcolor=\"rgba(255,255,255,255)\",\n",
    "                plot_bgcolor=\"rgba(255, 255, 255, 255)\",\n",
    "                yaxis=dict(showline=True, linewidth=1, linecolor='black'),\n",
    "                xaxis=dict(showline=True, linewidth=1, linecolor='black')\n",
    "            ))          \n",
    "        fig.update_xaxes(categoryorder='array', categoryarray = plot_options[\"x_axis_order\"])            \n",
    "    elif plot_options[\"ID mode\"] == \"grouped_stacked\":\n",
    "        # plot options\n",
    "        # error bar\n",
    "        if plot_options[\"error bar\"] == \"stdev\":\n",
    "            error_bars = \"stdev\"\n",
    "            error_visibile = True\n",
    "        elif plot_options[\"error bar\"] == \"ci95\":\n",
    "            error_bars = \"confInt\"\n",
    "            error_visibile = True\n",
    "        else:\n",
    "            error_bars = \"stdev\"\n",
    "            error_visibile = False\n",
    "\n",
    "        # mean label\n",
    "        if plot_options[\"mean label\"] == \"True\" or \\\n",
    "                plot_options[\"mean label\"] == True:\n",
    "            total_labels = [{\"x\": x, \"y\": total*1.15, \"text\": str(\n",
    "                int(total)), \"showarrow\": False} for x, total in zip(\n",
    "                    ID_data[\"Conditions\"], ID_data[\"IDs\"])]\n",
    "        else:\n",
    "            total_labels = []   # no mean labels\n",
    "\n",
    "        if plot_options[\"Group By X\"] == \"ID_Mode\" or plot_options[\"Group By Color\"] == \"ID_Mode\"or plot_options[\"Group By Stack\"] == \"ID_Mode\":  # total separated\n",
    "            ID_data = ID_data[ID_data[\"ID_Mode\"] != \"Total_IDs\"]\n",
    "        else:\n",
    "            ID_data = ID_data[ID_data[\"ID_Mode\"] == \"Total_IDs\"]\n",
    "\n",
    "        #make data tidy\n",
    "        if plot_options[\"Group By Stack\"] == \"ID_Mode\":\n",
    "            layers = [\"MS2_IDs\", \"MBR_IDs\"]\n",
    "        else:\n",
    "            layers = ID_data.groupby(plot_options[\"Group By Stack\"]).first().reset_index()[plot_options[\"Group By Stack\"]].tolist()\n",
    "        categories = plot_options[\"color_order\"]\n",
    "        \n",
    "        fig_data = []\n",
    "        i = 0\n",
    "        for eachCategory in categories:\n",
    "            last_layer = None\n",
    "            j = 0\n",
    "            for eachLayer in layers: \n",
    "                if last_layer == None:\n",
    "                    fig_data.append(go.Bar(\n",
    "                        name = str(eachLayer) + \" \" + str(eachCategory),\n",
    "                        x = ID_data.loc[(ID_data[plot_options[\"Group By Color\"]]==eachCategory)&(ID_data[plot_options[\"Group By Stack\"]]==eachLayer),plot_options[\"Group By X\"]],\n",
    "                        y = ID_data.loc[(ID_data[plot_options[\"Group By Color\"]]==eachCategory)&(ID_data[plot_options[\"Group By Stack\"]]==eachLayer),\"IDs\"],\n",
    "                        offsetgroup=i,\n",
    "                        text = [round(x) for x in ID_data.loc[(ID_data[plot_options[\"Group By Color\"]]==eachCategory)&(ID_data[plot_options[\"Group By Stack\"]]==eachLayer),\"IDs\"].tolist()],\n",
    "                        marker_color = plot_options[\"color\"][i],\n",
    "                        error_y = dict(\n",
    "                            type = \"data\",\n",
    "                            array = ID_data.loc[(ID_data[plot_options[\"Group By Color\"]]==eachCategory)&(ID_data[plot_options[\"Group By Stack\"]]==eachLayer),error_bars],\n",
    "                            visible=True)\n",
    "                    ))\n",
    "                    bases = ID_data.loc[(ID_data[plot_options[\"Group By Color\"]]==eachCategory)&(ID_data[plot_options[\"Group By Stack\"]]==eachLayer),\"IDs\"]\n",
    "                else:\n",
    "\n",
    "                    fig_data.append(go.Bar(\n",
    "                        name = str(eachLayer) + \" \" + str(eachCategory),\n",
    "                        x = ID_data.loc[(ID_data[plot_options[\"Group By Color\"]]==eachCategory)&(ID_data[plot_options[\"Group By Stack\"]]==eachLayer),plot_options[\"Group By X\"]],\n",
    "                        y = ID_data.loc[(ID_data[plot_options[\"Group By Color\"]]==eachCategory)&(ID_data[plot_options[\"Group By Stack\"]]==eachLayer),\"IDs\"],\n",
    "                        base=bases,\n",
    "                        offsetgroup=i,\n",
    "                        text = [round(x) for x in ID_data.loc[(ID_data[plot_options[\"Group By Color\"]]==eachCategory)&(ID_data[plot_options[\"Group By Stack\"]]==eachLayer),\"IDs\"].tolist()+bases],\n",
    "                        marker_color = plot_options[\"color\"][i],\n",
    "                        opacity=1/2**j,\n",
    "                        error_y = dict(\n",
    "                            type = \"data\",\n",
    "                            array = ID_data.loc[(ID_data[plot_options[\"Group By Color\"]]==eachCategory)&(ID_data[plot_options[\"Group By Stack\"]]==eachLayer),error_bars],\n",
    "                            visible=True)\n",
    "                        ))\n",
    "                    bases = bases + ID_data.loc[(ID_data[plot_options[\"Group By Color\"]]==eachCategory)&(ID_data[plot_options[\"Group By Stack\"]]==eachLayer),\"IDs\"].tolist()\n",
    "                last_layer=eachLayer\n",
    "                j = j + 1\n",
    "            i = i + 1\n",
    "\n",
    "        fig = go.Figure(\n",
    "            fig_data,\n",
    "            layout=go.Layout(\n",
    "                yaxis_title=plot_options[\"Y Title\"],\n",
    "                xaxis_title=plot_options[\"Group By X\"],\n",
    "                barmode=\"group\",\n",
    "                plot_bgcolor=\"rgba(255, 255, 255, 255)\",\n",
    "                paper_bgcolor=\"rgba(255, 255, 255, 255)\",\n",
    "                yaxis=dict(showline=True, linewidth=1, linecolor='black'),\n",
    "                xaxis=dict(showline=True, linewidth=1, linecolor='black')\n",
    "            )\n",
    "        )\n",
    "        fig.update_xaxes(categoryorder='array', categoryarray = plot_options[\"x_axis_order\"])\n",
    "    else:\n",
    "\n",
    "        # plot options\n",
    "        # error bar\n",
    "        if plot_options[\"error bar\"] == \"stdev\":\n",
    "            error_bars = \"stdev\"\n",
    "        elif plot_options[\"error bar\"] == \"ci95\":\n",
    "            error_bars = \"confInt\"\n",
    "        else:\n",
    "            error_bars = None\n",
    "\n",
    "        # mean label ID plot\n",
    "        if plot_options[\"mean label\"] == \"True\" or \\\n",
    "                plot_options[\"mean label\"] == True:\n",
    "            total_labels = [{\"x\": x, \"y\": total*1.05, \"text\": str(\n",
    "                int(total)), \"showarrow\": False, \"xanchor\": \"right\"} for x, total in zip(\n",
    "                    ID_data[\"Conditions\"], ID_data[\"IDs\"])]\n",
    "        else:\n",
    "            total_labels = []   # no mean labels\n",
    "\n",
    "        # create the plot\n",
    "        fig = px.bar(ID_data,\n",
    "                     x=\"Conditions\",\n",
    "                     y=\"IDs\",\n",
    "                     error_y=error_bars,\n",
    "                     color=\"Conditions\",\n",
    "                     color_discrete_sequence=plot_options[\"color\"],\n",
    "                     width=plot_options[\"width\"],\n",
    "                     height=plot_options[\"height\"],\n",
    "                     )\n",
    "        fig.update_layout(xaxis_title=plot_options[\"X Title\"],\n",
    "                          yaxis_title=plot_options[\"Y Title\"],\n",
    "                          annotations=total_labels,\n",
    "                          font=plot_options[\"font\"],\n",
    "                          plot_bgcolor =\"rgba(255, 255, 255, 255)\",\n",
    "                          paper_bgcolor=\"rgba(255, 255, 255, 255)\",\n",
    "                          yaxis=dict(showline=True, linewidth=1, linecolor='black'),\n",
    "                          xaxis=dict(showline=True, linewidth=1, linecolor='black')\n",
    "                          )\n",
    "        fig.update_xaxes(categoryorder='array', categoryarray = plot_options[\"x_axis_order\"])\n",
    "    return fig"
   ]
  },
  {
   "cell_type": "code",
   "execution_count": 21,
   "id": "28e9199e",
   "metadata": {},
   "outputs": [],
   "source": [
    "# CV Violin plots ###\n",
    "def CV_plots(data_object, plot_options, saved_settings, username=None):\n",
    "    \"\"\"_Prepare data for creating protein CV violin plots_\n",
    "    \"\"\"\n",
    "    group_names = [key for key in saved_settings.keys() if \"Order@\" not in str(key)]\n",
    "    \n",
    "    # import the data and save order\n",
    "    group_dict = {}\n",
    "\n",
    "    if plot_options[\"CV mode\"] == \"MS2\" or plot_options[\"CV mode\"] == \"total\" or plot_options[\"CV mode\"] == \"stacked\":\n",
    "        x_axis_order = saved_settings[\"Order@Conditions\"]\n",
    "    else:\n",
    "        x_axis_order = saved_settings[\"Order@\"+plot_options[\"Group By X\"]]\n",
    "    plot_options[\"x_axis_order\"] = x_axis_order\n",
    "    if plot_options[\"CV mode\"] == \"grouped\" or plot_options[\"CV mode\"] == \"grouped_stacked\" and plot_options[\"Group By Color\"] != \"ID_Mode\":\n",
    "        color_order = saved_settings[\"Order@\"+plot_options[\"Group By Color\"]]\n",
    "        plot_options[\"color_order\"] = color_order\n",
    "    # filter runs into different groups\n",
    "    i = 1\n",
    "    runname_list = []  # contain list of run names list for each groups\n",
    "    for eachGroup in group_names:\n",
    "        runname_sublist = saved_settings[eachGroup][\"records\"]\n",
    "\n",
    "        group_dict[eachGroup] = filter_by_name(\n",
    "            data_object,\n",
    "            list(runname_sublist))  # prevent the list from being changed\n",
    "        runname_list.append(runname_sublist)\n",
    "        i += 1\n",
    "\n",
    "    if plot_options[\"plot_type\"] == 1:\n",
    "        matrix_name = \"protein_abundance\"\n",
    "    elif plot_options[\"plot_type\"] == 2:\n",
    "        matrix_name = \"peptide_abundance\" \n",
    "\n",
    "    # create a dictionary to store the intensity data\n",
    "    Intensity_dict = {}\n",
    "    if plot_options[\"Group By X\"] == \"ID_Mode\"or plot_options[\"Group By Color\"] == \"ID_Mode\" \\\n",
    "        or plot_options[\"Group By Stack\"] == \"ID_Mode\"and not (plot_options[\"CV mode\"] == \"total\" or plot_options[\"CV mode\"] == \"MS2\"):  # total separated\n",
    "        Intensity_dict_MS2 = {}\n",
    "        for eachGroup in group_names:\n",
    "            current_condition_data = filter_by_missing_values(\n",
    "                group_dict[eachGroup])\n",
    "            Intensity_dict[eachGroup] = NormalizeToMedian(\n",
    "                current_condition_data[matrix_name])\n",
    "            current_condition_data_MS2 = filter_by_missing_values_MS2( #returns\n",
    "                group_dict[eachGroup])\n",
    "            Intensity_dict_MS2[eachGroup] = NormalizeToMedian(\n",
    "                current_condition_data_MS2[matrix_name])\n",
    "    elif plot_options[\"CV mode\"] == \"MS2\":\n",
    "        Intensity_dict_MS2 = {}\n",
    "        for eachGroup in group_names:\n",
    "            current_condition_data_MS2 = filter_by_missing_values_MS2(\n",
    "                group_dict[eachGroup])\n",
    "            Intensity_dict[eachGroup] = NormalizeToMedian(\n",
    "                current_condition_data_MS2[matrix_name])\n",
    "    else:\n",
    "        for eachGroup in group_names:\n",
    "            current_condition_data = filter_by_missing_values(\n",
    "                group_dict[eachGroup])\n",
    "            Intensity_dict[eachGroup] = NormalizeToMedian(\n",
    "                current_condition_data[matrix_name])\n",
    "\n",
    "    all_cvs = pd.DataFrame()\n",
    "\n",
    "    for eachGroup in Intensity_dict:\n",
    "        current = calculate_cvs(\n",
    "            Intensity_dict[eachGroup]).assign(Conditions=eachGroup,ID_Mode=\"All IDs\")\n",
    "        all_cvs = pd.concat([all_cvs, current], ignore_index=True)\n",
    "    if plot_options[\"Group By X\"] == \"ID_Mode\"or plot_options[\"Group By Color\"] == \"ID_Mode\"or plot_options[\"Group By Stack\"] == \"ID_Mode\"and not plot_options[\"CV mode\"] == \"total\":  # total separated  # total separated\n",
    "        print(\"MS2 CVs...\")\n",
    "        for eachGroup in Intensity_dict_MS2:\n",
    "            current = calculate_cvs(\n",
    "                Intensity_dict_MS2[eachGroup]).assign(Conditions=eachGroup,ID_Mode=\"MS2 IDs\")\n",
    "            all_cvs = pd.concat([all_cvs, current], ignore_index=True)\n",
    "\n",
    "    #add columns for the categories specified in settings file (the one with all the filenames)\n",
    "    standard_groups = [\"filter_in\",\"filter_out\",\"records\"]\n",
    "    categories = [col for col in list(saved_settings[list(group_names)[0]].keys()) if col not in standard_groups]\n",
    "    for eachCategory in categories:\n",
    "        all_cvs[eachCategory] = \"\"\n",
    "        for eachGroup in group_names:\n",
    "            all_cvs.loc[all_cvs[\"Conditions\"]==eachGroup,eachCategory] = saved_settings[eachGroup][eachCategory]\n",
    "\n",
    "\n",
    "    # ######################all_CVs format###################\n",
    "#      Accession     intensity          stdev          CV   Conditions\n",
    "# 0       A6NHR9  3.248547e+06  672989.819300   20.716643    DDMandDTT\n",
    "# 1       A8MTJ3  5.031539e+05  195535.383583   38.861944    DDMandDTT\n",
    "# 2       E9PAV3  5.330290e+05  161385.491163   30.277056    DDMandDT\n",
    "    #######################################################\n",
    "\n",
    "    return plot_CV_violin(allCVs=all_cvs,\n",
    "                          username=username,\n",
    "                          plot_options=plot_options)\n",
    "\n",
    "\n",
    "def plot_CV_violin(allCVs,\n",
    "                   username=None,\n",
    "                   plot_options=None,\n",
    "                   ):\n",
    "    \"\"\"_Plot the CV violin plot for the given data._\n",
    "\n",
    "    Args:\n",
    "        allCVs (_type_): _description_\n",
    "        username (_type_, optional): _description_. Defaults to None.\n",
    "        plot_options (_type_, optional): _description_. Defaults to None.\n",
    "\n",
    "    Returns:\n",
    "        _type_: _description_\n",
    "    \"\"\"\n",
    "    plot_div = None\n",
    "    CSV_link = None\n",
    "    SVG_link = None\n",
    "\n",
    "    group_names = [key for key in saved_settings.keys() if \"Order@\" not in str(key)]\n",
    "\n",
    "    allCVs_summary = allCVs.groupby([\"Conditions\"]).agg(\n",
    "        {'CV': ['median', 'mean']}).reset_index()\n",
    "    allCVs_summary[\"ID_Mode\"] = \"All IDs\"\n",
    "    temp = allCVs[allCVs[\"ID_Mode\"]==\"MS2 IDs\"].groupby([\"Conditions\"]).agg(\n",
    "        {'CV': ['median', 'mean']}).reset_index()\n",
    "    temp[\"ID_Mode\"] = \"MS2 IDs\"\n",
    "    allCVs_summary = pd.concat([temp,allCVs_summary])\n",
    "    allCVs_summary.columns = [\"Conditions\", 'meds', 'CoVar',\"ID_Mode\"]\n",
    "\n",
    "    \n",
    "    standard_groups = [\"filter_in\",\"filter_out\",\"records\"]\n",
    "    categories = [col for col in list(saved_settings[group_names[0]].keys()) if col not in standard_groups]\n",
    "    for eachCategory in categories:\n",
    "        allCVs_summary[eachCategory] = \"\"\n",
    "        for eachGroup in group_names:\n",
    "            allCVs_summary.loc[allCVs_summary[\"Conditions\"]==eachGroup,eachCategory] = saved_settings[eachGroup][eachCategory]\n",
    "\n",
    "\n",
    "    if plot_options[\"CV mode\"] == \"grouped\":  \n",
    "        #find out present categories\n",
    "        categories = plot_options[\"color_order\"] \n",
    "        # create the plot\n",
    "        fig_data = []\n",
    "        #display(ID_data)\n",
    "        i = 0\n",
    "        for eachCategory in categories:\n",
    "            fig_data.append(go.Violin(name = str(eachCategory),\n",
    "                        x=allCVs.loc[allCVs[plot_options[\"Group By Color\"]]==eachCategory,\n",
    "                        plot_options[\"Group By X\"]].tolist(),\n",
    "                        y=allCVs.loc[allCVs[plot_options[\"Group By Color\"]]==eachCategory,\"CV\"].tolist(),\n",
    "                        fillcolor = plot_options[\"color\"][i],                 \n",
    "                        box=dict(visible=bool(plot_options[\"box\"]))\n",
    "                        ))\n",
    "            i = i + 1\n",
    "        \n",
    "                        \n",
    "        fig = go.Figure(data = fig_data)\n",
    "        \n",
    "        fig.update_layout(violinmode='group')\n",
    "        fig.update_xaxes(categoryorder='array', categoryarray = plot_options[\"x_axis_order\"])\n",
    "    elif plot_options[\"CV mode\"] == \"stacked\":  \n",
    "            \n",
    "        #find out present categories\n",
    "        layers = allCVs.groupby(plot_options[\"Group By Stack\"]).first().reset_index()[plot_options[\"Group By Stack\"]].tolist()\n",
    "        # create the plot\n",
    "        fig_data = []\n",
    "        #display(ID_data)\n",
    "        i = 0\n",
    "\n",
    "        for eachLayer in layers:\n",
    "            fig_data.append(go.Violin(name = eachLayer,\n",
    "                        x=allCVs.loc[allCVs[plot_options[\"Group By Stack\"]]==eachLayer,plot_options[\"Group By X\"]].tolist(),\n",
    "                        y=allCVs.loc[allCVs[plot_options[\"Group By Stack\"]]==eachLayer,\"CV\"].tolist(),\n",
    "                        box=dict(visible=bool(plot_options[\"box\"])),\n",
    "                        fillcolor = plot_options[\"color\"][i]\n",
    "                        ))\n",
    "            i = i + 1\n",
    "        fig = go.Figure(data = fig_data)\n",
    "        \n",
    "        fig.update_layout(violinmode='overlay',\n",
    "                          plot_bgcolor='white',\n",
    "                          paper_bgcolor='white',\n",
    "                          yaxis=dict(showline=True, linewidth=1, linecolor='black'),\n",
    "                          xaxis=dict(showline=True, linewidth=1, linecolor='black')\n",
    "        )  \n",
    "        fig.update_xaxes(categoryorder='array', categoryarray = plot_options[\"x_axis_order\"])\n",
    "\n",
    "    elif plot_options[\"CV mode\"] == \"grouped_stacked\":\n",
    "        #make data tidy\n",
    "        layers = allCVs.groupby(plot_options[\"Group By Stack\"]).first().reset_index()[plot_options[\"Group By Stack\"]].tolist()\n",
    "        categories = plot_options[\"color_order\"] \n",
    "        fig_data = []\n",
    "        i = 0\n",
    "        j = 0\n",
    "        for eachCategory in categories:\n",
    "            for eachLayer in layers:\n",
    "                fig_data.append(go.Violin(\n",
    "                    name = str(eachLayer) + \" \" + str(eachCategory),\n",
    "                    x = allCVs.loc[(allCVs[plot_options[\"Group By Color\"]]==eachCategory)&(allCVs[plot_options[\"Group By Stack\"]]==eachLayer),plot_options[\"Group By X\"]],\n",
    "                    y = allCVs.loc[(allCVs[plot_options[\"Group By Color\"]]==eachCategory)&(allCVs[plot_options[\"Group By Stack\"]]==eachLayer),\"CV\"],\n",
    "                    box=dict(visible=bool(plot_options[\"box\"])),\n",
    "                    offsetgroup=i,\n",
    "                    fillcolor = plot_options[\"color\"][j]\n",
    "                    ))\n",
    "                j = j + 1\n",
    "            i = i + 1\n",
    "\n",
    "        fig = go.Figure(\n",
    "            fig_data,\n",
    "            layout=go.Layout(\n",
    "                yaxis_title=plot_options[\"Y Title\"],\n",
    "                xaxis_title=plot_options[\"Group By X\"],\n",
    "                violinmode=\"group\",\n",
    "                plot_bgcolor='white',\n",
    "                paper_bgcolor='white',\n",
    "                yaxis=dict(showline=True, linewidth=1, linecolor='black'),\n",
    "                xaxis=dict(showline=True, linewidth=1, linecolor='black')\n",
    "            )\n",
    "        )\n",
    "        fig.update_xaxes(categoryorder='array', categoryarray = plot_options[\"x_axis_order\"])\n",
    "    else:\n",
    "    # create the interactive plot\n",
    "        # median label\n",
    "        if plot_options[\"median label\"] == \"True\" or \\\n",
    "                plot_options[\"median label\"] == True:\n",
    "            total_labels = [{\"x\": x, \"y\": total*1.15, \"text\": str(\n",
    "                round(total,1)), \"showarrow\": False} for x, total in zip(\n",
    "                allCVs_summary[\"Conditions\"], allCVs_summary[\"meds\"])]\n",
    "        else:\n",
    "            total_labels = []   # no median labels\n",
    "        fig = px.violin(allCVs,\n",
    "                        x=\"Conditions\",\n",
    "                        y='CV',\n",
    "                        color=\"Conditions\",\n",
    "                        box=bool(plot_options[\"box\"]),\n",
    "                        hover_data=[\"Conditions\", 'CV'],\n",
    "                        color_discrete_sequence=plot_options[\"color\"],\n",
    "                        width=plot_options[\"width\"],\n",
    "                        height=plot_options[\"height\"],\n",
    "                        )\n",
    "\n",
    "        fig.update_layout(\n",
    "            yaxis=dict(title=plot_options[\"Y Title\"],\n",
    "                    range=plot_options[\"ylimits\"], showline=True, linewidth=1, linecolor='black'),\n",
    "            font=plot_options[\"font\"],\n",
    "            xaxis=dict(title=plot_options[\"X Title\"], showline=True, linewidth=1, linecolor='black'),\n",
    "            showlegend=True,\n",
    "            annotations=total_labels,\n",
    "            plot_bgcolor='white',\n",
    "            paper_bgcolor='white',\n",
    "            )\n",
    "        fig.update_xaxes(categoryorder='array', categoryarray = plot_options[\"x_axis_order\"])\n",
    "\n",
    "    if WRITE_OUTPUT:        \n",
    "        # create the file for donwnload\n",
    "        img_dir = os.path.join(APPFOLDER, \"images/\")\n",
    "        if not os.path.exists(img_dir):\n",
    "            Path(img_dir).mkdir(parents=True)\n",
    "\n",
    "        fig.write_image(os.path.join(\n",
    "            img_dir, f\"{username}_CV_Violin_Plot.svg\"), format = \"svg\", validate = False, engine = \"kaleido\")\n",
    "        \n",
    "        # create the download CSV and its link\n",
    "       \n",
    "        data_dir = os.path.join(APPFOLDER, \"csv/\")\n",
    "        if not os.path.exists(data_dir):\n",
    "            Path(data_dir).mkdir(parents=True)\n",
    "        allCVs.to_csv(os.path.join(\n",
    "            data_dir, f\"{username}_all_CV.csv\"), index=False)\n",
    "        allCVs_summary.to_csv(os.path.join(\n",
    "            data_dir, f\"{username}_CV_summary.csv\"), index=False)\n",
    "        print(\"Downloading links...\")\n",
    "        CSV_link = f\"/files/{url_base}/csv/\" \\\n",
    "            f\"{username}_all_CV.csv\"\n",
    "\n",
    "        # download SVG link\n",
    "        SVG_link = f\"/files/{url_base}/images/\" \\\n",
    "            f\"{username}_CV_Violin_Plot.svg\"\n",
    "    \n",
    "    return fig, CSV_link, SVG_link\n",
    "\n",
    "\n"
   ]
  },
  {
   "cell_type": "code",
   "execution_count": 22,
   "id": "b85d8a50",
   "metadata": {},
   "outputs": [],
   "source": [
    "def venns_plots(data_object, plot_options, saved_settings, username=None):\n",
    "    \"\"\"_Prepare data for creating ID veens plots (up to three groups)_\n",
    "    \"\"\"\n",
    "    group_names = []\n",
    "\n",
    "    # no compare groups is provided, compare first two\n",
    "    \n",
    "    for each_key in plot_options[\"compare groups\"]:\n",
    "        if each_key in plot_options[\"compare groups\"] and saved_settings[\"Order@Conditions\"]:\n",
    "            group_names.append(each_key)\n",
    "    # import the data\n",
    "    group_dict = {}\n",
    "\n",
    "    # filter runs into different groups\n",
    "    i = 0\n",
    "    runname_list = []  # contain list of run names list for each groups\n",
    "    for eachGroup in group_names:\n",
    "        runname_sublist = saved_settings[eachGroup][\"records\"]\n",
    "        group_dict[eachGroup] = filter_by_name(\n",
    "            data_object,\n",
    "            list(runname_sublist))  # prevent the list from being changed\n",
    "        runname_list.append(runname_sublist)\n",
    "        i += 1\n",
    "    data_set = []\n",
    "    labels_set = []\n",
    "    if plot_options[\"plot_type\"] == 1:\n",
    "        matrix_name = \"protein_abundance\"\n",
    "        molecule_name = \"Accession\"\n",
    "        is_protein = True\n",
    "    elif plot_options[\"plot_type\"] == 2:\n",
    "        matrix_name = \"peptide_abundance\"\n",
    "        molecule_name = \"Annotated Sequence\"\n",
    "        is_protein = False\n",
    "    \n",
    "    for eachGroup in group_names:\n",
    "        \n",
    "        current_condition_data = filter_by_missing_values(\n",
    "            group_dict[eachGroup], is_protein=is_protein)\n",
    "\n",
    "        data_set.append(\n",
    "            set(current_condition_data[matrix_name][molecule_name].unique()))\n",
    "        labels_set.append(eachGroup)\n",
    "\n",
    "    #print(data_set)\n",
    "\n",
    "    fig = venn_to_plotly(\n",
    "        data_set,\n",
    "        labels_set,\n",
    "        plot_options=plot_options,\n",
    "        username=username)\n",
    "    CSV_link = None\n",
    "    SVG_link = None\n",
    "\n",
    "    if WRITE_OUTPUT:\n",
    "        print(\"Downloading links...\")\n",
    "        # SVG file link\n",
    "        SVG_link = f\"/files/{url_base}/images/\" \\\n",
    "            f\"{username}_ID_venns_Plot.svg\"\n",
    "\n",
    "        # create the file for donwnload\n",
    "        img_dir = os.path.join(APPFOLDER, \"images/\")\n",
    "        if not os.path.exists(img_dir):\n",
    "            Path(img_dir).mkdir(parents=True)\n",
    "\n",
    "        fig.write_image(os.path.join(\n",
    "            img_dir, f\"{username}_ID_venns_Plot.svg\"), format = \"svg\", validate = False, engine = \"kaleido\")\n",
    "        \n",
    "        data_dir = os.path.join(APPFOLDER, \"csv/\")\n",
    "        if not os.path.exists(data_dir):\n",
    "            Path(data_dir).mkdir(parents=True)\n",
    "        i = 0\n",
    "        for eachSet in data_set:\n",
    "            pd.DataFrame({\"Accession\": list(eachSet)}).to_csv(os.path.join(\n",
    "                data_dir, f\"{username}_{labels_set[i]}_Venn.csv\"), index=False)\n",
    "            i = i + 1\n",
    "    \n",
    "    return fig, SVG_link, CSV_link\n",
    "\n",
    "def venn_to_plotly(L_sets,\n",
    "                   L_labels=None,\n",
    "                   plot_options=None,\n",
    "                   username=None):\n",
    "    \"\"\"_Creates a venn diagramm from a list of\n",
    "    sets and returns a plotly figure_\n",
    "    \"\"\"\n",
    "    \n",
    "    # get number of sets\n",
    "    n_sets = len(L_sets)\n",
    "\n",
    "    # choose and create matplotlib venn diagramm\n",
    "    if n_sets == 2:\n",
    "        if L_labels and len(L_labels) == n_sets:\n",
    "            v = venn2(L_sets, L_labels)\n",
    "        else:\n",
    "            v = venn2(L_sets)\n",
    "    elif n_sets == 3:\n",
    "        if L_labels and len(L_labels) == n_sets:\n",
    "            v = venn3(L_sets, L_labels)\n",
    "        else:\n",
    "            v = venn3(L_sets)\n",
    "    # supress output of venn diagramm\n",
    "    # plt.show()\n",
    "    plt.close()\n",
    "\n",
    "    # Create empty lists to hold shapes and annotations\n",
    "    L_shapes = []\n",
    "    L_annotation = []\n",
    "\n",
    "    # Define color list for sets\n",
    "    L_color = plot_options[\"color\"]\n",
    "\n",
    "    # Create empty list to make hold of min and max values of set shapes\n",
    "    L_x_max = []\n",
    "    L_y_max = []\n",
    "    L_x_min = []\n",
    "    L_y_min = []\n",
    "\n",
    "    for i in range(0, n_sets):\n",
    "\n",
    "        # create circle shape for current set\n",
    "\n",
    "        shape = go.layout.Shape(\n",
    "            type=\"circle\",\n",
    "            xref=\"x\",\n",
    "            yref=\"y\",\n",
    "            x0=v.centers[i][0] - v.radii[i],\n",
    "            y0=v.centers[i][1] - v.radii[i],\n",
    "            x1=v.centers[i][0] + v.radii[i],\n",
    "            y1=v.centers[i][1] + v.radii[i],\n",
    "            fillcolor=L_color[i],\n",
    "            line_color=L_color[i],\n",
    "            opacity=plot_options[\"opacity\"]\n",
    "        )\n",
    "\n",
    "        L_shapes.append(shape)\n",
    "\n",
    "        # create set label for current set\n",
    "        try:\n",
    "            anno_set_label = go.layout.Annotation(\n",
    "                xref=\"x\",\n",
    "                yref=\"y\",\n",
    "                x=v.set_labels[i].get_position()[0],\n",
    "                y=v.set_labels[i].get_position()[1],\n",
    "                text=v.set_labels[i].get_text(),\n",
    "                showarrow=False\n",
    "            )\n",
    "\n",
    "            L_annotation.append(anno_set_label)\n",
    "\n",
    "            # get min and max values of current set shape\n",
    "            L_x_max.append(v.centers[i][0] + v.radii[i])\n",
    "            L_x_min.append(v.centers[i][0] - v.radii[i])\n",
    "            L_y_max.append(v.centers[i][1] + v.radii[i])\n",
    "            L_y_min.append(v.centers[i][1] - v.radii[i])\n",
    "        except Exception as err:\n",
    "            print(f\"No set labels found {err}\")\n",
    "\n",
    "    # determine number of subsets\n",
    "    n_subsets = sum([scipy.special.binom(n_sets, i+1)\n",
    "                     for i in range(0, n_sets)])\n",
    "\n",
    "    for i in range(0, int(n_subsets)):\n",
    "        try:\n",
    "\n",
    "            # create subset label (number of common elements for current subset\n",
    "\n",
    "            anno_subset_label = go.layout.Annotation(\n",
    "                xref=\"x\",\n",
    "                yref=\"y\",\n",
    "                x=v.subset_labels[i].get_position()[0],\n",
    "                y=v.subset_labels[i].get_position()[1],\n",
    "                text=v.subset_labels[i].get_text(),\n",
    "                showarrow=False\n",
    "            )\n",
    "\n",
    "            L_annotation.append(anno_subset_label)\n",
    "        except Exception as err:\n",
    "            print(f\"No set labels found {err}\")\n",
    "    # define off_set for the figure range\n",
    "    off_set = 0.2\n",
    "\n",
    "    # get min and max for x and y dimension to set the figure range\n",
    "    x_max = max(L_x_max) + off_set\n",
    "    x_min = min(L_x_min) - off_set\n",
    "    y_max = max(L_y_max) + off_set\n",
    "    y_min = min(L_y_min) - off_set\n",
    "\n",
    "    # create plotly figure\n",
    "\n",
    "    fig = go.Figure()\n",
    "\n",
    "    # set xaxes range and hide ticks and ticklabels\n",
    "    fig.update_xaxes(\n",
    "        range=[x_min, x_max],\n",
    "        showticklabels=False,\n",
    "        ticklen=0\n",
    "    )\n",
    "\n",
    "    # set yaxes range and hide ticks and ticklabels\n",
    "    fig.update_yaxes(\n",
    "        range=[y_min, y_max],\n",
    "        scaleanchor=\"x\",\n",
    "        scaleratio=1,\n",
    "        showticklabels=False,\n",
    "        ticklen=0\n",
    "    )\n",
    "\n",
    "    # set figure properties and add shapes and annotations\n",
    "    fig.update_layout(\n",
    "        plot_bgcolor='white',\n",
    "        margin=dict(b=0, l=10, pad=0, r=10, t=40),\n",
    "        width=800,\n",
    "        height=400,\n",
    "        shapes=L_shapes,\n",
    "        annotations=L_annotation,\n",
    "        title=dict(text=plot_options[\"title\"], x=0.5, xanchor='center')\n",
    "    )\n",
    "    \n",
    "\n",
    "    return fig\n"
   ]
  },
  {
   "cell_type": "code",
   "execution_count": 23,
   "id": "2b68cce5",
   "metadata": {},
   "outputs": [],
   "source": [
    "# ###Volcano plots####\n",
    "def volcano_plots(data_object,  plot_options, saved_settings, username=None):\n",
    "    \"\"\"_Prepare data for creating intensity volcano plots (two groups)_\n",
    "    \"\"\"\n",
    "    group_names = []\n",
    "\n",
    "    # no compare groups is provided, compare first two\n",
    "    for each_key in plot_options[\"compare groups\"]:\n",
    "        if each_key in plot_options[\"compare groups\"] and saved_settings[\"Order@Conditions\"]:\n",
    "            group_names.append(each_key)\n",
    "\n",
    "    # import the data\n",
    "    group_dict = {}\n",
    "\n",
    "    # filter runs into different groups\n",
    "    i = 0\n",
    "    runname_list = []  # contain list of run names list for each groups\n",
    "    for eachGroup in group_names:\n",
    "        runname_sublist = saved_settings[eachGroup][\"records\"]\n",
    "\n",
    "        group_dict[eachGroup] = filter_by_name(\n",
    "            data_object,\n",
    "            list(runname_sublist))  # prevent the list from being changed\n",
    "        runname_list.append(runname_sublist)\n",
    "        i += 1\n",
    "    # create a dictionary to store the intensity data\n",
    "    Intensity_dict = {}\n",
    "\n",
    "    for eachGroup in group_names:\n",
    "        current_condition_data = filter_by_missing_values(\n",
    "            group_dict[eachGroup])\n",
    "        Intensity_dict[eachGroup] = NormalizeToMedian(\n",
    "            current_condition_data[\"protein_abundance\"],apply_log2=True)\n",
    "        \n",
    "        \n",
    "    group1 = group_names[0]\n",
    "    group2 = group_names[1]\n",
    "    # calculate mean, standard deviation, and the number of non-null\n",
    "    # elements for each row/protein\n",
    "    group1Data = (Intensity_dict[group1]\n",
    "                  .assign(group1_Intensity=Intensity_dict[group1].drop(\n",
    "        columns=['Accession']).mean(axis=1),\n",
    "        group1_stdev=Intensity_dict[group1].drop(\n",
    "                      columns=['Accession']).std(axis=1),\n",
    "        group1_num=Intensity_dict[group1].drop(\n",
    "                      columns=['Accession']).shape[1] - Intensity_dict[\n",
    "                      group1].isna().sum(axis=1))\n",
    "                  .loc[:, ['group1_Intensity',\n",
    "                           'group1_stdev',\n",
    "                           'group1_num',\n",
    "                           'Accession']])\n",
    "    \"\"\" group1Data\n",
    "            group1_Intensity  group1_stdev  group1_num   Accession\n",
    "    0        2.824766e+05  1.708060e+05          15  A0A0B4J2D5\n",
    "    1        2.650998e+06  6.259645e+05          15      A2RUR9\n",
    "    2        1.973150e+05  5.645698e+04          15      A8MTJ3\n",
    "    3        2.524020e+05  1.355699e+05          15      A8MWD9\n",
    "    \"\"\"\n",
    "    group1Prots = group1Data.loc[:, ['Accession']]\n",
    "\n",
    "    group2Data = (Intensity_dict[group2]\n",
    "                  .assign(group2_Intensity=Intensity_dict[group2].drop(\n",
    "        columns=['Accession']).mean(axis=1),\n",
    "        group2_stdev=Intensity_dict[group2].drop(\n",
    "                      columns=['Accession']).std(axis=1),\n",
    "        group2_num=Intensity_dict[group2].drop(\n",
    "                      columns=['Accession']).shape[1]\n",
    "        - Intensity_dict[group2].isna().sum(axis=1))\n",
    "        .loc[:, ['group2_Intensity',\n",
    "                 'group2_stdev',\n",
    "                 'group2_num',\n",
    "                 'Accession']])\n",
    "    # find common proteins\n",
    "    commonProts = (group2Data.loc[:, ['Accession']]\n",
    "                   .merge(group1Prots, on='Accession', how='inner'))\n",
    "    # only leave common proteins\n",
    "    group2Data = (group2Data\n",
    "                  .merge(commonProts, on='Accession', how='inner'))\n",
    "    group1Data = (group1Data\n",
    "                  .merge(commonProts, on='Accession', how='inner'))\n",
    "\n",
    "    group2Median = group2Data['group2_Intensity'].median(\n",
    "        )\n",
    "    group1Median = group1Data['group1_Intensity'].median(\n",
    "        )\n",
    "    #this is the median for each protein across both groups, you could do a ratio, but this puts it in terms of\n",
    "    allmedian = pd.DataFrame({\"col2\":group2Data['group2_Intensity'],\"col1\":group1Data['group1_Intensity']}).median(axis=1,numeric_only=True)\n",
    "    \n",
    "    if (Intensity_dict[group1].shape[1] > 3 and\n",
    "        Intensity_dict[group2].shape[1] > 3 and\n",
    "            group2 != group1):\n",
    "        # calculate the ratio between two group median,\n",
    "        # will be used to normalize them\n",
    "        ratio1 = allmedian / group1Median\n",
    "        ratio2 = allmedian / group2Median\n",
    "\n",
    "        # merge these two set of data together, adjust groups with ratio to \n",
    "        # median of all. Calculate pOriginal, p, significant\n",
    "        # pOriginal is a numpy array or list of p-values\n",
    "        # method is the method to be used for adjusting the p-values\n",
    "        volcanoData = (group2Data\n",
    "                       .merge(group1Data, on='Accession', how='inner'))\n",
    "\n",
    "        volcanoData = (volcanoData\n",
    "                       .assign(group1_Intensity=lambda x: volcanoData[\n",
    "                           'group1_Intensity'] * ratio1))\n",
    "        volcanoData = (volcanoData\n",
    "                       .assign(group2_Intensity=lambda x: volcanoData[\n",
    "                           'group2_Intensity'] * ratio2))\n",
    "\n",
    "        volcanoData = (volcanoData\n",
    "                       .assign(\n",
    "                           pOriginal=t_test_from_summary_stats(\n",
    "                               m1=volcanoData['group2_Intensity'],\n",
    "                               m2=volcanoData['group1_Intensity'],\n",
    "                               s1=volcanoData['group2_stdev'],\n",
    "                               s2=volcanoData['group1_stdev'],\n",
    "                               n1=volcanoData['group2_num'],\n",
    "                               n2=volcanoData['group1_num'])))\n",
    "        # filter out rows in volcanoData that have pOriginal == nan\n",
    "        # if pOriginal is nan, then the p value will be nan\n",
    "        volcanoData = volcanoData[volcanoData['pOriginal'].notna()]\n",
    "        volcanoData = (volcanoData\n",
    "                       .assign(benjamini=multipletests(volcanoData[\n",
    "                           \"pOriginal\"], method='fdr_bh')[1]))\n",
    "\n",
    "        volcanoData = (volcanoData\n",
    "                       .assign(significant=(abs(volcanoData[\n",
    "                           'group2_Intensity'] - volcanoData[\n",
    "                           'group1_Intensity']) > 1)\n",
    "                           & (volcanoData['benjamini'] < 0.10))) ####TEST#### 0.05\n",
    "        # add upRegulated, downRegulated, and notRegulated columns\n",
    "        volcanoData = volcanoData.assign(upRegulated=lambda x: (\n",
    "            volcanoData[\"group2_Intensity\"] - volcanoData[\n",
    "                \"group1_Intensity\"] > 1) & (volcanoData['significant']))\n",
    "\n",
    "        volcanoData = volcanoData.assign(downRegulated=lambda x: (\n",
    "            volcanoData[\"group2_Intensity\"]-volcanoData[\n",
    "                \"group1_Intensity\"] < -1) & (volcanoData['significant']))\n",
    "        volcanoData = volcanoData.assign(notRegulated=lambda x: (abs(\n",
    "           volcanoData[\"group2_Intensity\"]-volcanoData[\n",
    "                \"group1_Intensity\"]) <= 1) & (~volcanoData['significant']))\n",
    "        fig = plot_volcano_colored(\n",
    "            volcanoData,\n",
    "            label=f\"({group2}/{group1})\",\n",
    "            plot_options=plot_options,\n",
    "            username=username,\n",
    "        )\n",
    "        CSV_link = None\n",
    "        SVG_link = None\n",
    "        if WRITE_OUTPUT:\n",
    "            # create the file for donwnload\n",
    "            img_dir = os.path.join(APPFOLDER, \"images/\")\n",
    "            if not os.path.exists(img_dir):\n",
    "                Path(img_dir).mkdir(parents=True)\n",
    "\n",
    "            fig.write_image(os.path.join(\n",
    "                img_dir, f\"{username}_abundance_volcano_Plot.svg\"), format = \"svg\", validate = False, engine = \"kaleido\")\n",
    "            \n",
    "            # create the download CSV and its link\n",
    "            \n",
    "            ####TEST####\n",
    "            # dynamic titles for volcano csv\n",
    "\n",
    "            # column_rename_map = {'group2_Intensity':f'{saved_settings['Order@Conditions'][1]}_Intensity',\n",
    "            #                  'group2_stdev':f'{saved_settings['Order@Conditions'][1]}_stdev',\n",
    "            #                  'group2_num':f'{saved_settings['Order@Conditions'][1]}_num',\n",
    "            #                  'group1_Intensity':f'{saved_settings['Order@Conditions'][0]}_Intensity',\n",
    "            #                  'group1_stdev':f'{saved_settings['Order@Conditions'][0]}_stdev',\n",
    "            #                  'group1_num':f'{saved_settings['Order@Conditions'][0]}_num',\n",
    "            #                  }\n",
    "\n",
    "            # volcanoData.rename(columns=column_rename_map, inplace=True)\n",
    "            \n",
    "            ####TEST####\n",
    "\n",
    "            data_dir = os.path.join(APPFOLDER, \"csv/\")\n",
    "            if not os.path.exists(data_dir):\n",
    "                Path(data_dir).mkdir(parents=True)\n",
    "            volcanoData.to_csv(os.path.join(\n",
    "                data_dir, f\"{username}_up_down_regulated_volcano.csv\"),\n",
    "                index=False)\n",
    "            print(\"Downloading links...\")\n",
    "            CSV_link = f\"/files/{url_base}/csv/\" \\\n",
    "                f\"{username}_up_down_regulated_volcano.csv\"\n",
    "\n",
    "            # download SVG link\n",
    "            SVG_link = f\"/files/{url_base}/images/\" \\\n",
    "                f\"{username}_abundance_volcano_Plot.svg\"\n",
    "        \n",
    "        return fig, CSV_link, SVG_link\n",
    "\n",
    "\n",
    "def plot_volcano_colored(allData,\n",
    "                         label,\n",
    "                         plot_options=None,\n",
    "                         username=None,):\n",
    "    \n",
    "    total_labels = []\n",
    "    left = \"group1_Intensity\"\n",
    "    right = \"group2_Intensity\"\n",
    "    downData = allData[allData['downRegulated'] == True]\n",
    "    upData = allData[allData['upRegulated'] == True]\n",
    "\n",
    "    fig = px.scatter(\n",
    "        width=plot_options[\"width\"],\n",
    "        height=plot_options[\"height\"],)\n",
    "    \n",
    "   #### TEST ####\n",
    "    # if allData.shape[0] != 0:\n",
    "    #     fig.add_scatter(x=allData[right]-allData[left],\n",
    "    #                     y=-np.log10(allData[\"benjamini\"]),\n",
    "    #                     text=allData[\"Accession\"],\n",
    "    #                     mode=\"markers + text\", marker=dict(\n",
    "    #                         color=plot_options[\"all color\"]),\n",
    "    #                     textposition=\"top center\",\n",
    "    #                     textfont=dict(size=10))\n",
    "    # if downData.shape[0] != 0:\n",
    "    #     fig.add_scatter(x=downData[right]-downData[left],\n",
    "    #                     y=-np.log10(downData[\"benjamini\"]),\n",
    "    #                     text=downData[\"Accession\"],\n",
    "    #                     mode=\"markers\", #\n",
    "    #                     marker=dict(color=plot_options[\"down color\"]))\n",
    "    # if upData.shape[0] != 0:\n",
    "    #     fig.add_scatter(x=upData[right]-upData[left],\n",
    "    #                     y=-np.log10(upData[\"benjamini\"]),\n",
    "    #                     text=upData[\"Accession\"],\n",
    "    #                     mode=\"markers\", #\n",
    "    #                     marker=dict(color=plot_options[\"up color\"]))\n",
    "    #     fig.update_traces(\n",
    "    #         mode=\"markers\",\n",
    "    #         textposition=\"top center\",\n",
    "    #         textfont=dict(size=10),\n",
    "    #         hovertemplate=\"%{text}<br>x=: %{x}\"\n",
    "    #         \" <br>y=: %{y}\")\n",
    "    #### TEST ####\n",
    "    # Filter allData based on x-coordinate condition\n",
    "    allData_filtered = allData[(allData[right]-allData[left] <= -1) | (allData[right]-allData[left] >= 1)]\n",
    "\n",
    "    if allData_filtered.shape[0] != 0:\n",
    "        fig.add_scatter(x=allData_filtered[right]-allData_filtered[left],\n",
    "                    y=-np.log10(allData_filtered[\"benjamini\"]),\n",
    "                    text=allData_filtered[\"Accession\"],\n",
    "                    mode=\"markers + text\",\n",
    "                    marker=dict(color=plot_options[\"all color\"]),\n",
    "                    textposition=\"top center\",\n",
    "                    textfont=dict(size=10))\n",
    "        \n",
    "    fig.add_scatter(x=allData[right]-allData[left],\n",
    "                y=-np.log10(allData[\"benjamini\"]),\n",
    "                mode=\"markers\",\n",
    "                marker=dict(color=plot_options[\"all color\"]))\n",
    "\n",
    "    # Filter downData based on x-coordinate condition\n",
    "    downData_filtered = downData[(downData[right]-downData[left] <= -1) | (downData[right]-downData[left] >= 1)]\n",
    "\n",
    "    if downData_filtered.shape[0] != 0:\n",
    "        fig.add_scatter(x=downData_filtered[right]-downData_filtered[left],\n",
    "                    y=-np.log10(downData_filtered[\"benjamini\"]),\n",
    "                    text=downData_filtered[\"Accession\"],\n",
    "                    mode=\"markers + text\",\n",
    "                    marker=dict(color=plot_options[\"down color\"]))\n",
    "\n",
    "    # Filter upData based on x-coordinate condition\n",
    "    upData_filtered = upData[(upData[right]-upData[left] <= -1) | (upData[right]-upData[left] >= 1)]\n",
    "\n",
    "    if upData_filtered.shape[0] != 0:\n",
    "        fig.add_scatter(x=upData_filtered[right]-upData_filtered[left],\n",
    "                    y=-np.log10(upData_filtered[\"benjamini\"]),\n",
    "                    text=upData_filtered[\"Accession\"],\n",
    "                    mode=\"markers + text\",\n",
    "                    marker=dict(color=plot_options[\"up color\"]))\n",
    "        \n",
    "\n",
    "        fig.update_traces(mode=\"markers + text\",\n",
    "                    textposition=\"top center\",\n",
    "                    textfont=dict(size=10),\n",
    "                    hovertemplate=\"%{text}<br>x=: %{x}\" \" <br>y=: %{y}\")\n",
    "    \n",
    "    #### TEST ####\n",
    "    fig.add_hline(y=-np.log10(0.10)) ####TEST#### 0.05\n",
    "    fig.add_vline(x=-1)\n",
    "    fig.add_vline(x=1)\n",
    "    \n",
    "\n",
    "    if plot_options[\"title\"] != \"\" or plot_options[\"title\"] is not None:\n",
    "        plot_title = plot_options[\"title\"] + \" \" + label\n",
    "    else:\n",
    "        plot_title = None\n",
    "    if not plot_options[\"xlimits\"] or plot_options[\"xlimits\"] == \"[]\" or \\\n",
    "            not isinstance(plot_options[\"xlimits\"], list):\n",
    "        xlimits = None\n",
    "    else:\n",
    "        xlimits = plot_options[\"xlimits\"]\n",
    "\n",
    "    if not plot_options[\"ylimits\"] or plot_options[\"ylimits\"] == \"[]\" or \\\n",
    "            not isinstance(plot_options[\"ylimits\"], list):\n",
    "        ylimits = None\n",
    "    else:\n",
    "        ylimits = plot_options[\"ylimits\"]\n",
    "\n",
    "    fig.update_layout(\n",
    "        font=plot_options[\"font\"],\n",
    "\n",
    "        showlegend=False,\n",
    "        title=plot_title,\n",
    "        xaxis=dict(title=dict(\n",
    "            text=plot_options[\"X Title\"]), range=xlimits),\n",
    "        yaxis=dict(title=dict(\n",
    "            text=plot_options[\"Y Title\"]), range=ylimits),\n",
    "        annotations=total_labels,\n",
    "        plot_bgcolor='white',\n",
    "        paper_bgcolor='white'\n",
    "    )\n",
    "\n",
    "    \n",
    "    return fig"
   ]
  },
  {
   "cell_type": "code",
   "execution_count": 24,
   "id": "bf06a2b8",
   "metadata": {},
   "outputs": [],
   "source": [
    "# ###PCA plots####\n",
    "def PCA_plots(data_object, plot_options, saved_settings,username=None):\n",
    "    \"\"\"_Prepare data for creating intensity PCA plots (two groups)_\n",
    "    \"\"\"\n",
    "    group_names = []\n",
    "\n",
    "    # no compare groups is provided, compare first two\n",
    "    for each_key in plot_options[\"compare groups\"]:\n",
    "        if each_key in plot_options[\"compare groups\"] and saved_settings[\"Order@Conditions\"]:\n",
    "            group_names.append(each_key)\n",
    "    # import the data\n",
    "    group_dict = {}\n",
    "\n",
    "    # filter runs into different groups\n",
    "    i = 0\n",
    "    runname_list = []  # this will contain list of run names list for each groups\n",
    "    #print(saved_settings)\n",
    "    for eachGroup in group_names:\n",
    "        runname_sublist = saved_settings[eachGroup][\"records\"]\n",
    "        group_dict[eachGroup] = filter_by_name(\n",
    "            data_object,\n",
    "            list(runname_sublist))  # prevent the list from being changed\n",
    "        runname_list.append(runname_sublist)\n",
    "        i += 1       \n",
    "        #print((runname_sublist))\n",
    "\n",
    "    all_runs =[item for sublist in runname_list for item in sublist]\n",
    "\n",
    "    # combined the data after filtering\n",
    "    #  missing values and log2 transformation/normalization\n",
    "    combined_infodata = pd.DataFrame() # store run names and group names\n",
    "    combined_pcaData = pd.DataFrame() # store normalized data and protein names\n",
    "    for eachGroup in group_names:\n",
    "\n",
    "        current_condition_data = filter_by_missing_values(\n",
    "            group_dict[eachGroup])\n",
    "        normalized_data = NormalizeToMedian(\n",
    "             current_condition_data[\"protein_abundance\"],apply_log2=True)\n",
    "        toFileDict = dict(zip(data_object[\"run_metadata\"][\"Run Identifier\"],data_object[\"run_metadata\"][\"Run Names\"]))\n",
    "        toFileDict = generate_column_to_name_mapping(normalized_data.columns, toFileDict)\n",
    "        normalized_data.rename(columns = toFileDict,inplace=True)\n",
    "\n",
    "        combined_infodata= pd.concat([combined_infodata, pd.DataFrame({\n",
    "            \"Sample_Groups\": normalized_data\n",
    "            .drop(\n",
    "                \"Accession\", axis=1).rename(columns = toFileDict).columns,\n",
    "            \"Type\": eachGroup})])\n",
    "        \n",
    "        '''for x in range(len(list(combined_infodata[\"Sample_Groups\"]))):\n",
    "            print(list(combined_infodata[\"Sample_Groups\"])[x])\n",
    "        '''\n",
    "        if combined_pcaData.empty:\n",
    "            combined_pcaData = normalized_data\n",
    "            print(\"Empty\")\n",
    "        else:\n",
    "            combined_pcaData = pd.merge(combined_pcaData, normalized_data)\n",
    "\n",
    "    #normalize the data\n",
    "    # using ratio of current group median value divide by the all groups median \n",
    "    # to create a scaling factor magicNUm to scale the each group\n",
    "    quant_names = group_names\n",
    "    while \"Annotated Sequence\" in quant_names:\n",
    "        quant_names.remove(\"Annotated Sequence\")\n",
    "    while \"Accession\" in quant_names:\n",
    "        quant_names.remove(\"Accession\")\n",
    "\n",
    "    while \"Annotated Sequence\" in all_runs:\n",
    "        all_runs.remove(\"Annotated Sequence\")\n",
    "    while \"Accession\" in all_runs:\n",
    "        all_runs.remove(\"Accession\")\n",
    "\n",
    "    for n in range(len(quant_names)-2): #-2 because not Accession and Annotated Sequence \n",
    "        if \"Annotated Sequence\" in runname_list[n]:\n",
    "            runname_list[n].remove(\"Annotated Sequence\")\n",
    "        if \"Accession\" in runname_list[n]:\n",
    "            runname_list[n].remove(\"Accession\")\n",
    "        \n",
    "        magicNum =np.nanmedian(combined_pcaData[runname_list[\n",
    "            n]].dropna(how='all').to_numpy()) /\\\n",
    "                np.nanmedian(combined_pcaData[\n",
    "            all_runs].dropna(how='all').to_numpy()) \n",
    "        for col in combined_pcaData[runname_list[\n",
    "                n]].columns:\n",
    "            combined_pcaData[col] = combined_pcaData[col]/magicNum\n",
    "\n",
    "\n",
    "    #performs k-Nearest Neighbors imputation to fill in any missing values\n",
    "    combined_pcaData = impute_knn(combined_pcaData)\n",
    "    combined_infodata.reset_index(drop=True, inplace=True)\n",
    "    \n",
    "\n",
    "    # perform PCA transform\n",
    "    combined_pcaData, exp_var_pca = CalculatePCA(combined_pcaData,\n",
    "                                                     combined_infodata)\n",
    "\n",
    "    return plot_PCA_plotly(combined_pcaData,\n",
    "                           exp_var_pca,\n",
    "                           plot_options=plot_options,\n",
    "                           username=username,\n",
    "                           )\n",
    "\n",
    "\n",
    "def plot_PCA_plotly(pca_panda,\n",
    "                    exp_var_pca,\n",
    "                    plot_options=None,\n",
    "                    username=None,):\n",
    "\n",
    "    CSV_link = None\n",
    "    SVG_link = None\n",
    "\n",
    "    # Assuming pca_data is a pandas dataframe containing PCA results\n",
    "    # and \"Type\" is a column in the dataframe indicating the type of sample\n",
    "    if not plot_options[\"xlimits\"] or plot_options[\"xlimits\"] == \"[]\" or \\\n",
    "            not isinstance(plot_options[\"xlimits\"], list):\n",
    "        xlimits = None\n",
    "    else:\n",
    "        xlimits = plot_options[\"xlimits\"]\n",
    "\n",
    "    if not plot_options[\"ylimits\"] or plot_options[\"ylimits\"] == \"[]\" or \\\n",
    "            not isinstance(plot_options[\"ylimits\"], list):\n",
    "        ylimits = None\n",
    "    else:\n",
    "        ylimits = plot_options[\"ylimits\"]\n",
    "\n",
    "    fig = px.scatter(pca_panda,\n",
    "                     x='PC1',\n",
    "                     y='PC2',\n",
    "                     color=\"Type\",\n",
    "                     text=\"Sample_Groups\",\n",
    "                     symbol=\"Type\",\n",
    "                     color_discrete_sequence=plot_options[\"color\"],\n",
    "\n",
    "                     symbol_sequence=plot_options[\"symbol\"],\n",
    "                     size_max=30,\n",
    "                     labels={'PC1': f'PC1 ({round(exp_var_pca[0]*100,2)}%)',\n",
    "                             'PC2': f'PC2 ({round(exp_var_pca[1]*100,2)}%)',\n",
    "                             'Type': 'Sample Type'}, title='PCA Plot',\n",
    "                     width=plot_options[\"width\"],\n",
    "                     height=plot_options[\"height\"],)\n",
    "\n",
    "    fig.update_traces(\n",
    "        mode=\"markers\",\n",
    "        marker=dict(size=plot_options[\"marker_size\"],),\n",
    "        hovertemplate=\"%{text}<br>PC1: %{x} <br>PC2: %{y}\")\n",
    "    fig.update_layout(\n",
    "        plot_bgcolor=\"rgba(255, 255, 255, 255)\",\n",
    "        paper_bgcolor=\"rgba(255, 255, 255, 255)\",\n",
    "        font=plot_options[\"font\"],\n",
    "        title=plot_options[\"title\"],\n",
    "        xaxis=dict(linecolor='black',\n",
    "                   showticklabels=False, mirror=True, range=xlimits),\n",
    "        yaxis=dict(linecolor='black',\n",
    "                   showticklabels=False, mirror=True, range=ylimits),\n",
    "    )\n",
    "    if WRITE_OUTPUT:\n",
    "        # create the file for donwnload\n",
    "        img_dir = os.path.join(APPFOLDER, \"images/\")\n",
    "        if not os.path.exists(img_dir):\n",
    "            Path(img_dir).mkdir(parents=True)\n",
    "\n",
    "        fig.write_image(os.path.join(\n",
    "            img_dir, f\"{username}_PCA_Plot.svg\"), format = \"svg\", validate = False, engine = \"kaleido\")\n",
    "        # create the download CSV and its link\n",
    "        data_dir = os.path.join(APPFOLDER, \"csv/\")\n",
    "        if not os.path.exists(data_dir):\n",
    "            Path(data_dir).mkdir(parents=True)\n",
    "        pca_panda.to_csv(os.path.join(\n",
    "            data_dir, f\"{username}_PCA.csv\"), index=False)\n",
    "        print(\"Downloading links...\")\n",
    "        CSV_link = f\"/files/{url_base}/csv/\" \\\n",
    "            f\"{username}_PCA.csv\"\n",
    "\n",
    "        # download SVG link\n",
    "        SVG_link = f\"/files/{url_base}/images/\" \\\n",
    "            f\"{username}_PCA_Plot.svg\"\n",
    "\n",
    "    return fig, CSV_link, SVG_link"
   ]
  },
  {
   "cell_type": "code",
   "execution_count": 25,
   "id": "4062dc18",
   "metadata": {},
   "outputs": [],
   "source": [
    "def heatmap_plots(data_object, plot_options, saved_settings, username=None):\n",
    "    group_names = []\n",
    "\n",
    "    # no compare groups is provided, compare first two\n",
    "    for each_key in plot_options[\"compare groups\"]:\n",
    "        if each_key in plot_options[\"compare groups\"] and saved_settings[\"Order@Conditions\"]:\n",
    "            group_names.append(each_key)\n",
    "    # import the data\n",
    "    group_dict = {}\n",
    "\n",
    "    # filter runs into different groups\n",
    "    i = 0\n",
    "    runname_list = []  # this will contain list of run names list for each groups\n",
    "    #print(saved_settings)\n",
    "    for eachGroup in group_names:\n",
    "        runname_sublist = saved_settings[eachGroup][\"records\"]\n",
    "        group_dict[eachGroup] = filter_by_name(\n",
    "            data_object,\n",
    "            list(runname_sublist))  # prevent the list from being changed\n",
    "        runname_list.append(runname_sublist)\n",
    "        i += 1       \n",
    "        # print((runname_sublist))\n",
    "\n",
    "    all_runs =[item for sublist in runname_list for item in sublist]\n",
    "\n",
    "    # combined the data after filtering\n",
    "    #  missing values and log2 transformation/normalization\n",
    "    combined_infodata = pd.DataFrame() # store run names and group names\n",
    "    combined_heatmap_data = pd.DataFrame() # store normalized data and protein names\n",
    "    \n",
    "    for eachGroup in group_names:\n",
    "\n",
    "        current_condition_data = filter_by_missing_values(\n",
    "            group_dict[eachGroup])\n",
    "        normalized_data = NormalizeToMedian(\n",
    "             current_condition_data[\"protein_abundance\"],apply_log2=False) #apply this later\n",
    "        toFileDict = dict(zip(data_object[\"run_metadata\"][\"Run Identifier\"],\n",
    "                              [eachGroup + \"_#\" + str(i) for i in range(len(data_object[\"run_metadata\"][\"Run Identifier\"]))]))\n",
    "        toFileDict = generate_column_to_name_mapping(normalized_data.columns, toFileDict)\n",
    "        normalized_data.rename(columns = toFileDict,inplace=True)\n",
    "\n",
    "        combined_infodata= pd.concat([combined_infodata, pd.DataFrame({\n",
    "            \"Sample_Groups\": normalized_data\n",
    "            .drop(\n",
    "                \"Accession\", axis=1).rename(columns = toFileDict).columns,\n",
    "            \"Type\": eachGroup})])\n",
    "        \n",
    "        '''for x in range(len(list(combined_infodata[\"Sample_Groups\"]))):\n",
    "            print(list(combined_infodata[\"Sample_Groups\"])[x])\n",
    "        '''\n",
    "        if combined_heatmap_data.empty:\n",
    "            combined_heatmap_data = normalized_data\n",
    "            print(\"Empty\")\n",
    "        else:\n",
    "            combined_heatmap_data = pd.merge(combined_heatmap_data, normalized_data)\n",
    "\n",
    "    #normalize the data\n",
    "    # using ratio of current group median value divide by the all groups median \n",
    "    # to create a scaling factor magicNUm to scale the each group\n",
    "    quant_names = group_names\n",
    "    while \"Annotated Sequence\" in quant_names:\n",
    "        quant_names.remove(\"Annotated Sequence\")\n",
    "    while \"Accession\" in quant_names:\n",
    "        quant_names.remove(\"Accession\")\n",
    "\n",
    "    while \"Annotated Sequence\" in all_runs:\n",
    "        all_runs.remove(\"Annotated Sequence\")\n",
    "    while \"Accession\" in all_runs:\n",
    "        all_runs.remove(\"Accession\")\n",
    "\n",
    "    for n in range(len(quant_names)-2): #-2 because not Accession and Annotated Sequence \n",
    "        if \"Annotated Sequence\" in runname_list[n]:\n",
    "            runname_list[n].remove(\"Annotated Sequence\")\n",
    "        if \"Accession\" in runname_list[n]:\n",
    "            runname_list[n].remove(\"Accession\")\n",
    "        \n",
    "        magicNum =np.nanmedian(combined_heatmap_data[runname_list[\n",
    "            n]].dropna(how='all').to_numpy()) /\\\n",
    "                np.nanmedian(combined_heatmap_data[\n",
    "            all_runs].dropna(how='all').to_numpy()) \n",
    "        for col in combined_heatmap_data[runname_list[\n",
    "                n]].columns:\n",
    "            combined_heatmap_data[col] = combined_heatmap_data[col]/magicNum\n",
    "\n",
    "    \n",
    "    if WRITE_OUTPUT or plot_options[\"significant_only\"]:\n",
    "        \n",
    "\n",
    "        # How to transpose :(\n",
    "        # detect differentially expressed proteins\n",
    "        # reformat dataframe\n",
    "        new_names = []\n",
    "        for x in combined_heatmap_data.columns:\n",
    "            if x.split(sep=\"_#\")[0] in group_names:\n",
    "                new_names.append(\"Intensity\" + x)\n",
    "            else:\n",
    "                new_names.append(x)\n",
    "        renamed_data = combined_heatmap_data.copy()\n",
    "        renamed_data.columns = new_names\n",
    "        # display(combined_heatmap_data)\n",
    "        long_data = pd.wide_to_long(renamed_data.reset_index(),\n",
    "                                       stubnames=\"Intensity\",i=\"Accession\",j=\"Sample\",suffix=\".*\").reset_index()\n",
    "        \n",
    "        # if plot_options[\"agg_groups\"]:\n",
    "        #     # long_data= long_data.groupby([\"Accession\", \"Group\"]).agg({\"Intensity\": \"mean\"}).reset_index()\n",
    "\n",
    "        #     # display(long_data)\n",
    "        #     index = \"Group\"\n",
    "        #     pivoted_data =  long_data.pivot(index=index,columns=\"Accession\", values = \"Intensity\").reset_index()\n",
    "        # else:\n",
    "        #     index = \"Sample\"\n",
    "        pivoted_data =  long_data.pivot(index=\"Sample\",columns=\"Accession\", values = \"Intensity\").reset_index()\n",
    "        pivoted_data[\"Group\"] = pivoted_data[\"Sample\"].str.replace(\"_#.*\",\"\",regex=True)\n",
    "        # new_cols = combined_heatmap_data.columns.drop(\"Accession\")\n",
    "        # display(pivoted_data)\n",
    "        pvalues = []\n",
    "        means = []\n",
    "        for col in pivoted_data.columns.drop([\"Group\",\"Sample\"]):\n",
    "            if (pivoted_data[col].dropna().shape[0]>=2):\n",
    "                pvalues.append(anova(*[pivoted_data.loc[pivoted_data[\"Group\"]==x,col].dropna() for x in group_names])[0])\n",
    "                means.append([np.nanmean(pivoted_data.loc[pivoted_data[\"Group\"]==x,col].dropna()) for x in group_names])\n",
    "                # print()\n",
    "            else:\n",
    "                pvalues.append(np.nan)\n",
    "                means.append([np.nan])\n",
    "\n",
    "        fold_changes = []\n",
    "        # print(means)\n",
    "        for eachprotein in means:\n",
    "            length = len(eachprotein)\n",
    "            total = np.nansum(eachprotein)\n",
    "            current = []\n",
    "            if type(eachprotein) != list:\n",
    "                print(str(eachprotein) + \"******************\")\n",
    "                current = [np.nan for x in group_names]\n",
    "            else:\n",
    "                for eachMean in eachprotein:\n",
    "                    each_fold_change = eachMean/((total-eachMean)/(length-1)) #don't include in comparison\n",
    "                    current.append(each_fold_change)\n",
    "            fold_changes.append(current)\n",
    "\n",
    "        significances = []\n",
    "        alpha = plot_options[\"alpha\"] * 100 # anova function gives p values in %\n",
    "        log_min_FC = np.log2(plot_options[\"min_fold_change\"])\n",
    "        for i in range(len(fold_changes)):\n",
    "            current = False\n",
    "            current_FCs = fold_changes[i]\n",
    "            current_p = pvalues[i]\n",
    "            if type(current_FCs) == list:\n",
    "                for each_FC in current_FCs:\n",
    "                    if current_p < alpha and abs(np.log2(each_FC)) > log_min_FC:\n",
    "                        current = True\n",
    "            significances.append(current)\n",
    "        combined_heatmap_data[\"adjusted_p_values\"] = multipletests(pvalues, method='fdr_bh')[1] #adjust \n",
    "        combined_heatmap_data[\"fold_changes\"] = fold_changes\n",
    "        combined_heatmap_data[\"significant\"] = significances\n",
    "\n",
    "\n",
    "\n",
    "    if WRITE_OUTPUT:\n",
    "        i = 0\n",
    "        log_min_FC = np.log2(plot_options[\"min_fold_change\"]) # anova function gives p values in %\n",
    "        for eachGroup in group_names:\n",
    "            if eachGroup not in combined_heatmap_data.columns:\n",
    "                j = 0\n",
    "                current = []\n",
    "                for x in combined_heatmap_data[\"fold_changes\"]:\n",
    "                    current.append(combined_heatmap_data[\"significant\"][j] and abs(np.log2(x[i]))>log_min_FC)\n",
    "                    j = j + 1\n",
    "                combined_heatmap_data[eachGroup] = current\n",
    "            else:\n",
    "                print(\"ERROR: don't use group names that are also accession numbers\")\n",
    "            i = i + 1\n",
    "\n",
    "        data_dir = os.path.join(APPFOLDER, \"csv/\")\n",
    "        if not os.path.exists(data_dir):\n",
    "            Path(data_dir).mkdir(parents=True)\n",
    "        combined_heatmap_data.to_csv(os.path.join(\n",
    "            data_dir, f\"{username}_Heatmap.tsv\"),sep=\"\\t\", index=False)\n",
    "        \n",
    "    if plot_options[\"significant_only\"]:\n",
    "        print(combined_heatmap_data.shape)\n",
    "        combined_heatmap_data = combined_heatmap_data[combined_heatmap_data[\"significant\"]]\n",
    "        print(combined_heatmap_data.shape)\n",
    "        combined_heatmap_data = combined_heatmap_data.drop(columns=[\"significant\",\"adjusted_p_values\",\"fold_changes\"]+group_names)\n",
    "    elif WRITE_OUTPUT:\n",
    "        combined_heatmap_data = combined_heatmap_data.drop(columns=[\"significant\",\"adjusted_p_values\",\"fold_changes\"]+group_names)\n",
    "\n",
    "    if plot_options[\"log2_transform\"]:\n",
    "        for eachCol in combined_heatmap_data.columns.drop(\"Accession\"):\n",
    "            combined_heatmap_data[eachCol] = np.log2(combined_heatmap_data[eachCol])\n",
    "\n",
    "    figure = px.imshow(combined_heatmap_data.set_index(\"Accession\").dropna(), aspect=\"auto\")\n",
    "    CSV_link = None\n",
    "    SVG_link = None\n",
    "    return figure, CSV_link, SVG_link "
   ]
  },
  {
   "cell_type": "code",
   "execution_count": 26,
   "id": "7a6b51b1",
   "metadata": {},
   "outputs": [],
   "source": [
    "####All the functions and constants imports above############################\n",
    "### All the following sections are for configuration and plotting############"
   ]
  },
  {
   "cell_type": "code",
   "execution_count": 27,
   "id": "4d48068c",
   "metadata": {},
   "outputs": [],
   "source": [
    "\"\"\"_This section read in data from the data management system or from the input\n",
    "files.\n",
    "Method 1 use process queue ID, serve address, account and password to read\n",
    "from data manage process queue_\n",
    "How to use: set process_queue_id and server_address, username and password\n",
    "\"\"\"\n",
    "\n",
    "process_queue_id =7272 # example MM PD3 6983, FP 7272\n",
    "server_address = \"10.37.240.41\"\n",
    "username = \"\" #user name\n",
    "password = \"\" # DO NOT LEAVE your password when uploading to github\n",
    "if password != \"\" or process_queue_id == None:\n",
    "    queue_info, processor_info = queue_info_api(process_queue_id,\n",
    "                                                    server_address,\n",
    "                                                    username,\n",
    "                                                    password)\n",
    "    data_obj = read_file(queue_info=queue_info, processor_info=processor_info)\n",
    "else:\n",
    "    queue_info, processor_info = None, None\n"
   ]
  },
  {
   "cell_type": "code",
   "execution_count": 28,
   "id": "62a44dde",
   "metadata": {},
   "outputs": [],
   "source": [
    "#Method put files in, one dictionary for each analysis, if there is only one file or you are looking in all files, then you don't need @'s in your SETTINGS_FILE\n",
    "filelist = [\n",
    "             {\"input1\":\"/Users/parkerreyes/Documents/ByuWinter24/Kelly_Lab_files/VanRy lab/data_analysis_3.7.24/Psoas_try2_withoutChimerys_0306_Proteins.txt\",\n",
    "             \"input2\":\"/Users/parkerreyes/Documents/ByuWinter24/Kelly_Lab_files/VanRy lab/data_analysis_3.7.24/Psoas_try2_withoutChimerys_0306_PeptideGroups.txt\",\n",
    "             \"input3\":\"\",\n",
    "             \"input4\":\"\",\n",
    "             \"input5\":\"/Users/parkerreyes/Documents/ByuWinter24/Kelly_Lab_files/VanRy lab/data_analysis_3.7.24/Psoas_try2_withoutChimerys_0306_InputFiles.txt\",\n",
    "             \"process_app\": \"PD\"},\n",
    "          \n",
    "            ]\n",
    "\n",
    "            #Order of files\n",
    "                #For FragPipe\n",
    "                    #input1= Protein with MBR\n",
    "                    #input2= Peptide with MBR\n",
    "                #For DIANN\n",
    "                    #input1= pg_matrix\n",
    "                    #input2= pr_matrix \n",
    "                    #input3= pg_matrix MS2\n",
    "                    #input4= pr_matrix MS2\n",
    "                #For PD\n",
    "                    #input1= Protein \n",
    "                    #input2= Peptide Groups\n",
    "                    #input3= blank\n",
    "                    #input4= blank\n",
    "                    #input5= input_files\n",
    "\n",
    "\n",
    "SETTINGS_FILE = \"/Users/parkerreyes/Documents/ByuWinter24/Kelly_Lab_files/VanRy lab/data_analysis_3.7.24/settings_test_VanRy_02.txt\" #tab delimited\n",
    "    #Format\n",
    "    #Required Columns\n",
    "        #Group Name\t\n",
    "        #filter_in: a string pattern contained in desired raw filenames in analysis followed by an @ + the file number (filelist index) to look in\n",
    "        #filter_out: a string pattern contained in undesired raw filenames\n",
    "    #Extra columns\n",
    "        #can be used to group by color, layer, or x position in CV and ID graphs"
   ]
  },
  {
   "cell_type": "code",
   "execution_count": 29,
   "id": "b540d36f",
   "metadata": {},
   "outputs": [
    {
     "name": "stdout",
     "output_type": "stream",
     "text": [
      "***\n"
     ]
    },
    {
     "name": "stderr",
     "output_type": "stream",
     "text": [
      "/var/folders/tp/wn9k7sb14sj01_q9m6ztc8_00000gn/T/ipykernel_40376/1997205672.py:326: SettingWithCopyWarning:\n",
      "\n",
      "\n",
      "A value is trying to be set on a copy of a slice from a DataFrame.\n",
      "Try using .loc[row_indexer,col_indexer] = value instead\n",
      "\n",
      "See the caveats in the documentation: https://pandas.pydata.org/pandas-docs/stable/user_guide/indexing.html#returning-a-view-versus-a-copy\n",
      "\n",
      "/var/folders/tp/wn9k7sb14sj01_q9m6ztc8_00000gn/T/ipykernel_40376/1997205672.py:327: SettingWithCopyWarning:\n",
      "\n",
      "\n",
      "A value is trying to be set on a copy of a slice from a DataFrame.\n",
      "Try using .loc[row_indexer,col_indexer] = value instead\n",
      "\n",
      "See the caveats in the documentation: https://pandas.pydata.org/pandas-docs/stable/user_guide/indexing.html#returning-a-view-versus-a-copy\n",
      "\n",
      "/var/folders/tp/wn9k7sb14sj01_q9m6ztc8_00000gn/T/ipykernel_40376/1997205672.py:337: SettingWithCopyWarning:\n",
      "\n",
      "\n",
      "A value is trying to be set on a copy of a slice from a DataFrame\n",
      "\n",
      "See the caveats in the documentation: https://pandas.pydata.org/pandas-docs/stable/user_guide/indexing.html#returning-a-view-versus-a-copy\n",
      "\n",
      "/var/folders/tp/wn9k7sb14sj01_q9m6ztc8_00000gn/T/ipykernel_40376/1997205672.py:340: SettingWithCopyWarning:\n",
      "\n",
      "\n",
      "A value is trying to be set on a copy of a slice from a DataFrame\n",
      "\n",
      "See the caveats in the documentation: https://pandas.pydata.org/pandas-docs/stable/user_guide/indexing.html#returning-a-view-versus-a-copy\n",
      "\n",
      "/var/folders/tp/wn9k7sb14sj01_q9m6ztc8_00000gn/T/ipykernel_40376/1997205672.py:348: SettingWithCopyWarning:\n",
      "\n",
      "\n",
      "A value is trying to be set on a copy of a slice from a DataFrame\n",
      "\n",
      "See the caveats in the documentation: https://pandas.pydata.org/pandas-docs/stable/user_guide/indexing.html#returning-a-view-versus-a-copy\n",
      "\n",
      "/var/folders/tp/wn9k7sb14sj01_q9m6ztc8_00000gn/T/ipykernel_40376/1997205672.py:352: SettingWithCopyWarning:\n",
      "\n",
      "\n",
      "A value is trying to be set on a copy of a slice from a DataFrame\n",
      "\n",
      "See the caveats in the documentation: https://pandas.pydata.org/pandas-docs/stable/user_guide/indexing.html#returning-a-view-versus-a-copy\n",
      "\n",
      "/var/folders/tp/wn9k7sb14sj01_q9m6ztc8_00000gn/T/ipykernel_40376/1997205672.py:358: SettingWithCopyWarning:\n",
      "\n",
      "\n",
      "A value is trying to be set on a copy of a slice from a DataFrame.\n",
      "Try using .loc[row_indexer,col_indexer] = value instead\n",
      "\n",
      "See the caveats in the documentation: https://pandas.pydata.org/pandas-docs/stable/user_guide/indexing.html#returning-a-view-versus-a-copy\n",
      "\n",
      "/var/folders/tp/wn9k7sb14sj01_q9m6ztc8_00000gn/T/ipykernel_40376/1997205672.py:361: SettingWithCopyWarning:\n",
      "\n",
      "\n",
      "A value is trying to be set on a copy of a slice from a DataFrame.\n",
      "Try using .loc[row_indexer,col_indexer] = value instead\n",
      "\n",
      "See the caveats in the documentation: https://pandas.pydata.org/pandas-docs/stable/user_guide/indexing.html#returning-a-view-versus-a-copy\n",
      "\n"
     ]
    }
   ],
   "source": [
    "# define group names and assign analysis to different groups(web app version was done through GUI so\n",
    "# steps are taken to make sure they have same output)\n",
    "x = read_files(grouped_input_files=filelist)\n",
    "data_obj = outer_join_data_objects(x)\n",
    "\n",
    "settings_table = pd.read_table(SETTINGS_FILE,sep=\"\\t\")\n",
    "saved_settings = settings_table.set_index(\"Conditions\").to_dict(orient=\"index\")\n",
    "#any run with any of the filter_out items will not be used.\n",
    "\n",
    "for eachGroup in saved_settings:\n",
    "    i = 0\n",
    "    saved_settings[eachGroup][\"records\"] = []\n",
    "    filterOutType = type(saved_settings[eachGroup][\"filter_out\"])\n",
    "    if filterOutType == str or filterOutType == int or filterOutType == float and not pd.isna(saved_settings[eachGroup][\"filter_out\"]):\n",
    "        filterOut = str.split(saved_settings[eachGroup][\"filter_out\"],sep = \",\")\n",
    "    else:\n",
    "        filterOut = [\"M@di\"]\n",
    "    if len(str.split(str(saved_settings[eachGroup][\"filter_in\"]),sep = \"@\")) > 1: #multiple files, only some have the runs for this group\n",
    "        user_list = []\n",
    "        #add all runs from all analyses to be probed\n",
    "        for each_fileID in str.split(str(saved_settings[eachGroup][\"filter_in\"]),sep = \"@\")[1:]:\n",
    "            for eachIdentifier in data_obj[\"run_metadata\"][\"Run Identifier\"]:    \n",
    "                currentRun = data_obj[\"run_metadata\"][data_obj[\"run_metadata\"][\"Run Identifier\"] == eachIdentifier][\"Run Names\"] \n",
    "                if currentRun.size == 1:\n",
    "                    if each_fileID == str.split(eachIdentifier,sep=\"-\")[0] and list(currentRun)[0] not in user_list:\n",
    "                        user_list.append(list(currentRun)[0])\n",
    "                else:\n",
    "                    pass\n",
    "        #filter for runs that relate to this gorup within those analyses\n",
    "        for run_name in user_list:\n",
    "            if str.split(str(saved_settings[eachGroup][\"filter_in\"]),sep = \"@\")[0] in run_name and (not any(item in run_name for item in filterOut)):\n",
    "                saved_settings[eachGroup][\"records\"].append(list(data_obj[\"run_metadata\"][data_obj[\"run_metadata\"][\"Run Names\"] == run_name][\"Run Names\"])[0]) \n",
    "            else:\n",
    "                pass\n",
    "    elif len(str.split(str(saved_settings[eachGroup][\"filter_in\"]),sep = \"@\")) == 1: #across all files or maybe there is only one\n",
    "            for run_name in data_obj[\"run_metadata\"][\"Run Names\"]:\n",
    "                if str(saved_settings[eachGroup][\"filter_in\"]) in run_name and (not any(item in run_name for item in filterOut)):\n",
    "                    saved_settings[eachGroup][\"records\"].append(data_obj[\"run_metadata\"][\"Run Names\"][i])  \n",
    "                i = i + 1   \n",
    "\n",
    "#add the order of each column\n",
    "ignore_columns = [\"filter_in\",\"filter_out\"]\n",
    "category_columns = [x for x in settings_table.columns.to_list() if x not in ignore_columns]\n",
    "\n",
    "for eachCol in category_columns:\n",
    "    saved_settings[\"Order@\"+eachCol] = settings_table[eachCol].drop_duplicates().to_list()\n",
    "\n",
    "# conditions\n",
    "# print(saved_settings['Order@Conditions'][0])\n",
    "# print(saved_settings['Order@Conditions'][1])\n",
    "    "
   ]
  },
  {
   "cell_type": "code",
   "execution_count": 30,
   "id": "694ffc20",
   "metadata": {},
   "outputs": [
    {
     "name": "stderr",
     "output_type": "stream",
     "text": [
      "/Library/Frameworks/Python.framework/Versions/3.12/lib/python3.12/site-packages/plotly/express/_core.py:2065: FutureWarning:\n",
      "\n",
      "When grouping with a length-1 list-like, you will need to pass a length-1 tuple to get_group in a future version of pandas. Pass `(name,)` instead of `name` to silence this warning.\n",
      "\n"
     ]
    },
    {
     "name": "stdout",
     "output_type": "stream",
     "text": [
      "Downloading links...\n"
     ]
    },
    {
     "data": {
      "application/vnd.plotly.v1+json": {
       "config": {
        "plotlyServerURL": "https://plot.ly"
       },
       "data": [
        {
         "alignmentgroup": "True",
         "error_y": {
          "array": [
           983.2259720751167
          ]
         },
         "hovertemplate": "Conditions=%{x}<br>IDs=%{y}<extra></extra>",
         "legendgroup": "rHsGal-1",
         "marker": {
          "color": "#3E6990",
          "pattern": {
           "shape": ""
          }
         },
         "name": "rHsGal-1",
         "offsetgroup": "rHsGal-1",
         "orientation": "v",
         "showlegend": true,
         "textposition": "auto",
         "type": "bar",
         "x": [
          "rHsGal-1"
         ],
         "xaxis": "x",
         "y": [
          6185.833333333333
         ],
         "yaxis": "y"
        },
        {
         "alignmentgroup": "True",
         "error_y": {
          "array": [
           1493.496663216596
          ]
         },
         "hovertemplate": "Conditions=%{x}<br>IDs=%{y}<extra></extra>",
         "legendgroup": "saline",
         "marker": {
          "color": "#7aa8e6",
          "pattern": {
           "shape": ""
          }
         },
         "name": "saline",
         "offsetgroup": "saline",
         "orientation": "v",
         "showlegend": true,
         "textposition": "auto",
         "type": "bar",
         "x": [
          "saline"
         ],
         "xaxis": "x",
         "y": [
          7408.6
         ],
         "yaxis": "y"
        }
       ],
       "layout": {
        "annotations": [
         {
          "showarrow": false,
          "text": "6185",
          "x": "rHsGal-1",
          "xanchor": "right",
          "y": 6495.125
         },
         {
          "showarrow": false,
          "text": "7408",
          "x": "saline",
          "xanchor": "right",
          "y": 7779.030000000001
         }
        ],
        "barmode": "relative",
        "font": {
         "family": "Arial black",
         "size": 16
        },
        "height": 450,
        "legend": {
         "title": {
          "text": "Conditions"
         },
         "tracegroupgap": 0
        },
        "margin": {
         "t": 60
        },
        "paper_bgcolor": "rgba(255, 255, 255, 255)",
        "plot_bgcolor": "rgba(255, 255, 255, 255)",
        "template": {
         "data": {
          "bar": [
           {
            "error_x": {
             "color": "#2a3f5f"
            },
            "error_y": {
             "color": "#2a3f5f"
            },
            "marker": {
             "line": {
              "color": "#E5ECF6",
              "width": 0.5
             },
             "pattern": {
              "fillmode": "overlay",
              "size": 10,
              "solidity": 0.2
             }
            },
            "type": "bar"
           }
          ],
          "barpolar": [
           {
            "marker": {
             "line": {
              "color": "#E5ECF6",
              "width": 0.5
             },
             "pattern": {
              "fillmode": "overlay",
              "size": 10,
              "solidity": 0.2
             }
            },
            "type": "barpolar"
           }
          ],
          "carpet": [
           {
            "aaxis": {
             "endlinecolor": "#2a3f5f",
             "gridcolor": "white",
             "linecolor": "white",
             "minorgridcolor": "white",
             "startlinecolor": "#2a3f5f"
            },
            "baxis": {
             "endlinecolor": "#2a3f5f",
             "gridcolor": "white",
             "linecolor": "white",
             "minorgridcolor": "white",
             "startlinecolor": "#2a3f5f"
            },
            "type": "carpet"
           }
          ],
          "choropleth": [
           {
            "colorbar": {
             "outlinewidth": 0,
             "ticks": ""
            },
            "type": "choropleth"
           }
          ],
          "contour": [
           {
            "colorbar": {
             "outlinewidth": 0,
             "ticks": ""
            },
            "colorscale": [
             [
              0,
              "#0d0887"
             ],
             [
              0.1111111111111111,
              "#46039f"
             ],
             [
              0.2222222222222222,
              "#7201a8"
             ],
             [
              0.3333333333333333,
              "#9c179e"
             ],
             [
              0.4444444444444444,
              "#bd3786"
             ],
             [
              0.5555555555555556,
              "#d8576b"
             ],
             [
              0.6666666666666666,
              "#ed7953"
             ],
             [
              0.7777777777777778,
              "#fb9f3a"
             ],
             [
              0.8888888888888888,
              "#fdca26"
             ],
             [
              1,
              "#f0f921"
             ]
            ],
            "type": "contour"
           }
          ],
          "contourcarpet": [
           {
            "colorbar": {
             "outlinewidth": 0,
             "ticks": ""
            },
            "type": "contourcarpet"
           }
          ],
          "heatmap": [
           {
            "colorbar": {
             "outlinewidth": 0,
             "ticks": ""
            },
            "colorscale": [
             [
              0,
              "#0d0887"
             ],
             [
              0.1111111111111111,
              "#46039f"
             ],
             [
              0.2222222222222222,
              "#7201a8"
             ],
             [
              0.3333333333333333,
              "#9c179e"
             ],
             [
              0.4444444444444444,
              "#bd3786"
             ],
             [
              0.5555555555555556,
              "#d8576b"
             ],
             [
              0.6666666666666666,
              "#ed7953"
             ],
             [
              0.7777777777777778,
              "#fb9f3a"
             ],
             [
              0.8888888888888888,
              "#fdca26"
             ],
             [
              1,
              "#f0f921"
             ]
            ],
            "type": "heatmap"
           }
          ],
          "heatmapgl": [
           {
            "colorbar": {
             "outlinewidth": 0,
             "ticks": ""
            },
            "colorscale": [
             [
              0,
              "#0d0887"
             ],
             [
              0.1111111111111111,
              "#46039f"
             ],
             [
              0.2222222222222222,
              "#7201a8"
             ],
             [
              0.3333333333333333,
              "#9c179e"
             ],
             [
              0.4444444444444444,
              "#bd3786"
             ],
             [
              0.5555555555555556,
              "#d8576b"
             ],
             [
              0.6666666666666666,
              "#ed7953"
             ],
             [
              0.7777777777777778,
              "#fb9f3a"
             ],
             [
              0.8888888888888888,
              "#fdca26"
             ],
             [
              1,
              "#f0f921"
             ]
            ],
            "type": "heatmapgl"
           }
          ],
          "histogram": [
           {
            "marker": {
             "pattern": {
              "fillmode": "overlay",
              "size": 10,
              "solidity": 0.2
             }
            },
            "type": "histogram"
           }
          ],
          "histogram2d": [
           {
            "colorbar": {
             "outlinewidth": 0,
             "ticks": ""
            },
            "colorscale": [
             [
              0,
              "#0d0887"
             ],
             [
              0.1111111111111111,
              "#46039f"
             ],
             [
              0.2222222222222222,
              "#7201a8"
             ],
             [
              0.3333333333333333,
              "#9c179e"
             ],
             [
              0.4444444444444444,
              "#bd3786"
             ],
             [
              0.5555555555555556,
              "#d8576b"
             ],
             [
              0.6666666666666666,
              "#ed7953"
             ],
             [
              0.7777777777777778,
              "#fb9f3a"
             ],
             [
              0.8888888888888888,
              "#fdca26"
             ],
             [
              1,
              "#f0f921"
             ]
            ],
            "type": "histogram2d"
           }
          ],
          "histogram2dcontour": [
           {
            "colorbar": {
             "outlinewidth": 0,
             "ticks": ""
            },
            "colorscale": [
             [
              0,
              "#0d0887"
             ],
             [
              0.1111111111111111,
              "#46039f"
             ],
             [
              0.2222222222222222,
              "#7201a8"
             ],
             [
              0.3333333333333333,
              "#9c179e"
             ],
             [
              0.4444444444444444,
              "#bd3786"
             ],
             [
              0.5555555555555556,
              "#d8576b"
             ],
             [
              0.6666666666666666,
              "#ed7953"
             ],
             [
              0.7777777777777778,
              "#fb9f3a"
             ],
             [
              0.8888888888888888,
              "#fdca26"
             ],
             [
              1,
              "#f0f921"
             ]
            ],
            "type": "histogram2dcontour"
           }
          ],
          "mesh3d": [
           {
            "colorbar": {
             "outlinewidth": 0,
             "ticks": ""
            },
            "type": "mesh3d"
           }
          ],
          "parcoords": [
           {
            "line": {
             "colorbar": {
              "outlinewidth": 0,
              "ticks": ""
             }
            },
            "type": "parcoords"
           }
          ],
          "pie": [
           {
            "automargin": true,
            "type": "pie"
           }
          ],
          "scatter": [
           {
            "fillpattern": {
             "fillmode": "overlay",
             "size": 10,
             "solidity": 0.2
            },
            "type": "scatter"
           }
          ],
          "scatter3d": [
           {
            "line": {
             "colorbar": {
              "outlinewidth": 0,
              "ticks": ""
             }
            },
            "marker": {
             "colorbar": {
              "outlinewidth": 0,
              "ticks": ""
             }
            },
            "type": "scatter3d"
           }
          ],
          "scattercarpet": [
           {
            "marker": {
             "colorbar": {
              "outlinewidth": 0,
              "ticks": ""
             }
            },
            "type": "scattercarpet"
           }
          ],
          "scattergeo": [
           {
            "marker": {
             "colorbar": {
              "outlinewidth": 0,
              "ticks": ""
             }
            },
            "type": "scattergeo"
           }
          ],
          "scattergl": [
           {
            "marker": {
             "colorbar": {
              "outlinewidth": 0,
              "ticks": ""
             }
            },
            "type": "scattergl"
           }
          ],
          "scattermapbox": [
           {
            "marker": {
             "colorbar": {
              "outlinewidth": 0,
              "ticks": ""
             }
            },
            "type": "scattermapbox"
           }
          ],
          "scatterpolar": [
           {
            "marker": {
             "colorbar": {
              "outlinewidth": 0,
              "ticks": ""
             }
            },
            "type": "scatterpolar"
           }
          ],
          "scatterpolargl": [
           {
            "marker": {
             "colorbar": {
              "outlinewidth": 0,
              "ticks": ""
             }
            },
            "type": "scatterpolargl"
           }
          ],
          "scatterternary": [
           {
            "marker": {
             "colorbar": {
              "outlinewidth": 0,
              "ticks": ""
             }
            },
            "type": "scatterternary"
           }
          ],
          "surface": [
           {
            "colorbar": {
             "outlinewidth": 0,
             "ticks": ""
            },
            "colorscale": [
             [
              0,
              "#0d0887"
             ],
             [
              0.1111111111111111,
              "#46039f"
             ],
             [
              0.2222222222222222,
              "#7201a8"
             ],
             [
              0.3333333333333333,
              "#9c179e"
             ],
             [
              0.4444444444444444,
              "#bd3786"
             ],
             [
              0.5555555555555556,
              "#d8576b"
             ],
             [
              0.6666666666666666,
              "#ed7953"
             ],
             [
              0.7777777777777778,
              "#fb9f3a"
             ],
             [
              0.8888888888888888,
              "#fdca26"
             ],
             [
              1,
              "#f0f921"
             ]
            ],
            "type": "surface"
           }
          ],
          "table": [
           {
            "cells": {
             "fill": {
              "color": "#EBF0F8"
             },
             "line": {
              "color": "white"
             }
            },
            "header": {
             "fill": {
              "color": "#C8D4E3"
             },
             "line": {
              "color": "white"
             }
            },
            "type": "table"
           }
          ]
         },
         "layout": {
          "annotationdefaults": {
           "arrowcolor": "#2a3f5f",
           "arrowhead": 0,
           "arrowwidth": 1
          },
          "autotypenumbers": "strict",
          "coloraxis": {
           "colorbar": {
            "outlinewidth": 0,
            "ticks": ""
           }
          },
          "colorscale": {
           "diverging": [
            [
             0,
             "#8e0152"
            ],
            [
             0.1,
             "#c51b7d"
            ],
            [
             0.2,
             "#de77ae"
            ],
            [
             0.3,
             "#f1b6da"
            ],
            [
             0.4,
             "#fde0ef"
            ],
            [
             0.5,
             "#f7f7f7"
            ],
            [
             0.6,
             "#e6f5d0"
            ],
            [
             0.7,
             "#b8e186"
            ],
            [
             0.8,
             "#7fbc41"
            ],
            [
             0.9,
             "#4d9221"
            ],
            [
             1,
             "#276419"
            ]
           ],
           "sequential": [
            [
             0,
             "#0d0887"
            ],
            [
             0.1111111111111111,
             "#46039f"
            ],
            [
             0.2222222222222222,
             "#7201a8"
            ],
            [
             0.3333333333333333,
             "#9c179e"
            ],
            [
             0.4444444444444444,
             "#bd3786"
            ],
            [
             0.5555555555555556,
             "#d8576b"
            ],
            [
             0.6666666666666666,
             "#ed7953"
            ],
            [
             0.7777777777777778,
             "#fb9f3a"
            ],
            [
             0.8888888888888888,
             "#fdca26"
            ],
            [
             1,
             "#f0f921"
            ]
           ],
           "sequentialminus": [
            [
             0,
             "#0d0887"
            ],
            [
             0.1111111111111111,
             "#46039f"
            ],
            [
             0.2222222222222222,
             "#7201a8"
            ],
            [
             0.3333333333333333,
             "#9c179e"
            ],
            [
             0.4444444444444444,
             "#bd3786"
            ],
            [
             0.5555555555555556,
             "#d8576b"
            ],
            [
             0.6666666666666666,
             "#ed7953"
            ],
            [
             0.7777777777777778,
             "#fb9f3a"
            ],
            [
             0.8888888888888888,
             "#fdca26"
            ],
            [
             1,
             "#f0f921"
            ]
           ]
          },
          "colorway": [
           "#636efa",
           "#EF553B",
           "#00cc96",
           "#ab63fa",
           "#FFA15A",
           "#19d3f3",
           "#FF6692",
           "#B6E880",
           "#FF97FF",
           "#FECB52"
          ],
          "font": {
           "color": "#2a3f5f"
          },
          "geo": {
           "bgcolor": "white",
           "lakecolor": "white",
           "landcolor": "#E5ECF6",
           "showlakes": true,
           "showland": true,
           "subunitcolor": "white"
          },
          "hoverlabel": {
           "align": "left"
          },
          "hovermode": "closest",
          "mapbox": {
           "style": "light"
          },
          "paper_bgcolor": "white",
          "plot_bgcolor": "#E5ECF6",
          "polar": {
           "angularaxis": {
            "gridcolor": "white",
            "linecolor": "white",
            "ticks": ""
           },
           "bgcolor": "#E5ECF6",
           "radialaxis": {
            "gridcolor": "white",
            "linecolor": "white",
            "ticks": ""
           }
          },
          "scene": {
           "xaxis": {
            "backgroundcolor": "#E5ECF6",
            "gridcolor": "white",
            "gridwidth": 2,
            "linecolor": "white",
            "showbackground": true,
            "ticks": "",
            "zerolinecolor": "white"
           },
           "yaxis": {
            "backgroundcolor": "#E5ECF6",
            "gridcolor": "white",
            "gridwidth": 2,
            "linecolor": "white",
            "showbackground": true,
            "ticks": "",
            "zerolinecolor": "white"
           },
           "zaxis": {
            "backgroundcolor": "#E5ECF6",
            "gridcolor": "white",
            "gridwidth": 2,
            "linecolor": "white",
            "showbackground": true,
            "ticks": "",
            "zerolinecolor": "white"
           }
          },
          "shapedefaults": {
           "line": {
            "color": "#2a3f5f"
           }
          },
          "ternary": {
           "aaxis": {
            "gridcolor": "white",
            "linecolor": "white",
            "ticks": ""
           },
           "baxis": {
            "gridcolor": "white",
            "linecolor": "white",
            "ticks": ""
           },
           "bgcolor": "#E5ECF6",
           "caxis": {
            "gridcolor": "white",
            "linecolor": "white",
            "ticks": ""
           }
          },
          "title": {
           "x": 0.05
          },
          "xaxis": {
           "automargin": true,
           "gridcolor": "white",
           "linecolor": "white",
           "ticks": "",
           "title": {
            "standoff": 15
           },
           "zerolinecolor": "white",
           "zerolinewidth": 2
          },
          "yaxis": {
           "automargin": true,
           "gridcolor": "white",
           "linecolor": "white",
           "ticks": "",
           "title": {
            "standoff": 15
           },
           "zerolinecolor": "white",
           "zerolinewidth": 2
          }
         }
        },
        "width": 700,
        "xaxis": {
         "anchor": "y",
         "categoryarray": [
          "saline",
          "rHsGal-1"
         ],
         "categoryorder": "array",
         "domain": [
          0,
          1
         ],
         "linecolor": "black",
         "linewidth": 1,
         "showline": true,
         "title": {
          "text": "Conditions"
         }
        },
        "yaxis": {
         "anchor": "x",
         "domain": [
          0,
          1
         ],
         "linecolor": "black",
         "linewidth": 1,
         "showline": true,
         "title": {
          "text": "Peptide Identification (MBR)"
         }
        }
       }
      }
     },
     "metadata": {},
     "output_type": "display_data"
    },
    {
     "data": {
      "text/html": [
       "<div>\n",
       "<style scoped>\n",
       "    .dataframe tbody tr th:only-of-type {\n",
       "        vertical-align: middle;\n",
       "    }\n",
       "\n",
       "    .dataframe tbody tr th {\n",
       "        vertical-align: top;\n",
       "    }\n",
       "\n",
       "    .dataframe thead th {\n",
       "        text-align: right;\n",
       "    }\n",
       "</style>\n",
       "<table border=\"1\" class=\"dataframe\">\n",
       "  <thead>\n",
       "    <tr style=\"text-align: right;\">\n",
       "      <th></th>\n",
       "      <th>names</th>\n",
       "      <th>MS2_IDs</th>\n",
       "      <th>MBR_IDs</th>\n",
       "      <th>Total_IDs</th>\n",
       "    </tr>\n",
       "  </thead>\n",
       "  <tbody>\n",
       "    <tr>\n",
       "      <th>0</th>\n",
       "      <td>0-0</td>\n",
       "      <td>4743</td>\n",
       "      <td>1526</td>\n",
       "      <td>6269</td>\n",
       "    </tr>\n",
       "    <tr>\n",
       "      <th>1</th>\n",
       "      <td>0-1</td>\n",
       "      <td>5298</td>\n",
       "      <td>1540</td>\n",
       "      <td>6838</td>\n",
       "    </tr>\n",
       "    <tr>\n",
       "      <th>2</th>\n",
       "      <td>0-2</td>\n",
       "      <td>4520</td>\n",
       "      <td>1646</td>\n",
       "      <td>6166</td>\n",
       "    </tr>\n",
       "    <tr>\n",
       "      <th>3</th>\n",
       "      <td>0-3</td>\n",
       "      <td>4816</td>\n",
       "      <td>1662</td>\n",
       "      <td>6478</td>\n",
       "    </tr>\n",
       "    <tr>\n",
       "      <th>4</th>\n",
       "      <td>0-4</td>\n",
       "      <td>4029</td>\n",
       "      <td>1701</td>\n",
       "      <td>5730</td>\n",
       "    </tr>\n",
       "    <tr>\n",
       "      <th>5</th>\n",
       "      <td>0-5</td>\n",
       "      <td>6991</td>\n",
       "      <td>716</td>\n",
       "      <td>7707</td>\n",
       "    </tr>\n",
       "    <tr>\n",
       "      <th>6</th>\n",
       "      <td>0-6</td>\n",
       "      <td>5488</td>\n",
       "      <td>1408</td>\n",
       "      <td>6896</td>\n",
       "    </tr>\n",
       "    <tr>\n",
       "      <th>7</th>\n",
       "      <td>0-7</td>\n",
       "      <td>7666</td>\n",
       "      <td>1144</td>\n",
       "      <td>8810</td>\n",
       "    </tr>\n",
       "    <tr>\n",
       "      <th>8</th>\n",
       "      <td>0-8</td>\n",
       "      <td>7165</td>\n",
       "      <td>1425</td>\n",
       "      <td>8590</td>\n",
       "    </tr>\n",
       "    <tr>\n",
       "      <th>9</th>\n",
       "      <td>0-9</td>\n",
       "      <td>4176</td>\n",
       "      <td>1145</td>\n",
       "      <td>5321</td>\n",
       "    </tr>\n",
       "    <tr>\n",
       "      <th>10</th>\n",
       "      <td>0-10</td>\n",
       "      <td>4036</td>\n",
       "      <td>1317</td>\n",
       "      <td>5353</td>\n",
       "    </tr>\n",
       "  </tbody>\n",
       "</table>\n",
       "</div>"
      ],
      "text/plain": [
       "   names  MS2_IDs  MBR_IDs  Total_IDs\n",
       "0    0-0     4743     1526       6269\n",
       "1    0-1     5298     1540       6838\n",
       "2    0-2     4520     1646       6166\n",
       "3    0-3     4816     1662       6478\n",
       "4    0-4     4029     1701       5730\n",
       "5    0-5     6991      716       7707\n",
       "6    0-6     5488     1408       6896\n",
       "7    0-7     7666     1144       8810\n",
       "8    0-8     7165     1425       8590\n",
       "9    0-9     4176     1145       5321\n",
       "10  0-10     4036     1317       5353"
      ]
     },
     "metadata": {},
     "output_type": "display_data"
    },
    {
     "data": {
      "text/html": [
       "<div>\n",
       "<style scoped>\n",
       "    .dataframe tbody tr th:only-of-type {\n",
       "        vertical-align: middle;\n",
       "    }\n",
       "\n",
       "    .dataframe tbody tr th {\n",
       "        vertical-align: top;\n",
       "    }\n",
       "\n",
       "    .dataframe thead th {\n",
       "        text-align: right;\n",
       "    }\n",
       "</style>\n",
       "<table border=\"1\" class=\"dataframe\">\n",
       "  <thead>\n",
       "    <tr style=\"text-align: right;\">\n",
       "      <th></th>\n",
       "      <th>Run Names</th>\n",
       "      <th>Run Identifier</th>\n",
       "      <th>Processing App</th>\n",
       "      <th>Analysis Name</th>\n",
       "    </tr>\n",
       "  </thead>\n",
       "  <tbody>\n",
       "    <tr>\n",
       "      <th>0</th>\n",
       "      <td>DeuteriumlabledMousePsoasmuscleProteomics_0164...</td>\n",
       "      <td>0-0</td>\n",
       "      <td>PD</td>\n",
       "      <td>/Users/parkerreyes/Documents/ByuWinter24/Kelly...</td>\n",
       "    </tr>\n",
       "    <tr>\n",
       "      <th>1</th>\n",
       "      <td>DeuteriumlabledMousePsoasmuscleProteomics_0165...</td>\n",
       "      <td>0-1</td>\n",
       "      <td>PD</td>\n",
       "      <td>/Users/parkerreyes/Documents/ByuWinter24/Kelly...</td>\n",
       "    </tr>\n",
       "    <tr>\n",
       "      <th>2</th>\n",
       "      <td>DeuteriumlabledMousePsoasmuscleProteomics_0166...</td>\n",
       "      <td>0-2</td>\n",
       "      <td>PD</td>\n",
       "      <td>/Users/parkerreyes/Documents/ByuWinter24/Kelly...</td>\n",
       "    </tr>\n",
       "    <tr>\n",
       "      <th>3</th>\n",
       "      <td>DeuteriumlabledMousePsoasmuscleProteomics_0167...</td>\n",
       "      <td>0-3</td>\n",
       "      <td>PD</td>\n",
       "      <td>/Users/parkerreyes/Documents/ByuWinter24/Kelly...</td>\n",
       "    </tr>\n",
       "    <tr>\n",
       "      <th>4</th>\n",
       "      <td>DeuteriumlabledMousePsoasmuscleProteomics_0176...</td>\n",
       "      <td>0-4</td>\n",
       "      <td>PD</td>\n",
       "      <td>/Users/parkerreyes/Documents/ByuWinter24/Kelly...</td>\n",
       "    </tr>\n",
       "    <tr>\n",
       "      <th>5</th>\n",
       "      <td>DeuteriumlabledMousePsoasmuscleProteomics_0178...</td>\n",
       "      <td>0-5</td>\n",
       "      <td>PD</td>\n",
       "      <td>/Users/parkerreyes/Documents/ByuWinter24/Kelly...</td>\n",
       "    </tr>\n",
       "    <tr>\n",
       "      <th>6</th>\n",
       "      <td>DeuteriumlabledMousePsoasmuscleProteomics_0179...</td>\n",
       "      <td>0-6</td>\n",
       "      <td>PD</td>\n",
       "      <td>/Users/parkerreyes/Documents/ByuWinter24/Kelly...</td>\n",
       "    </tr>\n",
       "    <tr>\n",
       "      <th>7</th>\n",
       "      <td>Normal_0139_saline__Ult_std_2hr_rep1O1_2023111...</td>\n",
       "      <td>0-7</td>\n",
       "      <td>PD</td>\n",
       "      <td>/Users/parkerreyes/Documents/ByuWinter24/Kelly...</td>\n",
       "    </tr>\n",
       "    <tr>\n",
       "      <th>8</th>\n",
       "      <td>Normal_0140_saline__Ult_std_2hr_rep1O1_2023111...</td>\n",
       "      <td>0-8</td>\n",
       "      <td>PD</td>\n",
       "      <td>/Users/parkerreyes/Documents/ByuWinter24/Kelly...</td>\n",
       "    </tr>\n",
       "    <tr>\n",
       "      <th>9</th>\n",
       "      <td>Normal_0142_rHsGal-1__Ult_std_2hr_rep1O1_20231...</td>\n",
       "      <td>0-9</td>\n",
       "      <td>PD</td>\n",
       "      <td>/Users/parkerreyes/Documents/ByuWinter24/Kelly...</td>\n",
       "    </tr>\n",
       "    <tr>\n",
       "      <th>10</th>\n",
       "      <td>Normal_0145_rHsGal-1__Ult_std_2hr_rep1O1_20231...</td>\n",
       "      <td>0-10</td>\n",
       "      <td>PD</td>\n",
       "      <td>/Users/parkerreyes/Documents/ByuWinter24/Kelly...</td>\n",
       "    </tr>\n",
       "  </tbody>\n",
       "</table>\n",
       "</div>"
      ],
      "text/plain": [
       "                                            Run Names Run Identifier  \\\n",
       "0   DeuteriumlabledMousePsoasmuscleProteomics_0164...            0-0   \n",
       "1   DeuteriumlabledMousePsoasmuscleProteomics_0165...            0-1   \n",
       "2   DeuteriumlabledMousePsoasmuscleProteomics_0166...            0-2   \n",
       "3   DeuteriumlabledMousePsoasmuscleProteomics_0167...            0-3   \n",
       "4   DeuteriumlabledMousePsoasmuscleProteomics_0176...            0-4   \n",
       "5   DeuteriumlabledMousePsoasmuscleProteomics_0178...            0-5   \n",
       "6   DeuteriumlabledMousePsoasmuscleProteomics_0179...            0-6   \n",
       "7   Normal_0139_saline__Ult_std_2hr_rep1O1_2023111...            0-7   \n",
       "8   Normal_0140_saline__Ult_std_2hr_rep1O1_2023111...            0-8   \n",
       "9   Normal_0142_rHsGal-1__Ult_std_2hr_rep1O1_20231...            0-9   \n",
       "10  Normal_0145_rHsGal-1__Ult_std_2hr_rep1O1_20231...           0-10   \n",
       "\n",
       "   Processing App                                      Analysis Name  \n",
       "0              PD  /Users/parkerreyes/Documents/ByuWinter24/Kelly...  \n",
       "1              PD  /Users/parkerreyes/Documents/ByuWinter24/Kelly...  \n",
       "2              PD  /Users/parkerreyes/Documents/ByuWinter24/Kelly...  \n",
       "3              PD  /Users/parkerreyes/Documents/ByuWinter24/Kelly...  \n",
       "4              PD  /Users/parkerreyes/Documents/ByuWinter24/Kelly...  \n",
       "5              PD  /Users/parkerreyes/Documents/ByuWinter24/Kelly...  \n",
       "6              PD  /Users/parkerreyes/Documents/ByuWinter24/Kelly...  \n",
       "7              PD  /Users/parkerreyes/Documents/ByuWinter24/Kelly...  \n",
       "8              PD  /Users/parkerreyes/Documents/ByuWinter24/Kelly...  \n",
       "9              PD  /Users/parkerreyes/Documents/ByuWinter24/Kelly...  \n",
       "10             PD  /Users/parkerreyes/Documents/ByuWinter24/Kelly...  "
      ]
     },
     "metadata": {},
     "output_type": "display_data"
    },
    {
     "data": {
      "text/html": [
       "<div>\n",
       "<style scoped>\n",
       "    .dataframe tbody tr th:only-of-type {\n",
       "        vertical-align: middle;\n",
       "    }\n",
       "\n",
       "    .dataframe tbody tr th {\n",
       "        vertical-align: top;\n",
       "    }\n",
       "\n",
       "    .dataframe thead th {\n",
       "        text-align: right;\n",
       "    }\n",
       "</style>\n",
       "<table border=\"1\" class=\"dataframe\">\n",
       "  <thead>\n",
       "    <tr style=\"text-align: right;\">\n",
       "      <th></th>\n",
       "      <th>names</th>\n",
       "      <th>MS2_IDs</th>\n",
       "      <th>MBR_IDs</th>\n",
       "      <th>Total_IDs</th>\n",
       "    </tr>\n",
       "  </thead>\n",
       "  <tbody>\n",
       "    <tr>\n",
       "      <th>0</th>\n",
       "      <td>0-0</td>\n",
       "      <td>603</td>\n",
       "      <td>127</td>\n",
       "      <td>730</td>\n",
       "    </tr>\n",
       "    <tr>\n",
       "      <th>1</th>\n",
       "      <td>0-1</td>\n",
       "      <td>640</td>\n",
       "      <td>145</td>\n",
       "      <td>785</td>\n",
       "    </tr>\n",
       "    <tr>\n",
       "      <th>2</th>\n",
       "      <td>0-2</td>\n",
       "      <td>586</td>\n",
       "      <td>146</td>\n",
       "      <td>732</td>\n",
       "    </tr>\n",
       "    <tr>\n",
       "      <th>3</th>\n",
       "      <td>0-3</td>\n",
       "      <td>613</td>\n",
       "      <td>138</td>\n",
       "      <td>751</td>\n",
       "    </tr>\n",
       "    <tr>\n",
       "      <th>4</th>\n",
       "      <td>0-4</td>\n",
       "      <td>601</td>\n",
       "      <td>140</td>\n",
       "      <td>741</td>\n",
       "    </tr>\n",
       "    <tr>\n",
       "      <th>5</th>\n",
       "      <td>0-5</td>\n",
       "      <td>1097</td>\n",
       "      <td>34</td>\n",
       "      <td>1131</td>\n",
       "    </tr>\n",
       "    <tr>\n",
       "      <th>6</th>\n",
       "      <td>0-6</td>\n",
       "      <td>752</td>\n",
       "      <td>114</td>\n",
       "      <td>866</td>\n",
       "    </tr>\n",
       "    <tr>\n",
       "      <th>7</th>\n",
       "      <td>0-7</td>\n",
       "      <td>975</td>\n",
       "      <td>63</td>\n",
       "      <td>1038</td>\n",
       "    </tr>\n",
       "    <tr>\n",
       "      <th>8</th>\n",
       "      <td>0-8</td>\n",
       "      <td>907</td>\n",
       "      <td>87</td>\n",
       "      <td>994</td>\n",
       "    </tr>\n",
       "    <tr>\n",
       "      <th>9</th>\n",
       "      <td>0-9</td>\n",
       "      <td>534</td>\n",
       "      <td>119</td>\n",
       "      <td>653</td>\n",
       "    </tr>\n",
       "    <tr>\n",
       "      <th>10</th>\n",
       "      <td>0-10</td>\n",
       "      <td>574</td>\n",
       "      <td>132</td>\n",
       "      <td>706</td>\n",
       "    </tr>\n",
       "  </tbody>\n",
       "</table>\n",
       "</div>"
      ],
      "text/plain": [
       "   names  MS2_IDs  MBR_IDs  Total_IDs\n",
       "0    0-0      603      127        730\n",
       "1    0-1      640      145        785\n",
       "2    0-2      586      146        732\n",
       "3    0-3      613      138        751\n",
       "4    0-4      601      140        741\n",
       "5    0-5     1097       34       1131\n",
       "6    0-6      752      114        866\n",
       "7    0-7      975       63       1038\n",
       "8    0-8      907       87        994\n",
       "9    0-9      534      119        653\n",
       "10  0-10      574      132        706"
      ]
     },
     "metadata": {},
     "output_type": "display_data"
    }
   ],
   "source": [
    "\n",
    "#ID plot(protein and peptides)\n",
    "plot_options={\n",
    "            \"mean label\": \"True\",\n",
    "            \"error bar\": \"ci95\", #None, stdev, or ci95\n",
    "            \"X Title\": \"Conditions\",\n",
    "            # \"Y Title\": \"protein Identification (MBR)\",\n",
    "            \"color\": [\"#3E6990\", \"#7aa8e6\",\"#AABD8C\", \"#E9E3B4\", \"#C6878F\", \"#fac8d3\",\"#F39B6D\",  \"pink\",\n",
    "                  \"orange\", \"brown\", \"pink\", \"gray\", \"olive\", \"cyan\", \"black\",\"red\",\n",
    "                  \"yellow\",\"green\",\"blue\",\"indigo\",\"violet\"],\n",
    "            \"width\": 700,\n",
    "            \"height\": 450,\n",
    "            \"font\": dict(size=16, family=\"Arial black\"),\n",
    "            \"ID mode\": \"total\",#grouped, total, MS2, grouped_stacked, stacked\n",
    "            \"Group By X\": \"Gradient Length\", #ID_Mode does MS2 vs MBR\n",
    "            \"Group By Color\": \"Acquisition Mode\",#ID_Mode does MS2 vs MBR\n",
    "            \"Group By Stack\": \"ID_Mode\",#ID_Mode does MS2 vs MBR\n",
    "        }\n",
    "plot_options[\"plot_type\"] = \"2\" # \"1\" is protein, \"2\" is peptide\n",
    "if plot_options[\"plot_type\"] == \"1\":\n",
    "    plot_options[\"Y Title\"] = \"Protein Identification (MBR)\"\n",
    "elif plot_options[\"plot_type\"] == \"2\":\n",
    "    plot_options[\"Y Title\"] = \"Peptide Identification (MBR)\"\n",
    "figure ,_ ,_ =ID_plots(data_obj, plot_options, saved_settings)\n",
    "figure.show()\n",
    "display(data_obj[\"peptide_ID_Summary\"])\n",
    "display(data_obj[\"run_metadata\"])\n",
    "display(data_obj[\"protein_ID_Summary\"])"
   ]
  },
  {
   "cell_type": "code",
   "execution_count": 31,
   "id": "6ac3cdc7",
   "metadata": {},
   "outputs": [
    {
     "name": "stderr",
     "output_type": "stream",
     "text": [
      "/Library/Frameworks/Python.framework/Versions/3.12/lib/python3.12/site-packages/plotly/express/_core.py:2065: FutureWarning:\n",
      "\n",
      "When grouping with a length-1 list-like, you will need to pass a length-1 tuple to get_group in a future version of pandas. Pass `(name,)` instead of `name` to silence this warning.\n",
      "\n"
     ]
    },
    {
     "name": "stdout",
     "output_type": "stream",
     "text": [
      "Downloading links...\n"
     ]
    },
    {
     "data": {
      "application/vnd.plotly.v1+json": {
       "config": {
        "plotlyServerURL": "https://plot.ly"
       },
       "data": [
        {
         "alignmentgroup": "True",
         "box": {
          "visible": false
         },
         "hovertemplate": "Conditions=%{x}<br>CV=%{y}<extra></extra>",
         "legendgroup": "saline",
         "marker": {
          "color": "#3E6990"
         },
         "name": "saline",
         "offsetgroup": "saline",
         "orientation": "v",
         "scalegroup": "True",
         "showlegend": true,
         "type": "violin",
         "x": [
          "saline",
          "saline",
          "saline",
          "saline",
          "saline",
          "saline",
          "saline",
          "saline",
          "saline",
          "saline",
          "saline",
          "saline",
          "saline",
          "saline",
          "saline",
          "saline",
          "saline",
          "saline",
          "saline",
          "saline",
          "saline",
          "saline",
          "saline",
          "saline",
          "saline",
          "saline",
          "saline",
          "saline",
          "saline",
          "saline",
          "saline",
          "saline",
          "saline",
          "saline",
          "saline",
          "saline",
          "saline",
          "saline",
          "saline",
          "saline",
          "saline",
          "saline",
          "saline",
          "saline",
          "saline",
          "saline",
          "saline",
          "saline",
          "saline",
          "saline",
          "saline",
          "saline",
          "saline",
          "saline",
          "saline",
          "saline",
          "saline",
          "saline",
          "saline",
          "saline",
          "saline",
          "saline",
          "saline",
          "saline",
          "saline",
          "saline",
          "saline",
          "saline",
          "saline",
          "saline",
          "saline",
          "saline",
          "saline",
          "saline",
          "saline",
          "saline",
          "saline",
          "saline",
          "saline",
          "saline",
          "saline",
          "saline",
          "saline",
          "saline",
          "saline",
          "saline",
          "saline",
          "saline",
          "saline",
          "saline",
          "saline",
          "saline",
          "saline",
          "saline",
          "saline",
          "saline",
          "saline",
          "saline",
          "saline",
          "saline",
          "saline",
          "saline",
          "saline",
          "saline",
          "saline",
          "saline",
          "saline",
          "saline",
          "saline",
          "saline",
          "saline",
          "saline",
          "saline",
          "saline",
          "saline",
          "saline",
          "saline",
          "saline",
          "saline",
          "saline",
          "saline",
          "saline",
          "saline",
          "saline",
          "saline",
          "saline",
          "saline",
          "saline",
          "saline",
          "saline",
          "saline",
          "saline",
          "saline",
          "saline",
          "saline",
          "saline",
          "saline",
          "saline",
          "saline",
          "saline",
          "saline",
          "saline",
          "saline",
          "saline",
          "saline",
          "saline",
          "saline",
          "saline",
          "saline",
          "saline",
          "saline",
          "saline",
          "saline",
          "saline",
          "saline",
          "saline",
          "saline",
          "saline",
          "saline",
          "saline",
          "saline",
          "saline",
          "saline",
          "saline",
          "saline",
          "saline",
          "saline",
          "saline",
          "saline",
          "saline",
          "saline",
          "saline",
          "saline",
          "saline",
          "saline",
          "saline",
          "saline",
          "saline",
          "saline",
          "saline",
          "saline",
          "saline",
          "saline",
          "saline",
          "saline",
          "saline",
          "saline",
          "saline",
          "saline",
          "saline",
          "saline",
          "saline",
          "saline",
          "saline",
          "saline",
          "saline",
          "saline",
          "saline",
          "saline",
          "saline",
          "saline",
          "saline",
          "saline",
          "saline",
          "saline",
          "saline",
          "saline",
          "saline",
          "saline",
          "saline",
          "saline",
          "saline",
          "saline",
          "saline",
          "saline",
          "saline",
          "saline",
          "saline",
          "saline",
          "saline",
          "saline",
          "saline",
          "saline",
          "saline",
          "saline",
          "saline",
          "saline",
          "saline",
          "saline",
          "saline",
          "saline",
          "saline",
          "saline",
          "saline",
          "saline",
          "saline",
          "saline",
          "saline",
          "saline",
          "saline",
          "saline",
          "saline",
          "saline",
          "saline",
          "saline",
          "saline",
          "saline",
          "saline",
          "saline",
          "saline",
          "saline",
          "saline",
          "saline",
          "saline",
          "saline",
          "saline",
          "saline",
          "saline",
          "saline",
          "saline",
          "saline",
          "saline",
          "saline",
          "saline",
          "saline",
          "saline",
          "saline",
          "saline",
          "saline",
          "saline",
          "saline",
          "saline",
          "saline",
          "saline",
          "saline",
          "saline",
          "saline",
          "saline",
          "saline",
          "saline",
          "saline",
          "saline",
          "saline",
          "saline",
          "saline",
          "saline",
          "saline",
          "saline",
          "saline",
          "saline",
          "saline",
          "saline",
          "saline",
          "saline",
          "saline",
          "saline",
          "saline",
          "saline",
          "saline",
          "saline",
          "saline",
          "saline",
          "saline",
          "saline",
          "saline",
          "saline",
          "saline",
          "saline",
          "saline",
          "saline",
          "saline",
          "saline",
          "saline",
          "saline",
          "saline",
          "saline",
          "saline",
          "saline",
          "saline",
          "saline",
          "saline",
          "saline",
          "saline",
          "saline",
          "saline",
          "saline",
          "saline",
          "saline",
          "saline",
          "saline",
          "saline",
          "saline",
          "saline",
          "saline",
          "saline",
          "saline",
          "saline",
          "saline",
          "saline",
          "saline",
          "saline",
          "saline",
          "saline",
          "saline",
          "saline",
          "saline",
          "saline",
          "saline",
          "saline",
          "saline",
          "saline",
          "saline",
          "saline",
          "saline",
          "saline",
          "saline",
          "saline",
          "saline",
          "saline",
          "saline",
          "saline",
          "saline",
          "saline",
          "saline",
          "saline",
          "saline",
          "saline",
          "saline",
          "saline",
          "saline",
          "saline",
          "saline",
          "saline",
          "saline",
          "saline",
          "saline",
          "saline",
          "saline",
          "saline",
          "saline",
          "saline",
          "saline",
          "saline",
          "saline",
          "saline",
          "saline",
          "saline",
          "saline",
          "saline",
          "saline",
          "saline",
          "saline",
          "saline",
          "saline",
          "saline",
          "saline",
          "saline",
          "saline",
          "saline",
          "saline",
          "saline",
          "saline",
          "saline",
          "saline",
          "saline",
          "saline",
          "saline",
          "saline",
          "saline",
          "saline",
          "saline",
          "saline",
          "saline",
          "saline",
          "saline",
          "saline",
          "saline",
          "saline",
          "saline",
          "saline",
          "saline",
          "saline",
          "saline",
          "saline",
          "saline",
          "saline",
          "saline",
          "saline",
          "saline",
          "saline",
          "saline",
          "saline",
          "saline",
          "saline",
          "saline",
          "saline",
          "saline",
          "saline",
          "saline",
          "saline",
          "saline",
          "saline",
          "saline",
          "saline",
          "saline",
          "saline",
          "saline",
          "saline",
          "saline",
          "saline",
          "saline",
          "saline",
          "saline",
          "saline",
          "saline",
          "saline",
          "saline",
          "saline",
          "saline",
          "saline",
          "saline",
          "saline",
          "saline",
          "saline",
          "saline",
          "saline",
          "saline",
          "saline",
          "saline",
          "saline",
          "saline",
          "saline",
          "saline",
          "saline",
          "saline",
          "saline",
          "saline",
          "saline",
          "saline",
          "saline",
          "saline",
          "saline",
          "saline",
          "saline",
          "saline",
          "saline",
          "saline",
          "saline",
          "saline",
          "saline",
          "saline",
          "saline",
          "saline",
          "saline",
          "saline",
          "saline",
          "saline",
          "saline",
          "saline",
          "saline",
          "saline",
          "saline",
          "saline",
          "saline",
          "saline",
          "saline",
          "saline",
          "saline",
          "saline",
          "saline",
          "saline",
          "saline",
          "saline",
          "saline",
          "saline",
          "saline",
          "saline",
          "saline",
          "saline",
          "saline",
          "saline",
          "saline",
          "saline",
          "saline",
          "saline",
          "saline",
          "saline",
          "saline",
          "saline",
          "saline",
          "saline",
          "saline",
          "saline",
          "saline",
          "saline",
          "saline",
          "saline",
          "saline",
          "saline",
          "saline",
          "saline",
          "saline",
          "saline",
          "saline",
          "saline",
          "saline",
          "saline",
          "saline",
          "saline",
          "saline",
          "saline",
          "saline",
          "saline",
          "saline",
          "saline",
          "saline",
          "saline",
          "saline",
          "saline",
          "saline",
          "saline",
          "saline",
          "saline",
          "saline",
          "saline",
          "saline",
          "saline",
          "saline",
          "saline",
          "saline",
          "saline",
          "saline",
          "saline",
          "saline",
          "saline",
          "saline",
          "saline",
          "saline",
          "saline",
          "saline",
          "saline",
          "saline",
          "saline",
          "saline",
          "saline",
          "saline",
          "saline",
          "saline",
          "saline",
          "saline",
          "saline",
          "saline",
          "saline",
          "saline",
          "saline",
          "saline",
          "saline",
          "saline",
          "saline",
          "saline",
          "saline",
          "saline",
          "saline",
          "saline",
          "saline",
          "saline",
          "saline",
          "saline",
          "saline",
          "saline",
          "saline",
          "saline",
          "saline",
          "saline",
          "saline",
          "saline",
          "saline",
          "saline",
          "saline",
          "saline",
          "saline",
          "saline",
          "saline",
          "saline",
          "saline",
          "saline",
          "saline",
          "saline",
          "saline",
          "saline",
          "saline",
          "saline",
          "saline",
          "saline",
          "saline",
          "saline",
          "saline",
          "saline",
          "saline",
          "saline",
          "saline",
          "saline",
          "saline",
          "saline",
          "saline",
          "saline",
          "saline",
          "saline",
          "saline",
          "saline",
          "saline",
          "saline",
          "saline",
          "saline",
          "saline",
          "saline",
          "saline",
          "saline",
          "saline",
          "saline",
          "saline",
          "saline",
          "saline",
          "saline",
          "saline",
          "saline",
          "saline",
          "saline",
          "saline",
          "saline",
          "saline",
          "saline",
          "saline",
          "saline",
          "saline",
          "saline",
          "saline",
          "saline",
          "saline",
          "saline",
          "saline",
          "saline",
          "saline",
          "saline",
          "saline",
          "saline",
          "saline",
          "saline",
          "saline",
          "saline",
          "saline",
          "saline",
          "saline",
          "saline",
          "saline",
          "saline",
          "saline",
          "saline",
          "saline",
          "saline",
          "saline",
          "saline",
          "saline",
          "saline",
          "saline",
          "saline",
          "saline",
          "saline",
          "saline",
          "saline",
          "saline",
          "saline",
          "saline",
          "saline",
          "saline",
          "saline",
          "saline",
          "saline",
          "saline",
          "saline",
          "saline",
          "saline",
          "saline",
          "saline",
          "saline",
          "saline",
          "saline",
          "saline",
          "saline",
          "saline",
          "saline",
          "saline",
          "saline",
          "saline",
          "saline",
          "saline",
          "saline",
          "saline",
          "saline",
          "saline",
          "saline",
          "saline",
          "saline",
          "saline",
          "saline",
          "saline",
          "saline",
          "saline",
          "saline",
          "saline",
          "saline"
         ],
         "x0": " ",
         "xaxis": "x",
         "y": [
          21.803968386957546,
          46.23134650209028,
          47.69285347992131,
          70.90228923104412,
          19.429176386680556,
          17.177758382560746,
          33.358565055176,
          77.53808198786541,
          23.865292228228096,
          70.42679917755396,
          62.28967505198105,
          null,
          26.25100882496302,
          25.27954581162325,
          39.4951402556075,
          36.247593503849274,
          69.78724212557064,
          51.728518251756874,
          17.13575255859198,
          28.17903911672794,
          19.207467070865945,
          23.5031513497817,
          10.808345424644836,
          18.984920344436954,
          22.958914507025305,
          17.50429500990151,
          19.61837600796593,
          20.182949845672383,
          46.77039705071852,
          61.72556998539759,
          41.99242779422883,
          12.33976717397943,
          30.10409798774387,
          30.19730520042622,
          23.454257534613035,
          7.035286608446484,
          53.87161290414901,
          48.77573256363118,
          28.68130318787707,
          34.911267624514295,
          32.4455922812016,
          48.49071057910011,
          44.15521703654507,
          50.8450762730684,
          84.22711310486515,
          27.53821076193545,
          41.57323461901207,
          35.33307321227988,
          null,
          74.81735217076071,
          28.806503328226817,
          37.70466637078885,
          21.60098430912768,
          52.04839589159281,
          25.68912792346238,
          21.057643878570914,
          19.650296186040627,
          69.84324183276716,
          48.99517199208379,
          41.32458741652568,
          78.30616190236546,
          67.04128093668571,
          69.4640085598144,
          28.58692434805212,
          68.69600577305481,
          22.20532109964238,
          60.50265380740765,
          70.22500235746715,
          29.678292991667583,
          22.85410487842076,
          19.713228357419695,
          48.33970018533917,
          54.175256259390224,
          32.311545842346,
          48.604552123131626,
          29.37384713595132,
          62.593839908258765,
          81.61518572181987,
          26.162752627035434,
          31.938809793862934,
          35.90949862549204,
          18.23904136278413,
          15.412739390370897,
          73.56184151621758,
          19.086942899191875,
          24.838824179818932,
          91.8586869144115,
          21.986313923039244,
          27.648419863957308,
          21.539872651024847,
          58.28407507295875,
          60.11815956336868,
          46.42047705313735,
          61.11729161109671,
          130.67257285769256,
          30.68980834802594,
          39.884634513615865,
          74.03897521663437,
          40.59010322770909,
          46.361036475518816,
          39.81543613591757,
          24.692259495373715,
          44.16413615097646,
          57.15403925678713,
          22.989229557582153,
          77.30204082628991,
          22.82333380875818,
          35.17896262729135,
          43.7559716522681,
          55.13314101676047,
          59.005280383055826,
          58.10563169441443,
          29.22559873941562,
          37.69086381395292,
          13.676343944528115,
          32.33411855950582,
          20.932315245986253,
          21.39712511924356,
          43.374833419621766,
          57.12067138210371,
          8.960294821669969,
          21.556240020103694,
          46.93346003043033,
          34.15387932436217,
          108.1267176448165,
          63.67520861082576,
          42.73248900313895,
          20.42587101185969,
          47.58095704301286,
          39.22649208055582,
          45.17148716727762,
          35.514396523464086,
          27.39523363900182,
          18.24000822876031,
          63.850294577964775,
          31.62826180051088,
          68.3243090765562,
          27.424592546612818,
          81.37887112697642,
          84.40385490204451,
          36.38874098514069,
          22.080195616370023,
          33.79972334155642,
          29.540296229184097,
          30.207891575417413,
          27.640963263236724,
          31.65244845172177,
          23.623426072436573,
          18.591540962437676,
          17.536470030695366,
          20.598166890323412,
          106.48587087837262,
          80.56186778738147,
          80.62551594118557,
          27.99157808994821,
          42.985894125146345,
          11.85142356636433,
          21.619362955438902,
          18.128914258234715,
          64.65031947512543,
          44.688108840807885,
          72.94354176169273,
          20.508922948123562,
          null,
          23.648314363010233,
          23.852269855373116,
          45.90100593670192,
          21.74157856031421,
          15.217925978047674,
          26.75551381693327,
          33.324103691096674,
          127.96853291125876,
          31.297171650364785,
          24.748013246941706,
          183.43741164935275,
          82.4368229492689,
          16.76592290450468,
          69.85600783306953,
          56.628275462299996,
          27.22950613665992,
          45.09228910117311,
          10.043922168428761,
          45.05535908171136,
          48.53357960613955,
          15.237464342822019,
          15.559134963268137,
          44.549767204489804,
          27.47869520127753,
          64.3368069918258,
          28.836402971137353,
          33.56891416763338,
          26.47215464441799,
          59.728451510866456,
          83.27124051157344,
          30.021399345323864,
          30.281211254190556,
          61.74121156208847,
          57.98801217923708,
          38.330192322390666,
          47.48411204991998,
          42.00965700817303,
          21.583540025724325,
          28.638643992810593,
          28.90340432407364,
          77.69029993296225,
          31.348502493147034,
          35.74889032234502,
          40.53493004771841,
          34.209851016918975,
          24.700472351977524,
          23.513204776842205,
          35.62659251245851,
          53.1252004388295,
          55.470148756637315,
          15.261680752093266,
          52.66526075762199,
          48.18922799982375,
          28.589194243735378,
          60.78450220752119,
          33.96207669479948,
          25.60905631705021,
          23.948035095892603,
          null,
          44.31370915039898,
          41.899663739227464,
          36.226030733935524,
          75.75274292489357,
          22.528967554127686,
          61.91376920112592,
          28.9629177494761,
          18.972343880477208,
          12.09472487052038,
          21.964542674500333,
          37.596810183719015,
          104.64438861954297,
          81.93391168198812,
          25.18307715370407,
          23.358991733882362,
          90.20376412051566,
          31.013966583150893,
          38.643591225915245,
          null,
          30.7438571515197,
          142.84729673999612,
          19.726003768224302,
          44.071466176717486,
          26.598943197801788,
          17.674893256691618,
          21.354036496769467,
          53.344181112623914,
          null,
          53.09942866445394,
          null,
          9.875887417231658,
          43.925605572231404,
          23.214284348834877,
          19.34380241931505,
          18.28221598304741,
          18.177728502782422,
          22.278378510264687,
          61.73881127548111,
          24.03698024691771,
          31.737496092733195,
          19.053717074105748,
          49.515895254681716,
          36.99082091701336,
          null,
          14.339001376332542,
          38.94807692786241,
          47.146470996027205,
          14.138651966425684,
          71.28317609375648,
          12.6520151155576,
          75.46474285107195,
          55.028142469892174,
          39.2654672818534,
          88.91980884855472,
          58.08537156442187,
          27.441420573628772,
          38.74343114495207,
          12.649357573771939,
          48.184217074252224,
          52.835654598144046,
          24.401053521916186,
          18.82923336750204,
          55.04505044257929,
          34.31923979397715,
          99.43069278465224,
          42.31654949908693,
          56.39346663208453,
          70.6537084505847,
          19.819715860946783,
          28.566776523181897,
          12.605625009776562,
          26.52693139217888,
          14.889057343596166,
          22.410517568831303,
          9.191305275812791,
          42.08665119371532,
          12.082893958486757,
          54.530118557492216,
          24.408264185495515,
          17.369748095291246,
          35.23953578520955,
          47.593746604885006,
          31.901963011894864,
          10.188587516277249,
          27.73119357551444,
          19.23784082001299,
          27.231287489184236,
          53.74325859767354,
          15.523782873064224,
          17.166452233752675,
          17.294130685878134,
          25.273644778817932,
          4.629018110924135,
          null,
          21.872511335523345,
          23.475772177023977,
          39.362641402970766,
          15.330503091991693,
          16.563490798154003,
          81.36221585815684,
          33.00815808295964,
          41.61240562661064,
          17.920931990363748,
          35.43345962761722,
          32.217060968696856,
          5.095026771900839,
          35.08654287098851,
          18.899321856830625,
          34.07431619706074,
          39.37879679785169,
          18.00799083416917,
          37.91028505403434,
          22.17154893706041,
          32.743231934877464,
          16.523736464709298,
          26.713946539965534,
          70.38517883804487,
          43.38277992043868,
          21.277262552930157,
          41.57746575482672,
          9.427251712513684,
          73.07016828086816,
          27.473785997351264,
          40.78910769525575,
          24.079969519998578,
          39.355107516918864,
          69.23684728738499,
          22.822711265984143,
          19.809922312170837,
          23.152266658564145,
          32.5735390888017,
          34.948387445821886,
          23.485614077976372,
          102.06145179226888,
          19.68100391245498,
          28.22549731610605,
          12.343856177774198,
          21.134420964528324,
          40.633929953962756,
          28.743431900205994,
          32.63029971232352,
          64.50657838364963,
          44.80335761475046,
          47.32597923172116,
          46.31595770298209,
          16.079300907217643,
          79.71218490662056,
          49.107244572982,
          60.863524085336415,
          45.13212188286192,
          37.54389598562001,
          8.6959246699638,
          6.525523902845339,
          41.11891640909629,
          27.74216293304532,
          88.28383487333498,
          27.668206289509413,
          33.23076004272315,
          16.975997342251333,
          31.167445587714926,
          74.62753140713856,
          26.583092503740968,
          14.66549054947448,
          50.334043427988654,
          34.41177694181559,
          10.704980803346642,
          50.656309318826644,
          40.51413010393763,
          42.863456329905404,
          24.14917069702876,
          55.98323439016818,
          14.787513336014985,
          11.808842639219876,
          11.888966161913153,
          65.54334615471595,
          50.20414977760079,
          30.72187171465459,
          46.78442343902894,
          37.471880402951925,
          39.21560733504453,
          27.147485902833484,
          94.58557552113835,
          36.133870832247936,
          41.55617413287461,
          43.475888803299654,
          31.55333018313446,
          59.12115981287403,
          22.92691947815172,
          35.05928609421895,
          72.04732736524349,
          14.31481796186415,
          41.57095231816291,
          54.652572015369714,
          38.30407034031978,
          51.51540410898695,
          46.2283368062036,
          69.96192303647194,
          22.091426225448803,
          56.349153811757105,
          71.46587317079482,
          24.514120845678796,
          39.094258489818344,
          23.41698992754841,
          55.99967832194711,
          24.14821115924002,
          29.423097979331686,
          26.987033373317455,
          27.335155995522666,
          41.00136636088096,
          34.42187399603645,
          25.11183223808023,
          20.128873863440443,
          95.78031362049505,
          24.26272889444736,
          47.853233962595816,
          21.59396069396047,
          67.48642179584142,
          26.88600003392187,
          61.41721154129635,
          32.601136570191784,
          45.604232672283935,
          55.24583025584185,
          81.81259332549389,
          46.60237405857606,
          31.01563818162093,
          48.14689258187757,
          57.34478851825002,
          38.193442239078905,
          20.766730282994626,
          38.07833016473335,
          24.453363521478057,
          20.305108656991745,
          34.36080307709994,
          52.30005306792054,
          48.82240003296137,
          19.284193412713023,
          20.524752363460195,
          91.22866477204887,
          39.33545451763917,
          35.80706112220113,
          14.727090913149569,
          72.82623432358666,
          28.607952517389418,
          19.787702477905977,
          20.250168028224078,
          35.39308840035218,
          24.574613105978983,
          30.50426648795413,
          61.69885597428082,
          30.406130200133585,
          35.35927361656307,
          20.597544542604904,
          124.85093606570096,
          38.736044952813344,
          7.032220526960084,
          37.18281416081957,
          22.36406083097048,
          29.04505264273715,
          96.00866059880887,
          27.443929624794787,
          47.99413931862209,
          21.04939899597642,
          35.68401681142508,
          117.60760205491894,
          43.19055514272987,
          33.37929031424671,
          44.89453463269075,
          12.810109816221837,
          11.475637504780645,
          25.93459735100775,
          29.33551515033117,
          24.180875779893068,
          18.861967376796745,
          24.815110670535635,
          30.08738518575696,
          30.16914925921649,
          26.428288953885527,
          12.872556216689187,
          18.17400600952655,
          null,
          69.9682310399302,
          22.2001184803963,
          44.03144493761537,
          25.646482891533918,
          40.21671787588995,
          79.62401271788639,
          32.07973870398619,
          31.00259410614582,
          24.533789173348058,
          36.01440849426612,
          27.133123760319883,
          26.762635758470125,
          9.619068651546172,
          54.902173367849215,
          13.902617244238291,
          30.697081015031664,
          58.74747168494741,
          27.361120705842048,
          36.48667887101271,
          20.381496309602557,
          27.319610839772746,
          64.63247632870592,
          29.49203752735651,
          58.72424624643513,
          73.28649091274993,
          42.16035852466407,
          46.267233843840515,
          14.9110376233767,
          27.65156199463424,
          31.318327775457288,
          null,
          49.41738002550249,
          47.076371921021526,
          24.133720780701008,
          27.162570176951796,
          15.88247559615712,
          37.69146708103197,
          21.368013895529785,
          45.77421544424506,
          25.739459161336743,
          null,
          34.668480277282505,
          117.48241979840937,
          37.31471270609153,
          30.574275700797592,
          85.60529522987072,
          67.90836956988768,
          45.923783244509536,
          21.891338432231183,
          59.72550044866202,
          46.94919352480932,
          35.2781296012926,
          null,
          41.792286155369766,
          49.06247789114064,
          76.84858107490345,
          20.174643581425585,
          138.56130878722718,
          33.25854328315954,
          14.865497684752798,
          24.717543101952604,
          52.235970769483686,
          59.57127668937052,
          21.15852537755874,
          25.862024309710367,
          40.974182477552866,
          11.628950495714427,
          64.77460795706196,
          22.31720694242376,
          60.51135412903497,
          83.34090688252262,
          39.846479327941964,
          22.68941496963053,
          13.87673926620246,
          56.659919669171956,
          70.88242544857867,
          59.46852628192747,
          51.74096624166692,
          24.66279580189549,
          64.71458987918344,
          38.78502391177437,
          17.23970935543916,
          67.34437065089104,
          23.153580798593705,
          null,
          78.31265501977933,
          28.19111466109243,
          26.721461408989573,
          36.67851325974515,
          35.327121038512,
          30.84236611272652,
          30.958065774693814,
          31.73792461884448,
          21.748297320130188,
          75.91331353976072,
          25.75035714835009,
          15.433229483376657,
          31.721285135799654,
          22.081789777592974,
          51.59715866236881,
          23.01803568668291,
          31.571154576518467,
          13.307711813674297,
          11.825336772463455,
          44.39881328814051,
          29.228979634416902,
          82.40567939222969,
          35.924833870920395,
          86.32449315463539,
          33.13763431826574,
          32.570027115704775,
          18.09182246220842,
          23.77578583221445,
          18.49818751182241,
          32.25506254624914,
          19.1279899516071,
          null,
          69.81867779634476,
          34.6852408840097,
          36.836597115527205,
          15.237043413607593,
          35.7701765177244,
          26.465856652295088,
          7.765628372310568,
          18.3383937951284,
          51.07612157075797,
          26.658292568508713,
          15.623827103478355,
          36.77400269966744,
          18.521353080908238,
          25.082275768376388,
          35.06222395277959,
          35.21100460739522,
          30.390344385897617,
          29.326096635152428,
          16.6341968691987,
          31.123414987601343,
          12.294421192654415,
          61.60320955955737,
          15.436143266652472,
          37.25929126797097,
          19.57934442965533,
          null,
          20.27247266491469,
          21.085754671625285,
          9.631244628922758,
          9.983969023127884,
          42.25248515747687,
          11.075062147889305,
          44.039958497898766,
          62.08437482364527,
          38.1759152350076,
          46.40472578690847,
          37.46147325678283,
          24.472393332799104,
          33.24613537163514,
          19.514179695792468,
          68.93129925658499,
          21.620303432364338,
          44.27483744098335,
          30.927887448845688,
          36.566677465862234,
          40.157996773364054,
          20.848104869237357,
          11.07528933405691,
          43.64327713765152,
          13.51457805027754,
          32.91282728019544,
          27.26285817755879,
          34.463263964078955,
          26.99305464512449,
          58.17580451757867,
          56.92344908342564,
          8.621740565088146,
          null,
          28.91468360618083,
          39.404124988182645,
          47.95514340690994,
          29.912124507693754,
          22.480972009621876,
          95.0452030881743,
          6.963401309504261,
          19.796427576589295,
          28.044955192181213,
          32.67432237851202,
          10.690680710056395,
          36.022199983049866,
          42.51453681356636,
          44.479331673272846,
          70.48387977771033,
          50.82397290044091,
          20.416243251055224,
          34.07348924000181,
          27.887853421998432,
          24.93065912688009,
          19.731437189570222,
          11.070157391599093,
          61.1980375173908,
          29.33727579460449,
          24.768451859782253,
          42.348760393977386,
          29.9916477989832,
          76.5164197177861,
          29.232130487155743,
          39.36314416649036,
          22.7914750504836,
          65.56237741505232,
          21.50410850149365,
          43.54195444372558,
          36.94455112383868,
          21.422489583827243,
          42.131070031655945,
          102.15178221581478,
          18.308891065998015,
          73.22958641115638,
          41.75859302517529,
          82.61181090727786,
          41.04833633858897,
          92.62969215990877,
          51.12466631736172,
          29.745255176992956,
          30.76674171433324,
          6.262263888761137,
          83.48679317231684,
          36.90741898849023,
          36.307624767700624,
          60.67956812975077,
          48.7629110972888,
          61.72714865480059,
          7.101665525594098,
          30.345780969422282,
          92.86316664234675,
          54.467461546415194,
          null,
          52.03014056942782,
          31.776753186162903,
          null,
          39.69222293022322,
          6.761339167169308,
          70.1372976460239,
          54.82391456339403,
          66.25722149206379,
          27.96610715117739,
          40.97624752830258,
          136.8497631039997,
          38.233900940726265,
          24.684457044755526,
          44.87643690928905
         ],
         "y0": " ",
         "yaxis": "y"
        },
        {
         "alignmentgroup": "True",
         "box": {
          "visible": false
         },
         "hovertemplate": "Conditions=%{x}<br>CV=%{y}<extra></extra>",
         "legendgroup": "rHsGal-1",
         "marker": {
          "color": "#7aa8e6"
         },
         "name": "rHsGal-1",
         "offsetgroup": "rHsGal-1",
         "orientation": "v",
         "scalegroup": "True",
         "showlegend": true,
         "type": "violin",
         "x": [
          "rHsGal-1",
          "rHsGal-1",
          "rHsGal-1",
          "rHsGal-1",
          "rHsGal-1",
          "rHsGal-1",
          "rHsGal-1",
          "rHsGal-1",
          "rHsGal-1",
          "rHsGal-1",
          "rHsGal-1",
          "rHsGal-1",
          "rHsGal-1",
          "rHsGal-1",
          "rHsGal-1",
          "rHsGal-1",
          "rHsGal-1",
          "rHsGal-1",
          "rHsGal-1",
          "rHsGal-1",
          "rHsGal-1",
          "rHsGal-1",
          "rHsGal-1",
          "rHsGal-1",
          "rHsGal-1",
          "rHsGal-1",
          "rHsGal-1",
          "rHsGal-1",
          "rHsGal-1",
          "rHsGal-1",
          "rHsGal-1",
          "rHsGal-1",
          "rHsGal-1",
          "rHsGal-1",
          "rHsGal-1",
          "rHsGal-1",
          "rHsGal-1",
          "rHsGal-1",
          "rHsGal-1",
          "rHsGal-1",
          "rHsGal-1",
          "rHsGal-1",
          "rHsGal-1",
          "rHsGal-1",
          "rHsGal-1",
          "rHsGal-1",
          "rHsGal-1",
          "rHsGal-1",
          "rHsGal-1",
          "rHsGal-1",
          "rHsGal-1",
          "rHsGal-1",
          "rHsGal-1",
          "rHsGal-1",
          "rHsGal-1",
          "rHsGal-1",
          "rHsGal-1",
          "rHsGal-1",
          "rHsGal-1",
          "rHsGal-1",
          "rHsGal-1",
          "rHsGal-1",
          "rHsGal-1",
          "rHsGal-1",
          "rHsGal-1",
          "rHsGal-1",
          "rHsGal-1",
          "rHsGal-1",
          "rHsGal-1",
          "rHsGal-1",
          "rHsGal-1",
          "rHsGal-1",
          "rHsGal-1",
          "rHsGal-1",
          "rHsGal-1",
          "rHsGal-1",
          "rHsGal-1",
          "rHsGal-1",
          "rHsGal-1",
          "rHsGal-1",
          "rHsGal-1",
          "rHsGal-1",
          "rHsGal-1",
          "rHsGal-1",
          "rHsGal-1",
          "rHsGal-1",
          "rHsGal-1",
          "rHsGal-1",
          "rHsGal-1",
          "rHsGal-1",
          "rHsGal-1",
          "rHsGal-1",
          "rHsGal-1",
          "rHsGal-1",
          "rHsGal-1",
          "rHsGal-1",
          "rHsGal-1",
          "rHsGal-1",
          "rHsGal-1",
          "rHsGal-1",
          "rHsGal-1",
          "rHsGal-1",
          "rHsGal-1",
          "rHsGal-1",
          "rHsGal-1",
          "rHsGal-1",
          "rHsGal-1",
          "rHsGal-1",
          "rHsGal-1",
          "rHsGal-1",
          "rHsGal-1",
          "rHsGal-1",
          "rHsGal-1",
          "rHsGal-1",
          "rHsGal-1",
          "rHsGal-1",
          "rHsGal-1",
          "rHsGal-1",
          "rHsGal-1",
          "rHsGal-1",
          "rHsGal-1",
          "rHsGal-1",
          "rHsGal-1",
          "rHsGal-1",
          "rHsGal-1",
          "rHsGal-1",
          "rHsGal-1",
          "rHsGal-1",
          "rHsGal-1",
          "rHsGal-1",
          "rHsGal-1",
          "rHsGal-1",
          "rHsGal-1",
          "rHsGal-1",
          "rHsGal-1",
          "rHsGal-1",
          "rHsGal-1",
          "rHsGal-1",
          "rHsGal-1",
          "rHsGal-1",
          "rHsGal-1",
          "rHsGal-1",
          "rHsGal-1",
          "rHsGal-1",
          "rHsGal-1",
          "rHsGal-1",
          "rHsGal-1",
          "rHsGal-1",
          "rHsGal-1",
          "rHsGal-1",
          "rHsGal-1",
          "rHsGal-1",
          "rHsGal-1",
          "rHsGal-1",
          "rHsGal-1",
          "rHsGal-1",
          "rHsGal-1",
          "rHsGal-1",
          "rHsGal-1",
          "rHsGal-1",
          "rHsGal-1",
          "rHsGal-1",
          "rHsGal-1",
          "rHsGal-1",
          "rHsGal-1",
          "rHsGal-1",
          "rHsGal-1",
          "rHsGal-1",
          "rHsGal-1",
          "rHsGal-1",
          "rHsGal-1",
          "rHsGal-1",
          "rHsGal-1",
          "rHsGal-1",
          "rHsGal-1",
          "rHsGal-1",
          "rHsGal-1",
          "rHsGal-1",
          "rHsGal-1",
          "rHsGal-1",
          "rHsGal-1",
          "rHsGal-1",
          "rHsGal-1",
          "rHsGal-1",
          "rHsGal-1",
          "rHsGal-1",
          "rHsGal-1",
          "rHsGal-1",
          "rHsGal-1",
          "rHsGal-1",
          "rHsGal-1",
          "rHsGal-1",
          "rHsGal-1",
          "rHsGal-1",
          "rHsGal-1",
          "rHsGal-1",
          "rHsGal-1",
          "rHsGal-1",
          "rHsGal-1",
          "rHsGal-1",
          "rHsGal-1",
          "rHsGal-1",
          "rHsGal-1",
          "rHsGal-1",
          "rHsGal-1",
          "rHsGal-1",
          "rHsGal-1",
          "rHsGal-1",
          "rHsGal-1",
          "rHsGal-1",
          "rHsGal-1",
          "rHsGal-1",
          "rHsGal-1",
          "rHsGal-1",
          "rHsGal-1",
          "rHsGal-1",
          "rHsGal-1",
          "rHsGal-1",
          "rHsGal-1",
          "rHsGal-1",
          "rHsGal-1",
          "rHsGal-1",
          "rHsGal-1",
          "rHsGal-1",
          "rHsGal-1",
          "rHsGal-1",
          "rHsGal-1",
          "rHsGal-1",
          "rHsGal-1",
          "rHsGal-1",
          "rHsGal-1",
          "rHsGal-1",
          "rHsGal-1",
          "rHsGal-1",
          "rHsGal-1",
          "rHsGal-1",
          "rHsGal-1",
          "rHsGal-1",
          "rHsGal-1",
          "rHsGal-1",
          "rHsGal-1",
          "rHsGal-1",
          "rHsGal-1",
          "rHsGal-1",
          "rHsGal-1",
          "rHsGal-1",
          "rHsGal-1",
          "rHsGal-1",
          "rHsGal-1",
          "rHsGal-1",
          "rHsGal-1",
          "rHsGal-1",
          "rHsGal-1",
          "rHsGal-1",
          "rHsGal-1",
          "rHsGal-1",
          "rHsGal-1",
          "rHsGal-1",
          "rHsGal-1",
          "rHsGal-1",
          "rHsGal-1",
          "rHsGal-1",
          "rHsGal-1",
          "rHsGal-1",
          "rHsGal-1",
          "rHsGal-1",
          "rHsGal-1",
          "rHsGal-1",
          "rHsGal-1",
          "rHsGal-1",
          "rHsGal-1",
          "rHsGal-1",
          "rHsGal-1",
          "rHsGal-1",
          "rHsGal-1",
          "rHsGal-1",
          "rHsGal-1",
          "rHsGal-1",
          "rHsGal-1",
          "rHsGal-1",
          "rHsGal-1",
          "rHsGal-1",
          "rHsGal-1",
          "rHsGal-1",
          "rHsGal-1",
          "rHsGal-1",
          "rHsGal-1",
          "rHsGal-1",
          "rHsGal-1",
          "rHsGal-1",
          "rHsGal-1",
          "rHsGal-1",
          "rHsGal-1",
          "rHsGal-1",
          "rHsGal-1",
          "rHsGal-1",
          "rHsGal-1",
          "rHsGal-1",
          "rHsGal-1",
          "rHsGal-1",
          "rHsGal-1",
          "rHsGal-1",
          "rHsGal-1",
          "rHsGal-1",
          "rHsGal-1",
          "rHsGal-1",
          "rHsGal-1",
          "rHsGal-1",
          "rHsGal-1",
          "rHsGal-1",
          "rHsGal-1",
          "rHsGal-1",
          "rHsGal-1",
          "rHsGal-1",
          "rHsGal-1",
          "rHsGal-1",
          "rHsGal-1",
          "rHsGal-1",
          "rHsGal-1",
          "rHsGal-1",
          "rHsGal-1",
          "rHsGal-1",
          "rHsGal-1",
          "rHsGal-1",
          "rHsGal-1",
          "rHsGal-1",
          "rHsGal-1",
          "rHsGal-1",
          "rHsGal-1",
          "rHsGal-1",
          "rHsGal-1",
          "rHsGal-1",
          "rHsGal-1",
          "rHsGal-1",
          "rHsGal-1",
          "rHsGal-1",
          "rHsGal-1",
          "rHsGal-1",
          "rHsGal-1",
          "rHsGal-1",
          "rHsGal-1",
          "rHsGal-1",
          "rHsGal-1",
          "rHsGal-1",
          "rHsGal-1",
          "rHsGal-1",
          "rHsGal-1",
          "rHsGal-1",
          "rHsGal-1",
          "rHsGal-1",
          "rHsGal-1",
          "rHsGal-1",
          "rHsGal-1",
          "rHsGal-1",
          "rHsGal-1",
          "rHsGal-1",
          "rHsGal-1",
          "rHsGal-1",
          "rHsGal-1",
          "rHsGal-1",
          "rHsGal-1",
          "rHsGal-1",
          "rHsGal-1",
          "rHsGal-1",
          "rHsGal-1",
          "rHsGal-1",
          "rHsGal-1",
          "rHsGal-1",
          "rHsGal-1",
          "rHsGal-1",
          "rHsGal-1",
          "rHsGal-1",
          "rHsGal-1",
          "rHsGal-1",
          "rHsGal-1",
          "rHsGal-1",
          "rHsGal-1",
          "rHsGal-1",
          "rHsGal-1",
          "rHsGal-1",
          "rHsGal-1",
          "rHsGal-1",
          "rHsGal-1",
          "rHsGal-1",
          "rHsGal-1",
          "rHsGal-1",
          "rHsGal-1",
          "rHsGal-1",
          "rHsGal-1",
          "rHsGal-1",
          "rHsGal-1",
          "rHsGal-1",
          "rHsGal-1",
          "rHsGal-1",
          "rHsGal-1",
          "rHsGal-1",
          "rHsGal-1",
          "rHsGal-1",
          "rHsGal-1",
          "rHsGal-1",
          "rHsGal-1",
          "rHsGal-1",
          "rHsGal-1",
          "rHsGal-1",
          "rHsGal-1",
          "rHsGal-1",
          "rHsGal-1",
          "rHsGal-1",
          "rHsGal-1",
          "rHsGal-1",
          "rHsGal-1",
          "rHsGal-1",
          "rHsGal-1",
          "rHsGal-1",
          "rHsGal-1",
          "rHsGal-1",
          "rHsGal-1",
          "rHsGal-1",
          "rHsGal-1",
          "rHsGal-1",
          "rHsGal-1",
          "rHsGal-1",
          "rHsGal-1",
          "rHsGal-1",
          "rHsGal-1",
          "rHsGal-1",
          "rHsGal-1",
          "rHsGal-1",
          "rHsGal-1",
          "rHsGal-1",
          "rHsGal-1",
          "rHsGal-1",
          "rHsGal-1",
          "rHsGal-1",
          "rHsGal-1",
          "rHsGal-1",
          "rHsGal-1",
          "rHsGal-1",
          "rHsGal-1",
          "rHsGal-1",
          "rHsGal-1",
          "rHsGal-1",
          "rHsGal-1",
          "rHsGal-1",
          "rHsGal-1",
          "rHsGal-1",
          "rHsGal-1",
          "rHsGal-1",
          "rHsGal-1",
          "rHsGal-1",
          "rHsGal-1",
          "rHsGal-1",
          "rHsGal-1",
          "rHsGal-1",
          "rHsGal-1",
          "rHsGal-1",
          "rHsGal-1",
          "rHsGal-1",
          "rHsGal-1",
          "rHsGal-1",
          "rHsGal-1",
          "rHsGal-1",
          "rHsGal-1",
          "rHsGal-1",
          "rHsGal-1",
          "rHsGal-1",
          "rHsGal-1",
          "rHsGal-1",
          "rHsGal-1",
          "rHsGal-1",
          "rHsGal-1",
          "rHsGal-1",
          "rHsGal-1",
          "rHsGal-1",
          "rHsGal-1",
          "rHsGal-1",
          "rHsGal-1",
          "rHsGal-1",
          "rHsGal-1",
          "rHsGal-1",
          "rHsGal-1",
          "rHsGal-1",
          "rHsGal-1",
          "rHsGal-1",
          "rHsGal-1",
          "rHsGal-1",
          "rHsGal-1",
          "rHsGal-1",
          "rHsGal-1",
          "rHsGal-1",
          "rHsGal-1",
          "rHsGal-1",
          "rHsGal-1",
          "rHsGal-1",
          "rHsGal-1",
          "rHsGal-1",
          "rHsGal-1",
          "rHsGal-1",
          "rHsGal-1",
          "rHsGal-1",
          "rHsGal-1",
          "rHsGal-1",
          "rHsGal-1",
          "rHsGal-1",
          "rHsGal-1",
          "rHsGal-1",
          "rHsGal-1",
          "rHsGal-1",
          "rHsGal-1",
          "rHsGal-1",
          "rHsGal-1",
          "rHsGal-1",
          "rHsGal-1",
          "rHsGal-1",
          "rHsGal-1",
          "rHsGal-1",
          "rHsGal-1",
          "rHsGal-1",
          "rHsGal-1",
          "rHsGal-1",
          "rHsGal-1",
          "rHsGal-1",
          "rHsGal-1",
          "rHsGal-1",
          "rHsGal-1",
          "rHsGal-1",
          "rHsGal-1",
          "rHsGal-1",
          "rHsGal-1",
          "rHsGal-1",
          "rHsGal-1",
          "rHsGal-1",
          "rHsGal-1",
          "rHsGal-1",
          "rHsGal-1",
          "rHsGal-1",
          "rHsGal-1",
          "rHsGal-1",
          "rHsGal-1",
          "rHsGal-1",
          "rHsGal-1",
          "rHsGal-1",
          "rHsGal-1",
          "rHsGal-1",
          "rHsGal-1",
          "rHsGal-1",
          "rHsGal-1",
          "rHsGal-1",
          "rHsGal-1",
          "rHsGal-1",
          "rHsGal-1",
          "rHsGal-1",
          "rHsGal-1",
          "rHsGal-1",
          "rHsGal-1",
          "rHsGal-1",
          "rHsGal-1",
          "rHsGal-1",
          "rHsGal-1",
          "rHsGal-1",
          "rHsGal-1",
          "rHsGal-1",
          "rHsGal-1",
          "rHsGal-1",
          "rHsGal-1",
          "rHsGal-1",
          "rHsGal-1",
          "rHsGal-1",
          "rHsGal-1",
          "rHsGal-1",
          "rHsGal-1",
          "rHsGal-1",
          "rHsGal-1",
          "rHsGal-1",
          "rHsGal-1",
          "rHsGal-1",
          "rHsGal-1",
          "rHsGal-1",
          "rHsGal-1",
          "rHsGal-1",
          "rHsGal-1",
          "rHsGal-1",
          "rHsGal-1",
          "rHsGal-1",
          "rHsGal-1",
          "rHsGal-1",
          "rHsGal-1",
          "rHsGal-1",
          "rHsGal-1",
          "rHsGal-1",
          "rHsGal-1",
          "rHsGal-1",
          "rHsGal-1",
          "rHsGal-1",
          "rHsGal-1",
          "rHsGal-1",
          "rHsGal-1",
          "rHsGal-1",
          "rHsGal-1",
          "rHsGal-1",
          "rHsGal-1",
          "rHsGal-1",
          "rHsGal-1",
          "rHsGal-1",
          "rHsGal-1",
          "rHsGal-1",
          "rHsGal-1",
          "rHsGal-1",
          "rHsGal-1",
          "rHsGal-1",
          "rHsGal-1",
          "rHsGal-1",
          "rHsGal-1",
          "rHsGal-1",
          "rHsGal-1",
          "rHsGal-1",
          "rHsGal-1",
          "rHsGal-1",
          "rHsGal-1",
          "rHsGal-1",
          "rHsGal-1",
          "rHsGal-1",
          "rHsGal-1",
          "rHsGal-1"
         ],
         "x0": " ",
         "xaxis": "x",
         "y": [
          43.44549041809163,
          91.30585411319298,
          66.83755340615538,
          62.78632148677882,
          30.88271525840763,
          55.8117128015184,
          76.95136424601198,
          50.522181826329636,
          42.161522072556686,
          24.726778160194783,
          67.24907130953656,
          171.4973428799598,
          48.974412128453984,
          140.0254748522042,
          38.03432417656039,
          27.484435158581533,
          35.26259962216589,
          59.169311494980704,
          68.09316718134622,
          29.69389295734984,
          76.70493540730831,
          57.204511277185524,
          31.204083727304248,
          12.413046767118388,
          105.65146170714559,
          26.15294081596975,
          57.910967246745805,
          58.60026767808883,
          54.04126321125035,
          101.98924016805626,
          57.647133784843554,
          85.63541984488269,
          47.00096933682368,
          74.66327869221544,
          24.390394434884495,
          74.7744163447306,
          72.16461329664432,
          17.736123237531874,
          54.846659620870454,
          54.69035286048165,
          null,
          34.23856422043645,
          44.71557878633006,
          137.28893744792273,
          107.955561238162,
          46.707769920723536,
          81.63373443340664,
          86.80477545625902,
          38.39482287545011,
          90.83585636027347,
          56.91697528362526,
          35.15950781610657,
          29.626344826010975,
          64.74860443082176,
          72.04546506332468,
          29.435521201718128,
          25.233681098405302,
          49.83323177584457,
          86.081155758942,
          32.4404668501926,
          36.9364363102398,
          72.97538584746029,
          53.91399684583432,
          18.547661450528818,
          39.09132683711747,
          41.60077462718917,
          71.90906135132201,
          51.54409953796664,
          68.34337854949885,
          50.06601400207751,
          69.87099114325028,
          21.35229624015599,
          107.55364760392271,
          38.68680522115777,
          52.060710028345405,
          21.79275989731165,
          32.21894021856511,
          55.25060760774373,
          132.1803202658193,
          51.54363108232256,
          100.13319625688717,
          63.64830902137659,
          93.41639083352595,
          40.30911692686201,
          53.61288130063937,
          27.175701895770317,
          72.98298684552383,
          106.39761477821048,
          29.127452654861102,
          31.031432656307402,
          35.782131419841775,
          45.119174269256135,
          71.93936261834335,
          83.92497098748412,
          102.99222765075795,
          100.13330430839507,
          61.374169324332485,
          28.789400695186163,
          13.122024859544682,
          24.54168709714667,
          16.218702617910555,
          87.10139797692482,
          63.42155924624028,
          70.6327512405647,
          49.528419268334225,
          49.774857152428794,
          61.02996973050937,
          67.40501489933273,
          52.16869209764469,
          66.26415615849633,
          21.90413164392591,
          39.0057562665759,
          48.45536647219567,
          42.176167494332105,
          70.71277292828945,
          51.45489372042644,
          65.60137160076208,
          34.97071080863236,
          68.06799249238622,
          51.138157798743265,
          48.16281347873711,
          50.334683446656136,
          18.96375815755568,
          15.360027793889142,
          52.99815296805925,
          41.50695140956974,
          24.818999276816484,
          98.4208850024996,
          65.62644684709139,
          42.62432901549481,
          77.82326195562574,
          70.13352098198645,
          74.73891104254982,
          31.30306045392961,
          83.63055334065756,
          39.25854427560434,
          48.227644044508146,
          59.236807585358875,
          20.027400427370594,
          57.758617897172094,
          62.81287050253067,
          26.559169366696693,
          31.90844087879671,
          67.47837091809362,
          46.38634503890583,
          62.7535771362277,
          38.92497466914693,
          31.24534875135051,
          89.06448818482171,
          105.24122907559146,
          79.49010773433022,
          80.6218476084498,
          44.372101993817644,
          53.36068899945386,
          76.82255737020779,
          26.11651584892608,
          42.35092931516263,
          40.00498920665995,
          40.13765382656179,
          37.94586125347897,
          50.45795393109973,
          46.85188091879625,
          48.48581455666961,
          46.66255842451055,
          22.27442905894062,
          77.99068547235662,
          56.47829081702946,
          45.88978712109463,
          108.98736562675546,
          84.96832988493517,
          16.26914094393945,
          46.54631352009154,
          102.28783603393614,
          22.724144247555735,
          39.08685262019545,
          69.2865072728004,
          66.0779636517183,
          144.58524254177095,
          60.49072046907339,
          166.2286630392139,
          87.012088966155,
          31.299255505791795,
          74.00152838860073,
          36.87009324687195,
          40.32286805504177,
          129.4802817114724,
          32.00174733972224,
          24.915025245959338,
          114.7049242606002,
          37.04569857801768,
          45.29559494380839,
          31.972351071753042,
          71.98353217717928,
          51.518520102998664,
          60.452505075099104,
          41.96965096529765,
          77.85596022625421,
          85.68593801639801,
          77.26205620453956,
          53.942740593272774,
          15.10437670883881,
          42.78861035588705,
          35.3934661213925,
          135.43276964661322,
          86.43789630590916,
          22.82568252118989,
          122.92474038274072,
          49.096012263438595,
          79.46193094728878,
          50.887633317545585,
          49.27513425434284,
          83.8078718954811,
          96.35744290450829,
          121.20957918241628,
          107.22629302363526,
          32.20254119036667,
          25.103705720881614,
          52.694893305616034,
          112.70618556600806,
          null,
          29.496802056526384,
          75.64396011390492,
          30.942362621095082,
          29.76276609401723,
          52.423832758808686,
          54.1053617447088,
          48.02123049149731,
          36.79976475031046,
          29.94948683247089,
          36.71131928872824,
          66.11277406744537,
          78.25881773816565,
          42.821958123920766,
          38.93186411136414,
          61.35810903793523,
          23.025649537799733,
          22.6861490401648,
          26.88134092969617,
          68.8169641098831,
          81.65018937578984,
          26.557825171786554,
          32.46640200820611,
          36.26454213092141,
          32.64865225253155,
          26.485151628401542,
          56.970502876312764,
          51.370758682470694,
          49.56135247060917,
          36.84680281324822,
          109.38959276477347,
          86.13486631532643,
          35.77981118924542,
          39.79488523921409,
          26.206530117416538,
          33.29067804331591,
          71.96943123857737,
          22.60772962491852,
          18.128370093495477,
          55.38746541088311,
          39.15559488508457,
          40.07107543937717,
          35.904432740508284,
          26.78156621154995,
          41.12731715303119,
          51.69954621540895,
          45.25418344523042,
          71.02782408982145,
          12.085053121506055,
          41.36732578407397,
          48.973367315195425,
          41.09368347438949,
          53.68394371681489,
          29.22342594951846,
          19.61652861762361,
          50.00819723242335,
          27.23123586482112,
          32.06276490877183,
          26.866819654855227,
          57.860536260471505,
          93.51929618040718,
          47.4680605652143,
          60.93057578598955,
          33.78702689637459,
          39.162462218471475,
          51.410803472403686,
          26.28178708285415,
          45.17081383601315,
          14.632976667130704,
          46.429672172950546,
          51.92850896789516,
          46.94528603095739,
          39.76668451384079,
          53.53510965293257,
          68.63387395926155,
          71.40646685239423,
          86.1996238587571,
          38.827965426650636,
          16.78839832697214,
          96.65613731645001,
          39.535856332127494,
          38.283599523123044,
          53.85214907265002,
          65.1825709555921,
          93.64891384629551,
          91.71514214899054,
          54.49814330388598,
          41.35370715310857,
          52.40994584167127,
          74.08283198113536,
          20.682018003806558,
          63.270683929289184,
          120.61971441278052,
          105.33442320307232,
          20.214312710659726,
          76.8269902599481,
          51.53586037396748,
          31.12623156815421,
          74.11165795957965,
          42.34189328559942,
          134.41659629609936,
          76.69410813011835,
          29.535568718742724,
          33.315926283879094,
          97.8975278322849,
          80.30652442334957,
          112.96055137903895,
          64.85210389667469,
          68.61684638936492,
          39.474859596596026,
          29.075776308111184,
          22.43667975655033,
          58.63217172597369,
          47.47587119751388,
          33.61069863074577,
          38.9860898553913,
          50.91940380394028,
          25.76551397437993,
          101.06202996844478,
          67.6820823501187,
          62.02483354398202,
          24.092644885185177,
          77.84387585398468,
          52.03807064541114,
          51.14082525413044,
          54.629331114373954,
          70.96574181733708,
          68.23936908936028,
          31.702167847645452,
          23.360965558101217,
          49.99621635443918,
          66.49766402461236,
          34.53382374470108,
          94.59927620828635,
          33.69835906494032,
          76.66023512314682,
          32.406292215040786,
          35.9346799002125,
          37.226520586477626,
          26.81087949637379,
          23.543385945797162,
          112.12641029290194,
          100.23875123453503,
          92.75669389655573,
          30.378891950389747,
          63.15754598073195,
          12.255778840415779,
          83.96924102977835,
          78.0662123181715,
          173.6684294388721,
          40.13701769340777,
          56.205944595243494,
          73.58324427717977,
          19.99972854946959,
          47.32895320527165,
          23.53220446972148,
          61.42329659166463,
          20.789091032576593,
          62.117808773095575,
          39.26257743482452,
          49.88404861287121,
          68.95427382730314,
          68.99767211503767,
          88.87761176526747,
          57.27946971959188,
          52.99042658711311,
          15.537874490518384,
          41.71999154892123,
          37.91635026954899,
          116.83592510385313,
          117.63383219507624,
          87.49870944024998,
          72.23075928511753,
          31.37138553086622,
          81.33597379336719,
          77.57750490273509,
          29.77557594168143,
          57.00712889604921,
          49.00600506382055,
          146.26512698214708,
          76.64943233263128,
          25.802682869179446,
          60.44583432371431,
          51.07896351809181,
          16.381977394607446,
          50.204184435186626,
          25.055082251889388,
          55.38928439206868,
          75.94282225420125,
          21.22988877064253,
          79.6217032774303,
          40.85417076545851,
          11.597574489338673,
          61.98405178380626,
          66.49494222589783,
          53.707925937635316,
          37.23084778835995,
          117.59134359499555,
          48.89252529186246,
          74.39037277489436,
          41.731179655450404,
          90.29328517278837,
          59.3112747763992,
          67.61822489795057,
          64.22069702048194,
          29.273136110073068,
          53.52417928544261,
          131.94353284083914,
          23.150178761545764,
          52.7313319213647,
          49.864702900350686,
          71.0714969904434,
          22.394945842788594,
          42.941796057222156,
          null,
          60.34683746934374,
          61.82529799987402,
          18.432570537276106,
          69.78607431930386,
          60.04290099693863,
          34.690625495413194,
          51.9360863138146,
          28.30061790487041,
          45.44577451432968,
          80.01961726282968,
          30.456466535190955,
          38.45470007135845,
          35.28741297014844,
          68.94655136635541,
          47.09105446881935,
          37.047310494401174,
          45.77450675677643,
          85.66176627736955,
          44.55962314957511,
          41.53356691762108,
          39.96152277756221,
          104.13725414071652,
          20.28879501786358,
          45.894511654537794,
          18.119030998793345,
          43.614261556492515,
          24.33808332527774,
          7.075588339484786,
          70.72906127466376,
          49.039233984898694,
          45.287777204078964,
          34.42443231886061,
          91.05665200058831,
          53.576572555773005,
          48.26922800494841,
          33.70519602786343,
          74.7105532532948,
          82.24948419442025,
          56.21540735723794,
          67.34819417430037,
          48.99712390144963,
          73.98069555233423,
          27.62444832114918,
          52.5529412868973,
          21.62172079262581,
          24.351075498598952,
          38.33079754841075,
          37.22534978440281,
          53.88198362508074,
          58.9769250211587,
          44.83328687122533,
          50.658963782865875,
          89.49754689524244,
          62.06979631346008,
          62.62368675337873,
          40.192649086363865,
          74.48068715828391,
          77.62705244046543,
          53.22599671205286,
          54.24626376586852,
          116.45749366756513,
          44.79887769893515,
          19.68263131136071,
          41.98588089737672,
          50.697276875669985,
          21.00930392338784,
          25.64277447459158,
          null,
          45.36685525063422,
          32.20139072021574,
          99.32831991586816,
          30.945071585294105,
          45.97025784491957,
          53.07098919521707,
          78.92832803899591,
          30.982334506676246,
          58.678896686265944,
          33.80388744770828,
          69.85088801006393,
          51.12216243949285,
          35.41275675332041,
          39.39051156406996,
          73.10646234195386,
          72.43080724407002,
          35.01709787910093,
          35.910003791574944,
          41.47115387224408,
          54.20573258155672,
          49.995893192135185,
          32.833654592677966,
          48.89519118283962,
          38.970518535019394,
          37.15803908851437,
          112.75003438464388,
          57.3322576643619,
          152.3381234219762,
          47.88324863217491,
          44.15506884775396,
          58.58878786564444,
          48.08403251114606,
          39.62371829694491,
          22.760896170326255,
          53.61254042516563,
          39.9149244646477,
          25.83675856791364,
          35.19593862599762,
          39.23011784652956,
          71.128244750716,
          31.51845488475784,
          59.84286645390037,
          19.67657894256741,
          18.227350647101076,
          65.22773544667507,
          111.85205737469903,
          47.82466135934437,
          47.873268388945064,
          33.952457157578415,
          19.80308311178953,
          65.29623301247295,
          71.4139187449545,
          82.18072543857464,
          72.8348462615778,
          27.65921402294078,
          29.935685261221845,
          29.22927389091844,
          31.115206866105044,
          61.13570338028159,
          67.6146492073151,
          87.52588005984391,
          38.67071419218151,
          43.93186874300375,
          29.617514770937653,
          70.96291959041673,
          53.68073786864114,
          77.62896580449566,
          72.73525472609806,
          30.070769091236514,
          32.58357300514187,
          30.41606585043808,
          72.3924745717994,
          42.63953446407959,
          44.40473055070816,
          70.5839005957968,
          30.37413752114021,
          57.71380081845008,
          42.816404972353304,
          93.00809752774941,
          33.53699938792285,
          19.51467875524372,
          27.820831163976223,
          71.34753775977146,
          59.71823289871024,
          60.97690167308388,
          55.10460861693254,
          39.86301155286469,
          27.97528740738459,
          23.261379519532184,
          40.6511568683962,
          49.80506054580321,
          46.14505058509005,
          69.39069612888721,
          88.41130099048684,
          100.8926965272984,
          39.77329211975793,
          79.90591852831047,
          104.59158869872465,
          45.08414457540454,
          25.14498870146717,
          16.268104803547576,
          46.864723201156615,
          67.80741755699012,
          106.77544254036945,
          95.31000533190122,
          43.29030938511456,
          84.16861689973975,
          66.70600303016899,
          49.4224692419587,
          44.19001292185794,
          76.88236887046659,
          50.222560641360204,
          36.479455315290934,
          42.11400349921749,
          72.9594996205147,
          51.64618242455713,
          48.999101239201956,
          88.41682774380831,
          78.70015970131377,
          100.3773316992272,
          59.17337049444779,
          50.59875078424349
         ],
         "y0": " ",
         "yaxis": "y"
        }
       ],
       "layout": {
        "annotations": [
         {
          "showarrow": false,
          "text": "50.2",
          "x": "rHsGal-1",
          "y": 57.74537841901443
         },
         {
          "showarrow": false,
          "text": "33.3",
          "x": "saline",
          "y": 38.34253452910678
         }
        ],
        "font": {
         "family": "Arial black",
         "size": 16
        },
        "height": 450,
        "legend": {
         "title": {
          "text": "Conditions"
         },
         "tracegroupgap": 0
        },
        "margin": {
         "t": 60
        },
        "paper_bgcolor": "white",
        "plot_bgcolor": "white",
        "showlegend": true,
        "template": {
         "data": {
          "bar": [
           {
            "error_x": {
             "color": "#2a3f5f"
            },
            "error_y": {
             "color": "#2a3f5f"
            },
            "marker": {
             "line": {
              "color": "#E5ECF6",
              "width": 0.5
             },
             "pattern": {
              "fillmode": "overlay",
              "size": 10,
              "solidity": 0.2
             }
            },
            "type": "bar"
           }
          ],
          "barpolar": [
           {
            "marker": {
             "line": {
              "color": "#E5ECF6",
              "width": 0.5
             },
             "pattern": {
              "fillmode": "overlay",
              "size": 10,
              "solidity": 0.2
             }
            },
            "type": "barpolar"
           }
          ],
          "carpet": [
           {
            "aaxis": {
             "endlinecolor": "#2a3f5f",
             "gridcolor": "white",
             "linecolor": "white",
             "minorgridcolor": "white",
             "startlinecolor": "#2a3f5f"
            },
            "baxis": {
             "endlinecolor": "#2a3f5f",
             "gridcolor": "white",
             "linecolor": "white",
             "minorgridcolor": "white",
             "startlinecolor": "#2a3f5f"
            },
            "type": "carpet"
           }
          ],
          "choropleth": [
           {
            "colorbar": {
             "outlinewidth": 0,
             "ticks": ""
            },
            "type": "choropleth"
           }
          ],
          "contour": [
           {
            "colorbar": {
             "outlinewidth": 0,
             "ticks": ""
            },
            "colorscale": [
             [
              0,
              "#0d0887"
             ],
             [
              0.1111111111111111,
              "#46039f"
             ],
             [
              0.2222222222222222,
              "#7201a8"
             ],
             [
              0.3333333333333333,
              "#9c179e"
             ],
             [
              0.4444444444444444,
              "#bd3786"
             ],
             [
              0.5555555555555556,
              "#d8576b"
             ],
             [
              0.6666666666666666,
              "#ed7953"
             ],
             [
              0.7777777777777778,
              "#fb9f3a"
             ],
             [
              0.8888888888888888,
              "#fdca26"
             ],
             [
              1,
              "#f0f921"
             ]
            ],
            "type": "contour"
           }
          ],
          "contourcarpet": [
           {
            "colorbar": {
             "outlinewidth": 0,
             "ticks": ""
            },
            "type": "contourcarpet"
           }
          ],
          "heatmap": [
           {
            "colorbar": {
             "outlinewidth": 0,
             "ticks": ""
            },
            "colorscale": [
             [
              0,
              "#0d0887"
             ],
             [
              0.1111111111111111,
              "#46039f"
             ],
             [
              0.2222222222222222,
              "#7201a8"
             ],
             [
              0.3333333333333333,
              "#9c179e"
             ],
             [
              0.4444444444444444,
              "#bd3786"
             ],
             [
              0.5555555555555556,
              "#d8576b"
             ],
             [
              0.6666666666666666,
              "#ed7953"
             ],
             [
              0.7777777777777778,
              "#fb9f3a"
             ],
             [
              0.8888888888888888,
              "#fdca26"
             ],
             [
              1,
              "#f0f921"
             ]
            ],
            "type": "heatmap"
           }
          ],
          "heatmapgl": [
           {
            "colorbar": {
             "outlinewidth": 0,
             "ticks": ""
            },
            "colorscale": [
             [
              0,
              "#0d0887"
             ],
             [
              0.1111111111111111,
              "#46039f"
             ],
             [
              0.2222222222222222,
              "#7201a8"
             ],
             [
              0.3333333333333333,
              "#9c179e"
             ],
             [
              0.4444444444444444,
              "#bd3786"
             ],
             [
              0.5555555555555556,
              "#d8576b"
             ],
             [
              0.6666666666666666,
              "#ed7953"
             ],
             [
              0.7777777777777778,
              "#fb9f3a"
             ],
             [
              0.8888888888888888,
              "#fdca26"
             ],
             [
              1,
              "#f0f921"
             ]
            ],
            "type": "heatmapgl"
           }
          ],
          "histogram": [
           {
            "marker": {
             "pattern": {
              "fillmode": "overlay",
              "size": 10,
              "solidity": 0.2
             }
            },
            "type": "histogram"
           }
          ],
          "histogram2d": [
           {
            "colorbar": {
             "outlinewidth": 0,
             "ticks": ""
            },
            "colorscale": [
             [
              0,
              "#0d0887"
             ],
             [
              0.1111111111111111,
              "#46039f"
             ],
             [
              0.2222222222222222,
              "#7201a8"
             ],
             [
              0.3333333333333333,
              "#9c179e"
             ],
             [
              0.4444444444444444,
              "#bd3786"
             ],
             [
              0.5555555555555556,
              "#d8576b"
             ],
             [
              0.6666666666666666,
              "#ed7953"
             ],
             [
              0.7777777777777778,
              "#fb9f3a"
             ],
             [
              0.8888888888888888,
              "#fdca26"
             ],
             [
              1,
              "#f0f921"
             ]
            ],
            "type": "histogram2d"
           }
          ],
          "histogram2dcontour": [
           {
            "colorbar": {
             "outlinewidth": 0,
             "ticks": ""
            },
            "colorscale": [
             [
              0,
              "#0d0887"
             ],
             [
              0.1111111111111111,
              "#46039f"
             ],
             [
              0.2222222222222222,
              "#7201a8"
             ],
             [
              0.3333333333333333,
              "#9c179e"
             ],
             [
              0.4444444444444444,
              "#bd3786"
             ],
             [
              0.5555555555555556,
              "#d8576b"
             ],
             [
              0.6666666666666666,
              "#ed7953"
             ],
             [
              0.7777777777777778,
              "#fb9f3a"
             ],
             [
              0.8888888888888888,
              "#fdca26"
             ],
             [
              1,
              "#f0f921"
             ]
            ],
            "type": "histogram2dcontour"
           }
          ],
          "mesh3d": [
           {
            "colorbar": {
             "outlinewidth": 0,
             "ticks": ""
            },
            "type": "mesh3d"
           }
          ],
          "parcoords": [
           {
            "line": {
             "colorbar": {
              "outlinewidth": 0,
              "ticks": ""
             }
            },
            "type": "parcoords"
           }
          ],
          "pie": [
           {
            "automargin": true,
            "type": "pie"
           }
          ],
          "scatter": [
           {
            "fillpattern": {
             "fillmode": "overlay",
             "size": 10,
             "solidity": 0.2
            },
            "type": "scatter"
           }
          ],
          "scatter3d": [
           {
            "line": {
             "colorbar": {
              "outlinewidth": 0,
              "ticks": ""
             }
            },
            "marker": {
             "colorbar": {
              "outlinewidth": 0,
              "ticks": ""
             }
            },
            "type": "scatter3d"
           }
          ],
          "scattercarpet": [
           {
            "marker": {
             "colorbar": {
              "outlinewidth": 0,
              "ticks": ""
             }
            },
            "type": "scattercarpet"
           }
          ],
          "scattergeo": [
           {
            "marker": {
             "colorbar": {
              "outlinewidth": 0,
              "ticks": ""
             }
            },
            "type": "scattergeo"
           }
          ],
          "scattergl": [
           {
            "marker": {
             "colorbar": {
              "outlinewidth": 0,
              "ticks": ""
             }
            },
            "type": "scattergl"
           }
          ],
          "scattermapbox": [
           {
            "marker": {
             "colorbar": {
              "outlinewidth": 0,
              "ticks": ""
             }
            },
            "type": "scattermapbox"
           }
          ],
          "scatterpolar": [
           {
            "marker": {
             "colorbar": {
              "outlinewidth": 0,
              "ticks": ""
             }
            },
            "type": "scatterpolar"
           }
          ],
          "scatterpolargl": [
           {
            "marker": {
             "colorbar": {
              "outlinewidth": 0,
              "ticks": ""
             }
            },
            "type": "scatterpolargl"
           }
          ],
          "scatterternary": [
           {
            "marker": {
             "colorbar": {
              "outlinewidth": 0,
              "ticks": ""
             }
            },
            "type": "scatterternary"
           }
          ],
          "surface": [
           {
            "colorbar": {
             "outlinewidth": 0,
             "ticks": ""
            },
            "colorscale": [
             [
              0,
              "#0d0887"
             ],
             [
              0.1111111111111111,
              "#46039f"
             ],
             [
              0.2222222222222222,
              "#7201a8"
             ],
             [
              0.3333333333333333,
              "#9c179e"
             ],
             [
              0.4444444444444444,
              "#bd3786"
             ],
             [
              0.5555555555555556,
              "#d8576b"
             ],
             [
              0.6666666666666666,
              "#ed7953"
             ],
             [
              0.7777777777777778,
              "#fb9f3a"
             ],
             [
              0.8888888888888888,
              "#fdca26"
             ],
             [
              1,
              "#f0f921"
             ]
            ],
            "type": "surface"
           }
          ],
          "table": [
           {
            "cells": {
             "fill": {
              "color": "#EBF0F8"
             },
             "line": {
              "color": "white"
             }
            },
            "header": {
             "fill": {
              "color": "#C8D4E3"
             },
             "line": {
              "color": "white"
             }
            },
            "type": "table"
           }
          ]
         },
         "layout": {
          "annotationdefaults": {
           "arrowcolor": "#2a3f5f",
           "arrowhead": 0,
           "arrowwidth": 1
          },
          "autotypenumbers": "strict",
          "coloraxis": {
           "colorbar": {
            "outlinewidth": 0,
            "ticks": ""
           }
          },
          "colorscale": {
           "diverging": [
            [
             0,
             "#8e0152"
            ],
            [
             0.1,
             "#c51b7d"
            ],
            [
             0.2,
             "#de77ae"
            ],
            [
             0.3,
             "#f1b6da"
            ],
            [
             0.4,
             "#fde0ef"
            ],
            [
             0.5,
             "#f7f7f7"
            ],
            [
             0.6,
             "#e6f5d0"
            ],
            [
             0.7,
             "#b8e186"
            ],
            [
             0.8,
             "#7fbc41"
            ],
            [
             0.9,
             "#4d9221"
            ],
            [
             1,
             "#276419"
            ]
           ],
           "sequential": [
            [
             0,
             "#0d0887"
            ],
            [
             0.1111111111111111,
             "#46039f"
            ],
            [
             0.2222222222222222,
             "#7201a8"
            ],
            [
             0.3333333333333333,
             "#9c179e"
            ],
            [
             0.4444444444444444,
             "#bd3786"
            ],
            [
             0.5555555555555556,
             "#d8576b"
            ],
            [
             0.6666666666666666,
             "#ed7953"
            ],
            [
             0.7777777777777778,
             "#fb9f3a"
            ],
            [
             0.8888888888888888,
             "#fdca26"
            ],
            [
             1,
             "#f0f921"
            ]
           ],
           "sequentialminus": [
            [
             0,
             "#0d0887"
            ],
            [
             0.1111111111111111,
             "#46039f"
            ],
            [
             0.2222222222222222,
             "#7201a8"
            ],
            [
             0.3333333333333333,
             "#9c179e"
            ],
            [
             0.4444444444444444,
             "#bd3786"
            ],
            [
             0.5555555555555556,
             "#d8576b"
            ],
            [
             0.6666666666666666,
             "#ed7953"
            ],
            [
             0.7777777777777778,
             "#fb9f3a"
            ],
            [
             0.8888888888888888,
             "#fdca26"
            ],
            [
             1,
             "#f0f921"
            ]
           ]
          },
          "colorway": [
           "#636efa",
           "#EF553B",
           "#00cc96",
           "#ab63fa",
           "#FFA15A",
           "#19d3f3",
           "#FF6692",
           "#B6E880",
           "#FF97FF",
           "#FECB52"
          ],
          "font": {
           "color": "#2a3f5f"
          },
          "geo": {
           "bgcolor": "white",
           "lakecolor": "white",
           "landcolor": "#E5ECF6",
           "showlakes": true,
           "showland": true,
           "subunitcolor": "white"
          },
          "hoverlabel": {
           "align": "left"
          },
          "hovermode": "closest",
          "mapbox": {
           "style": "light"
          },
          "paper_bgcolor": "white",
          "plot_bgcolor": "#E5ECF6",
          "polar": {
           "angularaxis": {
            "gridcolor": "white",
            "linecolor": "white",
            "ticks": ""
           },
           "bgcolor": "#E5ECF6",
           "radialaxis": {
            "gridcolor": "white",
            "linecolor": "white",
            "ticks": ""
           }
          },
          "scene": {
           "xaxis": {
            "backgroundcolor": "#E5ECF6",
            "gridcolor": "white",
            "gridwidth": 2,
            "linecolor": "white",
            "showbackground": true,
            "ticks": "",
            "zerolinecolor": "white"
           },
           "yaxis": {
            "backgroundcolor": "#E5ECF6",
            "gridcolor": "white",
            "gridwidth": 2,
            "linecolor": "white",
            "showbackground": true,
            "ticks": "",
            "zerolinecolor": "white"
           },
           "zaxis": {
            "backgroundcolor": "#E5ECF6",
            "gridcolor": "white",
            "gridwidth": 2,
            "linecolor": "white",
            "showbackground": true,
            "ticks": "",
            "zerolinecolor": "white"
           }
          },
          "shapedefaults": {
           "line": {
            "color": "#2a3f5f"
           }
          },
          "ternary": {
           "aaxis": {
            "gridcolor": "white",
            "linecolor": "white",
            "ticks": ""
           },
           "baxis": {
            "gridcolor": "white",
            "linecolor": "white",
            "ticks": ""
           },
           "bgcolor": "#E5ECF6",
           "caxis": {
            "gridcolor": "white",
            "linecolor": "white",
            "ticks": ""
           }
          },
          "title": {
           "x": 0.05
          },
          "xaxis": {
           "automargin": true,
           "gridcolor": "white",
           "linecolor": "white",
           "ticks": "",
           "title": {
            "standoff": 15
           },
           "zerolinecolor": "white",
           "zerolinewidth": 2
          },
          "yaxis": {
           "automargin": true,
           "gridcolor": "white",
           "linecolor": "white",
           "ticks": "",
           "title": {
            "standoff": 15
           },
           "zerolinecolor": "white",
           "zerolinewidth": 2
          }
         }
        },
        "violinmode": "overlay",
        "width": 700,
        "xaxis": {
         "anchor": "y",
         "categoryarray": [
          "saline",
          "rHsGal-1"
         ],
         "categoryorder": "array",
         "domain": [
          0,
          1
         ],
         "linecolor": "black",
         "linewidth": 1,
         "showline": true,
         "title": {
          "text": "Conditions (protein)"
         }
        },
        "yaxis": {
         "anchor": "x",
         "domain": [
          0,
          1
         ],
         "linecolor": "black",
         "linewidth": 1,
         "range": [
          -10,
          400
         ],
         "showline": true,
         "title": {
          "text": "CV of Abundance (%)"
         }
        }
       }
      }
     },
     "metadata": {},
     "output_type": "display_data"
    }
   ],
   "source": [
    "# CV violin plot\n",
    "plot_options={    \n",
    "        \"median label\": \"True\", #only works for total and MS2, can be found in CV_summary if you set WRITE_OUTPUT = True\n",
    "        \"box\": False,\n",
    "        \"Y Title\": \"CV of Abundance (%)\",\n",
    "        \"color\": [\"#3E6990\", \"#7aa8e6\",\"#C6878F\", \"#fac8d3\",\"#AABD8C\", \"#E9E3B4\",  \"#F39B6D\", \"#C6878F\", \"pink\",\n",
    "                  \"orange\", \"brown\", \"pink\", \"gray\", \"olive\", \"cyan\", \"black\",\"red\",\n",
    "                  \"yellow\",\"green\",\"blue\",\"indigo\",\"violet\"],\n",
    "        \"width\": 700,\n",
    "        \"height\": 450,\n",
    "        \"font\": dict(size=16, family=\"Arial black\"),\n",
    "        \"ylimits\": [-10, 400],\n",
    "        \"CV mode\": \"total\", #grouped, total, MS2, grouped_stacked, stacked\n",
    "        \"Group By X\": \"Conditions\", #ID_Mode does MS2 vs MBR\n",
    "        \"Group By Color\": \"Acquisition Mode\",#ID_Mode does MS2 vs MBR\n",
    "        \"Group By Stack\": \"ID_Mode\" #ID_Mode does MS2 vs MBR\n",
    "    }\n",
    "plot_options[\"plot_type\"] = 1 # 1 is protein, 2 is peptide\n",
    "if plot_options[\"plot_type\"] == 1:\n",
    "    plot_options[\"X Title\"] = \"Conditions (protein)\"\n",
    "elif plot_options[\"plot_type\"] == 2:\n",
    "    plot_options[\"X Title\"] = \"Conditions (peptide)\"\n",
    "figure, _, _ =CV_plots(data_obj, plot_options, saved_settings)\n",
    "figure.show()\n",
    "\n"
   ]
  },
  {
   "cell_type": "code",
   "execution_count": 32,
   "id": "5e64d89b",
   "metadata": {},
   "outputs": [
    {
     "name": "stdout",
     "output_type": "stream",
     "text": [
      "Downloading links...\n"
     ]
    },
    {
     "data": {
      "application/vnd.plotly.v1+json": {
       "config": {
        "plotlyServerURL": "https://plot.ly"
       },
       "data": [],
       "layout": {
        "annotations": [
         {
          "showarrow": false,
          "text": "saline",
          "x": -0.041637936345496625,
          "xref": "x",
          "y": -0.6088598221585334,
          "yref": "y"
         },
         {
          "showarrow": false,
          "text": "rHsGal-1",
          "x": 0.050112324031198675,
          "xref": "x",
          "y": -0.5596947626647288,
          "yref": "y"
         },
         {
          "showarrow": false,
          "text": "150",
          "x": -0.5269239810768136,
          "xref": "x",
          "y": 3.010491636948843e-18,
          "yref": "y"
         },
         {
          "showarrow": false,
          "text": "23",
          "x": 0.5353983687625157,
          "xref": "x",
          "y": 0,
          "yref": "y"
         },
         {
          "showarrow": false,
          "text": "601",
          "x": 0.02881972358975332,
          "xref": "x",
          "y": 3.1018995816361316e-17,
          "yref": "y"
         }
        ],
        "height": 400,
        "margin": {
         "b": 0,
         "l": 10,
         "pad": 0,
         "r": 10,
         "t": 40
        },
        "plot_bgcolor": "white",
        "shapes": [
         {
          "fillcolor": "#3E6990",
          "line": {
           "color": "#3E6990"
          },
          "opacity": 0.75,
          "type": "circle",
          "x0": -0.5973816410120636,
          "x1": 0.5141057683210704,
          "xref": "x",
          "y0": -0.555743704666567,
          "y1": 0.555743704666567,
          "yref": "y"
         },
         {
          "fillcolor": "#C6878F",
          "line": {
           "color": "#C6878F"
          },
          "opacity": 0.75,
          "type": "circle",
          "x0": -0.4564663211415637,
          "x1": 0.5566909692039611,
          "xref": "x",
          "y0": -0.5065786451727624,
          "y1": 0.5065786451727624,
          "yref": "y"
         }
        ],
        "template": {
         "data": {
          "bar": [
           {
            "error_x": {
             "color": "#2a3f5f"
            },
            "error_y": {
             "color": "#2a3f5f"
            },
            "marker": {
             "line": {
              "color": "#E5ECF6",
              "width": 0.5
             },
             "pattern": {
              "fillmode": "overlay",
              "size": 10,
              "solidity": 0.2
             }
            },
            "type": "bar"
           }
          ],
          "barpolar": [
           {
            "marker": {
             "line": {
              "color": "#E5ECF6",
              "width": 0.5
             },
             "pattern": {
              "fillmode": "overlay",
              "size": 10,
              "solidity": 0.2
             }
            },
            "type": "barpolar"
           }
          ],
          "carpet": [
           {
            "aaxis": {
             "endlinecolor": "#2a3f5f",
             "gridcolor": "white",
             "linecolor": "white",
             "minorgridcolor": "white",
             "startlinecolor": "#2a3f5f"
            },
            "baxis": {
             "endlinecolor": "#2a3f5f",
             "gridcolor": "white",
             "linecolor": "white",
             "minorgridcolor": "white",
             "startlinecolor": "#2a3f5f"
            },
            "type": "carpet"
           }
          ],
          "choropleth": [
           {
            "colorbar": {
             "outlinewidth": 0,
             "ticks": ""
            },
            "type": "choropleth"
           }
          ],
          "contour": [
           {
            "colorbar": {
             "outlinewidth": 0,
             "ticks": ""
            },
            "colorscale": [
             [
              0,
              "#0d0887"
             ],
             [
              0.1111111111111111,
              "#46039f"
             ],
             [
              0.2222222222222222,
              "#7201a8"
             ],
             [
              0.3333333333333333,
              "#9c179e"
             ],
             [
              0.4444444444444444,
              "#bd3786"
             ],
             [
              0.5555555555555556,
              "#d8576b"
             ],
             [
              0.6666666666666666,
              "#ed7953"
             ],
             [
              0.7777777777777778,
              "#fb9f3a"
             ],
             [
              0.8888888888888888,
              "#fdca26"
             ],
             [
              1,
              "#f0f921"
             ]
            ],
            "type": "contour"
           }
          ],
          "contourcarpet": [
           {
            "colorbar": {
             "outlinewidth": 0,
             "ticks": ""
            },
            "type": "contourcarpet"
           }
          ],
          "heatmap": [
           {
            "colorbar": {
             "outlinewidth": 0,
             "ticks": ""
            },
            "colorscale": [
             [
              0,
              "#0d0887"
             ],
             [
              0.1111111111111111,
              "#46039f"
             ],
             [
              0.2222222222222222,
              "#7201a8"
             ],
             [
              0.3333333333333333,
              "#9c179e"
             ],
             [
              0.4444444444444444,
              "#bd3786"
             ],
             [
              0.5555555555555556,
              "#d8576b"
             ],
             [
              0.6666666666666666,
              "#ed7953"
             ],
             [
              0.7777777777777778,
              "#fb9f3a"
             ],
             [
              0.8888888888888888,
              "#fdca26"
             ],
             [
              1,
              "#f0f921"
             ]
            ],
            "type": "heatmap"
           }
          ],
          "heatmapgl": [
           {
            "colorbar": {
             "outlinewidth": 0,
             "ticks": ""
            },
            "colorscale": [
             [
              0,
              "#0d0887"
             ],
             [
              0.1111111111111111,
              "#46039f"
             ],
             [
              0.2222222222222222,
              "#7201a8"
             ],
             [
              0.3333333333333333,
              "#9c179e"
             ],
             [
              0.4444444444444444,
              "#bd3786"
             ],
             [
              0.5555555555555556,
              "#d8576b"
             ],
             [
              0.6666666666666666,
              "#ed7953"
             ],
             [
              0.7777777777777778,
              "#fb9f3a"
             ],
             [
              0.8888888888888888,
              "#fdca26"
             ],
             [
              1,
              "#f0f921"
             ]
            ],
            "type": "heatmapgl"
           }
          ],
          "histogram": [
           {
            "marker": {
             "pattern": {
              "fillmode": "overlay",
              "size": 10,
              "solidity": 0.2
             }
            },
            "type": "histogram"
           }
          ],
          "histogram2d": [
           {
            "colorbar": {
             "outlinewidth": 0,
             "ticks": ""
            },
            "colorscale": [
             [
              0,
              "#0d0887"
             ],
             [
              0.1111111111111111,
              "#46039f"
             ],
             [
              0.2222222222222222,
              "#7201a8"
             ],
             [
              0.3333333333333333,
              "#9c179e"
             ],
             [
              0.4444444444444444,
              "#bd3786"
             ],
             [
              0.5555555555555556,
              "#d8576b"
             ],
             [
              0.6666666666666666,
              "#ed7953"
             ],
             [
              0.7777777777777778,
              "#fb9f3a"
             ],
             [
              0.8888888888888888,
              "#fdca26"
             ],
             [
              1,
              "#f0f921"
             ]
            ],
            "type": "histogram2d"
           }
          ],
          "histogram2dcontour": [
           {
            "colorbar": {
             "outlinewidth": 0,
             "ticks": ""
            },
            "colorscale": [
             [
              0,
              "#0d0887"
             ],
             [
              0.1111111111111111,
              "#46039f"
             ],
             [
              0.2222222222222222,
              "#7201a8"
             ],
             [
              0.3333333333333333,
              "#9c179e"
             ],
             [
              0.4444444444444444,
              "#bd3786"
             ],
             [
              0.5555555555555556,
              "#d8576b"
             ],
             [
              0.6666666666666666,
              "#ed7953"
             ],
             [
              0.7777777777777778,
              "#fb9f3a"
             ],
             [
              0.8888888888888888,
              "#fdca26"
             ],
             [
              1,
              "#f0f921"
             ]
            ],
            "type": "histogram2dcontour"
           }
          ],
          "mesh3d": [
           {
            "colorbar": {
             "outlinewidth": 0,
             "ticks": ""
            },
            "type": "mesh3d"
           }
          ],
          "parcoords": [
           {
            "line": {
             "colorbar": {
              "outlinewidth": 0,
              "ticks": ""
             }
            },
            "type": "parcoords"
           }
          ],
          "pie": [
           {
            "automargin": true,
            "type": "pie"
           }
          ],
          "scatter": [
           {
            "fillpattern": {
             "fillmode": "overlay",
             "size": 10,
             "solidity": 0.2
            },
            "type": "scatter"
           }
          ],
          "scatter3d": [
           {
            "line": {
             "colorbar": {
              "outlinewidth": 0,
              "ticks": ""
             }
            },
            "marker": {
             "colorbar": {
              "outlinewidth": 0,
              "ticks": ""
             }
            },
            "type": "scatter3d"
           }
          ],
          "scattercarpet": [
           {
            "marker": {
             "colorbar": {
              "outlinewidth": 0,
              "ticks": ""
             }
            },
            "type": "scattercarpet"
           }
          ],
          "scattergeo": [
           {
            "marker": {
             "colorbar": {
              "outlinewidth": 0,
              "ticks": ""
             }
            },
            "type": "scattergeo"
           }
          ],
          "scattergl": [
           {
            "marker": {
             "colorbar": {
              "outlinewidth": 0,
              "ticks": ""
             }
            },
            "type": "scattergl"
           }
          ],
          "scattermapbox": [
           {
            "marker": {
             "colorbar": {
              "outlinewidth": 0,
              "ticks": ""
             }
            },
            "type": "scattermapbox"
           }
          ],
          "scatterpolar": [
           {
            "marker": {
             "colorbar": {
              "outlinewidth": 0,
              "ticks": ""
             }
            },
            "type": "scatterpolar"
           }
          ],
          "scatterpolargl": [
           {
            "marker": {
             "colorbar": {
              "outlinewidth": 0,
              "ticks": ""
             }
            },
            "type": "scatterpolargl"
           }
          ],
          "scatterternary": [
           {
            "marker": {
             "colorbar": {
              "outlinewidth": 0,
              "ticks": ""
             }
            },
            "type": "scatterternary"
           }
          ],
          "surface": [
           {
            "colorbar": {
             "outlinewidth": 0,
             "ticks": ""
            },
            "colorscale": [
             [
              0,
              "#0d0887"
             ],
             [
              0.1111111111111111,
              "#46039f"
             ],
             [
              0.2222222222222222,
              "#7201a8"
             ],
             [
              0.3333333333333333,
              "#9c179e"
             ],
             [
              0.4444444444444444,
              "#bd3786"
             ],
             [
              0.5555555555555556,
              "#d8576b"
             ],
             [
              0.6666666666666666,
              "#ed7953"
             ],
             [
              0.7777777777777778,
              "#fb9f3a"
             ],
             [
              0.8888888888888888,
              "#fdca26"
             ],
             [
              1,
              "#f0f921"
             ]
            ],
            "type": "surface"
           }
          ],
          "table": [
           {
            "cells": {
             "fill": {
              "color": "#EBF0F8"
             },
             "line": {
              "color": "white"
             }
            },
            "header": {
             "fill": {
              "color": "#C8D4E3"
             },
             "line": {
              "color": "white"
             }
            },
            "type": "table"
           }
          ]
         },
         "layout": {
          "annotationdefaults": {
           "arrowcolor": "#2a3f5f",
           "arrowhead": 0,
           "arrowwidth": 1
          },
          "autotypenumbers": "strict",
          "coloraxis": {
           "colorbar": {
            "outlinewidth": 0,
            "ticks": ""
           }
          },
          "colorscale": {
           "diverging": [
            [
             0,
             "#8e0152"
            ],
            [
             0.1,
             "#c51b7d"
            ],
            [
             0.2,
             "#de77ae"
            ],
            [
             0.3,
             "#f1b6da"
            ],
            [
             0.4,
             "#fde0ef"
            ],
            [
             0.5,
             "#f7f7f7"
            ],
            [
             0.6,
             "#e6f5d0"
            ],
            [
             0.7,
             "#b8e186"
            ],
            [
             0.8,
             "#7fbc41"
            ],
            [
             0.9,
             "#4d9221"
            ],
            [
             1,
             "#276419"
            ]
           ],
           "sequential": [
            [
             0,
             "#0d0887"
            ],
            [
             0.1111111111111111,
             "#46039f"
            ],
            [
             0.2222222222222222,
             "#7201a8"
            ],
            [
             0.3333333333333333,
             "#9c179e"
            ],
            [
             0.4444444444444444,
             "#bd3786"
            ],
            [
             0.5555555555555556,
             "#d8576b"
            ],
            [
             0.6666666666666666,
             "#ed7953"
            ],
            [
             0.7777777777777778,
             "#fb9f3a"
            ],
            [
             0.8888888888888888,
             "#fdca26"
            ],
            [
             1,
             "#f0f921"
            ]
           ],
           "sequentialminus": [
            [
             0,
             "#0d0887"
            ],
            [
             0.1111111111111111,
             "#46039f"
            ],
            [
             0.2222222222222222,
             "#7201a8"
            ],
            [
             0.3333333333333333,
             "#9c179e"
            ],
            [
             0.4444444444444444,
             "#bd3786"
            ],
            [
             0.5555555555555556,
             "#d8576b"
            ],
            [
             0.6666666666666666,
             "#ed7953"
            ],
            [
             0.7777777777777778,
             "#fb9f3a"
            ],
            [
             0.8888888888888888,
             "#fdca26"
            ],
            [
             1,
             "#f0f921"
            ]
           ]
          },
          "colorway": [
           "#636efa",
           "#EF553B",
           "#00cc96",
           "#ab63fa",
           "#FFA15A",
           "#19d3f3",
           "#FF6692",
           "#B6E880",
           "#FF97FF",
           "#FECB52"
          ],
          "font": {
           "color": "#2a3f5f"
          },
          "geo": {
           "bgcolor": "white",
           "lakecolor": "white",
           "landcolor": "#E5ECF6",
           "showlakes": true,
           "showland": true,
           "subunitcolor": "white"
          },
          "hoverlabel": {
           "align": "left"
          },
          "hovermode": "closest",
          "mapbox": {
           "style": "light"
          },
          "paper_bgcolor": "white",
          "plot_bgcolor": "#E5ECF6",
          "polar": {
           "angularaxis": {
            "gridcolor": "white",
            "linecolor": "white",
            "ticks": ""
           },
           "bgcolor": "#E5ECF6",
           "radialaxis": {
            "gridcolor": "white",
            "linecolor": "white",
            "ticks": ""
           }
          },
          "scene": {
           "xaxis": {
            "backgroundcolor": "#E5ECF6",
            "gridcolor": "white",
            "gridwidth": 2,
            "linecolor": "white",
            "showbackground": true,
            "ticks": "",
            "zerolinecolor": "white"
           },
           "yaxis": {
            "backgroundcolor": "#E5ECF6",
            "gridcolor": "white",
            "gridwidth": 2,
            "linecolor": "white",
            "showbackground": true,
            "ticks": "",
            "zerolinecolor": "white"
           },
           "zaxis": {
            "backgroundcolor": "#E5ECF6",
            "gridcolor": "white",
            "gridwidth": 2,
            "linecolor": "white",
            "showbackground": true,
            "ticks": "",
            "zerolinecolor": "white"
           }
          },
          "shapedefaults": {
           "line": {
            "color": "#2a3f5f"
           }
          },
          "ternary": {
           "aaxis": {
            "gridcolor": "white",
            "linecolor": "white",
            "ticks": ""
           },
           "baxis": {
            "gridcolor": "white",
            "linecolor": "white",
            "ticks": ""
           },
           "bgcolor": "#E5ECF6",
           "caxis": {
            "gridcolor": "white",
            "linecolor": "white",
            "ticks": ""
           }
          },
          "title": {
           "x": 0.05
          },
          "xaxis": {
           "automargin": true,
           "gridcolor": "white",
           "linecolor": "white",
           "ticks": "",
           "title": {
            "standoff": 15
           },
           "zerolinecolor": "white",
           "zerolinewidth": 2
          },
          "yaxis": {
           "automargin": true,
           "gridcolor": "white",
           "linecolor": "white",
           "ticks": "",
           "title": {
            "standoff": 15
           },
           "zerolinecolor": "white",
           "zerolinewidth": 2
          }
         }
        },
        "title": {
         "text": "Conditions (protein)",
         "x": 0.5,
         "xanchor": "center"
        },
        "width": 800,
        "xaxis": {
         "range": [
          -0.7973816410120635,
          0.7566909692039612
         ],
         "showticklabels": false,
         "ticklen": 0
        },
        "yaxis": {
         "range": [
          -0.7557437046665669,
          0.7557437046665669
         ],
         "scaleanchor": "x",
         "scaleratio": 1,
         "showticklabels": false,
         "ticklen": 0
        }
       }
      }
     },
     "metadata": {},
     "output_type": "display_data"
    }
   ],
   "source": [
    "# ID Venns plot\n",
    "plot_options={\n",
    "            \"compare groups\": [\"saline\",\"rHsGal-1\"],\n",
    "            \"opacity\": 0.75,\n",
    "            \"color\": [\"#3E6990\", \"#C6878F\", \"#AABD8C\",\"#fac8d3\",\"#7aa8e6\", \"#E9E3B4\",\"#00FF00\", \"#FFFF00\", \"#FF0000\", \"yellow\", \"red\",\n",
    "                      \"green\", \"purple\", \"orange\", \"brown\", \"pink\",\n",
    "                      \"gray\",  \"olive\", \"cyan\", \"blue\",  \"black\", ]\n",
    "        }\n",
    "plot_options[\"plot_type\"] = 1 # 1 is protein, 2 is peptide\n",
    "if plot_options[\"plot_type\"] == 1:\n",
    "    plot_options[\"title\"] = \"Conditions (protein)\"\n",
    "elif plot_options[\"plot_type\"] == 2:\n",
    "    plot_options[\"title\"] = \"Conditions (peptide)\"\n",
    "figure, _, _ =venns_plots(data_obj, plot_options, saved_settings)\n",
    "figure.show()"
   ]
  },
  {
   "cell_type": "code",
   "execution_count": 33,
   "id": "f81fdef7",
   "metadata": {},
   "outputs": [
    {
     "name": "stdout",
     "output_type": "stream",
     "text": [
      "Downloading links...\n"
     ]
    },
    {
     "data": {
      "application/vnd.plotly.v1+json": {
       "config": {
        "plotlyServerURL": "https://plot.ly"
       },
       "data": [
        {
         "hovertemplate": "%{text}<br>x=: %{x} <br>y=: %{y}",
         "legendgroup": "",
         "marker": {
          "color": "#636efa",
          "symbol": "circle"
         },
         "mode": "markers+text",
         "name": "",
         "orientation": "v",
         "showlegend": false,
         "textfont": {
          "size": 10
         },
         "textposition": "top center",
         "type": "scatter",
         "xaxis": "x",
         "yaxis": "y"
        },
        {
         "hovertemplate": "%{text}<br>x=: %{x} <br>y=: %{y}",
         "marker": {
          "color": "gray"
         },
         "mode": "markers+text",
         "text": [
          "A2ABU4",
          "O09167",
          "P01837",
          "P01867",
          "P01869",
          "P01872",
          "P02301",
          "P03930",
          "P03987",
          "P04370",
          "P08032",
          "P08551",
          "P08553",
          "P09542",
          "P09813",
          "P10854",
          "P13707",
          "P15331",
          "P15864",
          "P16332",
          "P19123",
          "P19246",
          "P20065",
          "P23953",
          "P27005",
          "P27573",
          "P28650",
          "P28654",
          "P31725",
          "P38060",
          "P40124",
          "P43275",
          "P43276",
          "P54822",
          "P56375",
          "P61979",
          "P62301",
          "P62737",
          "P62827",
          "P63101",
          "P63242",
          "P68254",
          "P68368",
          "P84228",
          "P99027",
          "Q03734",
          "Q08642",
          "Q3UTJ2",
          "Q3V1D3",
          "Q60931",
          "Q61584",
          "Q62446",
          "Q6ZWV3",
          "Q76MZ3",
          "Q8C196",
          "Q8CGP1",
          "Q8K0E8",
          "Q8K1Z0",
          "Q8VCR8",
          "Q8VDM4",
          "Q91VW3",
          "Q91X72",
          "Q91YT0",
          "Q99LC3",
          "Q99LF4",
          "Q9CQQ7",
          "Q9CXZ1",
          "Q9D6J6",
          "Q9DC77",
          "Q9JLH8",
          "Q9JLV1",
          "Q9QUH0",
          "Q9QZJ6",
          "Q9QZQ8",
          "Q9R059",
          "Q9Z0F7",
          "Q9Z1E4"
         ],
         "textfont": {
          "size": 10
         },
         "textposition": "top center",
         "type": "scatter",
         "x": [
          -1.3483889563398286,
          1.016286452899564,
          2.114255000094275,
          2.1445222930065775,
          3.593770284463279,
          1.3755431922429473,
          1.067168252796698,
          1.1664879061279656,
          1.4512272085658715,
          3.0943742007333306,
          1.1835881975228517,
          2.7330973767423146,
          1.7432448024459752,
          -1.3628799910989429,
          1.6254362178993347,
          1.2178964006262731,
          -1.1728738067875781,
          2.3718843785883337,
          1.5323802673243279,
          1.3793774200927338,
          -1.812525194425728,
          2.3768296788951133,
          -1.449046507048763,
          -1.208569342820205,
          1.377186111869289,
          2.9311314967056816,
          -1.0438831998756442,
          1.0219955962361809,
          2.4456632087825447,
          1.7758739128774188,
          -1.8252609734081169,
          1.8241946009929464,
          1.1411948631614095,
          -1.0472695069819693,
          1.1993323584822875,
          -1.3141319193511762,
          1.0694702309491007,
          -1.1311720368134779,
          1.1063511290317223,
          1.7201974231392683,
          -1.1962514551814678,
          2.1358513152138947,
          -1.7537330075820492,
          1.8130216381774495,
          -1.4572180437988962,
          -1.0582279867726747,
          -1.1685140206433289,
          1.7471722236744185,
          -1.7385240393240124,
          1.4097270174176657,
          -1.4099505741463396,
          -1.402369354475372,
          1.1003741214940774,
          -2.0972996649096203,
          -1.3437930839649894,
          1.1059762440810772,
          -1.1611664360995846,
          -1.055961018471109,
          -1.0798047750378288,
          -1.1229964166881174,
          1.545754843092304,
          1.4798658446295043,
          -1.0876792845624372,
          -1.3552647350608922,
          1.173477988757874,
          -1.5086856917975275,
          -1.8347295781541924,
          -1.1876723569338807,
          -1.674740574921632,
          -1.8487017399638965,
          -1.0754629067724615,
          1.2948202943752634,
          1.4181107849922583,
          -1.093220745445329,
          1.576263105780182,
          -1.1362433346834742,
          -1.1216008970171067
         ],
         "y": [
          0.14263393941775393,
          0.2590546967785101,
          0.7738562262803331,
          0.7738562262803331,
          0.8293508522883286,
          1.0149196062827899,
          0.13456297244337376,
          0.3269602382950168,
          0.18504671458481373,
          0.8293508522883286,
          0.10505200144106126,
          0.7738562262803331,
          0.18504671458481373,
          0.09733745416452584,
          0.18504671458481373,
          0.24576467620325274,
          0.21481962746028974,
          0.24576467620325274,
          0.24576467620325274,
          0.13433533371320103,
          0.09733745416452584,
          0.371120972384376,
          0.46251437267433987,
          0.18504671458481373,
          0.18504671458481373,
          0.2590546967785101,
          0.19549337677099057,
          0.44480109655659567,
          0.6496464773879346,
          0.2375108023823645,
          0.13779274250849702,
          0.24576467620325274,
          0.23204007213948452,
          0.1545326492936433,
          0.07240365155181357,
          0.2590546967785101,
          0.7738562262803331,
          0.2338177265601949,
          0.44480109655659567,
          0.7114127102250793,
          0.371120972384376,
          0.3629908345215375,
          0.24576467620325274,
          0.371120972384376,
          0.371120972384376,
          0.21334349084381002,
          0.14827791856175113,
          0.2590546967785101,
          0.08749621818113791,
          0.24576467620325274,
          0.371120972384376,
          0.371120972384376,
          0.2590546967785101,
          0.24576467620325274,
          0.6742742203115948,
          0.05078857331309444,
          0.19549337677099057,
          0.2375108023823645,
          0.24576467620325274,
          0.24576467620325274,
          0.371120972384376,
          0.7114127102250793,
          0.1251930902574464,
          0.24576467620325274,
          0.371120972384376,
          0.18504671458481373,
          0.2590546967785101,
          0.18504671458481373,
          0.4421832331770738,
          0.371120972384376,
          0.2590546967785101,
          0.6496464773879346,
          0.24576467620325274,
          0.12304511975840092,
          0.06745343539840803,
          0.13433533371320103,
          0.13433533371320103
         ]
        },
        {
         "hovertemplate": "%{text}<br>x=: %{x} <br>y=: %{y}",
         "marker": {
          "color": "gray"
         },
         "mode": "markers+text",
         "textfont": {
          "size": 10
         },
         "textposition": "top center",
         "type": "scatter",
         "x": [
          -0.3871373582351545,
          -1.3483889563398286,
          0.572773263801917,
          -0.5778385898111864,
          0.1317092862238951,
          -0.6445796311959988,
          0.6235949756122707,
          0.04885364638285594,
          -0.7423234213676189,
          0.5870879183291073,
          0.11189117559046835,
          0.02705793089378261,
          0.058668949068280796,
          -0.5307131195657071,
          0.025817925795813323,
          0.44388631603986184,
          -0.6788569442028063,
          1.016286452899564,
          -0.9055359483941068,
          0.4505683206608815,
          0.4771700059126047,
          0.032970376721365824,
          0.5256933624320226,
          0.05311141718865642,
          0.22904264685527664,
          0.6818777211274423,
          0.8639831259919895,
          0.5364745979890841,
          0.6822716856396198,
          0.08735449881567092,
          -0.5912405973095822,
          0.2974972741725672,
          -0.5759121431157546,
          0.45425172588050344,
          0.17274267125646503,
          -0.6552901906932576,
          -0.49175922747337,
          0.2866650582542434,
          0.00627110139208753,
          0.23251325045936966,
          -0.7741537205558053,
          0.3586809158083568,
          2.114255000094275,
          2.1445222930065775,
          3.593770284463279,
          1.3755431922429473,
          0.8985908113867254,
          0.40569927419811336,
          1.067168252796698,
          0.33979955897867953,
          0.12250246994639724,
          1.1664879061279656,
          1.4512272085658715,
          0.11907896630037129,
          0.034133492391504205,
          3.0943742007333306,
          0.665447513175053,
          0.228677320968103,
          0.18194691369116356,
          0.01725184417218628,
          -0.11585661933565206,
          -0.1909023606771285,
          -0.9899006660556608,
          0.15508646423629813,
          0.25597994921380973,
          -0.054358608857015156,
          -0.14996929974808992,
          0.7297181768191834,
          -0.6721040551013182,
          -0.32246787796497856,
          -0.3272586535155284,
          0.7939596897544945,
          1.1835881975228517,
          0.49266750824592975,
          -0.06260695450611209,
          0.4702057567597926,
          0.44938386907816863,
          0.42047860629688927,
          2.7330973767423146,
          1.7432448024459752,
          -0.24066257363330834,
          -0.19029993042875049,
          0.229467749668963,
          0.5353899270740285,
          -0.24843371055093755,
          -1.3628799910989429,
          -0.8355911089177965,
          1.6254362178993347,
          0.0799590754406978,
          -0.3086418490328313,
          0.3433832151351979,
          0.3393534075296216,
          0.30999910975005207,
          -0.2713043553926262,
          0.22584739814207566,
          1.2178964006262731,
          0.5718604508065823,
          -0.03227883784662566,
          -0.15450491836824298,
          0.5931674185830218,
          -0.5187705242229441,
          -0.5781897928186019,
          -0.33483195233047525,
          0.1580226359594441,
          0.36334283784069044,
          -0.06673060347044313,
          -0.45549040051790257,
          0.3023875737220081,
          -0.7125521102746966,
          0.6811791981643083,
          -1.1728738067875781,
          0.1775558011938294,
          0.4197906255261721,
          -0.25296863920209844,
          0.06667112240362982,
          0.12102849575739327,
          -0.021152636789725676,
          -0.5686705798803473,
          0.4355897296917064,
          -0.12724411228973764,
          -0.30367329787855013,
          0.40016469549251,
          0.2759198883161602,
          2.3718843785883337,
          0.18643765343983532,
          0.8902595301971168,
          1.5323802673243279,
          0.13717010347029657,
          0.8170483173027989,
          0.22805897527588925,
          0.45266850042187556,
          1.3793774200927338,
          -0.30857041394425266,
          0.4534132689302268,
          0.08548857491300055,
          -0.2510619768674438,
          0.9834965694782625,
          0.5710877732859743,
          0.04609181342290469,
          -0.16539300943898994,
          -0.30453072593882524,
          -1.812525194425728,
          -0.5384576769941347,
          2.3768296788951133,
          0.5147417276531634,
          -0.9038605157988293,
          0.2016954128156634,
          -1.449046507048763,
          0.7529802251928075,
          -0.0024164311663952276,
          -0.19084113331134134,
          0.7681567082566687,
          -0.12852233866476936,
          0.6510477592690229,
          0.7017127521103781,
          0.13065216284658376,
          -0.9456940236958147,
          -0.4505255351212476,
          0.22914050617546522,
          -1.208569342820205,
          0.042170165571125295,
          0.2861687842567022,
          0.6898933963599241,
          0.27384471057781923,
          0.0034904867487846047,
          0.2846469630392541,
          -0.5172077892418692,
          -0.24140505399101997,
          1.377186111869289,
          -0.877764102539782,
          2.9311314967056816,
          0.2729709566526566,
          0.2770343653303584,
          -1.0438831998756442,
          0.8626454506293975,
          1.0219955962361809,
          -0.8164069710872823,
          0.200599840810197,
          0.6124019621425596,
          0.2709640339110315,
          0.03075104787971128,
          -0.04106259375069854,
          0.43289562219451483,
          2.4456632087825447,
          -0.2693993702578439,
          -0.26540069784412523,
          -0.16119868770469736,
          -0.07999798737815667,
          0.39335762103118554,
          -0.34323140727019563,
          -0.5089849987390807,
          -0.011333890829156701,
          -0.008547806636411082,
          0.2095815395773677,
          0.3116534989576252,
          1.7758739128774188,
          0.009062208839544894,
          -1.8252609734081169,
          0.277134834957959,
          -0.8600104482525879,
          -0.8518485630063992,
          0.6247240077916665,
          0.19050293507617155,
          0.5749059413326805,
          1.8241946009929464,
          1.1411948631614095,
          -0.15577420265639574,
          -0.08335033773708034,
          -0.7997606021112311,
          -0.2941198099101321,
          0.16895357459543092,
          0.22346688388307,
          -0.021902589849979393,
          0.022510304058371844,
          -0.985112125897956,
          0.687953794363672,
          0.4025497219504679,
          -0.3319272091242915,
          0.09291585697117455,
          0.9447180210897095,
          0.35985429247536516,
          0.10076394615030537,
          0.18290155233914618,
          -0.10476063093745935,
          0.7846712158275366,
          -0.11089768919847032,
          -0.12448641900126489,
          -0.37085447924822645,
          0.8475360444069437,
          0.35819816726393583,
          -0.20061583291791152,
          -0.32545757287008215,
          0.15730592695695833,
          -0.019496364512363584,
          -0.6831902122880216,
          -1.0472695069819693,
          0.0803585719214901,
          1.1993323584822875,
          -0.172860176511751,
          0.2604890957945507,
          0.4443963441395411,
          0.2848233167840277,
          0.06525748251164387,
          0.07010475146706696,
          0.22055384539449818,
          0.9939575694558158,
          0.5412722203436715,
          0.07590588584331215,
          0.4461412908525588,
          0.2688534496282067,
          0.16970657439032166,
          0.34755446449660354,
          0.11136130785708076,
          -0.03277442045685319,
          -1.3141319193511762,
          0.22888055764548554,
          0.12842831516764264,
          0.48182986487424984,
          0.6837143115982904,
          0.017135933889864674,
          0.8710354903789117,
          0.6010024101649734,
          1.0694702309491007,
          0.3309389414952051,
          0.02545653990895147,
          0.8094458079900733,
          -1.1311720368134779,
          0.3243016114757644,
          0.6796324507711979,
          0.6596554590926402,
          1.1063511290317223,
          0.5033089631969254,
          0.06951436144801448,
          0.1288198697643601,
          -0.4205263231143199,
          -0.009445944444330223,
          -0.04807360798580973,
          0.8814070710336779,
          -0.34104921151998013,
          0.9119500014165638,
          -0.09884558147554401,
          0.5852902996160907,
          0.34822137291151734,
          -0.5265203121713782,
          0.18064623230058885,
          -0.37789713813416625,
          0.28927763836369635,
          1.7201974231392683,
          0.22249939793266194,
          -1.1962514551814678,
          0.762822221051433,
          0.445592024019799,
          0.14438724488157106,
          -0.9596896310914431,
          -0.5804793932847048,
          -0.4526454252159873,
          0.6274905672189846,
          2.1358513152138947,
          -1.7537330075820492,
          0.1547968641710895,
          0.8694141234437502,
          0.7987031617678753,
          -0.039530500636693944,
          -0.23147454240999465,
          0.3640489383585148,
          -0.4362086523491371,
          0.8594545885598137,
          -0.6198150374539075,
          -0.29607902944496445,
          -0.37800135186941475,
          -0.22499346657102492,
          -0.8062045979106607,
          1.8130216381774495,
          0.01617771088391251,
          0.41726581755620984,
          0.4426165396843835,
          -0.8128845465618859,
          -0.1579193683717257,
          -0.4487340647365343,
          -0.23359089970637825,
          -0.5789406040911054,
          0.5431401663889233,
          -1.4572180437988962,
          0.674329168661842,
          0.1279611127288689,
          0.22803116354339537,
          0.682343213346627,
          -0.32067203839520886,
          -0.1427702311652297,
          -0.8368412736133983,
          -0.035069994625537504,
          0.2776585150909696,
          0.11238522806710094,
          0.10009557793689083,
          0.06488354371440153,
          -1.0582279867726747,
          0.981468544174998,
          -0.20997276973434253,
          0.04326287000685625,
          -0.1863944549292249,
          0.4723854128892029,
          0.7357212757831952,
          0.11954884898141671,
          -1.1685140206433289,
          -0.9351444644233737,
          -0.07460267870235171,
          0.808130037590427,
          -0.11968992529367739,
          0.2699504614357764,
          1.7471722236744185,
          -1.7385240393240124,
          0.34938687421680115,
          0.9845508832349772,
          -0.10657129551960765,
          0.12630677914961197,
          0.5372052033386794,
          0.4162557248137517,
          -0.2527092085328846,
          -0.019799259852895545,
          0.39028267560320273,
          0.15850049730608262,
          -0.17837770604263525,
          -0.20567628676504768,
          0.5309754947510754,
          -0.5501647043419489,
          -0.6649399519285346,
          -0.0860435185580748,
          1.4097270174176657,
          -0.18644026074306197,
          -0.2272554070476076,
          -0.26092196091327224,
          -0.9450297331324542,
          0.4570788609662415,
          0.921410175009985,
          0.333363213152996,
          -0.8456773320245823,
          -1.4099505741463396,
          0.557074837429596,
          -0.6296253755043608,
          0.8105155542723743,
          -0.8486281710054016,
          0.8909180653279734,
          0.6844016397763824,
          -0.898696280670567,
          0.13461224386158932,
          0.6749228781448267,
          0.16367059159063402,
          -0.006712118805769052,
          -1.402369354475372,
          0.41754033755772113,
          0.29886672475257825,
          0.8290768884711355,
          0.500748154342407,
          -0.3931030026905482,
          -0.4624686238745781,
          -0.259646547558507,
          -0.10018153394118912,
          -0.053191102392688094,
          0.7399837800476021,
          -0.31687991684137273,
          0.7016536618739053,
          0.8046733743007053,
          -0.13465776246368222,
          1.1003741214940774,
          0.624506118297667,
          -0.22587405644796021,
          0.5271391168023953,
          -2.0972996649096203,
          0.1401292532235665,
          0.2755188512864528,
          0.946706956662382,
          -0.15549151298252184,
          -0.17719450563559036,
          0.03699634022031262,
          0.4693231424105164,
          0.15758047526008312,
          0.3557568646633058,
          -0.21069846400052228,
          -0.5807400975120167,
          -0.3942969605116815,
          -0.06788297817731248,
          0.269008497350967,
          0.5462169190635464,
          0.9568631496196751,
          -0.11504327243744683,
          -0.10461971554153138,
          0.18096850669009967,
          0.3539866463525456,
          -1.3437930839649894,
          0.4051188850508183,
          -0.31629994649856386,
          0.6361921648677153,
          0.4720667162313106,
          1.1059762440810772,
          0.7437128952672651,
          -0.236093128238565,
          0.05241731085453338,
          -0.05789622004021311,
          -0.6689678671686607,
          -1.1611664360995846,
          -1.055961018471109,
          -0.1338585645859176,
          0.28865073184669043,
          0.15949004218350638,
          -0.10664071704048794,
          -0.0730018471960534,
          -0.407427068548774,
          -1.0798047750378288,
          -0.08777719516749727,
          0.18472071943953594,
          -1.1229964166881174,
          -0.28890868009353454,
          0.9730149102707486,
          0.1815747902831717,
          -0.39079952242591176,
          -0.004116932394470751,
          0.21141245615958937,
          0.10036066007580402,
          1.545754843092304,
          0.764936481203069,
          1.4798658446295043,
          0.6272827369083096,
          -1.0876792845624372,
          -0.36264699418349977,
          -0.600451474966821,
          0.9879722901666206,
          0.6679025713851487,
          0.2687651970265037,
          0.6109975879211618,
          -0.30365964529665845,
          0.30312710122918674,
          0.2809677966031714,
          -0.3170736012057773,
          -0.31838286528340376,
          0.5694822112410858,
          0.7702806296642137,
          0.22384929547548182,
          0.7151617854452681,
          -0.04152467902078527,
          -1.3552647350608922,
          0.11741202656439853,
          1.173477988757874,
          0.21265103987896694,
          0.686343743428214,
          0.39785130413495295,
          -0.12127107608034038,
          0.13870567055922223,
          -0.760465521822951,
          -0.6052060748599004,
          0.7511714548096435,
          -0.18015379270235599,
          -0.1671875360648336,
          -0.41350985832716347,
          0.10770452568362643,
          0.32327530495770773,
          -0.28540508683948573,
          0.875132524039703,
          0.6369299665526249,
          -0.003278192210739661,
          0.38724164317882526,
          -0.10746202082431111,
          -1.5086856917975275,
          0.25548110526444745,
          0.09388180832651472,
          -0.293451314934444,
          -0.21679335077819673,
          -0.7903250941142055,
          0.7880114926235251,
          0.29137839599636095,
          0.325324536303615,
          -0.024607095913854238,
          0.18540452692858622,
          0.5581039662554872,
          0.6352328154600535,
          -1.8347295781541924,
          -0.652999935437812,
          0.9975368694289379,
          0.45365479764567596,
          0.3140357919354493,
          -0.9413478124509744,
          -0.93777111246213,
          -0.6102587050533934,
          0.2509774394674942,
          0.006261561800794624,
          -0.023660188186376274,
          0.550069160745597,
          -0.7085956216390592,
          -0.20541522110213606,
          -0.9199689152233823,
          0.30861838165634126,
          0.2634110992206118,
          0.5883415191659864,
          0.06164879621017505,
          -0.4556641648124362,
          -1.1876723569338807,
          0.7739747273924209,
          -0.10005508488166726,
          0.4472481796644914,
          0.028852511308173234,
          -0.2982968610390557,
          -0.1166969442047936,
          0.44711035986135883,
          -0.21462264042711965,
          -0.05514495649809348,
          0.6379759865063122,
          0.012713920243008658,
          0.44531843181423625,
          -0.41005823023741783,
          0.011083982522741564,
          -1.674740574921632,
          -0.1470011923932546,
          -0.28996367348437957,
          -0.3584315942377465,
          -0.8455678058200284,
          0.05225957035626294,
          0.4947376524644085,
          0.13179063859954354,
          -0.11218113442523148,
          0.13689393104797887,
          -0.37352104839309774,
          -0.046316678048910376,
          0.25686987600897737,
          -0.5472854495087383,
          0.2525168727671847,
          -0.27217120549821416,
          0.19211219825064063,
          -0.009857250290416175,
          -0.17802381947582546,
          -0.5434232505861161,
          0.2449309160051456,
          -1.8487017399638965,
          -1.0754629067724615,
          0.5778851924156321,
          1.2948202943752634,
          0.021699957358514155,
          -0.32890121359136515,
          1.4181107849922583,
          -1.093220745445329,
          1.576263105780182,
          -0.2740691812713223,
          0.6516652558784628,
          0.6797361943179183,
          -0.3267176394618403,
          -0.010046103913211368,
          0.17766434261061903,
          -0.320703609627742,
          0.07037075873343568,
          -0.041495540787110485,
          -0.5822772239463738,
          0.20105861936713154,
          -0.43364638030066516,
          -1.1362433346834742,
          -0.5178177515282769,
          -1.1216008970171067,
          -0.29042589967451704,
          -0.631543142204066
         ],
         "y": [
          0.10983577404485395,
          0.14263393941775393,
          0.09583381950676853,
          0.10982306017431588,
          0.04427140197529234,
          0.23204007213948452,
          0.0495200052068156,
          0.007138490652578403,
          0.24576467620325274,
          0.3790867911737244,
          0.010046238458623456,
          0.0035446288229158316,
          0.010046238458623456,
          0.052816821285568326,
          0.007753319113809268,
          0.19549337677099057,
          0.371120972384376,
          0.2590546967785101,
          0.12304511975840092,
          0.07240365155181357,
          0.18504671458481373,
          0.03611922775796913,
          0.18504671458481373,
          0.010046238458623456,
          0.04577252895038618,
          0.1545326492936433,
          0.10505200144106126,
          0.0972295871737388,
          0.06769489285404137,
          0.022826099103397453,
          0.07385167171236585,
          0.10982306017431588,
          0.04427140197529234,
          0.09028543355011409,
          0.03611922775796913,
          0.18504671458481373,
          0.07282933759033093,
          0.13433533371320103,
          0.0035446288229158316,
          0.02297909141032918,
          0.057103931779035985,
          0.04544592910936941,
          0.7738562262803331,
          0.7738562262803331,
          0.8293508522883286,
          1.0149196062827899,
          0.20609594297988568,
          0.057103931779035985,
          0.13456297244337376,
          0.14263393941775393,
          0.04567672736776633,
          0.3269602382950168,
          0.18504671458481373,
          0.034998284858444015,
          0.010046238458623456,
          0.8293508522883286,
          0.18504671458481373,
          0.10102831891595886,
          0.04427140197529234,
          0.0035446288229158316,
          0.031649817992637996,
          0.028450891351138905,
          0.2375108023823645,
          0.04567672736776633,
          0.02297909141032918,
          0.012893404270835686,
          0.03611922775796913,
          0.46575310640659834,
          0.19549337677099057,
          0.0495200052068156,
          0.0164085592498488,
          0.13433533371320103,
          0.10505200144106126,
          0.13433533371320103,
          0.010046238458623456,
          0.13433533371320103,
          0.0763170764720897,
          0.18504671458481373,
          0.7738562262803331,
          0.18504671458481373,
          0.13433533371320103,
          0.03611922775796913,
          0.07240365155181357,
          0.1545326492936433,
          0.03611922775796913,
          0.09733745416452584,
          0.10505200144106126,
          0.18504671458481373,
          0.012893404270835686,
          0.18504671458481373,
          0.17811172850148366,
          0.21481962746028974,
          0.19549337677099057,
          0.03718581250681884,
          0.07385167171236585,
          0.24576467620325274,
          0.12304511975840092,
          0.010046238458623456,
          0.012893404270835686,
          0.0972295871737388,
          0.10505200144106126,
          0.16942793152583863,
          0.07240365155181357,
          0.03333758918490756,
          0.07385167171236585,
          0.015252190319837097,
          0.05668155026553417,
          0.04544592910936941,
          0.13433533371320103,
          0.21334349084381002,
          0.21481962746028974,
          0.02297909141032918,
          0.1251930902574464,
          0.0495200052068156,
          0.028450891351138905,
          0.04427140197529234,
          0.007138490652578403,
          0.19549337677099057,
          0.19549337677099057,
          0.012893404270835686,
          0.09679127107913998,
          0.13433533371320103,
          0.0164085592498488,
          0.24576467620325274,
          0.029446773133346472,
          0.371120972384376,
          0.24576467620325274,
          0.043021145457707126,
          0.27628543427010505,
          0.029446773133346472,
          0.13433533371320103,
          0.13433533371320103,
          0.04544592910936941,
          0.19549337677099057,
          0.025795907736155952,
          0.04427140197529234,
          0.2590546967785101,
          0.13433533371320103,
          0.010046238458623456,
          0.052816821285568326,
          0.0164085592498488,
          0.09733745416452584,
          0.18504671458481373,
          0.371120972384376,
          0.09733745416452584,
          0.1251930902574464,
          0.10505200144106126,
          0.46251437267433987,
          0.24576467620325274,
          0.002506458304422479,
          0.04427140197529234,
          0.21334349084381002,
          0.012893404270835686,
          0.2422437548326377,
          0.23204007213948452,
          0.04544592910936941,
          0.19549337677099057,
          0.09533683118230164,
          0.09583381950676853,
          0.18504671458481373,
          0.007138490652578403,
          0.10391942876822445,
          0.1384117780843666,
          0.03611922775796913,
          0.0035446288229158316,
          0.10707233303628191,
          0.10707233303628191,
          0.040831988080185865,
          0.18504671458481373,
          0.2005210448885971,
          0.2590546967785101,
          0.04544592910936941,
          0.10505200144106126,
          0.19549337677099057,
          0.2590546967785101,
          0.44480109655659567,
          0.13456297244337376,
          0.04427140197529234,
          0.3420804364761148,
          0.03611922775796913,
          0.010046238458623456,
          0.010046238458623456,
          0.13456297244337376,
          0.6496464773879346,
          0.03611922775796913,
          0.043021145457707126,
          0.022239805904341096,
          0.010046238458623456,
          0.0495200052068156,
          0.04577252895038618,
          0.15894889118300323,
          0.010046238458623456,
          0.0035446288229158316,
          0.04427140197529234,
          0.028450891351138905,
          0.2375108023823645,
          0.0035446288229158316,
          0.13779274250849702,
          0.04427140197529234,
          0.2375108023823645,
          0.24576467620325274,
          0.19549337677099057,
          0.010276276391967161,
          0.10505200144106126,
          0.24576467620325274,
          0.23204007213948452,
          0.057103931779035985,
          0.03152455933146316,
          0.19549337677099057,
          0.04164837706021154,
          0.10102831891595886,
          0.04427140197529234,
          0.010046238458623456,
          0.010046238458623456,
          0.24576467620325274,
          0.2422437548326377,
          0.10505200144106126,
          0.13433533371320103,
          0.03138187065013826,
          0.24576467620325274,
          0.09583381950676853,
          0.012893404270835686,
          0.034998284858444015,
          0.012893404270835686,
          0.14827791856175113,
          0.031649817992637996,
          0.010046238458623456,
          0.04427140197529234,
          0.46251437267433987,
          0.14827791856175113,
          0.03611922775796913,
          0.0495200052068156,
          0.07240365155181357,
          0.0049051984741029855,
          0.132058728222966,
          0.1545326492936433,
          0.015252190319837097,
          0.07240365155181357,
          0.012893404270835686,
          0.07240365155181357,
          0.1870693449528037,
          0.11238128640046305,
          0.0164085592498488,
          0.010046238458623456,
          0.19549337677099057,
          0.19549337677099057,
          0.10505200144106126,
          0.012893404270835686,
          0.13433533371320103,
          0.0949607141929527,
          0.09733745416452584,
          0.10707233303628191,
          0.015252190319837097,
          0.010046238458623456,
          0.2590546967785101,
          0.2338177265601949,
          0.029446773133346472,
          0.13433533371320103,
          0.2590546967785101,
          0.007810670158497478,
          0.5091298381606995,
          0.1450540745893211,
          0.7738562262803331,
          0.13433533371320103,
          0.010046238458623456,
          0.16846664206786427,
          0.2338177265601949,
          0.09543195400688478,
          0.13433533371320103,
          0.2590546967785101,
          0.44480109655659567,
          0.13433533371320103,
          0.0164085592498488,
          0.02297909141032918,
          0.371120972384376,
          0.0035446288229158316,
          0.010046238458623456,
          0.24576467620325274,
          0.1384117780843666,
          0.24576467620325274,
          0.012893404270835686,
          0.0495200052068156,
          0.09543195400688478,
          0.14827791856175113,
          0.13433533371320103,
          0.03463704116737441,
          0.07240365155181357,
          0.7114127102250793,
          0.04427140197529234,
          0.371120972384376,
          0.10707233303628191,
          0.10505200144106126,
          0.0164085592498488,
          0.24576467620325274,
          0.06337854341432873,
          0.04427140197529234,
          0.24576467620325274,
          0.3629908345215375,
          0.24576467620325274,
          0.02856721921232442,
          1.043999430772389,
          0.24576467620325274,
          0.010046238458623456,
          0.04427140197529234,
          0.10391942876822445,
          0.04544592910936941,
          0.2022689321456871,
          0.19549337677099057,
          0.07176663710673256,
          0.02233171161081475,
          0.018693733592455193,
          0.10023183794204633,
          0.371120972384376,
          0.0035446288229158316,
          0.23204007213948452,
          0.1251930902574464,
          0.2590546967785101,
          0.031649817992637996,
          0.24576467620325274,
          0.07240365155181357,
          0.16942793152583863,
          0.6742742203115948,
          0.371120972384376,
          0.10505200144106126,
          0.09028543355011409,
          0.03152455933146316,
          0.18504671458481373,
          0.10221369432963388,
          0.022826099103397453,
          0.12304511975840092,
          0.010157631251664937,
          0.23204007213948452,
          0.031649817992637996,
          0.010046238458623456,
          0.012893404270835686,
          0.21334349084381002,
          0.43542768499522166,
          0.024513024680152262,
          0.012893404270835686,
          0.031649817992637996,
          0.16022732535006132,
          0.2590546967785101,
          0.04427140197529234,
          0.14827791856175113,
          0.19549337677099057,
          0.010046238458623456,
          0.19549337677099057,
          0.03611922775796913,
          0.03611922775796913,
          0.2590546967785101,
          0.08749621818113791,
          0.13456297244337376,
          0.19549337677099057,
          0.015252190319837097,
          0.057103931779035985,
          0.1384117780843666,
          0.13456297244337376,
          0.06325060516486461,
          0.010046238458623456,
          0.09533683118230164,
          0.04303742214844587,
          0.04427140197529234,
          0.03611922775796913,
          0.05643696455616001,
          0.1251930902574464,
          0.13433533371320103,
          0.015252190319837097,
          0.24576467620325274,
          0.04577252895038618,
          0.03611922775796913,
          0.03611922775796913,
          0.13433533371320103,
          0.03611922775796913,
          0.18504671458481373,
          0.13433533371320103,
          0.13433533371320103,
          0.371120972384376,
          0.24576467620325274,
          0.10707233303628191,
          0.2590546967785101,
          0.14567768899075656,
          0.13433533371320103,
          0.43542768499522166,
          0.13433533371320103,
          0.09711332822768128,
          0.10102831891595886,
          0.0495200052068156,
          0.0035446288229158316,
          0.371120972384376,
          0.24576467620325274,
          0.043021145457707126,
          0.19549337677099057,
          0.2590546967785101,
          0.04427140197529234,
          0.07405912791877499,
          0.031649817992637996,
          0.028450891351138905,
          0.010046238458623456,
          0.19549337677099057,
          0.028450891351138905,
          0.18504671458481373,
          0.06974046182619316,
          0.012893404270835686,
          0.2590546967785101,
          0.10505200144106126,
          0.13433533371320103,
          0.14263393941775393,
          0.24576467620325274,
          0.07385167171236585,
          0.04544592910936941,
          0.18504671458481373,
          0.028450891351138905,
          0.07240365155181357,
          0.010046238458623456,
          0.10982306017431588,
          0.028450891351138905,
          0.13414954913051683,
          0.028450891351138905,
          0.10505200144106126,
          0.13456297244337376,
          0.010046238458623456,
          0.10505200144106126,
          0.18504671458481373,
          0.19549337677099057,
          0.03611922775796913,
          0.02319668170345536,
          0.03611922775796913,
          0.07240365155181357,
          0.6742742203115948,
          0.04427140197529234,
          0.09733745416452584,
          0.1384117780843666,
          0.10505200144106126,
          0.05078857331309444,
          0.24576467620325274,
          0.04427140197529234,
          0.02233171161081475,
          0.010046238458623456,
          0.13433533371320103,
          0.19549337677099057,
          0.2375108023823645,
          0.028450891351138905,
          0.057103931779035985,
          0.04427140197529234,
          0.010046238458623456,
          0.010046238458623456,
          0.07385167171236585,
          0.24576467620325274,
          0.012893404270835686,
          0.031649817992637996,
          0.24576467620325274,
          0.053798833750358696,
          0.16022732535006132,
          0.07240365155181357,
          0.04544592910936941,
          0.0035446288229158316,
          0.07405912791877499,
          0.031649817992637996,
          0.371120972384376,
          0.09733745416452584,
          0.7114127102250793,
          0.13456297244337376,
          0.1251930902574464,
          0.04544592910936941,
          0.1545326492936433,
          0.10505200144106126,
          0.10707233303628191,
          0.057103931779035985,
          0.13456297244337376,
          0.03611922775796913,
          0.028450891351138905,
          0.04544592910936941,
          0.14263393941775393,
          0.06337854341432873,
          0.10707233303628191,
          0.5091298381606995,
          0.07385167171236585,
          0.09679127107913998,
          0.010046238458623456,
          0.24576467620325274,
          0.031649817992637996,
          0.371120972384376,
          0.04544592910936941,
          0.09583381950676853,
          0.1384117780843666,
          0.02297909141032918,
          0.04544592910936941,
          0.11952154091325083,
          0.19549337677099057,
          0.23204007213948452,
          0.04427140197529234,
          0.031649817992637996,
          0.04567672736776633,
          0.031649817992637996,
          0.10391942876822445,
          0.057103931779035985,
          0.18504671458481373,
          0.10505200144106126,
          0.002920514828595966,
          0.07282933759033093,
          0.028450891351138905,
          0.18504671458481373,
          0.04470665822586856,
          0.007753319113809268,
          0.043021145457707126,
          0.03611922775796913,
          0.10983577404485395,
          0.2590546967785101,
          0.10505200144106126,
          0.18504671458481373,
          0.0035446288229158316,
          0.04427140197529234,
          0.19500547067399912,
          0.2590546967785101,
          0.2590546967785101,
          0.13433533371320103,
          0.23204007213948452,
          0.19549337677099057,
          0.21481962746028974,
          0.23204007213948452,
          0.10505200144106126,
          0.24576467620325274,
          0.04544592910936941,
          0.0035446288229158316,
          0.010046238458623456,
          0.14827791856175113,
          0.19549337677099057,
          0.028450891351138905,
          0.18504671458481373,
          0.0972295871737388,
          0.06695824721047149,
          0.18504671458481373,
          0.0164085592498488,
          0.10505200144106126,
          0.18504671458481373,
          0.07240365155181357,
          0.029446773133346472,
          0.18504671458481373,
          0.010046238458623456,
          0.04427140197529234,
          0.030448695754380087,
          0.10505200144106126,
          0.04567672736776633,
          0.010046238458623456,
          0.19549337677099057,
          0.003630883363035299,
          0.09733745416452584,
          0.07240365155181357,
          0.0035446288229158316,
          0.4421832331770738,
          0.04544592910936941,
          0.028450891351138905,
          0.10505200144106126,
          0.13456297244337376,
          0.010046238458623456,
          0.19549337677099057,
          0.03611922775796913,
          0.010157631251664937,
          0.02297909141032918,
          0.10505200144106126,
          0.010046238458623456,
          0.07405912791877499,
          0.371120972384376,
          0.04567672736776633,
          0.04544592910936941,
          0.043021145457707126,
          0.0035446288229158316,
          0.015252190319837097,
          0.0447734323958237,
          0.0495200052068156,
          0.371120972384376,
          0.2590546967785101,
          0.10505200144106126,
          0.6496464773879346,
          0.010046238458623456,
          0.06325060516486461,
          0.24576467620325274,
          0.12304511975840092,
          0.06745343539840803,
          0.06325060516486461,
          0.07282933759033093,
          0.14824043736401443,
          0.07240365155181357,
          0.0035446288229158316,
          0.02297909141032918,
          0.13841124625717602,
          0.012893404270835686,
          0.010046238458623456,
          0.13433533371320103,
          0.04427140197529234,
          0.1384117780843666,
          0.13433533371320103,
          0.028450891351138905,
          0.13433533371320103,
          0.04544592910936941,
          0.18228174016030183
         ]
        },
        {
         "hovertemplate": "%{text}<br>x=: %{x} <br>y=: %{y}",
         "marker": {
          "color": "red"
         },
         "mode": "markers+text",
         "text": [
          "P01872"
         ],
         "textfont": {
          "size": 10
         },
         "textposition": "top center",
         "type": "scatter",
         "x": [
          1.3755431922429473
         ],
         "y": [
          1.0149196062827899
         ]
        }
       ],
       "layout": {
        "font": {
         "family": "Arial black",
         "size": 16
        },
        "height": 450,
        "legend": {
         "tracegroupgap": 0
        },
        "margin": {
         "t": 60
        },
        "paper_bgcolor": "white",
        "plot_bgcolor": "white",
        "shapes": [
         {
          "type": "line",
          "x0": 0,
          "x1": 1,
          "xref": "x domain",
          "y0": 1,
          "y1": 1,
          "yref": "y"
         },
         {
          "type": "line",
          "x0": -1,
          "x1": -1,
          "xref": "x",
          "y0": 0,
          "y1": 1,
          "yref": "y domain"
         },
         {
          "type": "line",
          "x0": 1,
          "x1": 1,
          "xref": "x",
          "y0": 0,
          "y1": 1,
          "yref": "y domain"
         }
        ],
        "showlegend": false,
        "template": {
         "data": {
          "bar": [
           {
            "error_x": {
             "color": "#2a3f5f"
            },
            "error_y": {
             "color": "#2a3f5f"
            },
            "marker": {
             "line": {
              "color": "#E5ECF6",
              "width": 0.5
             },
             "pattern": {
              "fillmode": "overlay",
              "size": 10,
              "solidity": 0.2
             }
            },
            "type": "bar"
           }
          ],
          "barpolar": [
           {
            "marker": {
             "line": {
              "color": "#E5ECF6",
              "width": 0.5
             },
             "pattern": {
              "fillmode": "overlay",
              "size": 10,
              "solidity": 0.2
             }
            },
            "type": "barpolar"
           }
          ],
          "carpet": [
           {
            "aaxis": {
             "endlinecolor": "#2a3f5f",
             "gridcolor": "white",
             "linecolor": "white",
             "minorgridcolor": "white",
             "startlinecolor": "#2a3f5f"
            },
            "baxis": {
             "endlinecolor": "#2a3f5f",
             "gridcolor": "white",
             "linecolor": "white",
             "minorgridcolor": "white",
             "startlinecolor": "#2a3f5f"
            },
            "type": "carpet"
           }
          ],
          "choropleth": [
           {
            "colorbar": {
             "outlinewidth": 0,
             "ticks": ""
            },
            "type": "choropleth"
           }
          ],
          "contour": [
           {
            "colorbar": {
             "outlinewidth": 0,
             "ticks": ""
            },
            "colorscale": [
             [
              0,
              "#0d0887"
             ],
             [
              0.1111111111111111,
              "#46039f"
             ],
             [
              0.2222222222222222,
              "#7201a8"
             ],
             [
              0.3333333333333333,
              "#9c179e"
             ],
             [
              0.4444444444444444,
              "#bd3786"
             ],
             [
              0.5555555555555556,
              "#d8576b"
             ],
             [
              0.6666666666666666,
              "#ed7953"
             ],
             [
              0.7777777777777778,
              "#fb9f3a"
             ],
             [
              0.8888888888888888,
              "#fdca26"
             ],
             [
              1,
              "#f0f921"
             ]
            ],
            "type": "contour"
           }
          ],
          "contourcarpet": [
           {
            "colorbar": {
             "outlinewidth": 0,
             "ticks": ""
            },
            "type": "contourcarpet"
           }
          ],
          "heatmap": [
           {
            "colorbar": {
             "outlinewidth": 0,
             "ticks": ""
            },
            "colorscale": [
             [
              0,
              "#0d0887"
             ],
             [
              0.1111111111111111,
              "#46039f"
             ],
             [
              0.2222222222222222,
              "#7201a8"
             ],
             [
              0.3333333333333333,
              "#9c179e"
             ],
             [
              0.4444444444444444,
              "#bd3786"
             ],
             [
              0.5555555555555556,
              "#d8576b"
             ],
             [
              0.6666666666666666,
              "#ed7953"
             ],
             [
              0.7777777777777778,
              "#fb9f3a"
             ],
             [
              0.8888888888888888,
              "#fdca26"
             ],
             [
              1,
              "#f0f921"
             ]
            ],
            "type": "heatmap"
           }
          ],
          "heatmapgl": [
           {
            "colorbar": {
             "outlinewidth": 0,
             "ticks": ""
            },
            "colorscale": [
             [
              0,
              "#0d0887"
             ],
             [
              0.1111111111111111,
              "#46039f"
             ],
             [
              0.2222222222222222,
              "#7201a8"
             ],
             [
              0.3333333333333333,
              "#9c179e"
             ],
             [
              0.4444444444444444,
              "#bd3786"
             ],
             [
              0.5555555555555556,
              "#d8576b"
             ],
             [
              0.6666666666666666,
              "#ed7953"
             ],
             [
              0.7777777777777778,
              "#fb9f3a"
             ],
             [
              0.8888888888888888,
              "#fdca26"
             ],
             [
              1,
              "#f0f921"
             ]
            ],
            "type": "heatmapgl"
           }
          ],
          "histogram": [
           {
            "marker": {
             "pattern": {
              "fillmode": "overlay",
              "size": 10,
              "solidity": 0.2
             }
            },
            "type": "histogram"
           }
          ],
          "histogram2d": [
           {
            "colorbar": {
             "outlinewidth": 0,
             "ticks": ""
            },
            "colorscale": [
             [
              0,
              "#0d0887"
             ],
             [
              0.1111111111111111,
              "#46039f"
             ],
             [
              0.2222222222222222,
              "#7201a8"
             ],
             [
              0.3333333333333333,
              "#9c179e"
             ],
             [
              0.4444444444444444,
              "#bd3786"
             ],
             [
              0.5555555555555556,
              "#d8576b"
             ],
             [
              0.6666666666666666,
              "#ed7953"
             ],
             [
              0.7777777777777778,
              "#fb9f3a"
             ],
             [
              0.8888888888888888,
              "#fdca26"
             ],
             [
              1,
              "#f0f921"
             ]
            ],
            "type": "histogram2d"
           }
          ],
          "histogram2dcontour": [
           {
            "colorbar": {
             "outlinewidth": 0,
             "ticks": ""
            },
            "colorscale": [
             [
              0,
              "#0d0887"
             ],
             [
              0.1111111111111111,
              "#46039f"
             ],
             [
              0.2222222222222222,
              "#7201a8"
             ],
             [
              0.3333333333333333,
              "#9c179e"
             ],
             [
              0.4444444444444444,
              "#bd3786"
             ],
             [
              0.5555555555555556,
              "#d8576b"
             ],
             [
              0.6666666666666666,
              "#ed7953"
             ],
             [
              0.7777777777777778,
              "#fb9f3a"
             ],
             [
              0.8888888888888888,
              "#fdca26"
             ],
             [
              1,
              "#f0f921"
             ]
            ],
            "type": "histogram2dcontour"
           }
          ],
          "mesh3d": [
           {
            "colorbar": {
             "outlinewidth": 0,
             "ticks": ""
            },
            "type": "mesh3d"
           }
          ],
          "parcoords": [
           {
            "line": {
             "colorbar": {
              "outlinewidth": 0,
              "ticks": ""
             }
            },
            "type": "parcoords"
           }
          ],
          "pie": [
           {
            "automargin": true,
            "type": "pie"
           }
          ],
          "scatter": [
           {
            "fillpattern": {
             "fillmode": "overlay",
             "size": 10,
             "solidity": 0.2
            },
            "type": "scatter"
           }
          ],
          "scatter3d": [
           {
            "line": {
             "colorbar": {
              "outlinewidth": 0,
              "ticks": ""
             }
            },
            "marker": {
             "colorbar": {
              "outlinewidth": 0,
              "ticks": ""
             }
            },
            "type": "scatter3d"
           }
          ],
          "scattercarpet": [
           {
            "marker": {
             "colorbar": {
              "outlinewidth": 0,
              "ticks": ""
             }
            },
            "type": "scattercarpet"
           }
          ],
          "scattergeo": [
           {
            "marker": {
             "colorbar": {
              "outlinewidth": 0,
              "ticks": ""
             }
            },
            "type": "scattergeo"
           }
          ],
          "scattergl": [
           {
            "marker": {
             "colorbar": {
              "outlinewidth": 0,
              "ticks": ""
             }
            },
            "type": "scattergl"
           }
          ],
          "scattermapbox": [
           {
            "marker": {
             "colorbar": {
              "outlinewidth": 0,
              "ticks": ""
             }
            },
            "type": "scattermapbox"
           }
          ],
          "scatterpolar": [
           {
            "marker": {
             "colorbar": {
              "outlinewidth": 0,
              "ticks": ""
             }
            },
            "type": "scatterpolar"
           }
          ],
          "scatterpolargl": [
           {
            "marker": {
             "colorbar": {
              "outlinewidth": 0,
              "ticks": ""
             }
            },
            "type": "scatterpolargl"
           }
          ],
          "scatterternary": [
           {
            "marker": {
             "colorbar": {
              "outlinewidth": 0,
              "ticks": ""
             }
            },
            "type": "scatterternary"
           }
          ],
          "surface": [
           {
            "colorbar": {
             "outlinewidth": 0,
             "ticks": ""
            },
            "colorscale": [
             [
              0,
              "#0d0887"
             ],
             [
              0.1111111111111111,
              "#46039f"
             ],
             [
              0.2222222222222222,
              "#7201a8"
             ],
             [
              0.3333333333333333,
              "#9c179e"
             ],
             [
              0.4444444444444444,
              "#bd3786"
             ],
             [
              0.5555555555555556,
              "#d8576b"
             ],
             [
              0.6666666666666666,
              "#ed7953"
             ],
             [
              0.7777777777777778,
              "#fb9f3a"
             ],
             [
              0.8888888888888888,
              "#fdca26"
             ],
             [
              1,
              "#f0f921"
             ]
            ],
            "type": "surface"
           }
          ],
          "table": [
           {
            "cells": {
             "fill": {
              "color": "#EBF0F8"
             },
             "line": {
              "color": "white"
             }
            },
            "header": {
             "fill": {
              "color": "#C8D4E3"
             },
             "line": {
              "color": "white"
             }
            },
            "type": "table"
           }
          ]
         },
         "layout": {
          "annotationdefaults": {
           "arrowcolor": "#2a3f5f",
           "arrowhead": 0,
           "arrowwidth": 1
          },
          "autotypenumbers": "strict",
          "coloraxis": {
           "colorbar": {
            "outlinewidth": 0,
            "ticks": ""
           }
          },
          "colorscale": {
           "diverging": [
            [
             0,
             "#8e0152"
            ],
            [
             0.1,
             "#c51b7d"
            ],
            [
             0.2,
             "#de77ae"
            ],
            [
             0.3,
             "#f1b6da"
            ],
            [
             0.4,
             "#fde0ef"
            ],
            [
             0.5,
             "#f7f7f7"
            ],
            [
             0.6,
             "#e6f5d0"
            ],
            [
             0.7,
             "#b8e186"
            ],
            [
             0.8,
             "#7fbc41"
            ],
            [
             0.9,
             "#4d9221"
            ],
            [
             1,
             "#276419"
            ]
           ],
           "sequential": [
            [
             0,
             "#0d0887"
            ],
            [
             0.1111111111111111,
             "#46039f"
            ],
            [
             0.2222222222222222,
             "#7201a8"
            ],
            [
             0.3333333333333333,
             "#9c179e"
            ],
            [
             0.4444444444444444,
             "#bd3786"
            ],
            [
             0.5555555555555556,
             "#d8576b"
            ],
            [
             0.6666666666666666,
             "#ed7953"
            ],
            [
             0.7777777777777778,
             "#fb9f3a"
            ],
            [
             0.8888888888888888,
             "#fdca26"
            ],
            [
             1,
             "#f0f921"
            ]
           ],
           "sequentialminus": [
            [
             0,
             "#0d0887"
            ],
            [
             0.1111111111111111,
             "#46039f"
            ],
            [
             0.2222222222222222,
             "#7201a8"
            ],
            [
             0.3333333333333333,
             "#9c179e"
            ],
            [
             0.4444444444444444,
             "#bd3786"
            ],
            [
             0.5555555555555556,
             "#d8576b"
            ],
            [
             0.6666666666666666,
             "#ed7953"
            ],
            [
             0.7777777777777778,
             "#fb9f3a"
            ],
            [
             0.8888888888888888,
             "#fdca26"
            ],
            [
             1,
             "#f0f921"
            ]
           ]
          },
          "colorway": [
           "#636efa",
           "#EF553B",
           "#00cc96",
           "#ab63fa",
           "#FFA15A",
           "#19d3f3",
           "#FF6692",
           "#B6E880",
           "#FF97FF",
           "#FECB52"
          ],
          "font": {
           "color": "#2a3f5f"
          },
          "geo": {
           "bgcolor": "white",
           "lakecolor": "white",
           "landcolor": "#E5ECF6",
           "showlakes": true,
           "showland": true,
           "subunitcolor": "white"
          },
          "hoverlabel": {
           "align": "left"
          },
          "hovermode": "closest",
          "mapbox": {
           "style": "light"
          },
          "paper_bgcolor": "white",
          "plot_bgcolor": "#E5ECF6",
          "polar": {
           "angularaxis": {
            "gridcolor": "white",
            "linecolor": "white",
            "ticks": ""
           },
           "bgcolor": "#E5ECF6",
           "radialaxis": {
            "gridcolor": "white",
            "linecolor": "white",
            "ticks": ""
           }
          },
          "scene": {
           "xaxis": {
            "backgroundcolor": "#E5ECF6",
            "gridcolor": "white",
            "gridwidth": 2,
            "linecolor": "white",
            "showbackground": true,
            "ticks": "",
            "zerolinecolor": "white"
           },
           "yaxis": {
            "backgroundcolor": "#E5ECF6",
            "gridcolor": "white",
            "gridwidth": 2,
            "linecolor": "white",
            "showbackground": true,
            "ticks": "",
            "zerolinecolor": "white"
           },
           "zaxis": {
            "backgroundcolor": "#E5ECF6",
            "gridcolor": "white",
            "gridwidth": 2,
            "linecolor": "white",
            "showbackground": true,
            "ticks": "",
            "zerolinecolor": "white"
           }
          },
          "shapedefaults": {
           "line": {
            "color": "#2a3f5f"
           }
          },
          "ternary": {
           "aaxis": {
            "gridcolor": "white",
            "linecolor": "white",
            "ticks": ""
           },
           "baxis": {
            "gridcolor": "white",
            "linecolor": "white",
            "ticks": ""
           },
           "bgcolor": "#E5ECF6",
           "caxis": {
            "gridcolor": "white",
            "linecolor": "white",
            "ticks": ""
           }
          },
          "title": {
           "x": 0.05
          },
          "xaxis": {
           "automargin": true,
           "gridcolor": "white",
           "linecolor": "white",
           "ticks": "",
           "title": {
            "standoff": 15
           },
           "zerolinecolor": "white",
           "zerolinewidth": 2
          },
          "yaxis": {
           "automargin": true,
           "gridcolor": "white",
           "linecolor": "white",
           "ticks": "",
           "title": {
            "standoff": 15
           },
           "zerolinecolor": "white",
           "zerolinewidth": 2
          }
         }
        },
        "title": {
         "text": "Volcano Plot (rHsGal-1/saline)"
        },
        "width": 700,
        "xaxis": {
         "anchor": "y",
         "domain": [
          0,
          1
         ],
         "range": [
          -3,
          3
         ],
         "title": {
          "text": "Log2 Fold Change"
         }
        },
        "yaxis": {
         "anchor": "x",
         "domain": [
          0,
          1
         ],
         "title": {
          "text": "-Log10(adjusted p-value)"
         }
        }
       }
      }
     },
     "metadata": {},
     "output_type": "display_data"
    }
   ],
   "source": [
    "# Protein Abundance Volcano plot\n",
    "#change to p = 0.10\n",
    "plot_options={\n",
    "            \"compare groups\": [\"saline\",\"rHsGal-1\"],\n",
    "            \"title\": \"Volcano Plot\",\n",
    "            \"X Title\": \"Log2 Fold Change\",\n",
    "            \"Y Title\": \"-Log10(adjusted p-value)\",\n",
    "            \"up color\": \"red\",\n",
    "            \"down color\": \"blue\",\n",
    "            \"all color\": \"gray\",\n",
    "            \"width\": 700, #700\n",
    "            \"height\": 450, #450\n",
    "            \"font\": dict(size=16, family=\"Arial black\"),\n",
    "            \"ylimits\": [],\n",
    "            \"xlimits\": [-3,3],\n",
    "        }\n",
    "\n",
    "figure, _, _ =volcano_plots(data_obj, plot_options, saved_settings)\n",
    "figure.show()\n",
    "\n",
    "## add markers and text to the rant x <= -1 or x >= 1\n",
    "## future addition would also be above horizontal line\n",
    "\n",
    "## add a column in violin_plot csv y = -log10(benjamini)\n",
    "## add a column in volcano_plot csv x = '2' - '1'"
   ]
  },
  {
   "cell_type": "code",
   "execution_count": 34,
   "id": "a9487aa3",
   "metadata": {},
   "outputs": [
    {
     "name": "stdout",
     "output_type": "stream",
     "text": [
      "Empty\n",
      "Downloading links...\n"
     ]
    },
    {
     "data": {
      "application/vnd.plotly.v1+json": {
       "config": {
        "plotlyServerURL": "https://plot.ly"
       },
       "data": [
        {
         "hovertemplate": "%{text}<br>PC1: %{x} <br>PC2: %{y}",
         "legendgroup": "saline",
         "marker": {
          "color": "blue",
          "size": 8,
          "symbol": "circle"
         },
         "mode": "markers",
         "name": "saline",
         "orientation": "v",
         "showlegend": true,
         "text": [
          "DeuteriumlabledMousePsoasmuscleProteomics_0164_saline__Ult_std_2hr_rep1O1_20231114141043",
          "DeuteriumlabledMousePsoasmuscleProteomics_0167_saline__Ult_std_2hr_rep1O1_20231114052819",
          "DeuteriumlabledMousePsoasmuscleProteomics_0179_saline__Ult_std_2hr_rep1O1_20231114020111",
          "Normal_0139_saline__Ult_std_2hr_rep1O1_20231110194050",
          "Normal_0140_saline__Ult_std_2hr_rep1O1_20231113083642"
         ],
         "type": "scatter",
         "x": [
          1.656136414416032,
          3.1468237519806346,
          6.107147362581199,
          9.762249501908146,
          7.785961828263715
         ],
         "xaxis": "x",
         "y": [
          -7.7794651144083655,
          -9.136323958812328,
          -8.856957961499097,
          -6.546077462866099,
          -3.8660508979533286
         ],
         "yaxis": "y"
        },
        {
         "hovertemplate": "%{text}<br>PC1: %{x} <br>PC2: %{y}",
         "legendgroup": "rHsGal-1",
         "marker": {
          "color": "red",
          "size": 8,
          "symbol": "circle"
         },
         "mode": "markers",
         "name": "rHsGal-1",
         "orientation": "v",
         "showlegend": true,
         "text": [
          "DeuteriumlabledMousePsoasmuscleProteomics_0165_rHsGal-1__Ult_std_2hr_rep1O1_20231114104329",
          "DeuteriumlabledMousePsoasmuscleProteomics_0166_rHsGal-1__Ult_std_2hr_rep1O1_20231113232336",
          "DeuteriumlabledMousePsoasmuscleProteomics_0176_rHsGal-1__Ult_std_2hr_rep1O1_20231114080554",
          "DeuteriumlabledMousePsoasmuscleProteomics_0178_rHsGal-1__Ult_std_2hr_rep1O1_20231113204600",
          "Normal_0142_rHsGal-1__Ult_std_2hr_rep1O1_20231112211651",
          "Normal_0145_rHsGal-1__Ult_std_2hr_rep1O1_20231111130523"
         ],
         "type": "scatter",
         "x": [
          5.077216533924144,
          -7.123927201995616,
          -15.468710315075986,
          26.42025796272857,
          -17.431885098212817,
          -19.931270740517988
         ],
         "xaxis": "x",
         "y": [
          -2.8565086514114237,
          -1.082132900877188,
          11.006864815694096,
          20.47672456844113,
          -0.8038612628813643,
          9.443788826574007
         ],
         "yaxis": "y"
        }
       ],
       "layout": {
        "font": {
         "family": "Arial black",
         "size": 16
        },
        "height": 450,
        "legend": {
         "title": {
          "text": "Sample Type"
         },
         "tracegroupgap": 0
        },
        "paper_bgcolor": "rgba(255, 255, 255, 255)",
        "plot_bgcolor": "rgba(255, 255, 255, 255)",
        "template": {
         "data": {
          "bar": [
           {
            "error_x": {
             "color": "#2a3f5f"
            },
            "error_y": {
             "color": "#2a3f5f"
            },
            "marker": {
             "line": {
              "color": "#E5ECF6",
              "width": 0.5
             },
             "pattern": {
              "fillmode": "overlay",
              "size": 10,
              "solidity": 0.2
             }
            },
            "type": "bar"
           }
          ],
          "barpolar": [
           {
            "marker": {
             "line": {
              "color": "#E5ECF6",
              "width": 0.5
             },
             "pattern": {
              "fillmode": "overlay",
              "size": 10,
              "solidity": 0.2
             }
            },
            "type": "barpolar"
           }
          ],
          "carpet": [
           {
            "aaxis": {
             "endlinecolor": "#2a3f5f",
             "gridcolor": "white",
             "linecolor": "white",
             "minorgridcolor": "white",
             "startlinecolor": "#2a3f5f"
            },
            "baxis": {
             "endlinecolor": "#2a3f5f",
             "gridcolor": "white",
             "linecolor": "white",
             "minorgridcolor": "white",
             "startlinecolor": "#2a3f5f"
            },
            "type": "carpet"
           }
          ],
          "choropleth": [
           {
            "colorbar": {
             "outlinewidth": 0,
             "ticks": ""
            },
            "type": "choropleth"
           }
          ],
          "contour": [
           {
            "colorbar": {
             "outlinewidth": 0,
             "ticks": ""
            },
            "colorscale": [
             [
              0,
              "#0d0887"
             ],
             [
              0.1111111111111111,
              "#46039f"
             ],
             [
              0.2222222222222222,
              "#7201a8"
             ],
             [
              0.3333333333333333,
              "#9c179e"
             ],
             [
              0.4444444444444444,
              "#bd3786"
             ],
             [
              0.5555555555555556,
              "#d8576b"
             ],
             [
              0.6666666666666666,
              "#ed7953"
             ],
             [
              0.7777777777777778,
              "#fb9f3a"
             ],
             [
              0.8888888888888888,
              "#fdca26"
             ],
             [
              1,
              "#f0f921"
             ]
            ],
            "type": "contour"
           }
          ],
          "contourcarpet": [
           {
            "colorbar": {
             "outlinewidth": 0,
             "ticks": ""
            },
            "type": "contourcarpet"
           }
          ],
          "heatmap": [
           {
            "colorbar": {
             "outlinewidth": 0,
             "ticks": ""
            },
            "colorscale": [
             [
              0,
              "#0d0887"
             ],
             [
              0.1111111111111111,
              "#46039f"
             ],
             [
              0.2222222222222222,
              "#7201a8"
             ],
             [
              0.3333333333333333,
              "#9c179e"
             ],
             [
              0.4444444444444444,
              "#bd3786"
             ],
             [
              0.5555555555555556,
              "#d8576b"
             ],
             [
              0.6666666666666666,
              "#ed7953"
             ],
             [
              0.7777777777777778,
              "#fb9f3a"
             ],
             [
              0.8888888888888888,
              "#fdca26"
             ],
             [
              1,
              "#f0f921"
             ]
            ],
            "type": "heatmap"
           }
          ],
          "heatmapgl": [
           {
            "colorbar": {
             "outlinewidth": 0,
             "ticks": ""
            },
            "colorscale": [
             [
              0,
              "#0d0887"
             ],
             [
              0.1111111111111111,
              "#46039f"
             ],
             [
              0.2222222222222222,
              "#7201a8"
             ],
             [
              0.3333333333333333,
              "#9c179e"
             ],
             [
              0.4444444444444444,
              "#bd3786"
             ],
             [
              0.5555555555555556,
              "#d8576b"
             ],
             [
              0.6666666666666666,
              "#ed7953"
             ],
             [
              0.7777777777777778,
              "#fb9f3a"
             ],
             [
              0.8888888888888888,
              "#fdca26"
             ],
             [
              1,
              "#f0f921"
             ]
            ],
            "type": "heatmapgl"
           }
          ],
          "histogram": [
           {
            "marker": {
             "pattern": {
              "fillmode": "overlay",
              "size": 10,
              "solidity": 0.2
             }
            },
            "type": "histogram"
           }
          ],
          "histogram2d": [
           {
            "colorbar": {
             "outlinewidth": 0,
             "ticks": ""
            },
            "colorscale": [
             [
              0,
              "#0d0887"
             ],
             [
              0.1111111111111111,
              "#46039f"
             ],
             [
              0.2222222222222222,
              "#7201a8"
             ],
             [
              0.3333333333333333,
              "#9c179e"
             ],
             [
              0.4444444444444444,
              "#bd3786"
             ],
             [
              0.5555555555555556,
              "#d8576b"
             ],
             [
              0.6666666666666666,
              "#ed7953"
             ],
             [
              0.7777777777777778,
              "#fb9f3a"
             ],
             [
              0.8888888888888888,
              "#fdca26"
             ],
             [
              1,
              "#f0f921"
             ]
            ],
            "type": "histogram2d"
           }
          ],
          "histogram2dcontour": [
           {
            "colorbar": {
             "outlinewidth": 0,
             "ticks": ""
            },
            "colorscale": [
             [
              0,
              "#0d0887"
             ],
             [
              0.1111111111111111,
              "#46039f"
             ],
             [
              0.2222222222222222,
              "#7201a8"
             ],
             [
              0.3333333333333333,
              "#9c179e"
             ],
             [
              0.4444444444444444,
              "#bd3786"
             ],
             [
              0.5555555555555556,
              "#d8576b"
             ],
             [
              0.6666666666666666,
              "#ed7953"
             ],
             [
              0.7777777777777778,
              "#fb9f3a"
             ],
             [
              0.8888888888888888,
              "#fdca26"
             ],
             [
              1,
              "#f0f921"
             ]
            ],
            "type": "histogram2dcontour"
           }
          ],
          "mesh3d": [
           {
            "colorbar": {
             "outlinewidth": 0,
             "ticks": ""
            },
            "type": "mesh3d"
           }
          ],
          "parcoords": [
           {
            "line": {
             "colorbar": {
              "outlinewidth": 0,
              "ticks": ""
             }
            },
            "type": "parcoords"
           }
          ],
          "pie": [
           {
            "automargin": true,
            "type": "pie"
           }
          ],
          "scatter": [
           {
            "fillpattern": {
             "fillmode": "overlay",
             "size": 10,
             "solidity": 0.2
            },
            "type": "scatter"
           }
          ],
          "scatter3d": [
           {
            "line": {
             "colorbar": {
              "outlinewidth": 0,
              "ticks": ""
             }
            },
            "marker": {
             "colorbar": {
              "outlinewidth": 0,
              "ticks": ""
             }
            },
            "type": "scatter3d"
           }
          ],
          "scattercarpet": [
           {
            "marker": {
             "colorbar": {
              "outlinewidth": 0,
              "ticks": ""
             }
            },
            "type": "scattercarpet"
           }
          ],
          "scattergeo": [
           {
            "marker": {
             "colorbar": {
              "outlinewidth": 0,
              "ticks": ""
             }
            },
            "type": "scattergeo"
           }
          ],
          "scattergl": [
           {
            "marker": {
             "colorbar": {
              "outlinewidth": 0,
              "ticks": ""
             }
            },
            "type": "scattergl"
           }
          ],
          "scattermapbox": [
           {
            "marker": {
             "colorbar": {
              "outlinewidth": 0,
              "ticks": ""
             }
            },
            "type": "scattermapbox"
           }
          ],
          "scatterpolar": [
           {
            "marker": {
             "colorbar": {
              "outlinewidth": 0,
              "ticks": ""
             }
            },
            "type": "scatterpolar"
           }
          ],
          "scatterpolargl": [
           {
            "marker": {
             "colorbar": {
              "outlinewidth": 0,
              "ticks": ""
             }
            },
            "type": "scatterpolargl"
           }
          ],
          "scatterternary": [
           {
            "marker": {
             "colorbar": {
              "outlinewidth": 0,
              "ticks": ""
             }
            },
            "type": "scatterternary"
           }
          ],
          "surface": [
           {
            "colorbar": {
             "outlinewidth": 0,
             "ticks": ""
            },
            "colorscale": [
             [
              0,
              "#0d0887"
             ],
             [
              0.1111111111111111,
              "#46039f"
             ],
             [
              0.2222222222222222,
              "#7201a8"
             ],
             [
              0.3333333333333333,
              "#9c179e"
             ],
             [
              0.4444444444444444,
              "#bd3786"
             ],
             [
              0.5555555555555556,
              "#d8576b"
             ],
             [
              0.6666666666666666,
              "#ed7953"
             ],
             [
              0.7777777777777778,
              "#fb9f3a"
             ],
             [
              0.8888888888888888,
              "#fdca26"
             ],
             [
              1,
              "#f0f921"
             ]
            ],
            "type": "surface"
           }
          ],
          "table": [
           {
            "cells": {
             "fill": {
              "color": "#EBF0F8"
             },
             "line": {
              "color": "white"
             }
            },
            "header": {
             "fill": {
              "color": "#C8D4E3"
             },
             "line": {
              "color": "white"
             }
            },
            "type": "table"
           }
          ]
         },
         "layout": {
          "annotationdefaults": {
           "arrowcolor": "#2a3f5f",
           "arrowhead": 0,
           "arrowwidth": 1
          },
          "autotypenumbers": "strict",
          "coloraxis": {
           "colorbar": {
            "outlinewidth": 0,
            "ticks": ""
           }
          },
          "colorscale": {
           "diverging": [
            [
             0,
             "#8e0152"
            ],
            [
             0.1,
             "#c51b7d"
            ],
            [
             0.2,
             "#de77ae"
            ],
            [
             0.3,
             "#f1b6da"
            ],
            [
             0.4,
             "#fde0ef"
            ],
            [
             0.5,
             "#f7f7f7"
            ],
            [
             0.6,
             "#e6f5d0"
            ],
            [
             0.7,
             "#b8e186"
            ],
            [
             0.8,
             "#7fbc41"
            ],
            [
             0.9,
             "#4d9221"
            ],
            [
             1,
             "#276419"
            ]
           ],
           "sequential": [
            [
             0,
             "#0d0887"
            ],
            [
             0.1111111111111111,
             "#46039f"
            ],
            [
             0.2222222222222222,
             "#7201a8"
            ],
            [
             0.3333333333333333,
             "#9c179e"
            ],
            [
             0.4444444444444444,
             "#bd3786"
            ],
            [
             0.5555555555555556,
             "#d8576b"
            ],
            [
             0.6666666666666666,
             "#ed7953"
            ],
            [
             0.7777777777777778,
             "#fb9f3a"
            ],
            [
             0.8888888888888888,
             "#fdca26"
            ],
            [
             1,
             "#f0f921"
            ]
           ],
           "sequentialminus": [
            [
             0,
             "#0d0887"
            ],
            [
             0.1111111111111111,
             "#46039f"
            ],
            [
             0.2222222222222222,
             "#7201a8"
            ],
            [
             0.3333333333333333,
             "#9c179e"
            ],
            [
             0.4444444444444444,
             "#bd3786"
            ],
            [
             0.5555555555555556,
             "#d8576b"
            ],
            [
             0.6666666666666666,
             "#ed7953"
            ],
            [
             0.7777777777777778,
             "#fb9f3a"
            ],
            [
             0.8888888888888888,
             "#fdca26"
            ],
            [
             1,
             "#f0f921"
            ]
           ]
          },
          "colorway": [
           "#636efa",
           "#EF553B",
           "#00cc96",
           "#ab63fa",
           "#FFA15A",
           "#19d3f3",
           "#FF6692",
           "#B6E880",
           "#FF97FF",
           "#FECB52"
          ],
          "font": {
           "color": "#2a3f5f"
          },
          "geo": {
           "bgcolor": "white",
           "lakecolor": "white",
           "landcolor": "#E5ECF6",
           "showlakes": true,
           "showland": true,
           "subunitcolor": "white"
          },
          "hoverlabel": {
           "align": "left"
          },
          "hovermode": "closest",
          "mapbox": {
           "style": "light"
          },
          "paper_bgcolor": "white",
          "plot_bgcolor": "#E5ECF6",
          "polar": {
           "angularaxis": {
            "gridcolor": "white",
            "linecolor": "white",
            "ticks": ""
           },
           "bgcolor": "#E5ECF6",
           "radialaxis": {
            "gridcolor": "white",
            "linecolor": "white",
            "ticks": ""
           }
          },
          "scene": {
           "xaxis": {
            "backgroundcolor": "#E5ECF6",
            "gridcolor": "white",
            "gridwidth": 2,
            "linecolor": "white",
            "showbackground": true,
            "ticks": "",
            "zerolinecolor": "white"
           },
           "yaxis": {
            "backgroundcolor": "#E5ECF6",
            "gridcolor": "white",
            "gridwidth": 2,
            "linecolor": "white",
            "showbackground": true,
            "ticks": "",
            "zerolinecolor": "white"
           },
           "zaxis": {
            "backgroundcolor": "#E5ECF6",
            "gridcolor": "white",
            "gridwidth": 2,
            "linecolor": "white",
            "showbackground": true,
            "ticks": "",
            "zerolinecolor": "white"
           }
          },
          "shapedefaults": {
           "line": {
            "color": "#2a3f5f"
           }
          },
          "ternary": {
           "aaxis": {
            "gridcolor": "white",
            "linecolor": "white",
            "ticks": ""
           },
           "baxis": {
            "gridcolor": "white",
            "linecolor": "white",
            "ticks": ""
           },
           "bgcolor": "#E5ECF6",
           "caxis": {
            "gridcolor": "white",
            "linecolor": "white",
            "ticks": ""
           }
          },
          "title": {
           "x": 0.05
          },
          "xaxis": {
           "automargin": true,
           "gridcolor": "white",
           "linecolor": "white",
           "ticks": "",
           "title": {
            "standoff": 15
           },
           "zerolinecolor": "white",
           "zerolinewidth": 2
          },
          "yaxis": {
           "automargin": true,
           "gridcolor": "white",
           "linecolor": "white",
           "ticks": "",
           "title": {
            "standoff": 15
           },
           "zerolinecolor": "white",
           "zerolinewidth": 2
          }
         }
        },
        "title": {
         "text": "PCA Analysis"
        },
        "width": 700,
        "xaxis": {
         "anchor": "y",
         "domain": [
          0,
          1
         ],
         "linecolor": "black",
         "mirror": true,
         "showticklabels": false,
         "title": {
          "text": "PC1 (35.31%)"
         }
        },
        "yaxis": {
         "anchor": "x",
         "domain": [
          0,
          1
         ],
         "linecolor": "black",
         "mirror": true,
         "showticklabels": false,
         "title": {
          "text": "PC2 (16.91%)"
         }
        }
       }
      }
     },
     "metadata": {},
     "output_type": "display_data"
    }
   ],
   "source": [
    "# Protein Abundance PCA plot\n",
    "plot_options={\n",
    "            \"compare groups\": [\"saline\",\"rHsGal-1\"],\n",
    "            \"title\": \"PCA Analysis\",\n",
    "            \"color\": [\"blue\", \"red\", \"green\", \"black\", \"yellow\", \"purple\",\n",
    "                      \"orange\", \"brown\", \"pink\", \"gray\", \"olive\", \"cyan\"],\n",
    "            \"symbol\": ['circle', 'circle', 'circle'],\n",
    "            \"marker_size\": 8,\n",
    "            \"width\": 700,\n",
    "            \"height\": 450,\n",
    "            \"font\": dict(size=16, family=\"Arial black\"),\n",
    "            \"ylimits\": [],\n",
    "            \"xlimits\": []\n",
    "        }\n",
    "figure, _, _ =PCA_plots(data_obj, plot_options, saved_settings)\n",
    "figure.show()\n"
   ]
  },
  {
   "cell_type": "code",
   "execution_count": 35,
   "id": "8542a993",
   "metadata": {},
   "outputs": [
    {
     "name": "stdout",
     "output_type": "stream",
     "text": [
      "Empty\n"
     ]
    },
    {
     "name": "stderr",
     "output_type": "stream",
     "text": [
      "/Library/Frameworks/Python.framework/Versions/3.12/lib/python3.12/site-packages/scipy/stats/_stats_py.py:4133: DegenerateDataWarning:\n",
      "\n",
      "at least one input has length 0\n",
      "\n",
      "/var/folders/tp/wn9k7sb14sj01_q9m6ztc8_00000gn/T/ipykernel_40376/73103850.py:121: RuntimeWarning:\n",
      "\n",
      "Mean of empty slice\n",
      "\n",
      "/Library/Frameworks/Python.framework/Versions/3.12/lib/python3.12/site-packages/scipy/stats/_stats_py.py:4141: DegenerateDataWarning:\n",
      "\n",
      "all input arrays have length 1.  f_oneway requires that at least one input has length greater than 1.\n",
      "\n",
      "/var/folders/tp/wn9k7sb14sj01_q9m6ztc8_00000gn/T/ipykernel_40376/73103850.py:138: RuntimeWarning:\n",
      "\n",
      "divide by zero encountered in scalar divide\n",
      "\n"
     ]
    },
    {
     "data": {
      "application/vnd.plotly.v1+json": {
       "config": {
        "plotlyServerURL": "https://plot.ly"
       },
       "data": [
        {
         "coloraxis": "coloraxis",
         "hovertemplate": "x: %{x}<br>Accession: %{y}<br>color: %{z}<extra></extra>",
         "name": "0",
         "type": "heatmap",
         "x": [
          "saline_#0",
          "saline_#3",
          "saline_#6",
          "saline_#7",
          "saline_#8",
          "rHsGal-1_#1",
          "rHsGal-1_#2",
          "rHsGal-1_#4",
          "rHsGal-1_#5",
          "rHsGal-1_#9",
          "rHsGal-1_#10"
         ],
         "xaxis": "x",
         "y": [
          "A2AAJ9",
          "A2ABU4",
          "A2AMM0",
          "A2AQP0",
          "A2ASS6",
          "A2AUC9",
          "C0HKE5",
          "O08539",
          "O08553",
          "O08638",
          "O08677",
          "O08749",
          "O09165",
          "O09167",
          "O35129",
          "O35381",
          "O54724",
          "O55126",
          "O55142",
          "O70209",
          "O70250",
          "O70400",
          "O70423",
          "O70548",
          "O70622",
          "O88346",
          "O88456",
          "O88492",
          "O88844",
          "O88990",
          "O89053",
          "P01837",
          "P01869",
          "P01872",
          "P01942",
          "P02088",
          "P02301",
          "P02468",
          "P02469",
          "P03930",
          "P04117",
          "P04247",
          "P04370",
          "P05064",
          "P05201",
          "P05202",
          "P05977",
          "P06151",
          "P06728",
          "P06745",
          "P07309",
          "P07310",
          "P07356",
          "P07724",
          "P07758",
          "P07759",
          "P08113",
          "P08226",
          "P08228",
          "P08249",
          "P08551",
          "P08553",
          "P09103",
          "P09405",
          "P09411",
          "P09528",
          "P09541",
          "P09542",
          "P09813",
          "P0C0S6",
          "P0DP27",
          "P10107",
          "P10126",
          "P10493",
          "P10630",
          "P10649",
          "P10854",
          "P10922",
          "P11087",
          "P11276",
          "P11352",
          "P11404",
          "P11499",
          "P11531",
          "P12787",
          "P12970",
          "P13020",
          "P13412",
          "P13541",
          "P13542",
          "P13707",
          "P14069",
          "P14115",
          "P14131",
          "P14148",
          "P14152",
          "P14206",
          "P14211",
          "P14602",
          "P14733",
          "P14824",
          "P15089",
          "P15508",
          "P15864",
          "P16015",
          "P16045",
          "P16110",
          "P16125",
          "P16546",
          "P16858",
          "P17182",
          "P17742",
          "P17751",
          "P18242",
          "P18760",
          "P19096",
          "P19157",
          "P19246",
          "P19324",
          "P19783",
          "P20029",
          "P20065",
          "P20152",
          "P20801",
          "P21107",
          "P21550",
          "P21614",
          "P21812",
          "P21844",
          "P21981",
          "P22599",
          "P23506",
          "P23927",
          "P24270",
          "P24369",
          "P24549",
          "P26039",
          "P26443",
          "P27546",
          "P27661",
          "P27773",
          "P28650",
          "P28653",
          "P28654",
          "P28665",
          "P29391",
          "P29699",
          "P29788",
          "P31001",
          "P31786",
          "P32020",
          "P32261",
          "P32848",
          "P34914",
          "P35385",
          "P35486",
          "P35700",
          "P35979",
          "P35980",
          "P38647",
          "P40142",
          "P41216",
          "P42125",
          "P43274",
          "P43275",
          "P43276",
          "P45376",
          "P45591",
          "P45952",
          "P47754",
          "P47757",
          "P47857",
          "P47911",
          "P47955",
          "P47963",
          "P48036",
          "P48678",
          "P48962",
          "P49813",
          "P50544",
          "P50608",
          "P51174",
          "P51885",
          "P52480",
          "P53026",
          "P54071",
          "P56135",
          "P56379",
          "P56391",
          "P56399",
          "P56480",
          "P57776",
          "P58252",
          "P58771",
          "P58774",
          "P60843",
          "P60867",
          "P61027",
          "P61089",
          "P61358",
          "P61979",
          "P61982",
          "P62082",
          "P62242",
          "P62259",
          "P62267",
          "P62631",
          "P62702",
          "P62737",
          "P62751",
          "P62754",
          "P62806",
          "P62827",
          "P62830",
          "P62843",
          "P62852",
          "P62855",
          "P62862",
          "P62897",
          "P62900",
          "P62918",
          "P62962",
          "P62983",
          "P63017",
          "P63038",
          "P63101",
          "P63158",
          "P63242",
          "P63260",
          "P63276",
          "P67778",
          "P67984",
          "P68134",
          "P68368",
          "P68369",
          "P68372",
          "P70168",
          "P70195",
          "P70296",
          "P70349",
          "P70402",
          "P70404",
          "P70670",
          "P80314",
          "P82198",
          "P84228",
          "P97351",
          "P97447",
          "P97450",
          "P97457",
          "P97807",
          "P97927",
          "P99024",
          "P99027",
          "P99028",
          "P99029",
          "Q00623",
          "Q00897",
          "Q00898",
          "Q01768",
          "Q01853",
          "Q02053",
          "Q02788",
          "Q03265",
          "Q03734",
          "Q04447",
          "Q04857",
          "Q05793",
          "Q05920",
          "Q06185",
          "Q06890",
          "Q08642",
          "Q1XH17",
          "Q3MI48",
          "Q3TJD7",
          "Q4KML4",
          "Q5EBG6",
          "Q5SX39",
          "Q5SX40",
          "Q5XKE0",
          "Q60597",
          "Q60605",
          "Q60675",
          "Q60847",
          "Q60854",
          "Q60930",
          "Q60932",
          "Q60936",
          "Q61171",
          "Q61234",
          "Q61292",
          "Q61584",
          "Q61598",
          "Q61696",
          "Q61838",
          "Q61937",
          "Q62000",
          "Q62234",
          "Q62261",
          "Q62426",
          "Q62465",
          "Q63918",
          "Q64105",
          "Q64433",
          "Q64521",
          "Q64727",
          "Q6GSS7",
          "Q6IRU2",
          "Q6P8J7",
          "Q6WVG3",
          "Q6ZWV3",
          "Q70IV5",
          "Q76MZ3",
          "Q7TMF3",
          "Q7TMM9",
          "Q7TPR4",
          "Q7TQ48",
          "Q8BFR5",
          "Q8BG05",
          "Q8BH59",
          "Q8BH64",
          "Q8BH95",
          "Q8BL66",
          "Q8BMF4",
          "Q8BMS1",
          "Q8BP67",
          "Q8BTM8",
          "Q8BWB1",
          "Q8BWT1",
          "Q8BZ71",
          "Q8C196",
          "Q8CAQ8",
          "Q8CGN5",
          "Q8CGP1",
          "Q8CHP8",
          "Q8CI43",
          "Q8CI51",
          "Q8K1Z0",
          "Q8K2B3",
          "Q8K3J1",
          "Q8QZT1",
          "Q8R429",
          "Q8R4E4",
          "Q8VCR8",
          "Q8VCT4",
          "Q8VDD5",
          "Q8VDM4",
          "Q8VEK3",
          "Q8VHX6",
          "Q91VD9",
          "Q91VR2",
          "Q91X72",
          "Q91YE8",
          "Q91YT0",
          "Q91Z83",
          "Q91ZJ5",
          "Q921I1",
          "Q923D2",
          "Q99JY0",
          "Q99KI0",
          "Q99L13",
          "Q99LC3",
          "Q99LC5",
          "Q99LX0",
          "Q99LY9",
          "Q99MQ4",
          "Q99PR8",
          "Q99PT1",
          "Q9CPP6",
          "Q9CPQ1",
          "Q9CPQ8",
          "Q9CPR4",
          "Q9CQ54",
          "Q9CQ62",
          "Q9CQ69",
          "Q9CQ75",
          "Q9CQ92",
          "Q9CQA3",
          "Q9CQC7",
          "Q9CQR2",
          "Q9CQX8",
          "Q9CR57",
          "Q9CR61",
          "Q9CR68",
          "Q9CRB6",
          "Q9CRB9",
          "Q9CXW4",
          "Q9CZ13",
          "Q9CZ30",
          "Q9CZU6",
          "Q9D051",
          "Q9D0E1",
          "Q9D0F9",
          "Q9D0K2",
          "Q9D0M3",
          "Q9D172",
          "Q9D2G2",
          "Q9D3D9",
          "Q9D6R2",
          "Q9D6Y9",
          "Q9D783",
          "Q9D855",
          "Q9D8E6",
          "Q9D8N0",
          "Q9DB20",
          "Q9DB77",
          "Q9DBJ1",
          "Q9DC77",
          "Q9DCJ5",
          "Q9DCS9",
          "Q9DCW4",
          "Q9DCX2",
          "Q9EQ20",
          "Q9ET78",
          "Q9JHI5",
          "Q9JHU4",
          "Q9JI91",
          "Q9JIF9",
          "Q9JJW5",
          "Q9JK37",
          "Q9JK53",
          "Q9JKS4",
          "Q9JLV1",
          "Q9JM14",
          "Q9QXS1",
          "Q9QZ47",
          "Q9QZQ8",
          "Q9R059",
          "Q9R062",
          "Q9R0Y5",
          "Q9R1P4",
          "Q9WTP6",
          "Q9WU78",
          "Q9WUB3",
          "Q9WUM5",
          "Q9WV35",
          "Q9WVA4",
          "Q9WVK4",
          "Q9Z0X1",
          "Q9Z1P6",
          "Q9Z2I9"
         ],
         "yaxis": "y",
         "z": [
          [
           26.704230290936653,
           27.17911862162977,
           26.530382776539156,
           26.84681675857524,
           26.398870915866713,
           26.590097945251056,
           26.80673059085395,
           25.81246055364777,
           24.562942701541267,
           26.328457475083777,
           26.004490719266215
          ],
          [
           26.179157906338887,
           26.18095080023109,
           24.847840797867214,
           25.574686159125392,
           24.655567075268046,
           25.733272168217265,
           25.94635862922708,
           22.92521428733985,
           25.417986799072533,
           20.084960775067767,
           23.010425701592027
          ],
          [
           23.956004003316384,
           24.23359019070385,
           24.751888793679832,
           23.75997857901589,
           22.548415528264847,
           23.625540183871447,
           24.30296935836493,
           24.420702903443026,
           21.616497835513663,
           25.49841834588337,
           25.127732134152303
          ],
          [
           24.845960066244967,
           25.22893459236047,
           24.298027716208367,
           26.431092237733047,
           24.43061259664225,
           24.519058735430658,
           24.855485504209028,
           24.160042478420923,
           25.440809102446313,
           23.048534056958804,
           22.961641181861147
          ],
          [
           33.693144432681365,
           34.14371458244136,
           34.16668268843128,
           33.93503377478132,
           33.49571985179464,
           33.9551468820077,
           33.605865958748076,
           32.990325372564705,
           33.022226039235136,
           34.078342946960134,
           33.48540814054297
          ],
          [
           25.096610280068777,
           25.04017223069628,
           25.38557092788337,
           25.57568223126946,
           25.05941134659593,
           24.600759715663084,
           23.994395062609666,
           23.75380789244382,
           25.46033967150242,
           24.620701990396512,
           23.292435537455415
          ],
          [
           27.49521419897738,
           27.22066238405386,
           27.419700120055833,
           26.27911853544354,
           26.627304642281725,
           27.134414998207554,
           28.292861573362607,
           29.188586169139732,
           22.62649427670039,
           27.704934252081735,
           28.03107284247658
          ],
          [
           26.885693272094155,
           27.052648560622327,
           27.60266505374947,
           27.041055424945597,
           26.642337285991722,
           26.755330665152357,
           26.228980301330953,
           24.608393802961473,
           26.352360718993573,
           26.54971843165709,
           25.64254350104757
          ],
          [
           25.606144279377954,
           25.342987400617773,
           26.28455428925198,
           25.937902642962463,
           25.72515388242814,
           26.123312641080933,
           25.447364120906947,
           25.97312142872242,
           26.525153487050073,
           26.09488299270148,
           25.80742289926846
          ],
          [
           23.065750170916953,
           23.149125208635002,
           25.60014628881787,
           24.59149073728663,
           25.33871984198072,
           22.916074744434564,
           23.748934979879564,
           27.483981552090498,
           24.751112656605578,
           22.366170328829654,
           22.9618941472565
          ],
          [
           24.9322374906048,
           23.833981124948313,
           23.295446806543804,
           25.018516173343993,
           25.385138719461185,
           23.103232767271226,
           24.47787697390554,
           24.076857657342217,
           23.666686630078136,
           24.862280153865008,
           25.157136514648993
          ],
          [
           27.91138821288315,
           28.231230439769643,
           27.852618474347008,
           26.953521816228523,
           27.897757832030866,
           27.80648070319017,
           27.98656692808691,
           27.86602577817918,
           26.440066810252944,
           26.73788915661743,
           27.66720325515615
          ],
          [
           29.48767070204926,
           29.5342807366626,
           29.7756762848564,
           29.18463182646745,
           29.19440607959842,
           29.14204663193966,
           28.821573407992652,
           27.70338612088868,
           28.684871575638752,
           28.640651971425658,
           27.912917404110374
          ],
          [
           22.65134094932791,
           23.068274029408965,
           23.092953749936385,
           23.43032286705091,
           22.938400039295132,
           23.416374814038694,
           23.701377557644772,
           23.797296747161898,
           22.129191779180264,
           24.740059696533166,
           24.869201536191238
          ],
          [
           23.770811690730184,
           24.41003575302832,
           23.766841972639252,
           23.861077397074176,
           24.036810353346567,
           23.63275182037081,
           24.101094313374762,
           22.874870118149936,
           24.217375723166363,
           19.027411313923782,
           22.525287875088896
          ],
          [
           20.50753690108633,
           20.719234305697473,
           21.58225968633383,
           21.356174848967004,
           22.165893478384948,
           20.595030091677522,
           21.008439340263887,
           22.48250264721369,
           19.51526889839094,
           22.207714886751866,
           23.059478260282376
          ],
          [
           28.949353619811124,
           28.493895583849806,
           28.50987159371632,
           27.755378161915772,
           28.153494079264476,
           28.225474941583226,
           28.456841514110685,
           28.996475074122195,
           27.544512467464042,
           28.423295772441175,
           28.726066411174596
          ],
          [
           25.9306838008391,
           26.429765969980068,
           25.18435559431188,
           24.817709956921394,
           25.127649325852925,
           25.395112638860553,
           26.237270468835696,
           25.557882342441822,
           25.522334841116596,
           25.34495416669285,
           25.945618932063564
          ],
          [
           23.6285299179765,
           23.375658342203707,
           23.06762293969514,
           22.991398432525152,
           22.484875233642725,
           22.602843489168116,
           23.543307523601033,
           24.066439912224435,
           20.1560408227949,
           23.084117798647675,
           23.59700713591262
          ],
          [
           26.217507340589165,
           26.12969683337818,
           26.917223492967402,
           26.28623497044072,
           25.516243421754,
           25.744393484569635,
           26.038917549707534,
           25.798784661088174,
           25.07182408907759,
           27.31811881345391,
           26.47347475628433
          ],
          [
           30.737451708259805,
           30.763413528394747,
           30.639766700350116,
           29.66339464832832,
           29.905441982766703,
           30.330330590038656,
           30.605499770765622,
           30.383467088971344,
           28.824320325706964,
           31.583015248039757,
           31.088862323910384
          ],
          [
           23.28472643213036,
           23.98188587595607,
           23.678356598551908,
           24.174333310047505,
           21.401997714513403,
           23.055110845299133,
           24.2150511721137,
           23.943461038925726,
           22.624301969524353,
           24.689041478506354,
           22.795909171191177
          ],
          [
           24.8732696270425,
           22.956445690485722,
           23.66636677775051,
           19.928354876330946,
           23.523294987402977,
           23.10763884919967,
           24.32239329755866,
           23.195306783509462,
           25.17058240091445,
           22.12359185267829,
           22.647175208388294
          ],
          [
           24.48056059953472,
           24.346060830837047,
           24.5335063900408,
           25.228986642409158,
           24.51268945814389,
           24.38930080355363,
           23.945570403161437,
           24.26818636338103,
           23.325348709841105,
           25.136956480014298,
           25.19799972131804
          ],
          [
           24.785944299274696,
           25.563602875839052,
           25.62742747305192,
           24.921004127047034,
           23.977787406517745,
           25.2778295998569,
           25.304990900116145,
           23.606518083589528,
           25.57736024083712,
           23.469066883784656,
           21.3060713769569
          ],
          [
           26.276618566782325,
           24.554300579859206,
           24.982938658740515,
           27.170335768553365,
           25.613699250022528,
           26.56870142631819,
           26.192367578062605,
           20.939429778298834,
           22.953973389344664,
           26.4905393623579,
           25.837069832912704
          ],
          [
           21.739539008387993,
           22.434658378076385,
           22.781945277038652,
           22.533343762399888,
           22.961551959646435,
           22.170168976725762,
           21.64569259028094,
           21.282232057896174,
           23.17418421152107,
           24.02206046081705,
           23.892498359096106
          ],
          [
           25.31507224513397,
           24.9291073047047,
           24.421072331135562,
           24.916508849818264,
           24.8681210358582,
           22.366464651995592,
           24.815645994206687,
           24.352771135135963,
           23.090590379929324,
           23.975398373775967,
           24.811336412757818
          ],
          [
           22.656942096085125,
           23.194163846033995,
           22.657352028417233,
           22.71112779832181,
           23.233292979290137,
           22.26369730711622,
           22.720940228018684,
           23.539909262639068,
           22.949490691322872,
           22.532977228579977,
           23.376201323940748
          ],
          [
           31.088779108276018,
           31.377164641006562,
           31.551109725481858,
           30.965130254241103,
           30.90916366204951,
           30.96036010484678,
           30.544813415134673,
           30.259673312694908,
           30.135914050264102,
           31.734078511551623,
           30.95236832236099
          ],
          [
           21.203916501515923,
           21.608542789387727,
           21.970600076999137,
           22.864594663594147,
           23.580734088893117,
           20.57798856647307,
           23.263446596796268,
           25.053154212491823,
           21.342804470465563,
           20.35804968319575,
           22.48541614354951
          ],
          [
           21.526154490563684,
           22.238814183381905,
           22.159118545500146,
           23.550517394722405,
           21.471450737880645,
           24.03741767814279,
           24.352245941825988,
           24.166187996631503,
           24.961632796303086,
           23.443792801877283,
           23.772160072536803
          ],
          [
           21.34314125077704,
           23.45721401493739,
           22.118000763333743,
           24.31298327173617,
           23.929897933110983,
           27.03543416852789,
           26.35981177712801,
           27.386698575054275,
           26.12161366327879,
           24.71046924526371,
           25.94660818997606
          ],
          [
           25.956683226121935,
           25.92368722594504,
           26.418512050024813,
           26.292232263436016,
           25.594510645561876,
           26.946567729847626,
           26.546346579218213,
           26.344537238717503,
           27.436677649681947,
           26.841876157079888,
           27.634362251149515
          ],
          [
           35.40225294509173,
           34.84439381369623,
           33.64325318867736,
           33.47583624965914,
           33.94460948594498,
           34.211594209071706,
           34.965768794030865,
           34.92089356875318,
           34.33815454235195,
           34.123321319143194,
           34.045753608066434
          ],
          [
           34.24947399236831,
           33.43450875639561,
           31.92043239133989,
           32.16367534926702,
           32.71138030675542,
           32.99084351198749,
           33.39106645748691,
           32.93525053873262,
           34.115056218787785,
           31.668718299577332,
           31.522995966454097
          ],
          [
           28.803090487709916,
           28.650707644391822,
           27.500687253791245,
           28.32919599014425,
           28.468581775066863,
           28.992246176427134,
           29.611004099487925,
           30.589578470416356,
           25.210281485727993,
           28.8473194148103,
           29.794001366900698
          ],
          [
           27.42991300808747,
           27.81927906540411,
           27.677241230467676,
           27.319694211172962,
           26.92651352136762,
           27.862460727860114,
           27.820157907782903,
           27.473821249499505,
           26.706076535462145,
           27.097670791120056,
           27.25811955961951
          ],
          [
           25.54990362108137,
           25.744440486758776,
           25.677860841233674,
           24.93372234662137,
           25.51576456587778,
           25.4887268173776,
           25.502510428972123,
           24.80964215703816,
           25.740557541867215,
           25.29055596879469,
           24.838323757472477
          ],
          [
           23.909777350068588,
           24.608049747974796,
           24.196169662224968,
           23.27632894191064,
           22.650349391127534,
           24.76815507337592,
           25.590375773966645,
           25.130189814462824,
           23.59038613225543,
           24.43352943100315,
           24.005579311148118
          ],
          [
           29.871025509325765,
           29.541908374713078,
           29.3367335366223,
           29.389068918572043,
           30.365813212707952,
           29.147005266106603,
           29.506653750568617,
           29.23507304928132,
           28.732930009885308,
           29.681006657222557,
           30.073555471563466
          ],
          [
           29.624051416527855,
           29.653573054255926,
           28.799738092144924,
           29.451432136763298,
           28.7222173173025,
           29.455928931471696,
           29.48877872493728,
           27.981722272910424,
           28.43335167696445,
           29.098850121846496,
           28.906041775383727
          ],
          [
           24.985558667551068,
           25.590354961515246,
           26.7092557278733,
           24.192815726103344,
           26.31908303726509,
           28.28667934894498,
           27.338556544394677,
           27.608790708870227,
           28.89474973205361,
           26.519110714130314,
           29.51696189951673
          ],
          [
           33.13078061746141,
           33.120329853949684,
           33.09708679279063,
           32.3255308113668,
           32.4311179665815,
           32.67263393773983,
           32.872788420953455,
           32.57539019622938,
           31.56502416945395,
           33.93864248248004,
           33.541735029541584
          ],
          [
           27.890464300043146,
           27.743915901395933,
           27.082342418967883,
           27.21875164946664,
           26.784868281310057,
           27.291629529646347,
           27.317039399466278,
           26.868271793233383,
           27.600111923383924,
           27.00718610850798,
           27.092123838402436
          ],
          [
           28.727589881608417,
           28.93170764244151,
           28.210300556352617,
           28.0500218862622,
           27.606798665007528,
           28.745967832658348,
           28.69098285786688,
           28.15000486447204,
           28.23717574163631,
           27.421801504501445,
           27.320227744860567
          ],
          [
           33.80978509332316,
           33.90718461400112,
           33.75159456780007,
           33.4733502101252,
           33.230490241044386,
           33.38974128904388,
           33.37948830877589,
           33.24615592165627,
           31.561190041834017,
           34.00399016583632,
           33.50225512115069
          ],
          [
           28.376374750275417,
           28.14514294708141,
           28.51326443143698,
           28.554368369452483,
           28.034932672169987,
           27.69264555858579,
           27.538001615886397,
           26.921620098374177,
           29.374230976260872,
           27.96464794699393,
           27.705663900402847
          ],
          [
           26.282807504663417,
           24.891905337399155,
           25.31892095136194,
           27.56287353595339,
           27.462460172220776,
           25.783753646108856,
           25.334946129407708,
           24.905448879445,
           25.385017823927065,
           26.671810999627787,
           26.56679637988886
          ],
          [
           27.732394280606826,
           27.870039249374777,
           28.064152205177297,
           27.419432835735265,
           27.456740824839848,
           27.626588273833566,
           26.657252702783385,
           25.12654854345572,
           27.80448709473544,
           26.624493191938893,
           25.052558702135865
          ],
          [
           24.937454171303468,
           24.1782416553906,
           23.472338733264028,
           26.783324128057654,
           26.966938459992903,
           23.74929408112083,
           24.92909918103349,
           24.68106093685852,
           23.50266601573587,
           27.382114995448287,
           26.73141323178191
          ],
          [
           34.1488453238903,
           34.195422972695745,
           34.345402755377684,
           33.77467586390383,
           33.532592478298845,
           33.74199035766666,
           33.54755879052603,
           32.8910944925934,
           32.85108037239217,
           34.31289503281983,
           33.65234201677357
          ],
          [
           26.950724965469565,
           26.84288835906196,
           27.228062240731997,
           27.79634441642172,
           27.255113299486794,
           27.322519999534535,
           27.198169874994953,
           26.419413149319748,
           27.726650092820798,
           25.523545153524967,
           26.18034007421272
          ],
          [
           33.50936511633639,
           32.81962201280892,
           32.91747310870819,
           33.45504511077013,
           33.418222312931164,
           32.834276182369244,
           33.11030825729605,
           33.5045307814463,
           33.555289295725444,
           33.1412467193363,
           33.677205490132565
          ],
          [
           26.646098350083616,
           26.60661071891024,
           26.315258375860413,
           27.775616873416,
           28.160053349458856,
           26.045100139380143,
           25.4930779734301,
           26.166942786700385,
           26.315504128925905,
           26.843741687074324,
           25.931290772306806
          ],
          [
           27.525832486233124,
           26.65964097154986,
           27.546261703421763,
           28.8218998045347,
           28.829051869707584,
           26.06038115171585,
           26.727065388328118,
           26.990183775505212,
           28.204274685198385,
           28.12732248235296,
           27.239323355592486
          ],
          [
           22.891514113217394,
           23.642527893671115,
           22.96134575094031,
           24.118464835907112,
           24.162849948476055,
           23.299165143682412,
           22.952274015948205,
           25.08017782178712,
           24.26654376633117,
           23.193389679192425,
           23.73073700287216
          ],
          [
           25.565802358582236,
           26.365630050219718,
           26.600897139203656,
           27.47704393301929,
           26.88951730695401,
           26.90871913891287,
           26.7837832520306,
           25.647206255000015,
           26.065916100744595,
           27.132450571511544,
           27.380956074117314
          ],
          [
           28.94829670441242,
           28.35204223073514,
           28.25984517273694,
           27.344747896905915,
           27.945753928603,
           28.082465987670666,
           28.34391249188446,
           28.421856372793425,
           26.024882072234092,
           29.276774268800935,
           28.858203478066336
          ],
          [
           30.45102294243017,
           30.47089960835,
           30.11802049107652,
           29.648078288435855,
           29.83538450679776,
           30.427586629874607,
           30.516460843381697,
           30.0984396700397,
           29.412736029038363,
           29.79528663291894,
           29.984660506308394
          ],
          [
           26.198589520404646,
           26.119040482911746,
           26.59276247066728,
           24.121479446768667,
           26.261320791273924,
           28.533428200946165,
           27.315341599576794,
           27.115525265878937,
           28.621055539102098,
           26.86438827551467,
           29.486764937895124
          ],
          [
           25.410321446291963,
           23.930081794580758,
           25.234314198306794,
           22.85206003810932,
           24.753776907191128,
           27.410272521366938,
           25.4797909111434,
           22.188470629657974,
           28.541528083919165,
           23.776431098658616,
           27.630222879932028
          ],
          [
           25.623364104394664,
           26.213470412296537,
           26.495308192189935,
           26.46059241657078,
           26.03479978776673,
           25.32444586564497,
           25.64322934609039,
           25.519095493591266,
           26.286218876055703,
           25.618959079488175,
           25.222212000430094
          ],
          [
           23.841237332188257,
           23.956360771740748,
           24.80774782307175,
           26.09327823004863,
           24.28928753426364,
           23.819912241520544,
           24.05663670022084,
           24.73017463192522,
           23.426795889694898,
           24.343179933289036,
           24.066861346315736
          ],
          [
           30.53049502674308,
           30.583019919479753,
           30.4560041769959,
           29.890506547857015,
           29.90024371065315,
           30.26818976782874,
           30.167579392653785,
           29.489979228873807,
           29.31314351575534,
           30.76024970442115,
           30.31012895956942
          ],
          [
           25.265902394536642,
           24.94716536702371,
           26.112970687142806,
           25.73216264536777,
           26.20469596280741,
           24.589602472284547,
           25.295993196382582,
           26.151814240916007,
           26.23136943261284,
           25.919733999507613,
           26.69663926622385
          ],
          [
           23.51478761825163,
           24.911593095176052,
           25.622530404656914,
           25.265657076022045,
           24.884408542732107,
           24.853482502206433,
           24.087998775428165,
           24.331487500571555,
           22.28047116109111,
           25.805513005538057,
           24.174418302356116
          ],
          [
           28.092483769588743,
           26.540450841739677,
           27.99389049687886,
           28.94152556616276,
           27.68667702572587,
           28.598739879255557,
           27.720696339853575,
           19.561097943522284,
           25.99297547407933,
           28.725882670313357,
           27.125804690729336
          ],
          [
           24.162335675502877,
           23.210281461740287,
           21.15043613525283,
           24.42045211848696,
           24.37398505491477,
           22.979415588667287,
           24.81748037268236,
           25.88602564693977,
           21.204528547040958,
           26.42381373714348,
           27.205242435236702
          ],
          [
           24.23315630619294,
           24.036447109522804,
           24.96322454627148,
           25.04430704971615,
           24.786448670257144,
           24.681535638574523,
           24.344097212168812,
           25.54892542717072,
           22.89567256925807,
           23.43339347657293,
           25.18635773730607
          ],
          [
           27.413311452497755,
           27.09855656861909,
           27.597465344535642,
           27.1878457971249,
           27.38685348696921,
           27.012571506933245,
           26.641135584001145,
           26.274590954598818,
           26.152943648947666,
           27.246891552050478,
           26.857635578335955
          ],
          [
           25.603017509470956,
           25.040586127287334,
           26.098779262603443,
           26.16223332250639,
           25.35702045899096,
           25.306999406451148,
           25.70180104132639,
           25.738932489252505,
           25.846647424929138,
           25.741168620727414,
           25.49552927703279
          ],
          [
           26.217521980095864,
           26.12298571711323,
           26.80226747612328,
           26.16896314079788,
           26.412035136143498,
           26.35182977395009,
           25.959444044843426,
           26.83328809645268,
           26.36614885954998,
           26.470275970785398,
           25.880515912684917
          ],
          [
           26.662913491329494,
           26.787324629904855,
           26.715133302756758,
           26.999050998761437,
           26.08231168776059,
           26.91373479835693,
           26.792574596476417,
           26.470526427561005,
           26.544780215232272,
           26.492381811712864,
           26.28724813539075
          ],
          [
           22.075552485739312,
           22.313647454862544,
           23.590207975364912,
           23.358212141210277,
           22.8586509824745,
           22.185266454184752,
           21.047955263974934,
           21.312936528501943,
           23.963873916939107,
           23.58448809730324,
           21.54657385878539
          ],
          [
           24.516476488137847,
           24.52223141630062,
           24.621722539191435,
           24.272496582945777,
           24.578962606031386,
           23.893821002756223,
           24.052821218617964,
           24.552095757940464,
           25.772307910168198,
           24.080741862153193,
           24.164184614882526
          ],
          [
           30.896049580417994,
           30.517589671295145,
           30.271697027242602,
           30.192402829817656,
           30.273618488424393,
           30.178471216555373,
           31.58098414454205,
           32.438614944500344,
           29.10972286880367,
           30.78749720141847,
           31.65794200051094
          ],
          [
           26.46042573887315,
           26.04487537192474,
           25.40547869637518,
           24.728620942866755,
           25.27586515984723,
           25.759967125952798,
           26.6335521831303,
           26.513004233361773,
           23.850578028615857,
           26.333329706760416,
           25.560153032910613
          ],
          [
           27.000083064182835,
           26.485330524804155,
           27.491102381376617,
           26.735537067002088,
           26.310670131704487,
           26.864376691283148,
           27.06004446516321,
           26.064810946595063,
           27.37042446675357,
           26.216238960158893,
           25.02719193024569
          ],
          [
           22.114432185293943,
           21.814141225290186,
           23.82864651216727,
           25.87491861879307,
           24.597085249387455,
           24.452423727000713,
           22.46040831074148,
           22.60179349730025,
           23.681193324099677,
           23.108558932907062,
           22.7604126015338
          ],
          [
           22.668875370987973,
           20.873268802998115,
           22.398082363097735,
           19.947861774451827,
           21.74903748952572,
           20.811122794856445,
           21.533513242327185,
           22.449091344397804,
           22.89748808860929,
           20.60162532491726,
           23.201737363948563
          ],
          [
           29.455871369176975,
           29.507422461740035,
           28.1234966456015,
           28.51825001672465,
           28.542127155228567,
           28.831178461851323,
           28.96934306773471,
           27.982069676615044,
           26.143190161245638,
           27.975893627918925,
           28.075833685796926
          ],
          [
           27.452564708134904,
           27.517763715436722,
           27.72603718392874,
           28.137369657375093,
           27.601043918856718,
           27.63411533709684,
           27.030914063464092,
           25.978291565381944,
           28.15481634802378,
           26.52959571660523,
           25.620490138324932
          ],
          [
           22.823248534698116,
           24.901941856750813,
           25.139770720280655,
           24.785300084090505,
           24.141247477972843,
           23.86770354504054,
           23.410454437969168,
           23.54087460693057,
           23.974181620876312,
           24.10943715730797,
           23.35024522980783
          ],
          [
           28.371903148962783,
           28.575399787140984,
           27.927446416545706,
           27.48984140907973,
           28.15535022842848,
           27.78071473167341,
           28.52278909494909,
           28.79826271343253,
           26.373981463812246,
           27.88317920063746,
           28.815368873899143
          ],
          [
           24.159606340884647,
           24.510591197821057,
           24.869417068116025,
           24.765340324748532,
           24.539889441031583,
           24.83022556275107,
           24.63017149078624,
           24.76916305496572,
           23.146766460518652,
           23.585434929452127,
           24.06916439477039
          ],
          [
           25.727054164261293,
           25.208058146157292,
           27.38865403009944,
           27.86586332504973,
           27.301832815889945,
           26.27014862077225,
           24.50966906530571,
           24.673540716148192,
           25.85838474224,
           27.344553062938036,
           26.887992414702786
          ],
          [
           30.839392122355406,
           30.898926175941956,
           31.040706766482828,
           29.879028210088286,
           30.203813723108794,
           30.428882710748187,
           30.60122032207071,
           30.621037915710914,
           28.41976801812504,
           31.494730818709844,
           30.76973178226889
          ],
          [
           22.97211153733725,
           24.48902906598056,
           24.827154860582816,
           25.872044080300192,
           24.37631519702595,
           24.381298302881806,
           22.619619101314328,
           22.817952546714995,
           23.454939409061083,
           24.7425171403836,
           22.83174578066221
          ],
          [
           29.674547578874183,
           29.848098885403488,
           29.333760224311323,
           29.718331056966754,
           28.715374866864543,
           29.398494508757977,
           30.188538492802653,
           29.820822649209365,
           28.41095507097554,
           29.852226423304526,
           30.011505522818176
          ],
          [
           25.91966593772056,
           25.19062918715812,
           26.148754309498933,
           26.52352941466887,
           27.98692203418307,
           25.265797561383334,
           24.115114574607396,
           23.096659092745824,
           26.344304041613576,
           25.66210734642282,
           25.00921241133474
          ],
          [
           21.47411693016877,
           22.9381404574223,
           23.150649251616855,
           22.542093744844028,
           22.966480192880077,
           23.58508335135932,
           22.98153583707576,
           23.227387520133988,
           19.482032081178843,
           22.72368546957043,
           22.92581946493318
          ],
          [
           24.53124009811556,
           24.6995573509807,
           24.695832113604446,
           24.15548603828043,
           23.954713526863028,
           24.53441891872634,
           24.45484132147001,
           24.677362492022983,
           22.93390019435162,
           25.511593228171378,
           24.865817073620963
          ],
          [
           23.33199007091769,
           23.88291197377713,
           23.098859161807543,
           24.29603759798333,
           24.154334164064473,
           23.82194897370281,
           23.30147420344466,
           23.370320402919674,
           24.173872783670976,
           22.53254689982331,
           21.97907069979204
          ],
          [
           23.316190568052328,
           23.707470373333194,
           23.527285691894942,
           24.364945409146607,
           24.002180154159717,
           23.340030330314086,
           23.79295521045045,
           23.92105158419298,
           23.490517414995555,
           23.481691622783455,
           23.22124189572803
          ],
          [
           29.298319296575663,
           29.447985209577947,
           28.800126173148062,
           28.530115020510294,
           28.539773562495764,
           28.826729158490302,
           28.932517540184147,
           28.328255097992717,
           28.641130468423597,
           28.697056497144395,
           28.458487382357614
          ],
          [
           25.90160666977883,
           25.819766193873868,
           25.301668271783594,
           25.004521843051016,
           25.198291204544,
           24.849610780690647,
           26.24718421402584,
           25.15527385532199,
           24.77491455474477,
           24.332806975586557,
           25.183297944207045
          ],
          [
           24.9378682649017,
           24.244905574204726,
           25.42326103102811,
           25.49656063000975,
           25.505622839914874,
           24.515109349879715,
           23.56697717134736,
           24.51602313622543,
           25.1029484800143,
           23.67982449117922,
           24.050729971086806
          ],
          [
           27.984452660881935,
           27.922340295073987,
           27.582071660937114,
           27.733214781037276,
           27.030392534322672,
           27.437031159036028,
           28.023626107337993,
           27.771319583347037,
           26.934495437431927,
           27.943142094264033,
           27.8606320643829
          ],
          [
           23.930768542138743,
           24.072302328201538,
           24.430326295428653,
           23.777383863433236,
           23.901759913174928,
           23.702088381839705,
           24.551571866807738,
           25.65586761767036,
           23.36087753668898,
           21.384373870922662,
           22.76224956237566
          ],
          [
           27.07120811687582,
           27.31396933985034,
           27.631575252174795,
           27.67879313252039,
           27.28926946298605,
           27.420669314628153,
           26.709175480714674,
           25.803135990267617,
           28.1300292605666,
           26.154389488909995,
           26.46197399404898
          ],
          [
           25.169469848761292,
           25.088434841480627,
           25.256868111360358,
           25.05849612430239,
           24.394777470377043,
           24.99537436782065,
           25.581650746251952,
           25.36445248775723,
           25.852108066124025,
           23.797224243585113,
           24.770006480119235
          ],
          [
           24.514006468956016,
           24.201582537202487,
           24.006176024050482,
           23.35617230102219,
           23.908487307640442,
           23.820322595989065,
           24.017926580647227,
           23.66509337379805,
           25.512329427051473,
           24.5960514365541,
           21.78633437813666
          ],
          [
           26.22666409954393,
           26.176365828130994,
           26.471263773430135,
           26.013367217109586,
           26.169034437363976,
           26.06206947946464,
           28.259964623289513,
           29.076016685623006,
           24.649926157497777,
           27.261304580156185,
           28.00987813936705
          ],
          [
           31.947195729990952,
           31.379981498567417,
           31.261412361946626,
           31.31331320187593,
           31.380157446040585,
           31.120317384219497,
           31.138261382239268,
           30.351453636717945,
           30.723483663179067,
           31.93251723515937,
           31.582814251208582
          ],
          [
           26.79765452984876,
           26.453786914480208,
           27.000878552441357,
           26.7852890048392,
           26.359348292363695,
           26.740607295205894,
           26.57269667597384,
           27.10094130293582,
           26.220933425628402,
           27.977780173723982,
           27.729217217831962
          ],
          [
           23.079571424652592,
           24.226524901186863,
           25.76342835315051,
           25.933886283025725,
           24.993243990191658,
           25.298466245505207,
           23.66911490020206,
           23.379631198468168,
           24.85487405882813,
           25.906023952319355,
           25.106187053291034
          ],
          [
           26.043901503080285,
           25.778819383417588,
           24.068999745399612,
           25.30165045866346,
           25.121196939126662,
           25.09199799582574,
           25.472878645587883,
           25.08920580736328,
           25.784050357952722,
           25.23602285374771,
           25.585434086552453
          ],
          [
           25.073898280715635,
           25.895298714197665,
           25.60102020605238,
           25.648780023250218,
           25.852467092583478,
           25.23040861723092,
           25.696946024587056,
           25.462758171839447,
           26.337405339610367,
           22.725875831496094,
           24.495307993519667
          ],
          [
           32.8334180167514,
           32.84138870075513,
           32.953243631985835,
           32.170538472248566,
           32.281493304645196,
           32.56527816214278,
           32.711428810847025,
           32.06991012548331,
           32.03997287377768,
           33.04600912852804,
           32.64747698866105
          ],
          [
           27.91685144626192,
           27.68968471160705,
           27.40748353292583,
           27.63948691241535,
           28.276653215030603,
           27.458641471902343,
           27.608124879211744,
           27.459478240105597,
           26.46085628667871,
           28.02824572688823,
           27.898012105118774
          ],
          [
           28.697258312131616,
           28.380254822332258,
           28.855323365488257,
           28.417727500012,
           28.41350860020257,
           28.57144549383921,
           28.854902324101058,
           29.52655587769369,
           27.614213020336074,
           29.55443090197516,
           29.791756027046176
          ],
          [
           30.88060715153803,
           30.714696861168665,
           30.87355163985878,
           30.14278399911273,
           30.027704928044862,
           30.535210232586582,
           30.514045624705375,
           30.13136428825658,
           28.99128353529415,
           31.830921784764065,
           31.37494056699667
          ],
          [
           24.06170931699865,
           24.065106298486054,
           24.132761487027437,
           24.4400373246446,
           22.84819028699722,
           24.33664990720915,
           23.9609645413806,
           23.667248005657942,
           23.552240241506905,
           24.126894517612524,
           22.27616012174949
          ],
          [
           24.361792266078822,
           24.169355020464064,
           24.911263446412825,
           24.99295180861467,
           24.956052126467203,
           24.305569305046717,
           24.37129558979308,
           24.78431506364296,
           23.412544344416833,
           23.809746206024926,
           24.398165527290484
          ],
          [
           23.7934357313342,
           22.946025560129094,
           24.023499487840027,
           26.172771134188956,
           29.321891281239964,
           22.49681694149316,
           23.543784503645828,
           23.440397295449245,
           26.48168374476326,
           25.68563608363508,
           26.104618693901664
          ],
          [
           26.708931992424755,
           26.47243768868166,
           27.0528643243456,
           26.96866725535578,
           26.623100984422212,
           26.057184790897264,
           25.599418441228906,
           25.41915049292118,
           27.565976963518178,
           25.381181836840256,
           25.577680686781708
          ],
          [
           23.49892156663314,
           23.76122328629274,
           25.065290467468174,
           21.52212040140614,
           24.67215777265145,
           26.795685125895996,
           25.105484442292017,
           24.440365379841634,
           27.201535150476182,
           23.663213690457752,
           27.25569266383112
          ],
          [
           23.93171947259828,
           23.221923601136645,
           24.64486023122576,
           25.519348870459254,
           25.15924260179489,
           23.751779543570155,
           23.328720245417266,
           25.036323368223666,
           24.823758845229445,
           25.514776028139003,
           25.592258328826308
          ],
          [
           26.46322772150626,
           26.6651847059442,
           26.080244278047804,
           24.856798807892826,
           25.489767567255527,
           26.23100509411085,
           26.104169834918064,
           23.599159664483807,
           26.097602248022582,
           24.591328106197004,
           21.810757236726346
          ],
          [
           27.60566359958041,
           27.64102828179327,
           27.74659216306015,
           27.638302566792603,
           27.339131326137014,
           27.539773743870636,
           27.58823240255696,
           27.911469110596187,
           26.68105429006479,
           27.379275722689112,
           27.300070161973554
          ],
          [
           25.217939245815938,
           24.474208481762222,
           26.28189798747444,
           25.679781764281774,
           26.197068585759222,
           24.615033682775763,
           24.115859875716787,
           23.831372906033508,
           22.37254900415212,
           24.221988918593375,
           23.630363247823148
          ],
          [
           31.072912229163084,
           30.881626017574966,
           30.953518046250686,
           30.745871190528767,
           30.472515252504472,
           30.861187643566954,
           31.2822079697944,
           31.827442011926475,
           29.915978546276722,
           31.10916319822564,
           30.943818855290125
          ],
          [
           30.634111446455687,
           30.501459044628124,
           30.48051624997364,
           30.496070903886473,
           29.99148681410868,
           30.14213952967409,
           29.98622666689668,
           29.79402659089888,
           28.890373996851842,
           30.80846016990183,
           30.410418397459154
          ],
          [
           26.730905736554924,
           26.349885683655227,
           26.465641567904807,
           27.746826254919572,
           26.84825362133257,
           26.867515771947055,
           26.77347205236458,
           26.045320274467894,
           24.888224287718863,
           26.54623346333325,
           26.60906815686469
          ],
          [
           32.1665165048815,
           32.24584374695006,
           32.111683073658526,
           31.404949557858576,
           31.403641519144117,
           31.715530839818783,
           32.01292355523799,
           31.870054335750176,
           30.82187102327059,
           33.021566182404726,
           32.63709829052146
          ],
          [
           25.312416504384284,
           24.696465981518777,
           22.861361917646786,
           26.10226674213346,
           26.12931418151059,
           23.81752964000006,
           24.033846360857947,
           24.21469995447692,
           24.738638867385532,
           25.116035003748305,
           25.50316887698037
          ],
          [
           26.038756746392103,
           25.621134457106198,
           25.71043457725051,
           25.135550180011258,
           25.023599745886397,
           25.791237735880195,
           26.17524528060375,
           26.814952441252387,
           25.46136915790779,
           25.070145281192804,
           25.38312663279593
          ],
          [
           24.730321557815067,
           24.99407928003972,
           25.576400124495244,
           24.49123516715194,
           24.586089471821104,
           25.698137222072997,
           25.13185806961762,
           25.91142305464509,
           26.011672376563958,
           24.59599230709596,
           24.078321395410434
          ],
          [
           24.518806277555843,
           25.181870603463633,
           25.338825869773174,
           24.95716771151654,
           24.463779486022702,
           24.633662077321954,
           24.9568674549518,
           25.0502819614246,
           24.801766885944346,
           24.720898906403963,
           24.019257364048702
          ],
          [
           25.3002088671696,
           25.24443117611171,
           24.662677353324476,
           26.576366333116475,
           26.674075176316975,
           25.138092073474066,
           23.73127790664494,
           23.388475250494615,
           26.065797441752864,
           24.666595084474846,
           23.784255216419336
          ],
          [
           23.934583876030732,
           23.804821108028257,
           24.633039457769936,
           23.627521906944466,
           23.916297797469266,
           24.315839515791147,
           23.572117328979626,
           24.086367806115963,
           20.808329810046615,
           23.292968122638595,
           23.059415900349336
          ],
          [
           28.02391225213086,
           28.063337995462284,
           27.891373679874512,
           28.590125541000912,
           27.361449989641223,
           27.848444289364412,
           27.66272131804533,
           27.581641283630326,
           28.862431614504825,
           27.457016923640804,
           27.540469329447962
          ],
          [
           25.137924459315,
           24.124770924733067,
           22.921970022046914,
           23.850934861142672,
           25.176016615737126,
           23.518518683004014,
           24.51703638224384,
           24.520968389328267,
           25.81488993098396,
           21.78222540911832,
           23.745664181759015
          ],
          [
           24.06687777708872,
           24.238198447785102,
           23.12255188771086,
           24.83244603456584,
           24.268476389669168,
           24.2696607237416,
           23.948107042880252,
           23.79037014089036,
           24.39057104750174,
           24.21304160042851,
           23.918907538672524
          ],
          [
           23.68561591602142,
           22.79395760992156,
           21.885594390740675,
           23.38108824325677,
           23.631863601710222,
           21.56478799029757,
           23.542651105896002,
           23.108736876391472,
           25.22230547616257,
           21.487513558621014,
           23.54318821262758
          ],
          [
           25.021901761192403,
           24.75014631615643,
           25.099405792607474,
           25.548135833543085,
           25.754777413580786,
           24.337798471213926,
           25.214975746742795,
           25.329701297331123,
           26.04067650472289,
           25.16643913702467,
           24.998670164039844
          ],
          [
           24.7006271254937,
           24.30702608447383,
           24.64423599793567,
           24.873648946355555,
           25.44911185951654,
           24.278018364957642,
           25.016065641121823,
           23.284349952814413,
           25.31696417523189,
           23.60051155864331,
           22.342171907699022
          ],
          [
           24.55708654662729,
           24.26921392484111,
           25.502542274051972,
           25.383014561013933,
           25.150949194673547,
           24.901527666823526,
           23.130175273099468,
           24.409433984493017,
           23.426618635167618,
           24.617971496366685,
           22.155391492320362
          ],
          [
           23.49480381329439,
           23.3396705077509,
           23.74405765898223,
           22.745929715893325,
           23.332552497554882,
           23.50772773948273,
           23.878169135450545,
           25.085537598181638,
           22.32880427155894,
           22.27120213878441,
           22.72626126260976
          ],
          [
           25.43397690519019,
           25.507450879371806,
           25.965110623266536,
           26.636991444646696,
           26.233487143954388,
           25.83978850368614,
           25.629010729031982,
           26.274078830317375,
           26.44581264928291,
           25.080581018012943,
           25.96705055856639
          ],
          [
           24.37595150852791,
           25.60254680835613,
           25.514552917796106,
           26.60826726701895,
           25.63478590924004,
           24.898892177929337,
           24.256967703777423,
           21.901662313861014,
           25.84355548702563,
           24.23452112761722,
           24.18072428417061
          ],
          [
           25.742045770338205,
           25.54201649023726,
           26.0221485072167,
           27.254122471970458,
           26.12501468893754,
           25.855879912240994,
           26.501636247847813,
           27.121949112092064,
           27.19823697759319,
           25.99463952500424,
           26.820411330744868
          ],
          [
           28.050989237293617,
           27.80063400127968,
           28.378656190497544,
           28.06059699968835,
           27.952524637983313,
           27.74319825314821,
           28.13337467855482,
           29.282304575671894,
           28.24618702171806,
           28.756519029923,
           29.094341065628555
          ],
          [
           25.29690528409237,
           24.87928468790041,
           25.16439544538966,
           26.493693516152806,
           26.446577715644697,
           23.76747526419291,
           23.94799859928672,
           24.338197912096465,
           27.106999935391467,
           25.094635409717192,
           23.065180274033867
          ],
          [
           27.048765331559018,
           27.01202950683401,
           27.883794999534214,
           27.85716162170991,
           27.776540660885676,
           27.35209072936117,
           27.30364921096965,
           27.719404549160785,
           27.572216497122785,
           28.198481297654332,
           27.96018565217778
          ],
          [
           25.464568997716817,
           24.740151747851744,
           25.795019944169482,
           26.381894750820614,
           27.062432844681545,
           25.221541983864327,
           24.837996745337385,
           25.42283448851655,
           24.63048248237626,
           28.07874588232061,
           26.550912896235655
          ],
          [
           23.76421101035821,
           24.467098123484206,
           24.69336590155998,
           25.215448439306336,
           24.846860634849428,
           24.96598360684558,
           24.721437931400853,
           23.412591691249794,
           24.132517343642178,
           24.687081107105588,
           23.943381133929268
          ],
          [
           31.388391994223383,
           31.465727475656614,
           31.077476001612354,
           31.020079779724785,
           30.528096104846526,
           30.976043092068394,
           31.46801858159581,
           31.24545330155631,
           29.948358518641385,
           31.47657991990799,
           30.94259652596918
          ],
          [
           27.844103261798892,
           27.182975680520908,
           27.366682098462558,
           25.8178133012625,
           27.16723710493676,
           26.880148220641043,
           26.944345082797206,
           26.486227084194848,
           23.794515656334703,
           27.542234679229235,
           27.098708485811574
          ],
          [
           24.21104591053594,
           24.466581829951753,
           24.956866919645076,
           24.016625682191904,
           25.24624692040519,
           24.362348985157254,
           23.78141779404989,
           25.167488784964874,
           21.589952129742883,
           23.94563820093098,
           24.967027601062707
          ],
          [
           23.02817918064801,
           21.831269986398357,
           21.774296145170453,
           24.36131234770826,
           24.228165283487147,
           21.856403652881273,
           21.96492080685165,
           22.70517289983622,
           23.46296059499504,
           22.615572334718085,
           22.857898639941947
          ],
          [
           32.606234382784855,
           32.58558186110234,
           32.62197131295055,
           31.792159309721967,
           32.21680696043282,
           32.4044422984122,
           31.911148491792634,
           31.26696036763791,
           29.391181430828887,
           33.572484691393626,
           32.58044303424109
          ],
          [
           21.344858394293045,
           21.26610581685615,
           20.620901382457507,
           19.706240160563958,
           22.25816138503622,
           19.730806906115873,
           21.87334797095942,
           20.937104466914054,
           23.029096321565866,
           20.20466355690172,
           21.651669195075808
          ],
          [
           24.515378667808733,
           23.711445401851567,
           24.261901646551454,
           24.86054405405964,
           24.183464322335638,
           24.8500467106507,
           23.511419260821693,
           22.418678858815525,
           23.962460636658037,
           25.192675098809662,
           22.024872302443185
          ],
          [
           26.626741426594897,
           26.420400673952056,
           26.306134967590676,
           25.96366923009424,
           26.687878338424596,
           26.54385761613292,
           26.394411852914597,
           25.85383827498804,
           24.729708141684622,
           25.09335165242355,
           24.84079686228251
          ],
          [
           27.2129406514192,
           26.896402105881474,
           26.82137029625429,
           27.009169331454626,
           26.806900969469744,
           26.43385801429677,
           26.650307792638205,
           26.635743097982303,
           26.943078131239034,
           26.353772613267093,
           26.50890599205347
          ],
          [
           23.209437887342304,
           23.72746509765379,
           23.06909631461179,
           23.70200982725926,
           23.189602744957806,
           23.951750787095115,
           23.311357257193464,
           22.527934828660733,
           22.12497458809432,
           23.1756078724954,
           23.316942548181284
          ],
          [
           22.29901421984377,
           24.203646555926774,
           23.826602907570223,
           23.930621503966588,
           23.97611201290914,
           23.885084428453823,
           24.23610713875116,
           23.50125707287497,
           23.731827057938347,
           22.418655343711663,
           23.567264524646127
          ],
          [
           26.72442156747301,
           27.116777836773558,
           27.179621241763822,
           26.85593656090742,
           27.620107466479727,
           26.97278416156291,
           26.924637071120863,
           26.922733439873085,
           25.955160258522724,
           26.68541188154202,
           26.994595548319772
          ],
          [
           26.01938010442012,
           25.712805606361233,
           25.995044965573832,
           25.906288069643463,
           28.041850951884058,
           24.85460487630942,
           26.150799826811472,
           26.885284837250307,
           26.25518141178995,
           26.058657550696847,
           27.19442494908744
          ],
          [
           25.202921329259453,
           25.763652559006562,
           25.86080950294378,
           25.78395028856496,
           26.441576480309468,
           24.738523031208764,
           25.063774039752275,
           24.19165587843568,
           26.308930154260644,
           23.424406307271106,
           24.23604414272799
          ],
          [
           26.512579338440204,
           26.385212453953056,
           25.80740925471033,
           25.7234005532667,
           27.047247112395198,
           25.859676764520575,
           25.99258305263158,
           24.863809632440766,
           25.797652174164405,
           23.838424364849484,
           24.5928204860105
          ],
          [
           27.893339513823683,
           28.098396000027837,
           27.483563177940223,
           27.454025448539923,
           27.964509658322136,
           27.39609605333534,
           28.47438993953335,
           29.88617939363553,
           26.13084794552142,
           27.262107093268728,
           28.17415844637063
          ],
          [
           23.6724666510741,
           21.747366551246216,
           23.101321958892022,
           22.64409108160048,
           23.015626682669463,
           23.431164756795972,
           25.20346228210923,
           27.090493614028237,
           21.81831146959609,
           22.883885041064072,
           25.782020731938456
          ],
          [
           24.210185755297392,
           23.234748592405303,
           24.286296558848218,
           23.765729710806834,
           24.139513818814343,
           23.847948397625547,
           25.095394239385982,
           26.909405543394616,
           23.090535314725255,
           24.285947834277682,
           25.11191009150446
          ],
          [
           26.30563887103857,
           26.359370378586835,
           25.87640698476316,
           25.939281748567137,
           25.833087058182542,
           26.009736281272446,
           25.069892436847894,
           24.89756878107389,
           25.97039123498607,
           26.048592394231438,
           25.53037567630906
          ],
          [
           26.214465613356072,
           26.00814300587547,
           25.99985465168212,
           25.912077624171864,
           25.296376726213083,
           25.437750906042382,
           25.879560180658764,
           25.425526894351556,
           24.73421753398944,
           25.802810144909582,
           25.508343466846853
          ],
          [
           26.893317392036906,
           27.10565001960489,
           26.39327619405578,
           26.888228001536536,
           28.1677289644085,
           26.5806436225277,
           27.05144517009834,
           25.452352933575337,
           26.435270621066973,
           24.427529767871526,
           26.096824145362426
          ],
          [
           25.827302929307937,
           25.914187997338768,
           25.757859985678866,
           25.97931666182332,
           25.604956883155378,
           25.567252755545535,
           25.392128550768128,
           25.73497809949959,
           25.10884182071675,
           26.301523088198827,
           25.70847103361514
          ],
          [
           23.86854888219179,
           24.6179173432394,
           25.69328111577982,
           25.10395576187335,
           24.943275251932103,
           23.92362433606199,
           24.258429653559123,
           24.9258339357093,
           24.23999124112617,
           26.301902675478242,
           24.744174541208476
          ],
          [
           28.372223455843272,
           28.51234498826296,
           28.69814839023484,
           28.883331226506073,
           28.16142605484432,
           28.53043771199293,
           27.940455378662275,
           27.132969895246664,
           28.532847042616506,
           28.500195211356814,
           28.187155987701583
          ],
          [
           25.227412082512938,
           25.527136308204657,
           25.243370394229682,
           25.006352538666228,
           24.83544579006,
           24.857226456790663,
           25.319260256226592,
           25.34349518433602,
           24.07697309417512,
           24.69543002974596,
           24.838778553325536
          ],
          [
           22.180897185782694,
           22.386790889744848,
           22.57226159989576,
           22.975963234608656,
           22.844483243961776,
           22.441441178517618,
           22.563287566485617,
           23.124595122647115,
           22.135995780772365,
           23.883090552730742,
           23.985094045774638
          ],
          [
           26.0630583134084,
           25.86902865908191,
           25.75888961894545,
           25.522231286918334,
           25.093022475109724,
           25.576371697722475,
           25.883947123676755,
           26.547892700038382,
           24.15232156148003,
           25.535467777483493,
           26.43996553271285
          ],
          [
           26.433666527343767,
           25.99390327858529,
           26.49152303357466,
           27.183772903877752,
           26.489166270845445,
           26.127525026796008,
           26.066666094050234,
           25.875322704830992,
           26.625952590096766,
           25.309789785645066,
           25.199905262537794
          ],
          [
           28.856361380941955,
           28.824600232998797,
           28.873931032810994,
           28.89485094105378,
           28.14780252480828,
           28.791276735835936,
           28.884737356685946,
           28.616235355517365,
           27.85666273613563,
           28.555542667852812,
           27.78141604692057
          ],
          [
           27.034614549153048,
           27.33068038597029,
           27.193371812146598,
           26.202431069870254,
           26.070669675952914,
           27.20991443371745,
           26.77141888097802,
           26.547764144580764,
           28.14364962543665,
           25.930903688210286,
           25.950999383669824
          ],
          [
           24.45104954639803,
           24.788096173912223,
           24.95203704035123,
           25.003970994505064,
           24.927215526521508,
           24.336521726848314,
           24.267513905559184,
           24.152478769451545,
           22.827333238251175,
           26.08441208445921,
           25.848436219582673
          ],
          [
           24.636896275669827,
           26.006758983139054,
           25.238852417188134,
           25.764638468745723,
           27.16004917016583,
           25.40253813524026,
           26.175446708566536,
           25.424817152703124,
           26.5309485164501,
           24.2533773824691,
           24.21628397427873
          ],
          [
           26.219939323701617,
           25.99988233852046,
           24.157959161193894,
           27.437536043773765,
           25.770619967782,
           26.134068635681444,
           26.425555358428706,
           26.56086022192585,
           26.67163160688164,
           25.637949502338582,
           26.418874239614304
          ],
          [
           27.767429023418867,
           27.97898501873103,
           27.4656526744867,
           27.180163958391923,
           28.582350735356474,
           27.560565007423907,
           27.869334533339718,
           27.136014397281656,
           27.522949751132533,
           26.74786020722254,
           27.167212207355885
          ],
          [
           27.971600695443904,
           27.366443801533315,
           27.665487169413566,
           26.98477465752189,
           27.213624156496273,
           27.364632639484952,
           27.99577581698618,
           28.299184176151176,
           27.368795148249838,
           27.73401988347462,
           28.125605854211397
          ],
          [
           31.334765211218823,
           31.444294252919192,
           31.36010344170865,
           31.045260101453163,
           31.051838399961724,
           30.992369834446304,
           31.105527430772604,
           30.83984357176947,
           30.419083546305473,
           31.725613875505847,
           31.53364393068971
          ],
          [
           24.310468528062653,
           24.402917774690785,
           24.916707985848078,
           24.144581371336674,
           24.138914597122607,
           24.139374854201808,
           24.247927756326387,
           24.04992727105922,
           24.780217765203748,
           24.49576627657594,
           23.670716489247596
          ],
          [
           25.475624846151927,
           25.23997494130561,
           25.506038783175768,
           25.908953728049873,
           25.346361342900895,
           25.901340081417466,
           25.605567505076806,
           24.29082792988968,
           26.230928029355,
           24.209808430137674,
           24.700414654512706
          ],
          [
           24.380342358580993,
           24.64521765146958,
           24.389066026007505,
           23.30556434833151,
           23.16054869930096,
           24.440365379841634,
           24.275147906954842,
           23.465995771102317,
           23.885248756671565,
           23.179681990111188,
           23.296909008286676
          ],
          [
           17.667998742881046,
           17.80270605392219,
           17.141838060614425,
           13.210331022916005,
           16.02903481175805,
           17.74777711255349,
           16.938651867881095,
           16.519873536406056,
           14.436175949803415,
           15.661540629618582,
           14.232143376588487
          ],
          [
           26.169922696772677,
           26.49860272576723,
           26.441142771420097,
           25.83163569154375,
           25.972467649206234,
           26.557085725262922,
           26.21297405441295,
           26.08251503640687,
           24.59414498778366,
           26.518554805239987,
           26.465777852622118
          ],
          [
           22.32050329010547,
           21.842020162708977,
           22.253194302260948,
           22.10141102529872,
           22.0609354812145,
           21.438097069880257,
           22.81414888409363,
           21.772408404466876,
           22.12401224087302,
           22.77908961054228,
           22.96133542285854
          ],
          [
           31.08527722757761,
           31.458027281099003,
           31.10654237285985,
           30.77925147764456,
           30.40048846965266,
           31.151257492630037,
           31.24816506997297,
           30.726456063897686,
           30.835413020486655,
           30.453519900995204,
           30.25955543779175
          ],
          [
           25.740811754091173,
           26.03990273265029,
           25.887982095501833,
           25.89854853664942,
           25.71754480527345,
           25.65037046251393,
           25.848157057422764,
           26.06470427906684,
           24.257539480618743,
           25.630660375153635,
           25.952166672869094
          ],
          [
           26.350903519688455,
           26.705194074510658,
           26.554348811687255,
           26.73912050422172,
           26.39758919313868,
           26.76861401109345,
           26.28713372824824,
           26.064952557927377,
           26.815479741058148,
           26.398330110853955,
           26.125505901584095
          ],
          [
           33.795929446815556,
           33.92647149844412,
           33.98659239053751,
           33.360580136097354,
           33.13063228546353,
           33.38295066109381,
           33.69221556858577,
           33.76376502713656,
           31.51247714694627,
           34.68909404507034,
           34.30544650751271
          ],
          [
           32.00953797689315,
           32.31424802272116,
           31.840002721572127,
           31.8100277200199,
           31.712344389341837,
           31.63380485855488,
           31.813433151246784,
           31.88563489699289,
           29.872364179164787,
           32.25535668387801,
           31.85448052802669
          ],
          [
           23.630991182275046,
           23.826133228722604,
           24.054928416596596,
           24.855447244420542,
           25.165773812446346,
           23.762304407082038,
           23.99210033996327,
           24.355240592147148,
           24.679511342324496,
           25.302537142656504,
           24.510081004028265
          ],
          [
           23.867353759969223,
           24.173231146889783,
           24.88309119991225,
           25.019142109357837,
           24.524443841608516,
           24.06622387761858,
           25.093394866308724,
           24.441089098060928,
           23.464975480240085,
           24.75943139384507,
           24.741347694492116
          ],
          [
           20.704196695474696,
           20.782791261366363,
           20.74426365938848,
           21.023388064388755,
           20.669830865506373,
           20.174635867041093,
           21.23264340681342,
           20.562044978906656,
           21.03162425917908,
           20.877141842127372,
           20.463191185790155
          ],
          [
           23.699568724853677,
           22.58112237176226,
           23.37306105630289,
           23.32499841713116,
           23.009703726429674,
           23.013060824550678,
           23.549348093052256,
           23.436220915558476,
           21.93147823640459,
           23.482314891925085,
           24.06356175767244
          ],
          [
           25.036883807000194,
           24.485643787129504,
           25.17086937866744,
           24.57147681809165,
           24.238187006668223,
           24.62843141938927,
           25.29984149989561,
           23.803619133698426,
           23.62802018755119,
           24.595162689597505,
           24.108637125233667
          ],
          [
           22.804789696187353,
           23.124702373686368,
           23.822831684607447,
           24.354660999454932,
           24.752282141995995,
           22.909242758124176,
           21.058755314656434,
           22.586354489346846,
           23.52308870652678,
           20.728028389064317,
           21.69211299753068
          ],
          [
           25.08457886412386,
           25.008982064857776,
           25.15783216402149,
           25.028240888470968,
           25.515743267736646,
           24.96356282477635,
           25.137992550291873,
           25.200895825698947,
           25.071073649568863,
           24.7215104930215,
           25.206421852427926
          ],
          [
           24.35459825756362,
           23.965194293498985,
           24.66009314337697,
           24.488722647628947,
           24.5589705776647,
           24.155946824833215,
           24.694334397796133,
           24.527114644901353,
           22.448824630719805,
           24.923713527508994,
           24.440365379841634
          ],
          [
           24.55993526945964,
           25.242843319707678,
           24.41502626596752,
           25.22215445012743,
           25.060970359009872,
           24.265230742607677,
           25.28902327446766,
           25.944384556004845,
           23.65515247096019,
           25.489061472939987,
           25.519228078280882
          ],
          [
           26.056258052036725,
           25.975126002204806,
           25.90435654421687,
           26.009829785111524,
           25.903724048207295,
           26.361076363796496,
           26.148054289546394,
           25.814276734647695,
           25.35781574635951,
           26.911034812481457,
           26.962322657097978
          ],
          [
           23.71992406823108,
           23.354583602377456,
           23.070430786437356,
           22.913235064517693,
           23.37975952314656,
           23.06653481930502,
           23.50983801117194,
           23.31762561180316,
           22.046893881624822,
           23.071104356354034,
           22.982519499710605
          ],
          [
           29.48800594877847,
           29.314772546135124,
           29.90620116824395,
           28.84273001981925,
           28.786849666659094,
           29.341492408189357,
           28.859032286274832,
           28.223597413589708,
           29.01934470301208,
           29.302856162649157,
           28.69330293832957
          ],
          [
           24.831446640031633,
           24.872945014794656,
           23.478387767226174,
           24.205748172705327,
           23.750870956514376,
           23.375323562430584,
           25.150695414842023,
           25.588195045049865,
           22.956564719161804,
           25.599821633776614,
           25.520367438564694
          ],
          [
           26.119038709958144,
           26.509139287200068,
           26.73891355170695,
           26.380925425998985,
           26.766310445354925,
           26.408757907867532,
           25.095374098733036,
           24.51413649286695,
           27.011138305873605,
           24.193945885924787,
           23.47778659247723
          ],
          [
           23.675004761559038,
           23.713253923478657,
           23.707165032380725,
           24.626555520334392,
           23.58942777626885,
           23.13942648454799,
           23.87107100746105,
           24.633051655045,
           22.65106035039976,
           24.579706708690054,
           24.32511399616442
          ],
          [
           22.156683778185183,
           23.411976538235415,
           23.54344601101383,
           23.672235969234805,
           23.445752234932474,
           23.725149155455192,
           23.00152791960842,
           24.39014989026802,
           21.429474543554576,
           24.354912023117816,
           24.8499168015821
          ],
          [
           29.89045177658083,
           29.76418277637277,
           29.724668742823066,
           29.883456635442457,
           29.849354930521738,
           30.094671982257047,
           30.21867038812005,
           30.550382797277212,
           30.284755696080524,
           28.9005986737301,
           29.70013481116772
          ],
          [
           22.94936212115225,
           22.685555310254184,
           22.167798974234024,
           22.757235002177094,
           21.4803217699075,
           23.377649754515517,
           22.792656531981617,
           23.340233243190966,
           22.43167289480277,
           23.758532440992948,
           24.04494094225175
          ],
          [
           23.926137370905455,
           23.874556477704832,
           24.325343940503238,
           23.624030675986027,
           23.814352752929043,
           23.226956850417057,
           24.449882662949534,
           24.931512481015048,
           22.47090440219943,
           24.847477664651088,
           24.623731574348124
          ],
          [
           20.950093650948606,
           21.44588338532925,
           22.170181259531596,
           22.00415583885014,
           22.26786180454222,
           21.25717591019482,
           21.555796038510348,
           21.7826421934518,
           20.916001356098057,
           22.02130678884976,
           21.814670624201227
          ],
          [
           24.980576766346267,
           25.553932427666677,
           23.75623795258507,
           25.50562768620011,
           25.06326793120913,
           24.93303313726255,
           25.499328922243592,
           25.49116206620779,
           23.374255086243675,
           24.34191502890718,
           24.92350186836737
          ],
          [
           22.895160549916763,
           23.017846838956594,
           23.395919725967474,
           23.082131037421775,
           22.713594804228258,
           22.367812482416678,
           22.513999840474,
           22.31839641124991,
           22.219627970369903,
           22.38486025074649,
           21.852000943965265
          ],
          [
           23.35171211564756,
           23.85616101953348,
           23.005184532923,
           23.442106502843362,
           23.29828981609587,
           23.208463325180904,
           23.764331919496207,
           24.017993285659855,
           21.118943660506577,
           23.343920031687652,
           22.68608220372326
          ],
          [
           27.778389507959307,
           28.314912195491736,
           28.034807010969477,
           27.76113886576508,
           28.136041693532697,
           27.905023966938085,
           27.836049391320014,
           27.01077150751017,
           27.931433298032797,
           26.737689544499798,
           26.651842927437706
          ],
          [
           21.643023190746085,
           22.371055883259913,
           21.583699579782014,
           22.313087455470058,
           21.769145709335287,
           20.98261621990372,
           22.630417226269802,
           23.622177906165476,
           22.28913804536842,
           23.48736336875784,
           22.824162372886747
          ],
          [
           24.945617838092957,
           23.971688741459506,
           23.833433583301247,
           23.657061030109002,
           23.785050431251566,
           22.911489608707658,
           25.331154698407246,
           25.946761023016478,
           20.25286994084078,
           25.74326645386122,
           25.437166127932898
          ],
          [
           24.37983276456031,
           24.57454550983028,
           25.046580018196508,
           25.037670728124702,
           24.561628359024926,
           25.06702364057503,
           23.9993768109058,
           24.631092075640336,
           26.509786254480147,
           24.001622546194163,
           24.325622785751193
          ],
          [
           24.557933099124405,
           24.66090777501989,
           25.386760491335032,
           25.97827675197345,
           25.73059039396761,
           24.825911875228442,
           24.23005524983934,
           24.881562650432937,
           25.088055679811838,
           24.2420078208998,
           23.26544729990071
          ],
          [
           30.089379499226936,
           30.21008304739607,
           29.97134527506209,
           30.020542298498434,
           29.844208302283487,
           29.886843340180707,
           30.061673393772487,
           29.530594844928117,
           29.604260188451143,
           30.013226965178376,
           29.54875361818509
          ],
          [
           27.84777527034138,
           28.19266057554866,
           27.720317126627673,
           27.32242883872151,
           28.366577053651163,
           27.667789134305355,
           28.30422404047152,
           28.310673350075774,
           26.38329619337107,
           27.620735533861772,
           28.26708069584328
          ],
          [
           25.941768443609863,
           25.040800775239735,
           24.17632578146671,
           25.786589879081422,
           25.660933798960244,
           25.725408485889663,
           26.70376049011692,
           27.067186067107887,
           25.938352106069722,
           26.82815267814659,
           27.254444013128317
          ],
          [
           26.37660082760973,
           26.01180871021914,
           26.791309587564,
           25.967960543766136,
           26.338033348347103,
           26.048406744024852,
           26.755294689166778,
           27.241014571517937,
           24.30859808002321,
           26.475611371351768,
           25.988071524978427
          ],
          [
           24.1475043603619,
           23.915655569635312,
           25.079348886849846,
           25.317328262370186,
           24.73671592861203,
           23.68185270440191,
           22.73461192107476,
           22.216437509204276,
           24.470520743246986,
           23.012480510408263,
           22.593764159122394
          ],
          [
           26.166343604182686,
           25.981969537648098,
           26.26517002192784,
           26.76214632190917,
           26.634415448641626,
           25.9902714854809,
           26.566866411342573,
           26.845176808268544,
           28.305072897185195,
           25.30013198724956,
           25.60502473285318
          ],
          [
           24.681945376317866,
           24.74588331769807,
           24.045669457925506,
           24.26966060360524,
           24.395410163568055,
           24.22381616332146,
           25.056734977798527,
           25.01642798307268,
           21.18519051666779,
           24.522543288963472,
           25.35067165749651
          ],
          [
           25.38992989228932,
           26.16106516972743,
           24.84469585269531,
           25.539016234199522,
           25.757834075466967,
           25.679289767662212,
           25.7684102759084,
           25.488782841158557,
           25.11390863604838,
           20.784885529334584,
           25.02770618852956
          ],
          [
           23.150331670391463,
           23.20469915648456,
           23.054389329782552,
           24.012806502751626,
           24.04188245012769,
           23.461054698711116,
           24.026495959765352,
           24.510319045849176,
           18.497072409099392,
           21.68284213813085,
           23.821445946641855
          ],
          [
           35.06321862880411,
           35.18086804256099,
           34.89131736538196,
           34.525527359566155,
           34.3567155396491,
           34.85686186836275,
           34.914481936892145,
           34.642168911773396,
           34.18532391200468,
           35.141528158986226,
           34.856636209037504
          ],
          [
           25.295073773339737,
           25.112758264996177,
           25.710119535036007,
           25.46082053963308,
           25.01881400529105,
           24.989585556858273,
           22.507530883231556,
           20.54272453991238,
           25.916639214993694,
           23.163961197296484,
           22.562127460658797
          ],
          [
           26.80291586594633,
           26.88670853704622,
           27.66335872529543,
           27.704985520127643,
           27.362690954620906,
           27.43334447913651,
           26.647570475103382,
           26.322878175710326,
           29.169925336439398,
           26.072326895419074,
           26.835463053710857
          ],
          [
           27.54780995460544,
           27.71656501828867,
           27.671724246594234,
           27.610090551205975,
           27.235402891018623,
           27.78416132192649,
           27.73085782957277,
           27.709704090110503,
           28.304611364421948,
           27.892161648112474,
           28.310582893097603
          ],
          [
           21.247304203657936,
           21.440913743890455,
           22.025266598631053,
           21.843361558991997,
           21.700415116183713,
           21.18181135027768,
           21.438953833638553,
           22.334304628335044,
           22.351878397011205,
           23.187715128426735,
           23.032990569779308
          ],
          [
           22.275540425476358,
           21.376851439194468,
           21.941609004275733,
           20.758962518499956,
           21.28036161474247,
           20.243142210620302,
           21.61501409230554,
           21.074013175054425,
           21.116382814737477,
           21.558277603487426,
           21.63802809529469
          ],
          [
           24.59997275665767,
           25.417185686824244,
           25.839244700881434,
           25.541972004695563,
           25.27356796092039,
           25.38793321335064,
           24.5033422474612,
           24.071863083336595,
           26.34705639627615,
           25.076363835389323,
           23.416763745072863
          ],
          [
           26.890433186215787,
           26.791884307074856,
           26.84700589151562,
           25.724906587286153,
           26.089638835360553,
           26.13364001067871,
           26.73801725344666,
           26.386052939921527,
           25.223041083318243,
           27.233695260316342,
           26.967388630550303
          ],
          [
           25.14784701012322,
           24.529584372334853,
           26.36696994934123,
           24.545739019219866,
           24.87327964018782,
           23.799408692121833,
           23.918806632335702,
           22.55151544125095,
           23.12808245427635,
           27.09649961631348,
           25.50833638440678
          ],
          [
           25.108534990114382,
           25.309578559235145,
           24.308323697990538,
           24.771459755707784,
           25.984147977431068,
           25.16681515030768,
           24.974002792906067,
           24.98677324894963,
           24.793133887847922,
           26.48945266318229,
           27.115378974387383
          ],
          [
           25.363963828236944,
           25.80624061602483,
           27.184659522063562,
           26.89009967348287,
           26.567867026078343,
           25.628714286350096,
           25.669108679850016,
           25.221204552130203,
           24.948879109748518,
           26.036675532623867,
           25.06993802154811
          ],
          [
           21.790061181025045,
           22.534216260817004,
           23.404320051840415,
           23.51498525280667,
           22.533040579465364,
           20.99849677150674,
           21.94755419746973,
           22.61245882069011,
           22.254693805930764,
           22.40726570926377,
           22.5922705880949
          ],
          [
           22.634582185409197,
           20.397056247420768,
           23.38967498548239,
           22.8628036297082,
           21.83493180332735,
           19.027822275924617,
           20.070017729221863,
           21.664337582042617,
           23.475254810464076,
           19.693357546419104,
           22.288062440470483
          ],
          [
           25.148361551224152,
           24.819416071891208,
           24.113587898602905,
           23.44410250406901,
           24.108231906436362,
           25.526582945386505,
           26.25043880620499,
           27.201337756896397,
           23.35559976511386,
           25.452772585565203,
           26.657696319600717
          ],
          [
           24.51675466725827,
           24.744456047860222,
           24.565402102126896,
           24.54384378518298,
           24.55746569778694,
           24.650785420138856,
           24.942683487616986,
           25.160867889683757,
           23.713332223442976,
           24.90096210112125,
           24.639496975954888
          ],
          [
           27.863463302322984,
           28.04870563747195,
           27.777305389674993,
           28.529899292781693,
           27.535122924363062,
           28.11556644811535,
           27.19009147061376,
           26.597051545620708,
           27.015539563845866,
           25.820403888426416,
           26.468991437306748
          ],
          [
           27.010102111753135,
           27.071736766679443,
           26.77533725007994,
           26.237451469729177,
           25.844986369346554,
           26.125029500741338,
           26.894700377326014,
           26.66726293587832,
           25.0653544038945,
           26.644834368122957,
           25.135120600892762
          ],
          [
           32.44183765563808,
           32.33479293537871,
           32.5595128672978,
           32.208045239110476,
           31.886742603370923,
           32.10123524294026,
           31.624604205023424,
           30.87707063443871,
           31.42314769827477,
           32.019295949101235,
           31.052598724692015
          ],
          [
           26.93268806223472,
           27.477967211791565,
           26.72859375309095,
           26.50864935246349,
           27.525689086367073,
           27.0338904519455,
           27.208524485956293,
           26.44456211371477,
           26.111107466346883,
           26.050119084426825,
           25.963821865698613
          ],
          [
           24.072685454577577,
           24.091939572685135,
           24.541250009990502,
           23.39851466703652,
           24.08911583901958,
           23.999017802856297,
           22.854094482857793,
           23.216418997439217,
           24.030468520473,
           23.04036302751022,
           21.745852237325696
          ],
          [
           28.575138276216,
           28.49530224402356,
           28.70281624823997,
           28.32992297948923,
           28.147816526354234,
           28.75247869459412,
           28.428556289567357,
           28.157669553569313,
           29.12577507828912,
           28.44019689598843,
           28.35376685118158
          ],
          [
           23.808263043907843,
           24.06344265128417,
           25.145786616372032,
           25.639195668818914,
           25.477485489522735,
           24.058912322728943,
           23.034245130880798,
           22.286881499977216,
           24.318628221946547,
           22.63805388971888,
           21.90296059416133
          ],
          [
           25.047382706651405,
           24.751781628509992,
           24.566968451637194,
           23.5607406528539,
           24.314986933630667,
           24.3937548498525,
           25.147642695403803,
           26.090651672329752,
           21.77993069556562,
           25.39122069697106,
           25.7897306575743
          ],
          [
           26.05382687246343,
           26.212019241480405,
           26.020187725744922,
           26.34643660964633,
           26.347091122862956,
           25.64421056482346,
           25.887005573264123,
           25.976922971526037,
           25.927209404940324,
           25.823737991332205,
           26.55535624911395
          ],
          [
           29.219089912719742,
           28.28694029448843,
           28.238266355133188,
           29.300573419103113,
           29.627576305916257,
           28.339342585498617,
           28.83462015890719,
           29.41589958711005,
           28.21420245024069,
           30.129464210824946,
           29.707448673336504
          ],
          [
           28.527939467707384,
           27.889913951757205,
           27.860274708852312,
           29.138659527217477,
           29.188120160941857,
           27.675545556546545,
           27.619540235770177,
           27.411686966151635,
           28.99970974840919,
           28.07278428995815,
           27.481149366261594
          ],
          [
           25.788179628821002,
           26.239560598900663,
           26.041667597039623,
           26.50807752812754,
           26.673002940281023,
           23.506592019578445,
           26.16739768365,
           26.628871713866978,
           26.250680373193404,
           26.781065939113944,
           25.274731492262887
          ],
          [
           27.160454778055453,
           27.17908572188953,
           26.735269499542408,
           27.260248053382224,
           26.893047852310715,
           27.144345626940915,
           26.765230958564974,
           25.84421963990246,
           27.157612185396122,
           26.803101958905266,
           26.30235901842858
          ],
          [
           26.458765238576245,
           26.44689485610145,
           26.631012751188482,
           26.854306319453414,
           26.64689517033271,
           26.098998762590657,
           26.53836313648519,
           26.094602563162436,
           26.904463513803936,
           26.833907228281415,
           26.61623221218855
          ],
          [
           24.447692025088024,
           24.055788703183055,
           24.488682402447473,
           24.298339998902367,
           24.227104508017028,
           24.067464785023034,
           23.82672920256501,
           23.610157588017895,
           24.876924570090594,
           25.032099305083896,
           23.265306039412913
          ],
          [
           26.736215774711546,
           26.62319003709073,
           27.240215610516387,
           27.4641431674999,
           24.873910667908525,
           27.490087562751363,
           27.107975429627608,
           26.12220986379423,
           27.462553159778647,
           24.730090215540113,
           25.14077356836042
          ],
          [
           31.348927854064,
           31.789422587324506,
           31.50309588922322,
           30.947090441246882,
           30.6160571717712,
           31.228261377800173,
           31.489179931331645,
           31.209284341067644,
           30.117232272090742,
           30.751320304503267,
           30.41692022124099
          ],
          [
           22.037025009958725,
           20.308367483816887,
           20.73820155677897,
           21.119845676342653,
           21.593346828244602,
           19.383111341109974,
           19.96620549473957,
           18.779232104632065,
           21.586584855623894,
           19.8562160266625,
           18.366235238232715
          ],
          [
           23.425685409440142,
           22.946329292138337,
           23.86649777630509,
           24.395215242677303,
           23.65485509049525,
           24.018201634175405,
           23.55698969839981,
           24.60165916093471,
           24.3843514340689,
           24.429185217827,
           25.031367475369848
          ],
          [
           27.83329843556519,
           27.725505650440216,
           27.958131690723835,
           27.912490295852397,
           25.940874694938117,
           27.816100080230036,
           27.84121089863889,
           27.184906610163484,
           28.608688546459366,
           24.733183713195636,
           25.459014884610337
          ],
          [
           26.493359739862992,
           26.71328144653948,
           27.27680718305496,
           26.87395963548455,
           26.290098227936305,
           27.11562880891494,
           26.40562887777115,
           26.605691680562096,
           26.53780757200184,
           25.84341876593137,
           26.005598319675563
          ],
          [
           24.005857061478384,
           23.681566355398996,
           23.94436972774651,
           24.29643163633319,
           26.21213480433422,
           23.613581094901875,
           23.86683641696455,
           24.205507207745146,
           24.6657114654898,
           23.101840320550764,
           24.086080598735887
          ],
          [
           25.382818622551373,
           25.273953707681553,
           24.81108713352101,
           24.31687649826765,
           24.20261491568049,
           24.661213191446233,
           25.22942956757413,
           24.92984561738918,
           23.996141442311064,
           25.69679911503944,
           25.08087520542585
          ],
          [
           24.271012530129173,
           24.72443818875154,
           24.830082946122154,
           25.785366061596932,
           25.36750619604166,
           25.315476644160324,
           25.944191663844535,
           25.310018615098453,
           24.719176876967314,
           25.522199656027095,
           25.399112449713495
          ],
          [
           22.95300091347042,
           23.440196340320828,
           21.87249476099141,
           23.03249839590318,
           20.531650032622597,
           20.677561265724293,
           19.80015620672806,
           22.374554966712,
           22.88118788508854,
           20.540865237241004,
           18.48975839822413
          ],
          [
           24.167314401568326,
           23.77494800723669,
           25.0450343764704,
           25.012459829168584,
           24.88306497357873,
           24.086911413856836,
           22.85696052265108,
           21.910068027677017,
           25.23419944480717,
           23.34426023199991,
           22.563164725662162
          ],
          [
           21.698338225501725,
           22.061489052464804,
           24.31718032317411,
           24.216093137434818,
           23.13818593060774,
           21.792379577656448,
           22.732415553697702,
           22.935891346340046,
           22.702333135587995,
           23.298390984580877,
           22.72135152736148
          ],
          [
           27.05609593467591,
           27.3284414673179,
           28.161235861957724,
           26.339672681468027,
           26.52304227164755,
           27.029988721400695,
           26.60978865125315,
           26.780580457647886,
           24.930201696184998,
           28.740393007818938,
           27.633609787806574
          ],
          [
           21.24374400882806,
           20.586787331638835,
           20.840989073908577,
           20.506288580651265,
           21.10126908878943,
           20.590740908699757,
           20.777411980527866,
           21.546700616333723,
           19.940986743967343,
           21.5505364015855,
           21.51025758922676
          ],
          [
           26.05936577787518,
           26.01666005023403,
           26.43464307930033,
           26.56525465892889,
           25.720974998495905,
           25.942066904456997,
           25.97610801356759,
           25.919646849202184,
           25.492058039110173,
           26.383923735571006,
           25.86695488416256
          ],
          [
           36.48289396820678,
           36.6616005317288,
           36.84436510977272,
           36.05141623193204,
           36.07249886453763,
           36.126854789100314,
           36.18658742587807,
           36.16151563971549,
           35.220146077456654,
           37.27795848410977,
           36.68332022827949
          ],
          [
           35.09157439330187,
           35.22305935685036,
           34.663160643994395,
           34.813734512855774,
           34.00167869780818,
           34.96453851055449,
           34.924292273679626,
           34.7444477654797,
           34.28501538290478,
           34.38477809901396,
           34.167427997817754
          ],
          [
           29.716088041954485,
           29.996366792192116,
           30.53342538890807,
           29.880258613662495,
           29.6385980311908,
           29.45356054117294,
           28.972055916370927,
           28.398594773690807,
           28.814458449006867,
           30.634818162900178,
           29.811322794926824
          ],
          [
           26.893357660807727,
           27.206742740572956,
           27.17614761821132,
           26.78416475522867,
           27.731306395805568,
           27.12365327678678,
           27.077864684046922,
           26.533625216125255,
           26.905923125158417,
           26.336099300514,
           26.733295616811606
          ],
          [
           23.191584924909613,
           22.577332298094614,
           23.465391586719427,
           23.81853041886229,
           24.21681281820547,
           22.516847423679412,
           24.09753729394571,
           24.820146415857568,
           22.546081763961574,
           23.54631555047352,
           23.659745328815706
          ],
          [
           27.380113977189247,
           27.857427385869247,
           27.821198378366603,
           27.34243925387421,
           26.959245379658448,
           27.927544524784533,
           27.633944061573434,
           26.60387663948146,
           26.899125509469187,
           26.736007070021106,
           25.944346976139105
          ],
          [
           26.644255040379175,
           25.930032109730032,
           23.95436982997409,
           27.81563453797289,
           25.0904307944431,
           26.84864324332829,
           27.155737705144134,
           25.471172589021847,
           27.28991057539227,
           24.647527673719566,
           24.948584828137733
          ],
          [
           24.6382143000722,
           25.231924292862455,
           25.470840368233485,
           25.559248636092004,
           25.009061485930264,
           25.049668099438865,
           24.311786461820585,
           23.457456892771187,
           26.15827602249481,
           23.024737954070854,
           24.003089766740487
          ],
          [
           25.403155092791433,
           25.577258343648335,
           25.47615961564153,
           24.995311099235114,
           24.82225515908751,
           25.579237538474235,
           25.32304364378669,
           24.77316451570911,
           25.838340616305178,
           24.25250161656152,
           23.379818495873206
          ],
          [
           28.69526933533652,
           28.73540351718463,
           28.446979899127662,
           28.188728729751695,
           27.695309174905443,
           28.624570438990936,
           28.170020403912186,
           27.46183844980257,
           28.280051076941152,
           27.266131570223777,
           27.159860992441764
          ],
          [
           21.980939847314417,
           23.11700392842904,
           22.744794321835187,
           24.323131980325947,
           24.105802060361803,
           21.461793627561857,
           22.835199026710924,
           22.852290208849183,
           23.24563786449861,
           22.51631353423145,
           23.3505002051634
          ],
          [
           27.48820550256376,
           27.19649172461316,
           25.611547274419802,
           26.5743823070156,
           26.503602911532347,
           26.109228878081183,
           26.104761361890542,
           25.74019096818567,
           28.0363166424357,
           23.927309994522165,
           22.948339650387897
          ],
          [
           22.609667705944346,
           22.105574130363703,
           21.955044168654357,
           23.421541795556767,
           22.276709198754865,
           22.143181027644918,
           23.752851582336582,
           23.922383267199606,
           20.994113308903618,
           23.312042350524923,
           24.68530916412904
          ],
          [
           26.826779944374017,
           27.114632489203988,
           27.36623846511856,
           26.68175746420838,
           26.099965429334834,
           27.22699434732923,
           27.360472675955783,
           26.65890261122723,
           26.538950459936398,
           26.201778366855205,
           26.612653532597598
          ],
          [
           21.52092268360472,
           21.88744818119126,
           22.09080786757433,
           22.82650053847082,
           21.82975696080528,
           18.87844044599586,
           20.20371371865867,
           19.77632537292815,
           18.891846677388916,
           21.58790184850253,
           21.352432234734717
          ],
          [
           23.489567809739057,
           23.616365236318796,
           23.98661067176092,
           24.228598639775495,
           24.032670784960537,
           23.07576455777688,
           24.55746610517921,
           23.992935478911246,
           24.40956622533189,
           24.300180546508788,
           24.393681918059453
          ],
          [
           23.40340750693362,
           24.325899053022706,
           23.41215379483909,
           24.564738247112302,
           23.70613600197294,
           22.950190681136707,
           24.110460962436782,
           23.504407031375354,
           23.75478874190946,
           20.31482947624218,
           22.902019096588713
          ],
          [
           27.11994387979417,
           26.046701618156998,
           26.060640660849213,
           27.64590914699734,
           27.575607521864,
           25.53415069247118,
           25.404446646676707,
           25.172588112997932,
           28.54638984751707,
           24.83707703289389,
           25.171053591650182
          ],
          [
           22.187014420542475,
           21.66271864581458,
           22.441985021455015,
           22.245704626482986,
           22.01360940059983,
           20.78085153435676,
           23.262280934562334,
           24.352841865848678,
           20.11860940289131,
           23.72574200528179,
           24.26320518978388
          ],
          [
           27.389759857949343,
           26.915161072428475,
           27.12529812059761,
           27.275195574919945,
           26.60245611297802,
           26.834189903631188,
           27.382882975652315,
           27.63016899257899,
           27.52918345740033,
           26.79173806055589,
           27.70734285946947
          ],
          [
           28.926028084129623,
           29.188239183179913,
           29.206694277200615,
           29.01368816645371,
           28.664658805978963,
           28.734941477706787,
           28.707883649261426,
           28.358907454549023,
           28.60588082519431,
           29.043669851597674,
           28.922192287047793
          ],
          [
           21.112951261538612,
           22.006926618829738,
           23.651806793581734,
           23.983886766540888,
           24.45125664794561,
           23.292424835604503,
           22.856752864101953,
           24.126341614440427,
           24.403032779299778,
           22.431305204451185,
           23.538251651474614
          ],
          [
           22.69404973598202,
           22.443771211597465,
           22.897102024085168,
           23.063071028777443,
           22.38021424219598,
           22.35735169677536,
           22.394468774386937,
           22.660833403700156,
           20.77691700738424,
           23.58421688014687,
           22.527353725361316
          ],
          [
           23.68591351978557,
           23.640939132304418,
           24.411222181474567,
           24.164807370259346,
           23.763208853092795,
           24.023593651133528,
           24.058697801410826,
           24.233533650465613,
           24.503279082165793,
           23.739005966570392,
           23.721644799331717
          ],
          [
           25.31491703159605,
           23.788855288441216,
           24.931377278718486,
           23.056007986670057,
           23.862684433913767,
           24.58470410748301,
           24.810511976334812,
           25.621179159140326,
           24.222378298557906,
           24.492536167911243,
           24.42614023330154
          ],
          [
           23.115234069466435,
           22.873624911549975,
           22.01238837332995,
           22.421011593047982,
           22.366773895495896,
           22.7578951979097,
           22.860260785008297,
           22.698858442386605,
           22.616581896589576,
           22.823584438463826,
           23.084451661196592
          ],
          [
           26.022803135721812,
           26.361178195896372,
           25.88570731426727,
           25.65531714582,
           26.345449116478797,
           25.760364176974747,
           26.132987878568624,
           26.632044789645033,
           23.180558798121513,
           24.04465596279172,
           25.766205108760804
          ],
          [
           23.107363183686303,
           21.76996614995515,
           22.376898346550337,
           22.08663889766606,
           25.27175701687077,
           23.339461432942883,
           23.091320316491355,
           21.561920605161532,
           21.654776847732112,
           21.73815122398104,
           22.67977487200512
          ],
          [
           26.849829032893453,
           26.688397437313757,
           26.566309880444454,
           26.716418450018175,
           26.737510544039385,
           26.757656546787853,
           26.72742541917004,
           26.370767484267116,
           24.826229581265082,
           26.734544344407713,
           26.13742646740245
          ],
          [
           30.59635449529765,
           30.483815333430062,
           30.521659334173794,
           29.8396387398847,
           30.004977106014,
           30.31448873861893,
           30.89227997214482,
           31.474534616853063,
           29.070005063148656,
           30.31829038384125,
           30.681386822818933
          ],
          [
           22.173642395520567,
           23.381548583246936,
           23.336421778479192,
           23.303454186079303,
           22.957288216038148,
           21.204279492656774,
           24.12481398427436,
           24.154702661729463,
           17.65918321547488,
           23.40037855532862,
           23.509611134036025
          ],
          [
           28.71280495036604,
           29.215460769767496,
           28.794662105982216,
           27.792328211511983,
           27.316375948547538,
           28.857999732767755,
           29.40709985762827,
           29.02375650859247,
           27.813280046869334,
           28.16898371985953,
           28.234170907095965
          ],
          [
           18.91825853358175,
           17.122937989490765,
           19.316950768843498,
           22.39879484224062,
           21.440316110951755,
           18.997937240465667,
           19.83653119621267,
           21.282467326147657,
           22.424937174562405,
           19.74456201677707,
           20.994396032342298
          ],
          [
           21.85653417690096,
           21.5698165478328,
           20.260457727574195,
           21.497539115999388,
           21.474943378471927,
           21.827983800069237,
           22.20813333794368,
           22.90915080817887,
           20.51102999858857,
           22.44579775901715,
           23.699215734891933
          ],
          [
           24.85904674096843,
           24.86551858168407,
           25.114410084286067,
           25.157334153956647,
           24.72640373578512,
           24.80907456197226,
           24.401029070257763,
           24.01170872735144,
           24.10979238915482,
           24.96881778277178,
           24.09925803236039
          ],
          [
           24.4219760883171,
           25.085043329935548,
           24.341553407224687,
           24.223502560482885,
           24.50690425879005,
           24.707159847080693,
           20.761913927960467,
           20.54827688719555,
           24.936595115334452,
           20.859629909950893,
           20.55089531655111
          ],
          [
           23.969146452980997,
           24.731955016861793,
           24.64558719626064,
           24.49365859833153,
           24.42549657760197,
           24.164013186224345,
           24.233580670698377,
           24.10478936575184,
           24.855521474038575,
           24.28049252458421,
           24.05357256362374
          ],
          [
           23.71277277252952,
           23.17467343586221,
           23.82089197751789,
           23.031695754327565,
           24.097330930205214,
           24.907336158609372,
           24.652812386221857,
           21.526028480527714,
           24.95895319567421,
           24.209170082525823,
           25.181952045601058
          ],
          [
           23.86684053059963,
           24.080297605573875,
           24.914851288737765,
           24.82800548135602,
           24.673663360231135,
           23.959275763651334,
           24.32058078008406,
           24.643635917829275,
           25.492439191586698,
           23.012339547319602,
           22.612425368674582
          ],
          [
           29.694510547402707,
           29.781091209389405,
           29.431859122619223,
           29.017436260718938,
           28.902549484453758,
           29.248671129428306,
           29.062694254134257,
           28.31860693075931,
           28.934150121665922,
           28.88298346991899,
           28.5648651923379
          ],
          [
           25.130640312369824,
           25.81939489147272,
           25.378608385618648,
           25.35732739998139,
           25.436876866879643,
           25.562741450755713,
           25.99839131096038,
           25.24733458857047,
           25.012376786510544,
           23.91919868916874,
           25.022437625772437
          ],
          [
           24.274761762600004,
           24.200299285284984,
           24.952462954955124,
           24.45452815282726,
           24.437962112145833,
           24.716959088459944,
           24.687351374383738,
           25.910953634845097,
           22.720364124394745,
           24.828365441801953,
           24.659833769731993
          ],
          [
           25.31314132316789,
           26.06477866135343,
           25.341511642855732,
           24.640471942554676,
           24.601874486862883,
           25.703764151702373,
           25.449943464076025,
           25.05407248849141,
           26.295406730913907,
           23.536304148697603,
           24.163305933094488
          ],
          [
           27.964070361349265,
           27.378320555117295,
           27.300447868097805,
           26.39781952785631,
           26.870370151376488,
           27.255491097820304,
           27.519621358385315,
           27.30273632655465,
           26.81043232877312,
           26.9381519543704,
           27.02409729696676
          ],
          [
           24.003426514833144,
           24.43586652655234,
           24.331796510710685,
           24.16547014024294,
           26.149246173817605,
           23.693103900006008,
           25.089309720726973,
           24.890554573454725,
           22.08276501261289,
           23.190299080214547,
           25.409663018575955
          ],
          [
           24.68534768749484,
           25.368583327529038,
           25.608708003582976,
           24.524055975010455,
           24.5877108051991,
           24.89501389797032,
           24.046585172924967,
           24.172898254263096,
           23.28848101682435,
           24.388228175141496,
           24.636057067924234
          ],
          [
           26.613866379906504,
           26.854361311863677,
           26.449753613145393,
           25.708650529343227,
           26.310444999184703,
           26.16327468623256,
           26.88673892503472,
           26.670536176258803,
           26.580734384606465,
           24.440365379841634,
           25.158390691883312
          ],
          [
           28.4684853919809,
           28.606795524201274,
           28.275602441580002,
           27.7127308358121,
           28.832248933844348,
           28.476473836925976,
           28.83841715408533,
           28.158120895189843,
           27.909748399117973,
           27.742342627616683,
           28.26764547752311
          ],
          [
           24.570727595661655,
           24.272593840413414,
           24.466807043543664,
           24.2648696256066,
           24.309497435768485,
           23.93646348147085,
           24.832579843684595,
           25.346482768210624,
           23.18451018650858,
           25.083780307263034,
           25.12121168898713
          ],
          [
           24.50281884405825,
           25.33005169528242,
           26.777751170272644,
           26.322867544257782,
           26.771365337948282,
           25.95127160704036,
           26.595577591120094,
           28.11690934041153,
           26.320245236456387,
           25.498252009102128,
           26.317306962200565
          ],
          [
           25.843889959716495,
           26.31841672753053,
           26.07583585554484,
           25.43240696736225,
           25.206943485036394,
           25.770968631363765,
           25.8048173276834,
           25.27407645587047,
           23.946990969482943,
           25.942066262640388,
           25.261156998563695
          ],
          [
           28.33746040691273,
           28.270797564186882,
           27.868173691650675,
           27.316788074972738,
           29.408728935533706,
           28.350461421256117,
           28.528272891348063,
           27.877447306101164,
           27.637908153279692,
           27.155100823186082,
           28.564789331983132
          ],
          [
           21.292964547880064,
           21.904455321637595,
           22.05285471650109,
           21.38662386344444,
           21.205886534717333,
           21.36581973665502,
           21.402564594015704,
           21.63221663627531,
           19.865331408108577,
           22.97468689653989,
           22.821889855103514
          ],
          [
           24.925542201425838,
           25.272375757978622,
           26.08128569509699,
           25.347057357163507,
           24.959796333041506,
           24.62246611733303,
           23.80235367506369,
           22.68449453777815,
           23.605923901097277,
           24.036867238080003,
           23.233009258618665
          ],
          [
           26.227483828865957,
           26.80832362782657,
           26.450684938441775,
           25.69150854863921,
           26.243978356497674,
           26.40254802142668,
           26.257931492377118,
           25.43447816755664,
           26.132093053178956,
           25.167280473575904,
           24.543152404872156
          ],
          [
           27.497442425173293,
           26.103948071994846,
           26.841375913815465,
           25.617869222784016,
           27.833090855103208,
           25.92573247866517,
           26.625912712018817,
           27.219555306400583,
           26.821014818435337,
           26.808134864932054,
           27.680846835231506
          ],
          [
           21.72271687358796,
           22.074654211254476,
           16.685420243152127,
           20.20655863456619,
           21.293972489107436,
           20.26393579396563,
           23.09026254151912,
           24.579842007015845,
           14.306761838242593,
           22.648629975406745,
           23.253839050266023
          ],
          [
           21.611846287901226,
           21.4005748074329,
           21.42510802769026,
           19.95495931774361,
           20.49408759331204,
           21.01290945237748,
           21.72933659619195,
           21.532868209716554,
           21.416798675621123,
           21.86076660620414,
           21.81990827442345
          ],
          [
           26.630664674550786,
           26.05843292701903,
           26.24476888662191,
           27.027724710614855,
           26.361383617964822,
           26.37691453443759,
           26.49841609420403,
           26.25688895652541,
           25.98372067588998,
           26.082824153876828,
           25.778292671467128
          ],
          [
           28.675400560703288,
           28.651043257270533,
           28.52096759447855,
           27.794631792276334,
           27.660493961982034,
           28.443782483878895,
           28.093967054168946,
           27.852184044318744,
           25.864078401719322,
           28.58708631008623,
           28.11019113817734
          ],
          [
           25.03625930801517,
           25.167230664372255,
           24.958816591675774,
           24.123398593726794,
           24.878273273239802,
           24.710567316746733,
           24.68729220067573,
           23.917252115387765,
           21.727156265736397,
           22.297716513802495,
           23.287660847930766
          ],
          [
           24.874427352182767,
           25.468480715595074,
           25.36331198468701,
           25.24826631711435,
           25.930060081312696,
           24.470753326738702,
           24.946736380666316,
           25.434612195338214,
           25.831619581610138,
           23.336822996881523,
           25.483978940125805
          ],
          [
           22.799330306231504,
           23.179690969016647,
           22.648917568477877,
           22.799173274151944,
           23.111092446662816,
           22.765660446643256,
           23.31133211828307,
           23.504531929214394,
           20.769119385148784,
           23.380857689195196,
           23.661194507120094
          ],
          [
           28.152610075975012,
           27.994224260302165,
           27.661348087180095,
           27.291793154741676,
           28.277788376801954,
           27.614386280779723,
           28.256162374827802,
           27.76219835933761,
           26.846735976475337,
           27.24395031755805,
           28.108703607488817
          ],
          [
           29.343532155571488,
           30.332690247275828,
           29.95107230395996,
           30.172543402658867,
           28.903498649052228,
           30.167836420734435,
           29.927512330401893,
           29.333193151964796,
           30.103347778465206,
           28.38600794521266,
           27.856794296505807
          ],
          [
           25.391341419668134,
           25.573773380634464,
           25.491679632917556,
           24.53940971960865,
           24.71227395524508,
           24.930727951777673,
           24.832385276015575,
           24.22673559982853,
           22.08935643746412,
           25.277140045122916,
           25.055533543740815
          ],
          [
           23.85405741935149,
           23.91728464175145,
           24.433104353453437,
           23.631663713148644,
           24.16830870455707,
           23.328689606050176,
           23.117392511504924,
           21.98728202510851,
           21.98994087940091,
           24.12571577337655,
           20.88347639309826
          ],
          [
           25.60381706791311,
           24.36174327517667,
           24.60370925201815,
           24.859733239408065,
           26.296683537406597,
           24.26083870545424,
           24.728114929503203,
           24.4227870372221,
           26.42354442938266,
           24.22348203724332,
           24.4112576220463
          ],
          [
           24.65413918881939,
           25.471255977485875,
           26.18589471677303,
           26.681616223296388,
           26.343886549596267,
           24.713988233982363,
           25.677058009275207,
           26.81684110242657,
           26.389309007352377,
           25.601499636816083,
           24.97871296939189
          ],
          [
           21.619622942634173,
           22.507455365255755,
           22.747887919284892,
           22.232926018942027,
           23.071942683084764,
           22.337952334368097,
           21.500515120289286,
           20.950887315795566,
           21.155808980803627,
           20.394209564889056,
           19.064927604865687
          ],
          [
           23.46307320162608,
           21.81809416013242,
           23.518195563696757,
           21.98460937536365,
           23.124825323457866,
           20.925410385278813,
           24.051784432142174,
           25.150912828737237,
           23.80281650852263,
           23.039041607730805,
           23.977544164980927
          ],
          [
           30.303288651739305,
           30.326149397745983,
           30.289150858566146,
           30.40787800890346,
           29.576112589561923,
           30.3260939636725,
           30.386968901292267,
           29.77871179841022,
           29.50337823036287,
           30.093914487434706,
           29.45093788458738
          ],
          [
           25.633221798646346,
           26.90054874495738,
           26.325297463000833,
           26.02680798427569,
           26.630958450946736,
           26.10482940842003,
           26.405594140907127,
           25.695725661543495,
           26.08781237719235,
           25.333336948382776,
           26.11715800383846
          ],
          [
           26.12672146890372,
           26.549984051362618,
           25.944785604116532,
           25.874985274450996,
           25.657331186603127,
           26.49942501284689,
           26.296717798698587,
           25.669402355761715,
           25.019617961387628,
           25.64251682087282,
           25.57146625820037
          ],
          [
           25.10350051598543,
           24.222212116315223,
           24.338831072310906,
           24.59826768555487,
           24.89739040625713,
           24.573174945072083,
           25.091427014559095,
           25.909476313436052,
           26.134752722482844,
           26.592514191006114,
           26.11768144816598
          ],
          [
           27.114703757161646,
           26.78124778941476,
           26.818447063859335,
           26.137543892161062,
           25.346453771375536,
           26.523782584329297,
           26.860638917248078,
           27.41111442736099,
           24.968291764459213,
           27.603852843211296,
           26.54778095083294
          ],
          [
           23.927438946423056,
           24.336746577897664,
           24.067423980832775,
           23.97463984377235,
           24.038569899286955,
           24.064080155462843,
           23.51147997790997,
           22.814674580818114,
           24.8819420612768,
           18.353789760625062,
           22.252475870935243
          ],
          [
           30.340981135725045,
           29.17901986647631,
           29.75206606413992,
           31.46588042567467,
           30.19749290186455,
           30.53604422144897,
           30.3929248630488,
           27.231261007669836,
           28.52890784031188,
           30.536002110479338,
           29.701334280082875
          ],
          [
           26.05500955239218,
           25.973449091918795,
           26.183770925269958,
           25.675441746801255,
           25.31865534515476,
           25.724989432442843,
           25.231408905225177,
           24.25016696325411,
           26.205905962445712,
           24.732688522649713,
           23.55709192829409
          ],
          [
           28.767045925969892,
           27.79005921901332,
           28.79028803941964,
           29.52272727752623,
           29.2491732288035,
           28.170619815774003,
           28.010936090447988,
           28.195155660052322,
           30.278087179173514,
           28.546971583344362,
           28.854504169740874
          ],
          [
           26.167277147544517,
           25.73479893309993,
           24.604802028673426,
           24.143491536818587,
           24.953160958658877,
           25.168369531471054,
           26.053374048874122,
           25.68400096249154,
           26.428511106354673,
           24.531468632538637,
           24.500229380377675
          ],
          [
           26.38146245675167,
           26.732585255776815,
           26.360311066402144,
           26.503562296921075,
           28.095264223223346,
           26.65517761822505,
           26.297834632807177,
           25.842621677036178,
           26.86381381924968,
           24.709142254048928,
           26.684531532065844
          ],
          [
           29.997949915168203,
           30.304698755822916,
           30.0920532933579,
           29.525347977567282,
           30.46319652434376,
           29.96690806929822,
           30.2516202889493,
           29.964825587526935,
           29.07494026676297,
           29.681759434100428,
           30.15518039262392
          ],
          [
           22.614890122790325,
           22.243930262417283,
           23.353505990195828,
           19.749567983333712,
           24.067790384744868,
           23.693095368186015,
           23.597490612526546,
           22.781860765673667,
           22.923741496812664,
           21.580795431975886,
           22.743360457494113
          ],
          [
           23.47088496684643,
           24.45917558413279,
           23.85012179147917,
           23.812085580962062,
           24.22282785165462,
           23.648378482592033,
           22.107470383871227,
           20.80907538944219,
           24.26393551513112,
           21.317566516241712,
           21.42800242715327
          ],
          [
           27.310821584583255,
           27.46863771472221,
           26.97571896641874,
           26.860777196116985,
           28.091586340657713,
           27.208806121235682,
           27.51708514925326,
           27.298999025042185,
           26.36839284066784,
           26.551612617651497,
           27.52423660162679
          ],
          [
           27.37286958710998,
           26.8828519844942,
           27.698874820700986,
           26.851667148679113,
           26.688746401613876,
           26.65837631021927,
           26.877104386739767,
           26.398496369682697,
           25.965528439941604,
           27.859321493521005,
           27.793972277378113
          ],
          [
           24.331969443842226,
           23.722805004417065,
           23.50093829718995,
           23.216238721080533,
           23.63355508956688,
           23.01729494511843,
           24.33036107369737,
           24.815510189879785,
           20.749661429005577,
           25.55437672780164,
           25.768569967742717
          ],
          [
           26.78151676017419,
           26.289823719495914,
           26.37162790708895,
           26.69723704617384,
           25.415080253550464,
           26.15432288417021,
           26.991221835132887,
           26.667079867476165,
           26.073758815855587,
           25.909612890487463,
           26.171809499610603
          ],
          [
           25.804647972994342,
           25.694341002989212,
           25.667694569693985,
           25.407294495738356,
           24.724710755736712,
           25.886431961297397,
           25.22439526331904,
           24.25871437102337,
           23.54134157665448,
           26.116702214050672,
           25.023807898112697
          ],
          [
           24.640886455743974,
           24.653867405695987,
           24.82092045171101,
           25.156014301376956,
           24.958850862115117,
           25.112008021770023,
           24.729603832389344,
           24.59444215262922,
           25.269103878795995,
           24.6525075350464,
           23.641264251971595
          ],
          [
           24.312602693776192,
           25.011071695032076,
           24.359793304706084,
           23.75667866227906,
           24.750041942481026,
           24.854747654255817,
           24.395115538596595,
           23.939687292610778,
           20.50066319505008,
           22.17835902544897,
           24.094828538524663
          ],
          [
           26.284832536416143,
           26.225475643503948,
           26.442023782118838,
           25.61713531733176,
           25.87139339897488,
           26.139519501975418,
           25.73200380086384,
           24.952992048522372,
           25.750609678236412,
           24.495426363871424,
           24.043609589390645
          ],
          [
           26.479042353904646,
           26.800520155806087,
           25.46332614396531,
           25.36496667373066,
           25.249969301267658,
           26.42578778415386,
           26.788850052770908,
           26.002170883200787,
           26.84637830019207,
           25.60581666511406,
           25.80302811362039
          ],
          [
           22.09137058310316,
           22.979076230808154,
           23.071091781674838,
           22.83229058371784,
           22.88782993665884,
           23.004290679775547,
           22.30830977287356,
           22.5341747522699,
           20.79934181035658,
           22.7004838180467,
           22.30746855404318
          ],
          [
           24.23335977839381,
           23.735349608554035,
           23.472377003753653,
           23.352679368757293,
           23.29605220932989,
           23.903749304932276,
           24.26644639354176,
           22.29158551986995,
           23.596221273516516,
           24.033257189618684,
           23.830366279044547
          ],
          [
           26.05175193784595,
           25.82518883949504,
           25.577247259905555,
           25.38707474934065,
           26.624635886545374,
           25.788662635067293,
           25.877425792673254,
           25.577835521828362,
           25.840461390415317,
           23.534478539156773,
           25.105014465230536
          ],
          [
           24.992027892320102,
           26.393157595475238,
           24.1574473615718,
           23.879178803669195,
           24.27397097784547,
           25.11807431246593,
           26.307226110696753,
           26.031209165310315,
           24.759162094484346,
           24.402347149008804,
           24.981824981714475
          ],
          [
           25.886418726269294,
           26.02413095645132,
           25.54101059651786,
           24.771835071545325,
           25.196998431411878,
           25.671689600844505,
           26.38917795416043,
           26.36227257486697,
           22.798261897061487,
           26.595854974676403,
           26.560309562157126
          ],
          [
           23.293050431810013,
           23.479388250200632,
           23.731851634485384,
           22.773826172494775,
           22.55169606740449,
           23.241898602779187,
           23.136833572100905,
           23.38372429171003,
           21.8746199303995,
           22.98121568264645,
           22.53327645447583
          ],
          [
           24.212194992005045,
           24.858999128720747,
           24.353486212743327,
           24.729649645445306,
           24.614908129121073,
           24.74376429956456,
           24.85720238622904,
           25.369416111765844,
           24.81376924884555,
           22.340306005893595,
           25.54224040376797
          ],
          [
           24.755609265646367,
           24.932394415725906,
           24.514507585485124,
           23.931835064208627,
           24.582482721873593,
           24.546329224250442,
           24.77786277978854,
           24.35525863417397,
           24.48852253630618,
           23.683650916351368,
           22.905974296859004
          ],
          [
           20.848298160872996,
           20.696894467417167,
           21.04229800491789,
           21.407087764348066,
           21.107787557973356,
           19.375516740751713,
           21.444263345958174,
           21.96504396111245,
           19.722245207275293,
           21.739072785870512,
           21.912744371294437
          ],
          [
           24.940004327224987,
           25.251057179883396,
           25.315942250336054,
           23.80724249088942,
           24.73973469120666,
           24.43849852581387,
           25.13305810876426,
           24.829508422096676,
           21.36416474919629,
           24.591366371883897,
           24.689399706756117
          ],
          [
           23.55431242940811,
           24.13511759362735,
           23.64242098923859,
           24.277973299073235,
           24.77988331314586,
           23.811399998809904,
           24.55170015783327,
           25.50046919367839,
           23.84799485180538,
           24.403619783172307,
           25.111768158101857
          ],
          [
           22.223954804641473,
           23.052257957407107,
           22.142068606442404,
           22.567266521284537,
           22.757673235311767,
           22.393209230373053,
           23.16486434822276,
           23.195740220594928,
           21.48588586090067,
           22.257337823378833,
           22.87354249011272
          ],
          [
           26.379228768062248,
           26.4656876172265,
           26.17449734327538,
           25.804698937011572,
           26.5044854816391,
           26.195260569154712,
           26.353396181785705,
           26.4450023823364,
           25.562789341992048,
           26.128436220316424,
           26.61278747648146
          ],
          [
           24.824812995457297,
           22.828311306552035,
           24.912897307445668,
           25.627321443059284,
           25.03321422502352,
           24.636643703596864,
           25.15245060228294,
           23.745614644389295,
           22.213110492014003,
           24.678450620390947,
           25.21691160064588
          ],
          [
           23.83920816313713,
           24.524455307913737,
           23.89102798257821,
           23.61302676755738,
           23.831508931264963,
           24.28256917385617,
           24.430784895215197,
           24.244344444622378,
           22.149567000437923,
           24.056874244599953,
           23.682055032537278
          ],
          [
           22.585730832802923,
           23.004488000438148,
           22.66623109014608,
           23.238305483121994,
           22.88298290170928,
           22.899408023139614,
           23.48572208305167,
           23.638985810276832,
           22.19588750295106,
           23.20319213417274,
           23.995355692869715
          ],
          [
           28.40070083281741,
           28.364838881700056,
           27.800228393127444,
           27.316916106200882,
           27.898647815362477,
           28.115587839023025,
           28.387687824564985,
           28.11036185284733,
           27.727446601035254,
           27.618810042827487,
           27.92292764335816
          ],
          [
           22.263205236715383,
           22.29299673204237,
           22.565146184957662,
           22.304262232268595,
           21.86774589350134,
           22.382206071373794,
           22.427974993724714,
           21.809470324418708,
           22.589161945450236,
           22.180163862194398,
           22.534367569215323
          ],
          [
           25.71136366168985,
           25.73491926331584,
           25.294720129759632,
           25.51535706263098,
           25.89237801548738,
           24.94979789709473,
           24.998464351390083,
           24.33186487098725,
           25.735370769789107,
           23.77029267413174,
           24.52863487787195
          ],
          [
           27.259626472481184,
           27.590026127828164,
           27.538495223423777,
           26.866320892053196,
           27.635250519539223,
           27.282886736983293,
           27.384385112476544,
           26.956207488991073,
           26.859145321496335,
           26.697044036361905,
           26.79948838831507
          ],
          [
           23.843536876230377,
           23.225245234644916,
           23.839989841006986,
           23.54408740149933,
           23.227603302791515,
           23.508675723153043,
           23.576902551684945,
           25.089310600332453,
           22.51581318866041,
           23.386023005493527,
           24.581950029715742
          ],
          [
           27.53482136074829,
           27.521570005859626,
           27.54655536412949,
           27.270662355073593,
           27.281574276565827,
           27.101077899311303,
           26.477824539731166,
           25.21532026374146,
           27.94720283357877,
           26.684192006547306,
           25.30978793236022
          ],
          [
           21.73745851277199,
           22.93434034189605,
           23.031872092890715,
           23.655531117639306,
           23.532220821155562,
           22.075871155574188,
           24.178915654227193,
           23.014014167497276,
           23.383060258935842,
           21.271272298396546,
           20.860429706347183
          ],
          [
           26.055320311109508,
           26.363069430551207,
           26.3240875776252,
           26.008771874636608,
           26.284786442990864,
           26.278488547706004,
           25.807445306207512,
           25.013372218297338,
           26.3908396215394,
           23.362116119332626,
           23.206863080616056
          ],
          [
           25.486846539670108,
           26.213454309108773,
           26.044122517981315,
           24.585122722490812,
           26.176864287249156,
           26.144313901845365,
           25.844720103625367,
           25.74007545188941,
           25.092340930646227,
           24.974563856548965,
           25.87695322782136
          ],
          [
           25.682795051896292,
           26.049912801167487,
           25.634628935428985,
           25.756193484002495,
           26.420187394121985,
           25.841437466039288,
           26.21941506198192,
           25.66887257715718,
           25.547935756126275,
           24.65525797715945,
           25.821196205028194
          ],
          [
           24.339736912595942,
           24.37430391531903,
           24.094716882105974,
           23.22950383084274,
           23.472345722606956,
           23.889827575686887,
           24.072192337665044,
           24.096777739205557,
           21.874225629879373,
           22.446746576112854,
           22.314903395501936
          ],
          [
           27.14823080832699,
           27.341511565104295,
           26.687931944982083,
           26.64951458594015,
           27.251312104776318,
           26.970325889477547,
           27.17373493528654,
           26.365713160062388,
           27.145180614548813,
           25.687425484008934,
           26.128024028815844
          ],
          [
           22.745863697484495,
           22.154290732207883,
           21.962705500689925,
           21.83460500500087,
           21.74228076663106,
           21.55241268445024,
           23.015307407382558,
           22.38897732604476,
           21.805103954067253,
           21.93700456798219,
           23.030233380146477
          ],
          [
           24.62305689670572,
           24.47914936280094,
           24.93858147188393,
           24.185843867846547,
           23.308923073347053,
           24.6378442087009,
           24.204991557332388,
           23.616522637143717,
           23.466586348887965,
           24.194763422308828,
           24.011807024397072
          ],
          [
           26.854228838517965,
           26.81757616435798,
           26.789978999907156,
           26.431601756421742,
           26.70826346755059,
           26.593075848576472,
           26.277544184294353,
           26.217959674154855,
           27.429271980438962,
           24.918666522346115,
           26.202194206807555
          ],
          [
           22.949014146659156,
           23.15757909160545,
           23.472304423604033,
           24.359466369686793,
           23.347708599925024,
           23.9236204936361,
           22.294480168659028,
           23.31502352714633,
           25.251552562713233,
           23.191847078059276,
           23.80003232700338
          ],
          [
           24.427767806486848,
           24.065021580190145,
           24.347533154221274,
           24.30283311527229,
           24.607600970534396,
           23.549024117444667,
           23.245331445866277,
           23.227925115346803,
           25.337893150687073,
           24.338268618864227,
           23.315893312459902
          ],
          [
           28.577126048513477,
           28.843439233665237,
           28.255433489311383,
           27.886355205328982,
           27.572908348171268,
           28.415222089730435,
           28.907935519660754,
           28.71967588648553,
           27.12764736491762,
           28.598959919059,
           28.575822009358482
          ],
          [
           27.899946108853683,
           28.520656324976873,
           27.92224748391007,
           27.46578138744834,
           28.205101646078962,
           28.081478826996396,
           28.090974716096465,
           27.613010104463175,
           27.94953104617651,
           27.013927417019296,
           27.15200787595232
          ],
          [
           23.32209960145596,
           22.99327397825441,
           24.079916145365388,
           23.551170058678373,
           24.885721581376856,
           23.294876850324187,
           22.774549975993853,
           24.030773593996297,
           23.901060942059964,
           23.996172365035683,
           25.4254903270311
          ],
          [
           24.83499567185293,
           24.388624534827876,
           25.566290180131094,
           25.335186620138213,
           25.08564993364105,
           24.337840021029855,
           23.632391684933587,
           22.346397251518386,
           21.729848758168057,
           24.112051479612287,
           21.9767310436791
          ],
          [
           25.646222062002153,
           26.245201457494442,
           25.93247165728946,
           25.375818724865333,
           25.978441238673483,
           25.612474668337814,
           25.86484201350295,
           25.68274338048467,
           25.48946658962797,
           24.698675022835243,
           24.81844289038486
          ],
          [
           24.20261491568049,
           24.151001560261655,
           24.330748422216878,
           24.26051093612266,
           24.06788445137134,
           23.884211887101554,
           24.161408614457187,
           21.95041881658779,
           23.316514649704807,
           23.63149385375429,
           24.231724585451232
          ],
          [
           28.46587416972838,
           28.162093355809596,
           27.954585343753283,
           27.590748759607763,
           28.65263499482392,
           27.986427321501793,
           28.368112143619406,
           28.23756761062613,
           26.67840674325122,
           27.66232430220239,
           28.027625903476494
          ],
          [
           28.61250289669074,
           28.707353362318003,
           28.350436180227817,
           27.797618992467573,
           27.561206877155325,
           28.442600057268535,
           28.59079805017211,
           28.142251656325147,
           27.704325646201927,
           28.333359098042738,
           28.328142440634053
          ],
          [
           25.460983609882206,
           25.57652684063598,
           24.963053176692416,
           24.46998956696615,
           25.91254534620597,
           24.41637451044136,
           25.16687150189919,
           25.60829589116258,
           25.06589060625384,
           24.806105657348223,
           25.37088811946227
          ],
          [
           19.94211188274273,
           21.77060270290029,
           21.859236175325126,
           23.145150796560298,
           21.857356202470932,
           21.69144158171062,
           22.04615928397635,
           20.235050333777334,
           19.455403371583763,
           22.466966684403857,
           21.886169642489058
          ],
          [
           22.336589696003966,
           22.988637806951807,
           24.350882756196107,
           23.501723626386017,
           24.018508314698124,
           24.08557247073237,
           22.637459200759846,
           22.655677265755994,
           24.488535816115117,
           23.142837132567323,
           22.735475624825483
          ],
          [
           22.70716665994134,
           23.045170762839074,
           22.74521895253697,
           23.39754299394572,
           22.926482639690256,
           22.2481798495714,
           23.170865727883935,
           22.314114748615335,
           23.254402379796957,
           21.046601803516,
           21.622770060610225
          ],
          [
           30.959324201903488,
           31.005642470189738,
           30.369817787013528,
           30.48880712014545,
           29.642013740668972,
           30.744099687226377,
           30.650152903707436,
           29.694078804264528,
           30.315252254299622,
           29.568620689795033,
           29.375855428774646
          ],
          [
           28.213665862601797,
           28.151065405009824,
           28.06801002238846,
           27.729196143852867,
           27.075623758555587,
           27.962044665170584,
           27.812775399117456,
           27.849221373440024,
           26.654593553993074,
           28.117059293910547,
           27.79169288463086
          ],
          [
           22.963260065549637,
           21.900484642355263,
           21.79082086072386,
           23.61568235205307,
           21.96296000214585,
           21.749643271074934,
           22.80119951704891,
           20.603033242244415,
           21.514747256643478,
           22.584266544983645,
           21.923361536822497
          ],
          [
           29.04635880895433,
           29.55695260781802,
           29.553420600224495,
           29.076385365256076,
           28.710542161878966,
           28.712810962082028,
           28.92101120159648,
           29.10298493613644,
           27.52446610670204,
           29.76562087202702,
           29.663821124593074
          ],
          [
           27.168097349520004,
           26.516250401360455,
           26.573246335370087,
           27.65568920654598,
           26.242656703543314,
           26.539486265132247,
           26.892302649901083,
           26.63425935727094,
           27.944677985208543,
           25.138897374023376,
           25.72705976773464
          ],
          [
           30.579310398496354,
           30.620091609345906,
           30.66749908538027,
           29.915808268379145,
           29.673100482970657,
           30.233428622522595,
           30.278239832637844,
           30.081918717204157,
           28.734622293572357,
           30.88782730599404,
           30.23484774769921
          ],
          [
           23.86543190121766,
           24.300644372706316,
           24.61216655872156,
           24.620230573170872,
           24.04330485016759,
           22.514451851942884,
           22.699294259493314,
           22.450545341565885,
           22.22988511202653,
           24.914927489900055,
           22.39826575712848
          ],
          [
           18.340225249174633,
           21.035288924189437,
           21.097555694418446,
           19.582970936231956,
           19.921116622334267,
           20.014798235966623,
           20.67807136581593,
           21.33276612964114,
           19.452862256476052,
           20.883505537464544,
           20.19950639629361
          ],
          [
           28.886419694276498,
           29.347421425227086,
           28.978985805447596,
           29.180702083781075,
           28.494915602034936,
           28.842869472854023,
           28.9085660691461,
           28.582437507329608,
           28.27277972616244,
           28.585476408878595,
           28.470308761660412
          ],
          [
           32.25292393119632,
           32.43691780414033,
           32.3732427514581,
           31.8774282270178,
           31.86962064016369,
           31.640700475843136,
           31.768366189737044,
           31.773156684500904,
           29.61609869774126,
           32.442596978203454,
           31.548179932823828
          ],
          [
           24.465504487428564,
           23.690921335329698,
           24.880133885774598,
           23.756045776792224,
           23.613349060304,
           24.3244411158661,
           20.119844633278667,
           25.25739872792007,
           24.25658553967185,
           20.07485407154963,
           21.83547794645433
          ],
          [
           26.364770085313797,
           26.180627962730505,
           24.71529571851054,
           22.729553830399755,
           24.178139164826373,
           25.22726845208853,
           27.804005922575637,
           28.561817612416373,
           15.814233982939404,
           29.600325305207914,
           28.536796348346133
          ],
          [
           23.522686223186415,
           23.6366320405352,
           22.45924627944563,
           23.083050350255064,
           22.200794714781114,
           23.025494586186387,
           22.37478110410085,
           21.500323351743642,
           23.229129566545964,
           22.34624812127866,
           22.00234933229278
          ],
          [
           29.973624238108364,
           29.914930121589535,
           30.005881857911554,
           29.158751007711004,
           29.01137576660207,
           29.61335279348021,
           29.714453945819177,
           29.386065254255477,
           28.175490377561616,
           31.13370405518953,
           30.55907422217485
          ],
          [
           23.7521150125793,
           23.53925554773268,
           22.86107520333527,
           22.252576039176645,
           23.264974866447083,
           23.528675454150463,
           22.862932419440444,
           22.680984578448488,
           20.70712953356047,
           22.656764973990235,
           22.459783411290882
          ],
          [
           22.910383787789947,
           23.513625363024218,
           22.2351493479735,
           23.183188197676024,
           24.14910694611406,
           21.848829071919027,
           23.5558340098104,
           23.5129969494726,
           22.26013640209631,
           22.699604571726326,
           23.39592539623043
          ],
          [
           21.635406359989815,
           20.408032060409145,
           19.33668839305294,
           19.952037744144214,
           20.813391883783297,
           18.24297082197985,
           20.0302926587596,
           20.23142482063069,
           20.666926642926413,
           22.045357419298547,
           21.111223261082895
          ],
          [
           30.376588912336114,
           30.49616550085605,
           30.436955507220077,
           30.405493354939363,
           30.2151918022412,
           30.06090792307406,
           29.50628391467859,
           28.72656114189672,
           30.798916755831666,
           29.986039676593794,
           29.348645427962772
          ],
          [
           26.894210088782376,
           27.16720187652263,
           26.706140378061235,
           25.93493828174894,
           27.20010740422322,
           26.663667532250038,
           26.78661646429204,
           26.973582891223963,
           24.97896144749919,
           26.47444554101478,
           27.004219365282562
          ],
          [
           24.762260455963087,
           24.472883369176653,
           23.617035614302583,
           25.006033771027074,
           24.467785487423495,
           23.69786811056337,
           23.90394839130816,
           23.934748042526557,
           25.124749100473867,
           21.968119639882126,
           22.810330123670884
          ],
          [
           24.420049836124658,
           23.95303823094014,
           25.393730450291024,
           25.431974393064603,
           25.245073575739,
           24.89609427425077,
           23.99048237842572,
           25.877148260269827,
           24.779039698374977,
           24.294244337362354,
           24.67008114490247
          ],
          [
           23.96278966592531,
           23.994740076978744,
           24.181327095267612,
           24.151648218825407,
           24.03149677376334,
           23.112129952443485,
           23.833814092939377,
           22.614389152382348,
           23.74429275327354,
           24.26490165080827,
           22.341384351160695
          ],
          [
           23.925354396207016,
           23.352806353505414,
           20.87368185870456,
           21.856152287708056,
           23.35501576787769,
           24.164664359030056,
           24.037606034435633,
           22.573071593228835,
           23.73205084292884,
           14.872788077785346,
           21.62952583953206
          ],
          [
           23.584820947146028,
           24.954102716927657,
           24.30477611021572,
           23.74037180989941,
           24.043841738330446,
           24.30997374044919,
           24.64051586503182,
           24.196101474242244,
           21.476226849703757,
           23.224603226427742,
           23.169189154272452
          ],
          [
           23.96250902457381,
           25.10400791827154,
           24.245673492698817,
           24.603270319855532,
           25.30454978942233,
           24.635969013002107,
           24.30484959393455,
           23.740960519820113,
           24.16939737608548,
           22.73497739479754,
           22.609602428260146
          ]
         ]
        }
       ],
       "layout": {
        "coloraxis": {
         "colorscale": [
          [
           0,
           "#0d0887"
          ],
          [
           0.1111111111111111,
           "#46039f"
          ],
          [
           0.2222222222222222,
           "#7201a8"
          ],
          [
           0.3333333333333333,
           "#9c179e"
          ],
          [
           0.4444444444444444,
           "#bd3786"
          ],
          [
           0.5555555555555556,
           "#d8576b"
          ],
          [
           0.6666666666666666,
           "#ed7953"
          ],
          [
           0.7777777777777778,
           "#fb9f3a"
          ],
          [
           0.8888888888888888,
           "#fdca26"
          ],
          [
           1,
           "#f0f921"
          ]
         ]
        },
        "margin": {
         "t": 60
        },
        "template": {
         "data": {
          "bar": [
           {
            "error_x": {
             "color": "#2a3f5f"
            },
            "error_y": {
             "color": "#2a3f5f"
            },
            "marker": {
             "line": {
              "color": "#E5ECF6",
              "width": 0.5
             },
             "pattern": {
              "fillmode": "overlay",
              "size": 10,
              "solidity": 0.2
             }
            },
            "type": "bar"
           }
          ],
          "barpolar": [
           {
            "marker": {
             "line": {
              "color": "#E5ECF6",
              "width": 0.5
             },
             "pattern": {
              "fillmode": "overlay",
              "size": 10,
              "solidity": 0.2
             }
            },
            "type": "barpolar"
           }
          ],
          "carpet": [
           {
            "aaxis": {
             "endlinecolor": "#2a3f5f",
             "gridcolor": "white",
             "linecolor": "white",
             "minorgridcolor": "white",
             "startlinecolor": "#2a3f5f"
            },
            "baxis": {
             "endlinecolor": "#2a3f5f",
             "gridcolor": "white",
             "linecolor": "white",
             "minorgridcolor": "white",
             "startlinecolor": "#2a3f5f"
            },
            "type": "carpet"
           }
          ],
          "choropleth": [
           {
            "colorbar": {
             "outlinewidth": 0,
             "ticks": ""
            },
            "type": "choropleth"
           }
          ],
          "contour": [
           {
            "colorbar": {
             "outlinewidth": 0,
             "ticks": ""
            },
            "colorscale": [
             [
              0,
              "#0d0887"
             ],
             [
              0.1111111111111111,
              "#46039f"
             ],
             [
              0.2222222222222222,
              "#7201a8"
             ],
             [
              0.3333333333333333,
              "#9c179e"
             ],
             [
              0.4444444444444444,
              "#bd3786"
             ],
             [
              0.5555555555555556,
              "#d8576b"
             ],
             [
              0.6666666666666666,
              "#ed7953"
             ],
             [
              0.7777777777777778,
              "#fb9f3a"
             ],
             [
              0.8888888888888888,
              "#fdca26"
             ],
             [
              1,
              "#f0f921"
             ]
            ],
            "type": "contour"
           }
          ],
          "contourcarpet": [
           {
            "colorbar": {
             "outlinewidth": 0,
             "ticks": ""
            },
            "type": "contourcarpet"
           }
          ],
          "heatmap": [
           {
            "colorbar": {
             "outlinewidth": 0,
             "ticks": ""
            },
            "colorscale": [
             [
              0,
              "#0d0887"
             ],
             [
              0.1111111111111111,
              "#46039f"
             ],
             [
              0.2222222222222222,
              "#7201a8"
             ],
             [
              0.3333333333333333,
              "#9c179e"
             ],
             [
              0.4444444444444444,
              "#bd3786"
             ],
             [
              0.5555555555555556,
              "#d8576b"
             ],
             [
              0.6666666666666666,
              "#ed7953"
             ],
             [
              0.7777777777777778,
              "#fb9f3a"
             ],
             [
              0.8888888888888888,
              "#fdca26"
             ],
             [
              1,
              "#f0f921"
             ]
            ],
            "type": "heatmap"
           }
          ],
          "heatmapgl": [
           {
            "colorbar": {
             "outlinewidth": 0,
             "ticks": ""
            },
            "colorscale": [
             [
              0,
              "#0d0887"
             ],
             [
              0.1111111111111111,
              "#46039f"
             ],
             [
              0.2222222222222222,
              "#7201a8"
             ],
             [
              0.3333333333333333,
              "#9c179e"
             ],
             [
              0.4444444444444444,
              "#bd3786"
             ],
             [
              0.5555555555555556,
              "#d8576b"
             ],
             [
              0.6666666666666666,
              "#ed7953"
             ],
             [
              0.7777777777777778,
              "#fb9f3a"
             ],
             [
              0.8888888888888888,
              "#fdca26"
             ],
             [
              1,
              "#f0f921"
             ]
            ],
            "type": "heatmapgl"
           }
          ],
          "histogram": [
           {
            "marker": {
             "pattern": {
              "fillmode": "overlay",
              "size": 10,
              "solidity": 0.2
             }
            },
            "type": "histogram"
           }
          ],
          "histogram2d": [
           {
            "colorbar": {
             "outlinewidth": 0,
             "ticks": ""
            },
            "colorscale": [
             [
              0,
              "#0d0887"
             ],
             [
              0.1111111111111111,
              "#46039f"
             ],
             [
              0.2222222222222222,
              "#7201a8"
             ],
             [
              0.3333333333333333,
              "#9c179e"
             ],
             [
              0.4444444444444444,
              "#bd3786"
             ],
             [
              0.5555555555555556,
              "#d8576b"
             ],
             [
              0.6666666666666666,
              "#ed7953"
             ],
             [
              0.7777777777777778,
              "#fb9f3a"
             ],
             [
              0.8888888888888888,
              "#fdca26"
             ],
             [
              1,
              "#f0f921"
             ]
            ],
            "type": "histogram2d"
           }
          ],
          "histogram2dcontour": [
           {
            "colorbar": {
             "outlinewidth": 0,
             "ticks": ""
            },
            "colorscale": [
             [
              0,
              "#0d0887"
             ],
             [
              0.1111111111111111,
              "#46039f"
             ],
             [
              0.2222222222222222,
              "#7201a8"
             ],
             [
              0.3333333333333333,
              "#9c179e"
             ],
             [
              0.4444444444444444,
              "#bd3786"
             ],
             [
              0.5555555555555556,
              "#d8576b"
             ],
             [
              0.6666666666666666,
              "#ed7953"
             ],
             [
              0.7777777777777778,
              "#fb9f3a"
             ],
             [
              0.8888888888888888,
              "#fdca26"
             ],
             [
              1,
              "#f0f921"
             ]
            ],
            "type": "histogram2dcontour"
           }
          ],
          "mesh3d": [
           {
            "colorbar": {
             "outlinewidth": 0,
             "ticks": ""
            },
            "type": "mesh3d"
           }
          ],
          "parcoords": [
           {
            "line": {
             "colorbar": {
              "outlinewidth": 0,
              "ticks": ""
             }
            },
            "type": "parcoords"
           }
          ],
          "pie": [
           {
            "automargin": true,
            "type": "pie"
           }
          ],
          "scatter": [
           {
            "fillpattern": {
             "fillmode": "overlay",
             "size": 10,
             "solidity": 0.2
            },
            "type": "scatter"
           }
          ],
          "scatter3d": [
           {
            "line": {
             "colorbar": {
              "outlinewidth": 0,
              "ticks": ""
             }
            },
            "marker": {
             "colorbar": {
              "outlinewidth": 0,
              "ticks": ""
             }
            },
            "type": "scatter3d"
           }
          ],
          "scattercarpet": [
           {
            "marker": {
             "colorbar": {
              "outlinewidth": 0,
              "ticks": ""
             }
            },
            "type": "scattercarpet"
           }
          ],
          "scattergeo": [
           {
            "marker": {
             "colorbar": {
              "outlinewidth": 0,
              "ticks": ""
             }
            },
            "type": "scattergeo"
           }
          ],
          "scattergl": [
           {
            "marker": {
             "colorbar": {
              "outlinewidth": 0,
              "ticks": ""
             }
            },
            "type": "scattergl"
           }
          ],
          "scattermapbox": [
           {
            "marker": {
             "colorbar": {
              "outlinewidth": 0,
              "ticks": ""
             }
            },
            "type": "scattermapbox"
           }
          ],
          "scatterpolar": [
           {
            "marker": {
             "colorbar": {
              "outlinewidth": 0,
              "ticks": ""
             }
            },
            "type": "scatterpolar"
           }
          ],
          "scatterpolargl": [
           {
            "marker": {
             "colorbar": {
              "outlinewidth": 0,
              "ticks": ""
             }
            },
            "type": "scatterpolargl"
           }
          ],
          "scatterternary": [
           {
            "marker": {
             "colorbar": {
              "outlinewidth": 0,
              "ticks": ""
             }
            },
            "type": "scatterternary"
           }
          ],
          "surface": [
           {
            "colorbar": {
             "outlinewidth": 0,
             "ticks": ""
            },
            "colorscale": [
             [
              0,
              "#0d0887"
             ],
             [
              0.1111111111111111,
              "#46039f"
             ],
             [
              0.2222222222222222,
              "#7201a8"
             ],
             [
              0.3333333333333333,
              "#9c179e"
             ],
             [
              0.4444444444444444,
              "#bd3786"
             ],
             [
              0.5555555555555556,
              "#d8576b"
             ],
             [
              0.6666666666666666,
              "#ed7953"
             ],
             [
              0.7777777777777778,
              "#fb9f3a"
             ],
             [
              0.8888888888888888,
              "#fdca26"
             ],
             [
              1,
              "#f0f921"
             ]
            ],
            "type": "surface"
           }
          ],
          "table": [
           {
            "cells": {
             "fill": {
              "color": "#EBF0F8"
             },
             "line": {
              "color": "white"
             }
            },
            "header": {
             "fill": {
              "color": "#C8D4E3"
             },
             "line": {
              "color": "white"
             }
            },
            "type": "table"
           }
          ]
         },
         "layout": {
          "annotationdefaults": {
           "arrowcolor": "#2a3f5f",
           "arrowhead": 0,
           "arrowwidth": 1
          },
          "autotypenumbers": "strict",
          "coloraxis": {
           "colorbar": {
            "outlinewidth": 0,
            "ticks": ""
           }
          },
          "colorscale": {
           "diverging": [
            [
             0,
             "#8e0152"
            ],
            [
             0.1,
             "#c51b7d"
            ],
            [
             0.2,
             "#de77ae"
            ],
            [
             0.3,
             "#f1b6da"
            ],
            [
             0.4,
             "#fde0ef"
            ],
            [
             0.5,
             "#f7f7f7"
            ],
            [
             0.6,
             "#e6f5d0"
            ],
            [
             0.7,
             "#b8e186"
            ],
            [
             0.8,
             "#7fbc41"
            ],
            [
             0.9,
             "#4d9221"
            ],
            [
             1,
             "#276419"
            ]
           ],
           "sequential": [
            [
             0,
             "#0d0887"
            ],
            [
             0.1111111111111111,
             "#46039f"
            ],
            [
             0.2222222222222222,
             "#7201a8"
            ],
            [
             0.3333333333333333,
             "#9c179e"
            ],
            [
             0.4444444444444444,
             "#bd3786"
            ],
            [
             0.5555555555555556,
             "#d8576b"
            ],
            [
             0.6666666666666666,
             "#ed7953"
            ],
            [
             0.7777777777777778,
             "#fb9f3a"
            ],
            [
             0.8888888888888888,
             "#fdca26"
            ],
            [
             1,
             "#f0f921"
            ]
           ],
           "sequentialminus": [
            [
             0,
             "#0d0887"
            ],
            [
             0.1111111111111111,
             "#46039f"
            ],
            [
             0.2222222222222222,
             "#7201a8"
            ],
            [
             0.3333333333333333,
             "#9c179e"
            ],
            [
             0.4444444444444444,
             "#bd3786"
            ],
            [
             0.5555555555555556,
             "#d8576b"
            ],
            [
             0.6666666666666666,
             "#ed7953"
            ],
            [
             0.7777777777777778,
             "#fb9f3a"
            ],
            [
             0.8888888888888888,
             "#fdca26"
            ],
            [
             1,
             "#f0f921"
            ]
           ]
          },
          "colorway": [
           "#636efa",
           "#EF553B",
           "#00cc96",
           "#ab63fa",
           "#FFA15A",
           "#19d3f3",
           "#FF6692",
           "#B6E880",
           "#FF97FF",
           "#FECB52"
          ],
          "font": {
           "color": "#2a3f5f"
          },
          "geo": {
           "bgcolor": "white",
           "lakecolor": "white",
           "landcolor": "#E5ECF6",
           "showlakes": true,
           "showland": true,
           "subunitcolor": "white"
          },
          "hoverlabel": {
           "align": "left"
          },
          "hovermode": "closest",
          "mapbox": {
           "style": "light"
          },
          "paper_bgcolor": "white",
          "plot_bgcolor": "#E5ECF6",
          "polar": {
           "angularaxis": {
            "gridcolor": "white",
            "linecolor": "white",
            "ticks": ""
           },
           "bgcolor": "#E5ECF6",
           "radialaxis": {
            "gridcolor": "white",
            "linecolor": "white",
            "ticks": ""
           }
          },
          "scene": {
           "xaxis": {
            "backgroundcolor": "#E5ECF6",
            "gridcolor": "white",
            "gridwidth": 2,
            "linecolor": "white",
            "showbackground": true,
            "ticks": "",
            "zerolinecolor": "white"
           },
           "yaxis": {
            "backgroundcolor": "#E5ECF6",
            "gridcolor": "white",
            "gridwidth": 2,
            "linecolor": "white",
            "showbackground": true,
            "ticks": "",
            "zerolinecolor": "white"
           },
           "zaxis": {
            "backgroundcolor": "#E5ECF6",
            "gridcolor": "white",
            "gridwidth": 2,
            "linecolor": "white",
            "showbackground": true,
            "ticks": "",
            "zerolinecolor": "white"
           }
          },
          "shapedefaults": {
           "line": {
            "color": "#2a3f5f"
           }
          },
          "ternary": {
           "aaxis": {
            "gridcolor": "white",
            "linecolor": "white",
            "ticks": ""
           },
           "baxis": {
            "gridcolor": "white",
            "linecolor": "white",
            "ticks": ""
           },
           "bgcolor": "#E5ECF6",
           "caxis": {
            "gridcolor": "white",
            "linecolor": "white",
            "ticks": ""
           }
          },
          "title": {
           "x": 0.05
          },
          "xaxis": {
           "automargin": true,
           "gridcolor": "white",
           "linecolor": "white",
           "ticks": "",
           "title": {
            "standoff": 15
           },
           "zerolinecolor": "white",
           "zerolinewidth": 2
          },
          "yaxis": {
           "automargin": true,
           "gridcolor": "white",
           "linecolor": "white",
           "ticks": "",
           "title": {
            "standoff": 15
           },
           "zerolinecolor": "white",
           "zerolinewidth": 2
          }
         }
        },
        "xaxis": {
         "anchor": "y",
         "domain": [
          0,
          1
         ]
        },
        "yaxis": {
         "anchor": "x",
         "autorange": "reversed",
         "domain": [
          0,
          1
         ],
         "title": {
          "text": "Accession"
         }
        }
       }
      }
     },
     "metadata": {},
     "output_type": "display_data"
    }
   ],
   "source": [
    "# Protein Abundance Heat Map\n",
    "plot_options={\n",
    "            \"compare groups\":  [\"saline\",\"rHsGal-1\"],\n",
    "            \"log2_transform\": True,\n",
    "            \"significant_only\": False,\n",
    "            \"alpha\": 0.05, \n",
    "            \"min_fold_change\": 2\n",
    "        }\n",
    "figure, _, _ =heatmap_plots(data_obj, plot_options, saved_settings)\n",
    "figure.show()\n",
    "\n",
    "## heatmap to two groups on x\n",
    "## play around with colors\n",
    "##\n",
    "\n",
    "## gsea/psea\n"
   ]
  }
 ],
 "metadata": {
  "kernelspec": {
   "display_name": ".venv",
   "language": "python",
   "name": "python3"
  },
  "language_info": {
   "codemirror_mode": {
    "name": "ipython",
    "version": 3
   },
   "file_extension": ".py",
   "mimetype": "text/x-python",
   "name": "python",
   "nbconvert_exporter": "python",
   "pygments_lexer": "ipython3",
   "version": "3.12.1"
  },
  "vscode": {
   "interpreter": {
    "hash": "a889046d7ab3fc532e7617178168e652077a93fddee421a252a8a2c494ffb595"
   }
  }
 },
 "nbformat": 4,
 "nbformat_minor": 5
}
